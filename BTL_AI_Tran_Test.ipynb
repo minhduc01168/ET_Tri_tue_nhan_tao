{
  "nbformat": 4,
  "nbformat_minor": 0,
  "metadata": {
    "colab": {
      "provenance": [],
      "authorship_tag": "ABX9TyNMA9D3Yaum0euELC9wmA+x",
      "include_colab_link": true
    },
    "kernelspec": {
      "name": "python3",
      "display_name": "Python 3"
    },
    "language_info": {
      "name": "python"
    },
    "gpuClass": "standard"
  },
  "cells": [
    {
      "cell_type": "markdown",
      "metadata": {
        "id": "view-in-github",
        "colab_type": "text"
      },
      "source": [
        "<a href=\"https://colab.research.google.com/github/minhduc01168/ET_Tri_tue_nhan_tao/blob/master/BTL_AI_Tran_Test.ipynb\" target=\"_parent\"><img src=\"https://colab.research.google.com/assets/colab-badge.svg\" alt=\"Open In Colab\"/></a>"
      ]
    },
    {
      "cell_type": "markdown",
      "source": [
        "# Modeling"
      ],
      "metadata": {
        "id": "dsKEVaHlTlwM"
      }
    },
    {
      "cell_type": "code",
      "execution_count": null,
      "metadata": {
        "id": "P2Ssoa6RPOyn"
      },
      "outputs": [],
      "source": [
        "# Import libraries\n",
        "\n",
        "import pandas as pd\n",
        "import matplotlib.pyplot as plt\n",
        "import numpy as np\n",
        "import scipy\n",
        "import sklearn\n",
        "import seaborn as sns\n",
        "import missingno as msno\n",
        "from sklearn.preprocessing import LabelEncoder\n",
        "from sklearn.model_selection import train_test_split\n",
        "from sklearn.feature_selection import SelectKBest\n",
        "from sklearn.feature_selection import chi2\n",
        "from imblearn.over_sampling import SMOTE\n",
        "from sklearn.inspection import permutation_importance\n",
        "from sklearn.neighbors import KNeighborsClassifier\n",
        "from sklearn import metrics\n",
        "from sklearn.metrics import classification_report, confusion_matrix, roc_auc_score,roc_curve, accuracy_score\n",
        "from imblearn import under_sampling, over_sampling\n",
        "from sklearn.ensemble import RandomForestClassifier\n",
        "from sklearn.tree import DecisionTreeClassifier\n",
        "from sklearn import svm\n",
        "from sklearn.model_selection import RandomizedSearchCV\n",
        "from imblearn.pipeline import Pipeline\n",
        "from sklearn.model_selection import RepeatedStratifiedKFold"
      ]
    },
    {
      "cell_type": "code",
      "source": [
        "from google.colab import drive\n",
        "drive.mount('/content/drive')"
      ],
      "metadata": {
        "colab": {
          "base_uri": "https://localhost:8080/"
        },
        "id": "zWCfu54pUFwr",
        "outputId": "56769c68-1bcf-48a2-ad27-04d7e71616d1"
      },
      "execution_count": null,
      "outputs": [
        {
          "output_type": "stream",
          "name": "stdout",
          "text": [
            "Drive already mounted at /content/drive; to attempt to forcibly remount, call drive.mount(\"/content/drive\", force_remount=True).\n"
          ]
        }
      ]
    },
    {
      "cell_type": "code",
      "source": [
        "df = pd.read_csv('/content/drive/My Drive/AI_ML_DS/AI/BTL_AI/credit_risk_dataset_normalization.csv')"
      ],
      "metadata": {
        "id": "7yfe5lN-UJ4i"
      },
      "execution_count": null,
      "outputs": []
    },
    {
      "cell_type": "code",
      "source": [
        "df.head()\n"
      ],
      "metadata": {
        "colab": {
          "base_uri": "https://localhost:8080/",
          "height": 270
        },
        "id": "JmiFevXRUULv",
        "outputId": "b3a1bc91-6bff-417e-a49d-6fb46e2fd503"
      },
      "execution_count": null,
      "outputs": [
        {
          "output_type": "execute_result",
          "data": {
            "text/plain": [
              "   person_age  person_income  person_home_ownership  person_emp_length  \\\n",
              "0    0.038462       0.026807               0.666667             0.3125   \n",
              "1    0.038462       0.028263               0.666667             0.1250   \n",
              "2    0.038462       0.028749               0.666667             0.3750   \n",
              "3    0.038462       0.028749               0.666667             0.1250   \n",
              "4    0.153846       0.032634               0.000000             0.5000   \n",
              "\n",
              "   loan_intent  loan_grade  loan_amnt  loan_int_rate  loan_status  \\\n",
              "0          0.2        0.25   0.018450       0.400841          0.0   \n",
              "1          1.0        0.00   0.073801       0.120533          1.0   \n",
              "2          1.0        0.75   0.040590       0.653118          1.0   \n",
              "3          0.4        0.00   0.147601       0.224947          1.0   \n",
              "4          0.2        0.25   0.046125       0.390329          1.0   \n",
              "\n",
              "   loan_percent_income  cb_person_default_on_file  cb_person_cred_hist_length  \n",
              "0             0.191489                        0.0                    0.000000  \n",
              "1             0.510638                        0.0                    0.000000  \n",
              "2             0.319149                        0.0                    0.071429  \n",
              "3             0.936170                        0.0                    0.000000  \n",
              "4             0.319149                        0.0                    0.000000  "
            ],
            "text/html": [
              "\n",
              "  <div id=\"df-92fa4cd3-5f41-4095-9ded-9fbb5c575b9f\">\n",
              "    <div class=\"colab-df-container\">\n",
              "      <div>\n",
              "<style scoped>\n",
              "    .dataframe tbody tr th:only-of-type {\n",
              "        vertical-align: middle;\n",
              "    }\n",
              "\n",
              "    .dataframe tbody tr th {\n",
              "        vertical-align: top;\n",
              "    }\n",
              "\n",
              "    .dataframe thead th {\n",
              "        text-align: right;\n",
              "    }\n",
              "</style>\n",
              "<table border=\"1\" class=\"dataframe\">\n",
              "  <thead>\n",
              "    <tr style=\"text-align: right;\">\n",
              "      <th></th>\n",
              "      <th>person_age</th>\n",
              "      <th>person_income</th>\n",
              "      <th>person_home_ownership</th>\n",
              "      <th>person_emp_length</th>\n",
              "      <th>loan_intent</th>\n",
              "      <th>loan_grade</th>\n",
              "      <th>loan_amnt</th>\n",
              "      <th>loan_int_rate</th>\n",
              "      <th>loan_status</th>\n",
              "      <th>loan_percent_income</th>\n",
              "      <th>cb_person_default_on_file</th>\n",
              "      <th>cb_person_cred_hist_length</th>\n",
              "    </tr>\n",
              "  </thead>\n",
              "  <tbody>\n",
              "    <tr>\n",
              "      <th>0</th>\n",
              "      <td>0.038462</td>\n",
              "      <td>0.026807</td>\n",
              "      <td>0.666667</td>\n",
              "      <td>0.3125</td>\n",
              "      <td>0.2</td>\n",
              "      <td>0.25</td>\n",
              "      <td>0.018450</td>\n",
              "      <td>0.400841</td>\n",
              "      <td>0.0</td>\n",
              "      <td>0.191489</td>\n",
              "      <td>0.0</td>\n",
              "      <td>0.000000</td>\n",
              "    </tr>\n",
              "    <tr>\n",
              "      <th>1</th>\n",
              "      <td>0.038462</td>\n",
              "      <td>0.028263</td>\n",
              "      <td>0.666667</td>\n",
              "      <td>0.1250</td>\n",
              "      <td>1.0</td>\n",
              "      <td>0.00</td>\n",
              "      <td>0.073801</td>\n",
              "      <td>0.120533</td>\n",
              "      <td>1.0</td>\n",
              "      <td>0.510638</td>\n",
              "      <td>0.0</td>\n",
              "      <td>0.000000</td>\n",
              "    </tr>\n",
              "    <tr>\n",
              "      <th>2</th>\n",
              "      <td>0.038462</td>\n",
              "      <td>0.028749</td>\n",
              "      <td>0.666667</td>\n",
              "      <td>0.3750</td>\n",
              "      <td>1.0</td>\n",
              "      <td>0.75</td>\n",
              "      <td>0.040590</td>\n",
              "      <td>0.653118</td>\n",
              "      <td>1.0</td>\n",
              "      <td>0.319149</td>\n",
              "      <td>0.0</td>\n",
              "      <td>0.071429</td>\n",
              "    </tr>\n",
              "    <tr>\n",
              "      <th>3</th>\n",
              "      <td>0.038462</td>\n",
              "      <td>0.028749</td>\n",
              "      <td>0.666667</td>\n",
              "      <td>0.1250</td>\n",
              "      <td>0.4</td>\n",
              "      <td>0.00</td>\n",
              "      <td>0.147601</td>\n",
              "      <td>0.224947</td>\n",
              "      <td>1.0</td>\n",
              "      <td>0.936170</td>\n",
              "      <td>0.0</td>\n",
              "      <td>0.000000</td>\n",
              "    </tr>\n",
              "    <tr>\n",
              "      <th>4</th>\n",
              "      <td>0.153846</td>\n",
              "      <td>0.032634</td>\n",
              "      <td>0.000000</td>\n",
              "      <td>0.5000</td>\n",
              "      <td>0.2</td>\n",
              "      <td>0.25</td>\n",
              "      <td>0.046125</td>\n",
              "      <td>0.390329</td>\n",
              "      <td>1.0</td>\n",
              "      <td>0.319149</td>\n",
              "      <td>0.0</td>\n",
              "      <td>0.000000</td>\n",
              "    </tr>\n",
              "  </tbody>\n",
              "</table>\n",
              "</div>\n",
              "      <button class=\"colab-df-convert\" onclick=\"convertToInteractive('df-92fa4cd3-5f41-4095-9ded-9fbb5c575b9f')\"\n",
              "              title=\"Convert this dataframe to an interactive table.\"\n",
              "              style=\"display:none;\">\n",
              "        \n",
              "  <svg xmlns=\"http://www.w3.org/2000/svg\" height=\"24px\"viewBox=\"0 0 24 24\"\n",
              "       width=\"24px\">\n",
              "    <path d=\"M0 0h24v24H0V0z\" fill=\"none\"/>\n",
              "    <path d=\"M18.56 5.44l.94 2.06.94-2.06 2.06-.94-2.06-.94-.94-2.06-.94 2.06-2.06.94zm-11 1L8.5 8.5l.94-2.06 2.06-.94-2.06-.94L8.5 2.5l-.94 2.06-2.06.94zm10 10l.94 2.06.94-2.06 2.06-.94-2.06-.94-.94-2.06-.94 2.06-2.06.94z\"/><path d=\"M17.41 7.96l-1.37-1.37c-.4-.4-.92-.59-1.43-.59-.52 0-1.04.2-1.43.59L10.3 9.45l-7.72 7.72c-.78.78-.78 2.05 0 2.83L4 21.41c.39.39.9.59 1.41.59.51 0 1.02-.2 1.41-.59l7.78-7.78 2.81-2.81c.8-.78.8-2.07 0-2.86zM5.41 20L4 18.59l7.72-7.72 1.47 1.35L5.41 20z\"/>\n",
              "  </svg>\n",
              "      </button>\n",
              "      \n",
              "  <style>\n",
              "    .colab-df-container {\n",
              "      display:flex;\n",
              "      flex-wrap:wrap;\n",
              "      gap: 12px;\n",
              "    }\n",
              "\n",
              "    .colab-df-convert {\n",
              "      background-color: #E8F0FE;\n",
              "      border: none;\n",
              "      border-radius: 50%;\n",
              "      cursor: pointer;\n",
              "      display: none;\n",
              "      fill: #1967D2;\n",
              "      height: 32px;\n",
              "      padding: 0 0 0 0;\n",
              "      width: 32px;\n",
              "    }\n",
              "\n",
              "    .colab-df-convert:hover {\n",
              "      background-color: #E2EBFA;\n",
              "      box-shadow: 0px 1px 2px rgba(60, 64, 67, 0.3), 0px 1px 3px 1px rgba(60, 64, 67, 0.15);\n",
              "      fill: #174EA6;\n",
              "    }\n",
              "\n",
              "    [theme=dark] .colab-df-convert {\n",
              "      background-color: #3B4455;\n",
              "      fill: #D2E3FC;\n",
              "    }\n",
              "\n",
              "    [theme=dark] .colab-df-convert:hover {\n",
              "      background-color: #434B5C;\n",
              "      box-shadow: 0px 1px 3px 1px rgba(0, 0, 0, 0.15);\n",
              "      filter: drop-shadow(0px 1px 2px rgba(0, 0, 0, 0.3));\n",
              "      fill: #FFFFFF;\n",
              "    }\n",
              "  </style>\n",
              "\n",
              "      <script>\n",
              "        const buttonEl =\n",
              "          document.querySelector('#df-92fa4cd3-5f41-4095-9ded-9fbb5c575b9f button.colab-df-convert');\n",
              "        buttonEl.style.display =\n",
              "          google.colab.kernel.accessAllowed ? 'block' : 'none';\n",
              "\n",
              "        async function convertToInteractive(key) {\n",
              "          const element = document.querySelector('#df-92fa4cd3-5f41-4095-9ded-9fbb5c575b9f');\n",
              "          const dataTable =\n",
              "            await google.colab.kernel.invokeFunction('convertToInteractive',\n",
              "                                                     [key], {});\n",
              "          if (!dataTable) return;\n",
              "\n",
              "          const docLinkHtml = 'Like what you see? Visit the ' +\n",
              "            '<a target=\"_blank\" href=https://colab.research.google.com/notebooks/data_table.ipynb>data table notebook</a>'\n",
              "            + ' to learn more about interactive tables.';\n",
              "          element.innerHTML = '';\n",
              "          dataTable['output_type'] = 'display_data';\n",
              "          await google.colab.output.renderOutput(dataTable, element);\n",
              "          const docLink = document.createElement('div');\n",
              "          docLink.innerHTML = docLinkHtml;\n",
              "          element.appendChild(docLink);\n",
              "        }\n",
              "      </script>\n",
              "    </div>\n",
              "  </div>\n",
              "  "
            ]
          },
          "metadata": {},
          "execution_count": 4
        }
      ]
    },
    {
      "cell_type": "code",
      "source": [
        "X = pd.DataFrame(df)\n",
        "X = X.drop(['loan_status'], axis=1)\n",
        "y = df[['loan_status']]\n",
        "X.info()\n"
      ],
      "metadata": {
        "colab": {
          "base_uri": "https://localhost:8080/"
        },
        "id": "HUl39axlUZsO",
        "outputId": "871a7d63-8409-4401-9f9b-976b867b1bb4"
      },
      "execution_count": null,
      "outputs": [
        {
          "output_type": "stream",
          "name": "stdout",
          "text": [
            "<class 'pandas.core.frame.DataFrame'>\n",
            "RangeIndex: 29998 entries, 0 to 29997\n",
            "Data columns (total 11 columns):\n",
            " #   Column                      Non-Null Count  Dtype  \n",
            "---  ------                      --------------  -----  \n",
            " 0   person_age                  29998 non-null  float64\n",
            " 1   person_income               29998 non-null  float64\n",
            " 2   person_home_ownership       29998 non-null  float64\n",
            " 3   person_emp_length           29998 non-null  float64\n",
            " 4   loan_intent                 29998 non-null  float64\n",
            " 5   loan_grade                  29998 non-null  float64\n",
            " 6   loan_amnt                   29998 non-null  float64\n",
            " 7   loan_int_rate               29998 non-null  float64\n",
            " 8   loan_percent_income         29998 non-null  float64\n",
            " 9   cb_person_default_on_file   29998 non-null  float64\n",
            " 10  cb_person_cred_hist_length  29998 non-null  float64\n",
            "dtypes: float64(11)\n",
            "memory usage: 2.5 MB\n"
          ]
        }
      ]
    },
    {
      "cell_type": "code",
      "source": [
        "X.head()"
      ],
      "metadata": {
        "colab": {
          "base_uri": "https://localhost:8080/",
          "height": 270
        },
        "id": "M1RyScNNVA6k",
        "outputId": "c077a9f6-016d-4da5-e6fd-23c89d050845"
      },
      "execution_count": null,
      "outputs": [
        {
          "output_type": "execute_result",
          "data": {
            "text/plain": [
              "   person_age  person_income  person_home_ownership  person_emp_length  \\\n",
              "0    0.038462       0.026807               0.666667             0.3125   \n",
              "1    0.038462       0.028263               0.666667             0.1250   \n",
              "2    0.038462       0.028749               0.666667             0.3750   \n",
              "3    0.038462       0.028749               0.666667             0.1250   \n",
              "4    0.153846       0.032634               0.000000             0.5000   \n",
              "\n",
              "   loan_intent  loan_grade  loan_amnt  loan_int_rate  loan_percent_income  \\\n",
              "0          0.2        0.25   0.018450       0.400841             0.191489   \n",
              "1          1.0        0.00   0.073801       0.120533             0.510638   \n",
              "2          1.0        0.75   0.040590       0.653118             0.319149   \n",
              "3          0.4        0.00   0.147601       0.224947             0.936170   \n",
              "4          0.2        0.25   0.046125       0.390329             0.319149   \n",
              "\n",
              "   cb_person_default_on_file  cb_person_cred_hist_length  \n",
              "0                        0.0                    0.000000  \n",
              "1                        0.0                    0.000000  \n",
              "2                        0.0                    0.071429  \n",
              "3                        0.0                    0.000000  \n",
              "4                        0.0                    0.000000  "
            ],
            "text/html": [
              "\n",
              "  <div id=\"df-765a190c-d0fa-475b-961d-7f5c078db547\">\n",
              "    <div class=\"colab-df-container\">\n",
              "      <div>\n",
              "<style scoped>\n",
              "    .dataframe tbody tr th:only-of-type {\n",
              "        vertical-align: middle;\n",
              "    }\n",
              "\n",
              "    .dataframe tbody tr th {\n",
              "        vertical-align: top;\n",
              "    }\n",
              "\n",
              "    .dataframe thead th {\n",
              "        text-align: right;\n",
              "    }\n",
              "</style>\n",
              "<table border=\"1\" class=\"dataframe\">\n",
              "  <thead>\n",
              "    <tr style=\"text-align: right;\">\n",
              "      <th></th>\n",
              "      <th>person_age</th>\n",
              "      <th>person_income</th>\n",
              "      <th>person_home_ownership</th>\n",
              "      <th>person_emp_length</th>\n",
              "      <th>loan_intent</th>\n",
              "      <th>loan_grade</th>\n",
              "      <th>loan_amnt</th>\n",
              "      <th>loan_int_rate</th>\n",
              "      <th>loan_percent_income</th>\n",
              "      <th>cb_person_default_on_file</th>\n",
              "      <th>cb_person_cred_hist_length</th>\n",
              "    </tr>\n",
              "  </thead>\n",
              "  <tbody>\n",
              "    <tr>\n",
              "      <th>0</th>\n",
              "      <td>0.038462</td>\n",
              "      <td>0.026807</td>\n",
              "      <td>0.666667</td>\n",
              "      <td>0.3125</td>\n",
              "      <td>0.2</td>\n",
              "      <td>0.25</td>\n",
              "      <td>0.018450</td>\n",
              "      <td>0.400841</td>\n",
              "      <td>0.191489</td>\n",
              "      <td>0.0</td>\n",
              "      <td>0.000000</td>\n",
              "    </tr>\n",
              "    <tr>\n",
              "      <th>1</th>\n",
              "      <td>0.038462</td>\n",
              "      <td>0.028263</td>\n",
              "      <td>0.666667</td>\n",
              "      <td>0.1250</td>\n",
              "      <td>1.0</td>\n",
              "      <td>0.00</td>\n",
              "      <td>0.073801</td>\n",
              "      <td>0.120533</td>\n",
              "      <td>0.510638</td>\n",
              "      <td>0.0</td>\n",
              "      <td>0.000000</td>\n",
              "    </tr>\n",
              "    <tr>\n",
              "      <th>2</th>\n",
              "      <td>0.038462</td>\n",
              "      <td>0.028749</td>\n",
              "      <td>0.666667</td>\n",
              "      <td>0.3750</td>\n",
              "      <td>1.0</td>\n",
              "      <td>0.75</td>\n",
              "      <td>0.040590</td>\n",
              "      <td>0.653118</td>\n",
              "      <td>0.319149</td>\n",
              "      <td>0.0</td>\n",
              "      <td>0.071429</td>\n",
              "    </tr>\n",
              "    <tr>\n",
              "      <th>3</th>\n",
              "      <td>0.038462</td>\n",
              "      <td>0.028749</td>\n",
              "      <td>0.666667</td>\n",
              "      <td>0.1250</td>\n",
              "      <td>0.4</td>\n",
              "      <td>0.00</td>\n",
              "      <td>0.147601</td>\n",
              "      <td>0.224947</td>\n",
              "      <td>0.936170</td>\n",
              "      <td>0.0</td>\n",
              "      <td>0.000000</td>\n",
              "    </tr>\n",
              "    <tr>\n",
              "      <th>4</th>\n",
              "      <td>0.153846</td>\n",
              "      <td>0.032634</td>\n",
              "      <td>0.000000</td>\n",
              "      <td>0.5000</td>\n",
              "      <td>0.2</td>\n",
              "      <td>0.25</td>\n",
              "      <td>0.046125</td>\n",
              "      <td>0.390329</td>\n",
              "      <td>0.319149</td>\n",
              "      <td>0.0</td>\n",
              "      <td>0.000000</td>\n",
              "    </tr>\n",
              "  </tbody>\n",
              "</table>\n",
              "</div>\n",
              "      <button class=\"colab-df-convert\" onclick=\"convertToInteractive('df-765a190c-d0fa-475b-961d-7f5c078db547')\"\n",
              "              title=\"Convert this dataframe to an interactive table.\"\n",
              "              style=\"display:none;\">\n",
              "        \n",
              "  <svg xmlns=\"http://www.w3.org/2000/svg\" height=\"24px\"viewBox=\"0 0 24 24\"\n",
              "       width=\"24px\">\n",
              "    <path d=\"M0 0h24v24H0V0z\" fill=\"none\"/>\n",
              "    <path d=\"M18.56 5.44l.94 2.06.94-2.06 2.06-.94-2.06-.94-.94-2.06-.94 2.06-2.06.94zm-11 1L8.5 8.5l.94-2.06 2.06-.94-2.06-.94L8.5 2.5l-.94 2.06-2.06.94zm10 10l.94 2.06.94-2.06 2.06-.94-2.06-.94-.94-2.06-.94 2.06-2.06.94z\"/><path d=\"M17.41 7.96l-1.37-1.37c-.4-.4-.92-.59-1.43-.59-.52 0-1.04.2-1.43.59L10.3 9.45l-7.72 7.72c-.78.78-.78 2.05 0 2.83L4 21.41c.39.39.9.59 1.41.59.51 0 1.02-.2 1.41-.59l7.78-7.78 2.81-2.81c.8-.78.8-2.07 0-2.86zM5.41 20L4 18.59l7.72-7.72 1.47 1.35L5.41 20z\"/>\n",
              "  </svg>\n",
              "      </button>\n",
              "      \n",
              "  <style>\n",
              "    .colab-df-container {\n",
              "      display:flex;\n",
              "      flex-wrap:wrap;\n",
              "      gap: 12px;\n",
              "    }\n",
              "\n",
              "    .colab-df-convert {\n",
              "      background-color: #E8F0FE;\n",
              "      border: none;\n",
              "      border-radius: 50%;\n",
              "      cursor: pointer;\n",
              "      display: none;\n",
              "      fill: #1967D2;\n",
              "      height: 32px;\n",
              "      padding: 0 0 0 0;\n",
              "      width: 32px;\n",
              "    }\n",
              "\n",
              "    .colab-df-convert:hover {\n",
              "      background-color: #E2EBFA;\n",
              "      box-shadow: 0px 1px 2px rgba(60, 64, 67, 0.3), 0px 1px 3px 1px rgba(60, 64, 67, 0.15);\n",
              "      fill: #174EA6;\n",
              "    }\n",
              "\n",
              "    [theme=dark] .colab-df-convert {\n",
              "      background-color: #3B4455;\n",
              "      fill: #D2E3FC;\n",
              "    }\n",
              "\n",
              "    [theme=dark] .colab-df-convert:hover {\n",
              "      background-color: #434B5C;\n",
              "      box-shadow: 0px 1px 3px 1px rgba(0, 0, 0, 0.15);\n",
              "      filter: drop-shadow(0px 1px 2px rgba(0, 0, 0, 0.3));\n",
              "      fill: #FFFFFF;\n",
              "    }\n",
              "  </style>\n",
              "\n",
              "      <script>\n",
              "        const buttonEl =\n",
              "          document.querySelector('#df-765a190c-d0fa-475b-961d-7f5c078db547 button.colab-df-convert');\n",
              "        buttonEl.style.display =\n",
              "          google.colab.kernel.accessAllowed ? 'block' : 'none';\n",
              "\n",
              "        async function convertToInteractive(key) {\n",
              "          const element = document.querySelector('#df-765a190c-d0fa-475b-961d-7f5c078db547');\n",
              "          const dataTable =\n",
              "            await google.colab.kernel.invokeFunction('convertToInteractive',\n",
              "                                                     [key], {});\n",
              "          if (!dataTable) return;\n",
              "\n",
              "          const docLinkHtml = 'Like what you see? Visit the ' +\n",
              "            '<a target=\"_blank\" href=https://colab.research.google.com/notebooks/data_table.ipynb>data table notebook</a>'\n",
              "            + ' to learn more about interactive tables.';\n",
              "          element.innerHTML = '';\n",
              "          dataTable['output_type'] = 'display_data';\n",
              "          await google.colab.output.renderOutput(dataTable, element);\n",
              "          const docLink = document.createElement('div');\n",
              "          docLink.innerHTML = docLinkHtml;\n",
              "          element.appendChild(docLink);\n",
              "        }\n",
              "      </script>\n",
              "    </div>\n",
              "  </div>\n",
              "  "
            ]
          },
          "metadata": {},
          "execution_count": 6
        }
      ]
    },
    {
      "cell_type": "code",
      "source": [
        "y.head()"
      ],
      "metadata": {
        "colab": {
          "base_uri": "https://localhost:8080/",
          "height": 206
        },
        "id": "PV6XnYD0VJkJ",
        "outputId": "3cef002b-60b4-4e92-a106-9f23a6152672"
      },
      "execution_count": null,
      "outputs": [
        {
          "output_type": "execute_result",
          "data": {
            "text/plain": [
              "   loan_status\n",
              "0          0.0\n",
              "1          1.0\n",
              "2          1.0\n",
              "3          1.0\n",
              "4          1.0"
            ],
            "text/html": [
              "\n",
              "  <div id=\"df-420b872f-606a-40ff-827b-7abc06b6bb5b\">\n",
              "    <div class=\"colab-df-container\">\n",
              "      <div>\n",
              "<style scoped>\n",
              "    .dataframe tbody tr th:only-of-type {\n",
              "        vertical-align: middle;\n",
              "    }\n",
              "\n",
              "    .dataframe tbody tr th {\n",
              "        vertical-align: top;\n",
              "    }\n",
              "\n",
              "    .dataframe thead th {\n",
              "        text-align: right;\n",
              "    }\n",
              "</style>\n",
              "<table border=\"1\" class=\"dataframe\">\n",
              "  <thead>\n",
              "    <tr style=\"text-align: right;\">\n",
              "      <th></th>\n",
              "      <th>loan_status</th>\n",
              "    </tr>\n",
              "  </thead>\n",
              "  <tbody>\n",
              "    <tr>\n",
              "      <th>0</th>\n",
              "      <td>0.0</td>\n",
              "    </tr>\n",
              "    <tr>\n",
              "      <th>1</th>\n",
              "      <td>1.0</td>\n",
              "    </tr>\n",
              "    <tr>\n",
              "      <th>2</th>\n",
              "      <td>1.0</td>\n",
              "    </tr>\n",
              "    <tr>\n",
              "      <th>3</th>\n",
              "      <td>1.0</td>\n",
              "    </tr>\n",
              "    <tr>\n",
              "      <th>4</th>\n",
              "      <td>1.0</td>\n",
              "    </tr>\n",
              "  </tbody>\n",
              "</table>\n",
              "</div>\n",
              "      <button class=\"colab-df-convert\" onclick=\"convertToInteractive('df-420b872f-606a-40ff-827b-7abc06b6bb5b')\"\n",
              "              title=\"Convert this dataframe to an interactive table.\"\n",
              "              style=\"display:none;\">\n",
              "        \n",
              "  <svg xmlns=\"http://www.w3.org/2000/svg\" height=\"24px\"viewBox=\"0 0 24 24\"\n",
              "       width=\"24px\">\n",
              "    <path d=\"M0 0h24v24H0V0z\" fill=\"none\"/>\n",
              "    <path d=\"M18.56 5.44l.94 2.06.94-2.06 2.06-.94-2.06-.94-.94-2.06-.94 2.06-2.06.94zm-11 1L8.5 8.5l.94-2.06 2.06-.94-2.06-.94L8.5 2.5l-.94 2.06-2.06.94zm10 10l.94 2.06.94-2.06 2.06-.94-2.06-.94-.94-2.06-.94 2.06-2.06.94z\"/><path d=\"M17.41 7.96l-1.37-1.37c-.4-.4-.92-.59-1.43-.59-.52 0-1.04.2-1.43.59L10.3 9.45l-7.72 7.72c-.78.78-.78 2.05 0 2.83L4 21.41c.39.39.9.59 1.41.59.51 0 1.02-.2 1.41-.59l7.78-7.78 2.81-2.81c.8-.78.8-2.07 0-2.86zM5.41 20L4 18.59l7.72-7.72 1.47 1.35L5.41 20z\"/>\n",
              "  </svg>\n",
              "      </button>\n",
              "      \n",
              "  <style>\n",
              "    .colab-df-container {\n",
              "      display:flex;\n",
              "      flex-wrap:wrap;\n",
              "      gap: 12px;\n",
              "    }\n",
              "\n",
              "    .colab-df-convert {\n",
              "      background-color: #E8F0FE;\n",
              "      border: none;\n",
              "      border-radius: 50%;\n",
              "      cursor: pointer;\n",
              "      display: none;\n",
              "      fill: #1967D2;\n",
              "      height: 32px;\n",
              "      padding: 0 0 0 0;\n",
              "      width: 32px;\n",
              "    }\n",
              "\n",
              "    .colab-df-convert:hover {\n",
              "      background-color: #E2EBFA;\n",
              "      box-shadow: 0px 1px 2px rgba(60, 64, 67, 0.3), 0px 1px 3px 1px rgba(60, 64, 67, 0.15);\n",
              "      fill: #174EA6;\n",
              "    }\n",
              "\n",
              "    [theme=dark] .colab-df-convert {\n",
              "      background-color: #3B4455;\n",
              "      fill: #D2E3FC;\n",
              "    }\n",
              "\n",
              "    [theme=dark] .colab-df-convert:hover {\n",
              "      background-color: #434B5C;\n",
              "      box-shadow: 0px 1px 3px 1px rgba(0, 0, 0, 0.15);\n",
              "      filter: drop-shadow(0px 1px 2px rgba(0, 0, 0, 0.3));\n",
              "      fill: #FFFFFF;\n",
              "    }\n",
              "  </style>\n",
              "\n",
              "      <script>\n",
              "        const buttonEl =\n",
              "          document.querySelector('#df-420b872f-606a-40ff-827b-7abc06b6bb5b button.colab-df-convert');\n",
              "        buttonEl.style.display =\n",
              "          google.colab.kernel.accessAllowed ? 'block' : 'none';\n",
              "\n",
              "        async function convertToInteractive(key) {\n",
              "          const element = document.querySelector('#df-420b872f-606a-40ff-827b-7abc06b6bb5b');\n",
              "          const dataTable =\n",
              "            await google.colab.kernel.invokeFunction('convertToInteractive',\n",
              "                                                     [key], {});\n",
              "          if (!dataTable) return;\n",
              "\n",
              "          const docLinkHtml = 'Like what you see? Visit the ' +\n",
              "            '<a target=\"_blank\" href=https://colab.research.google.com/notebooks/data_table.ipynb>data table notebook</a>'\n",
              "            + ' to learn more about interactive tables.';\n",
              "          element.innerHTML = '';\n",
              "          dataTable['output_type'] = 'display_data';\n",
              "          await google.colab.output.renderOutput(dataTable, element);\n",
              "          const docLink = document.createElement('div');\n",
              "          docLink.innerHTML = docLinkHtml;\n",
              "          element.appendChild(docLink);\n",
              "        }\n",
              "      </script>\n",
              "    </div>\n",
              "  </div>\n",
              "  "
            ]
          },
          "metadata": {},
          "execution_count": 7
        }
      ]
    },
    {
      "cell_type": "code",
      "source": [
        "y = y.values.ravel()"
      ],
      "metadata": {
        "id": "fKF7U5mOo2mm"
      },
      "execution_count": null,
      "outputs": []
    },
    {
      "cell_type": "code",
      "source": [
        "# K-best Method\n",
        "best_features = SelectKBest(score_func=chi2, k=11) #Chọn các tính năng theo k điểm cao nhất.\n",
        "fit = best_features.fit(X,y)\n",
        "df_scores = pd.DataFrame(fit.scores_)# Điểm số của các tính năng\n",
        "df_columns = pd.DataFrame(X.columns)\n",
        "feature_scores = pd.concat([df_columns, df_scores], axis=1)# Nối các đối tượng pandas dọc theo cột.\n",
        "feature_scores.columns = [\"Feature\",\"Score\"]\n",
        "print(feature_scores.nlargest(11,\"Score\"))\n"
      ],
      "metadata": {
        "colab": {
          "base_uri": "https://localhost:8080/"
        },
        "id": "0eu6UFA_VZH6",
        "outputId": "9b514568-da0c-4ead-c241-cbe3b552a532"
      },
      "execution_count": null,
      "outputs": [
        {
          "output_type": "stream",
          "name": "stdout",
          "text": [
            "                       Feature       Score\n",
            "5                   loan_grade  979.486278\n",
            "9    cb_person_default_on_file  756.959610\n",
            "8          loan_percent_income  510.348486\n",
            "2        person_home_ownership  509.438695\n",
            "7                loan_int_rate  316.182079\n",
            "1                person_income  160.386595\n",
            "3            person_emp_length   40.968762\n",
            "6                    loan_amnt   26.140949\n",
            "4                  loan_intent   24.132526\n",
            "0                   person_age    3.029378\n",
            "10  cb_person_cred_hist_length    3.014954\n"
          ]
        }
      ]
    },
    {
      "cell_type": "markdown",
      "source": [
        "### **KNN**"
      ],
      "metadata": {
        "id": "7-59MfOHIqz4"
      }
    },
    {
      "cell_type": "markdown",
      "source": [
        "### **Mô hình ban đầu**\n",
        "Tạo và các tham số được sử dụng mặc định."
      ],
      "metadata": {
        "id": "4f47vFow6qJZ"
      }
    },
    {
      "cell_type": "code",
      "source": [
        "### KNN Classifier\n",
        "# 1) Initial\n",
        "\n",
        "# Train, Test, Split\n",
        "X_train, X_test, Y_train, Y_test = train_test_split(X, y, test_size = 0.2, random_state=152, stratify=y)\n",
        "\n",
        "# Define the model\n",
        "clf_1 = KNeighborsClassifier()\n",
        "\n",
        " # Fit the model\n",
        "clf_1.fit(X_train,Y_train)\n",
        "\n",
        "# Make prediction\n",
        "pred_1 = clf_1.predict(X_test)\n",
        "\n",
        "# Accuracy score\n",
        "print('Accuracy score of KNN model 1 is:', accuracy_score(Y_test, pred_1))\n",
        "\n",
        "# Confusion Matrix\n",
        "conmat_1 = confusion_matrix(Y_test, pred_1)\n",
        "print(conmat_1)\n",
        "plt.figure(figsize=(10,8))\n",
        "plt.title('Confusion Matrix of KNN 1st Model')\n",
        "sns.heatmap(conmat_1, annot=True, cmap=\"Purples\", fmt=\"d\",cbar=True)\n",
        "\n",
        " # Classification Report\n",
        "print('Classification Report of KNN 1st Model')\n",
        "print(classification_report(Y_test, pred_1))\n"
      ],
      "metadata": {
        "colab": {
          "base_uri": "https://localhost:8080/",
          "height": 735
        },
        "id": "zyw8uFkPnZ4o",
        "outputId": "7afd08d0-29bc-4c65-cae1-ffeed04f6550"
      },
      "execution_count": null,
      "outputs": [
        {
          "output_type": "stream",
          "name": "stdout",
          "text": [
            "Accuracy score of KNN model 1 is: 0.8846666666666667\n",
            "[[4593  166]\n",
            " [ 526  715]]\n",
            "Classification Report of KNN 1st Model\n",
            "              precision    recall  f1-score   support\n",
            "\n",
            "         0.0       0.90      0.97      0.93      4759\n",
            "         1.0       0.81      0.58      0.67      1241\n",
            "\n",
            "    accuracy                           0.88      6000\n",
            "   macro avg       0.85      0.77      0.80      6000\n",
            "weighted avg       0.88      0.88      0.88      6000\n",
            "\n"
          ]
        },
        {
          "output_type": "display_data",
          "data": {
            "text/plain": [
              "<Figure size 720x576 with 2 Axes>"
            ],
            "image/png": "[encoded data removed]"
          },
          "metadata": {
            "needs_background": "light"
          }
        }
      ]
    },
    {
      "cell_type": "markdown",
      "source": [
        "## **Decision Tree Classifier**"
      ],
      "metadata": {
        "id": "kssf8F6zJGBm"
      }
    },
    {
      "cell_type": "code",
      "source": [
        "# 1) Initial\n",
        "\n",
        "# Train, Test, Split\n",
        "X_train_2, X_test_2, Y_train_2, Y_test_2 = train_test_split(X, y, test_size = 0.2, random_state=152, stratify=y)\n",
        "\n",
        "# Define the model\n",
        "clf_2 = DecisionTreeClassifier()\n",
        "\n",
        "# Fit the model\n",
        "clf_2.fit(X_train_2,Y_train_2)\n",
        "\n",
        "# Make prediction\n",
        "pred_2 = clf_2.predict(X_test_2)\n",
        "\n",
        "# Accuracy score\n",
        "print('Accuracy score of Decision Tree model 1 is:', accuracy_score(Y_test_2, pred_2))\n",
        "\n",
        "# Confusion Matrix\n",
        "conmat_2 = confusion_matrix(Y_test_2, pred_2)\n",
        "print(conmat_2)\n",
        "plt.figure(figsize=(10,8))\n",
        "plt.title('Confusion Matrix of Decision Tree 1st Model')\n",
        "sns.heatmap(conmat_2, annot=True, cmap=\"Purples\", fmt=\"d\",cbar=True)\n",
        "\n",
        "# Classification Report\n",
        "print('Classification Report of Decision Tree 1st Model')\n",
        "print(classification_report(Y_test_2, pred_2))"
      ],
      "metadata": {
        "colab": {
          "base_uri": "https://localhost:8080/",
          "height": 735
        },
        "id": "h3epKhCdJQRz",
        "outputId": "d405a2a8-f0d5-4e0f-b645-415dbf6ea046"
      },
      "execution_count": null,
      "outputs": [
        {
          "output_type": "stream",
          "name": "stdout",
          "text": [
            "Accuracy score of Decision Tree model 1 is: 0.8861666666666667\n",
            "[[4388  371]\n",
            " [ 312  929]]\n",
            "Classification Report of Decision Tree 1st Model\n",
            "              precision    recall  f1-score   support\n",
            "\n",
            "         0.0       0.93      0.92      0.93      4759\n",
            "         1.0       0.71      0.75      0.73      1241\n",
            "\n",
            "    accuracy                           0.89      6000\n",
            "   macro avg       0.82      0.84      0.83      6000\n",
            "weighted avg       0.89      0.89      0.89      6000\n",
            "\n"
          ]
        },
        {
          "output_type": "display_data",
          "data": {
            "text/plain": [
              "<Figure size 720x576 with 2 Axes>"
            ],
            "image/png": "[encoded data removed]"
          },
          "metadata": {
            "needs_background": "light"
          }
        }
      ]
    },
    {
      "cell_type": "markdown",
      "source": [
        "## **Random Forest Classifier**"
      ],
      "metadata": {
        "id": "1GEShT6oeINq"
      }
    },
    {
      "cell_type": "code",
      "source": [
        "#1) Initial\n",
        "\n",
        "# Train, Test, Split\n",
        "X_train_3, X_test_3, Y_train_3, Y_test_3 = train_test_split(X, y, test_size = 0.2, random_state=152, stratify=y)\n",
        "\n",
        "# Define the model\n",
        "clf_3 = RandomForestClassifier()\n",
        "\n",
        "# Fit the model\n",
        "clf_3.fit(X_train_3,Y_train_3)\n",
        "\n",
        "# Make prediction\n",
        "pred_3 = clf_3.predict(X_test_3)\n",
        "\n",
        "# Accuracy score\n",
        "print('Accuracy score of Random Forest model is:', accuracy_score(Y_test_3, pred_3))\n",
        "\n",
        "# Confusion Matrix\n",
        "conmat_3 = confusion_matrix(Y_test_3, pred_3)\n",
        "print(conmat_3)\n",
        "plt.figure(figsize=(10,8))\n",
        "plt.title('Confusion Matrix of Random Forest Model')\n",
        "sns.heatmap(conmat_3, annot=True, cmap=\"Purples\", fmt=\"d\",cbar=True)\n",
        "\n",
        "# Classification Report\n",
        "print('Classification Report of Random Forest Model')\n",
        "print(classification_report(Y_test_3, pred_3))"
      ],
      "metadata": {
        "colab": {
          "base_uri": "https://localhost:8080/",
          "height": 735
        },
        "id": "SVIH72XUeIdK",
        "outputId": "28606dfb-097d-40fd-c220-a4ef0727d843"
      },
      "execution_count": null,
      "outputs": [
        {
          "output_type": "stream",
          "name": "stdout",
          "text": [
            "Accuracy score of Random Forest model is: 0.9276666666666666\n",
            "[[4732   27]\n",
            " [ 407  834]]\n",
            "Classification Report of Random Forest Model\n",
            "              precision    recall  f1-score   support\n",
            "\n",
            "         0.0       0.92      0.99      0.96      4759\n",
            "         1.0       0.97      0.67      0.79      1241\n",
            "\n",
            "    accuracy                           0.93      6000\n",
            "   macro avg       0.94      0.83      0.87      6000\n",
            "weighted avg       0.93      0.93      0.92      6000\n",
            "\n"
          ]
        },
        {
          "output_type": "display_data",
          "data": {
            "text/plain": [
              "<Figure size 720x576 with 2 Axes>"
            ],
            "image/png": "[encoded data removed]"
          },
          "metadata": {
            "needs_background": "light"
          }
        }
      ]
    }
  ]
}