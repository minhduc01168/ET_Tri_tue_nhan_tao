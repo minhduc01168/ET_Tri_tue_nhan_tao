{
  "nbformat": 4,
  "nbformat_minor": 0,
  "metadata": {
    "colab": {
      "provenance": [],
      "authorship_tag": "ABX9TyPwKJw5Amc4SnGn0E98k1/t",
      "include_colab_link": true
    },
    "kernelspec": {
      "name": "python3",
      "display_name": "Python 3"
    },
    "language_info": {
      "name": "python"
    },
    "accelerator": "GPU",
    "gpuClass": "standard"
  },
  "cells": [
    {
      "cell_type": "markdown",
      "metadata": {
        "id": "view-in-github",
        "colab_type": "text"
      },
      "source": [
        "<a href=\"https://colab.research.google.com/github/minhduc01168/ET_Tri_tue_nhan_tao/blob/master/BTL_AI_ANN.ipynb\" target=\"_parent\"><img src=\"https://colab.research.google.com/assets/colab-badge.svg\" alt=\"Open In Colab\"/></a>"
      ]
    },
    {
      "cell_type": "code",
      "execution_count": null,
      "metadata": {
        "id": "d00VAuioL7KO"
      },
      "outputs": [],
      "source": [
        "# Problem Description\n",
        "# ANN.py\n",
        "# Description :\n",
        "# Predict whether the customer is creditable or not .\n",
        "# datasets :Bộ dữ liệu sẽ được sử dụng được tìm thấy trên Kaggle và nó chứa dữ liệu cho 32.581 người vay và 11 biến \n",
        "# Artificial Neural Network\n",
        "# Special requirements or dependencies :\n",
        "# None ; Tested in Mac OS X with Python \n",
        "# Compilation and execution :\n",
        "# Compilation not necessary\n",
        "# Execution takes approx 8 -10 minutes on most modern ←- hardware .\n",
        "# For the execution in terminal\n",
        "# python ANN .py"
      ]
    },
    {
      "cell_type": "code",
      "source": [
        "# Import the library\n",
        "import pandas as pd\n",
        "import numpy as np\n",
        "import matplotlib . pyplot as plt"
      ],
      "metadata": {
        "id": "Rcriv0yBMeEx"
      },
      "execution_count": null,
      "outputs": []
    },
    {
      "cell_type": "code",
      "source": [
        "from google.colab import drive\n",
        "drive.mount('/content/drive')"
      ],
      "metadata": {
        "colab": {
          "base_uri": "https://localhost:8080/"
        },
        "id": "1fW0t8l8NviQ",
        "outputId": "b407b7d4-ff3a-47e0-cc08-325b4e7067b3"
      },
      "execution_count": null,
      "outputs": [
        {
          "output_type": "stream",
          "name": "stdout",
          "text": [
            "Mounted at /content/drive\n"
          ]
        }
      ]
    },
    {
      "cell_type": "code",
      "source": [
        "# Import the dataset\n",
        "df = pd.read_csv('/content/drive/My Drive/AI_ML_DS/AI/BTL_AI/credit_risk_dataset_SMOTE.csv')"
      ],
      "metadata": {
        "id": "_Al2waDCNVlg"
      },
      "execution_count": null,
      "outputs": []
    },
    {
      "cell_type": "code",
      "source": [
        "X = pd.DataFrame(df)\n",
        "X = X.drop(['loan_status'], axis=1)\n",
        "y = df[['loan_status']]\n",
        "X.info()"
      ],
      "metadata": {
        "colab": {
          "base_uri": "https://localhost:8080/"
        },
        "id": "zWZTkGl6QbIw",
        "outputId": "5399c57a-4d87-4e56-9f49-ed6d4203fa32"
      },
      "execution_count": null,
      "outputs": [
        {
          "output_type": "stream",
          "name": "stdout",
          "text": [
            "<class 'pandas.core.frame.DataFrame'>\n",
            "RangeIndex: 47582 entries, 0 to 47581\n",
            "Data columns (total 11 columns):\n",
            " #   Column                      Non-Null Count  Dtype  \n",
            "---  ------                      --------------  -----  \n",
            " 0   person_age                  47582 non-null  float64\n",
            " 1   person_income               47582 non-null  float64\n",
            " 2   person_home_ownership       47582 non-null  float64\n",
            " 3   person_emp_length           47582 non-null  float64\n",
            " 4   loan_intent                 47582 non-null  float64\n",
            " 5   loan_grade                  47582 non-null  float64\n",
            " 6   loan_amnt                   47582 non-null  float64\n",
            " 7   loan_int_rate               47582 non-null  float64\n",
            " 8   loan_percent_income         47582 non-null  float64\n",
            " 9   cb_person_default_on_file   47582 non-null  float64\n",
            " 10  cb_person_cred_hist_length  47582 non-null  float64\n",
            "dtypes: float64(11)\n",
            "memory usage: 4.0 MB\n"
          ]
        }
      ]
    },
    {
      "cell_type": "markdown",
      "source": [
        "Tập dữ liệu được phân chia: \n",
        "* Training set: 64% \n",
        "* Validation set: 16%\n",
        "* Test set: 20%"
      ],
      "metadata": {
        "id": "-VjUMQZTdWp2"
      }
    },
    {
      "cell_type": "code",
      "source": [
        "# Data Preprocessing\n",
        "from sklearn.model_selection import train_test_split\n",
        "# X_train , X_test , y_train , y_test = train_test_split (X, y, test_size = 0.2)\n",
        "X_train, X_test, y_train, y_test = train_test_split(X, y, test_size=0.05, random_state=1)\n",
        "X_train, X_val, y_train, y_val = train_test_split(X_train, y_train, test_size=0.16, random_state=1)"
      ],
      "metadata": {
        "id": "eNnjYmKEN3qg"
      },
      "execution_count": null,
      "outputs": []
    },
    {
      "cell_type": "code",
      "source": [
        "print(\"-----------------------\")\n",
        "print(X_train.shape)\n",
        "print(y_train.shape)\n",
        "print(\"-----------------------\")\n",
        "print(X_test.shape)\n",
        "print(y_test.shape)\n",
        "print(\"-----------------------\")"
      ],
      "metadata": {
        "colab": {
          "base_uri": "https://localhost:8080/"
        },
        "id": "-DyL9gTnTLN2",
        "outputId": "fd198f78-cdf3-422e-eb64-cb99ec141557"
      },
      "execution_count": null,
      "outputs": [
        {
          "output_type": "stream",
          "name": "stdout",
          "text": [
            "-----------------------\n",
            "(37969, 11)\n",
            "(37969, 1)\n",
            "-----------------------\n",
            "(2380, 11)\n",
            "(2380, 1)\n",
            "-----------------------\n"
          ]
        }
      ]
    },
    {
      "cell_type": "code",
      "source": [
        "np.shape( X_test )[1]"
      ],
      "metadata": {
        "colab": {
          "base_uri": "https://localhost:8080/"
        },
        "id": "nq_oJz7jf97I",
        "outputId": "7dd60e5b-2bf5-42ea-ce4a-6f66a98938ff"
      },
      "execution_count": null,
      "outputs": [
        {
          "output_type": "execute_result",
          "data": {
            "text/plain": [
              "11"
            ]
          },
          "metadata": {},
          "execution_count": 8
        }
      ]
    },
    {
      "cell_type": "code",
      "source": [
        "# Make the ANN!\n",
        "# Importing the Keras libraries and packages\n",
        "import keras\n",
        "import tensorflow as tf\n",
        "import numpy as np\n",
        "import pandas as pd\n",
        "import seaborn as sns\n",
        "import matplotlib.pyplot as plt"
      ],
      "metadata": {
        "id": "ZB9lVE96Qe_X"
      },
      "execution_count": null,
      "outputs": []
    },
    {
      "cell_type": "markdown",
      "source": [
        "Xây dựng model"
      ],
      "metadata": {
        "id": "881IdazQd7y-"
      }
    },
    {
      "cell_type": "code",
      "source": [
        "# Initialize Sequential object\n",
        "ann = tf.keras.models.Sequential()\n",
        "\n",
        "# Total no. of Neurons = 6\n",
        "# We will be adding 2 hidden layers in our Neural Network\n",
        "ann.add(tf.keras.layers.Dense(units=11, activation='relu',input_dim = np.shape( X_test )[1]))\n",
        "ann.add(tf.keras.layers.Dense(units=25, activation='relu'))\n",
        "ann.add(tf.keras.layers.Dense(units=10, activation='relu'))\n",
        "ann.add(tf.keras.layers.Dense(units=5, activation='relu'))\n",
        "# Adding Output Later\n",
        "ann.add(tf.keras.layers.Dense(units=1, activation='sigmoid'))\n",
        "\n",
        "# Initializing our Compiler\n",
        "ann.compile(optimizer = 'adam', loss = 'binary_crossentropy', metrics = ['accuracy'])"
      ],
      "metadata": {
        "id": "zU1W2FFgTMk3"
      },
      "execution_count": null,
      "outputs": []
    },
    {
      "cell_type": "code",
      "source": [
        "# Train our model\n",
        "# ann.fit(X_train, y_train, batch_size=128, epochs=150, verbose=1)\n",
        "history = ann.fit(X_train, y_train, epochs=100, batch_size=25, validation_data=(X_val, y_val))\n",
        "# batch size = the number of training examples in one forward/backward pass. The higher the batch size, the more memory space you'll need."
      ],
      "metadata": {
        "colab": {
          "base_uri": "https://localhost:8080/"
        },
        "id": "HcRRKgFxTgg_",
        "outputId": "00a68ac2-1fc1-481b-d4c6-d005eecba503"
      },
      "execution_count": null,
      "outputs": [
        {
          "output_type": "stream",
          "name": "stdout",
          "text": [
            "Epoch 1/100\n",
            "1519/1519 [==============================] - 12s 4ms/step - loss: 0.4963 - accuracy: 0.7627 - val_loss: 0.4641 - val_accuracy: 0.7821\n",
            "Epoch 2/100\n",
            "1519/1519 [==============================] - 7s 4ms/step - loss: 0.4517 - accuracy: 0.7901 - val_loss: 0.4448 - val_accuracy: 0.7918\n",
            "Epoch 3/100\n",
            "1519/1519 [==============================] - 6s 4ms/step - loss: 0.4347 - accuracy: 0.7962 - val_loss: 0.4343 - val_accuracy: 0.7954\n",
            "Epoch 4/100\n",
            "1519/1519 [==============================] - 6s 4ms/step - loss: 0.4233 - accuracy: 0.8013 - val_loss: 0.4205 - val_accuracy: 0.8027\n",
            "Epoch 5/100\n",
            "1519/1519 [==============================] - 6s 4ms/step - loss: 0.4147 - accuracy: 0.8048 - val_loss: 0.4141 - val_accuracy: 0.8038\n",
            "Epoch 6/100\n",
            "1519/1519 [==============================] - 6s 4ms/step - loss: 0.4102 - accuracy: 0.8072 - val_loss: 0.4096 - val_accuracy: 0.8095\n",
            "Epoch 7/100\n",
            "1519/1519 [==============================] - 6s 4ms/step - loss: 0.4048 - accuracy: 0.8084 - val_loss: 0.4093 - val_accuracy: 0.8056\n",
            "Epoch 8/100\n",
            "1519/1519 [==============================] - 6s 4ms/step - loss: 0.4016 - accuracy: 0.8101 - val_loss: 0.4135 - val_accuracy: 0.8056\n",
            "Epoch 9/100\n",
            "1519/1519 [==============================] - 6s 4ms/step - loss: 0.3976 - accuracy: 0.8128 - val_loss: 0.3973 - val_accuracy: 0.8160\n",
            "Epoch 10/100\n",
            "1519/1519 [==============================] - 7s 4ms/step - loss: 0.3941 - accuracy: 0.8152 - val_loss: 0.3943 - val_accuracy: 0.8190\n",
            "Epoch 11/100\n",
            "1519/1519 [==============================] - 6s 4ms/step - loss: 0.3911 - accuracy: 0.8157 - val_loss: 0.3882 - val_accuracy: 0.8186\n",
            "Epoch 12/100\n",
            "1519/1519 [==============================] - 6s 4ms/step - loss: 0.3887 - accuracy: 0.8171 - val_loss: 0.3891 - val_accuracy: 0.8182\n",
            "Epoch 13/100\n",
            "1519/1519 [==============================] - 7s 4ms/step - loss: 0.3869 - accuracy: 0.8163 - val_loss: 0.3882 - val_accuracy: 0.8182\n",
            "Epoch 14/100\n",
            "1519/1519 [==============================] - 6s 4ms/step - loss: 0.3847 - accuracy: 0.8186 - val_loss: 0.3850 - val_accuracy: 0.8201\n",
            "Epoch 15/100\n",
            "1519/1519 [==============================] - 7s 5ms/step - loss: 0.3827 - accuracy: 0.8193 - val_loss: 0.3814 - val_accuracy: 0.8233\n",
            "Epoch 16/100\n",
            "1519/1519 [==============================] - 6s 4ms/step - loss: 0.3807 - accuracy: 0.8206 - val_loss: 0.3797 - val_accuracy: 0.8218\n",
            "Epoch 17/100\n",
            "1519/1519 [==============================] - 7s 5ms/step - loss: 0.3818 - accuracy: 0.8196 - val_loss: 0.3812 - val_accuracy: 0.8233\n",
            "Epoch 18/100\n",
            "1519/1519 [==============================] - 6s 4ms/step - loss: 0.3774 - accuracy: 0.8221 - val_loss: 0.3798 - val_accuracy: 0.8257\n",
            "Epoch 19/100\n",
            "1519/1519 [==============================] - 7s 4ms/step - loss: 0.3766 - accuracy: 0.8214 - val_loss: 0.3872 - val_accuracy: 0.8201\n",
            "Epoch 20/100\n",
            "1519/1519 [==============================] - 6s 4ms/step - loss: 0.3749 - accuracy: 0.8244 - val_loss: 0.3801 - val_accuracy: 0.8265\n",
            "Epoch 21/100\n",
            "1519/1519 [==============================] - 7s 5ms/step - loss: 0.3743 - accuracy: 0.8227 - val_loss: 0.3704 - val_accuracy: 0.8276\n",
            "Epoch 22/100\n",
            "1519/1519 [==============================] - 6s 4ms/step - loss: 0.3724 - accuracy: 0.8231 - val_loss: 0.3699 - val_accuracy: 0.8272\n",
            "Epoch 23/100\n",
            "1519/1519 [==============================] - 7s 4ms/step - loss: 0.3715 - accuracy: 0.8238 - val_loss: 0.3697 - val_accuracy: 0.8279\n",
            "Epoch 24/100\n",
            "1519/1519 [==============================] - 6s 4ms/step - loss: 0.3701 - accuracy: 0.8249 - val_loss: 0.3706 - val_accuracy: 0.8243\n",
            "Epoch 25/100\n",
            "1519/1519 [==============================] - 7s 5ms/step - loss: 0.3692 - accuracy: 0.8253 - val_loss: 0.3757 - val_accuracy: 0.8276\n",
            "Epoch 26/100\n",
            "1519/1519 [==============================] - 6s 4ms/step - loss: 0.3685 - accuracy: 0.8253 - val_loss: 0.3750 - val_accuracy: 0.8275\n",
            "Epoch 27/100\n",
            "1519/1519 [==============================] - 7s 4ms/step - loss: 0.3677 - accuracy: 0.8257 - val_loss: 0.3653 - val_accuracy: 0.8312\n",
            "Epoch 28/100\n",
            "1519/1519 [==============================] - 6s 4ms/step - loss: 0.3663 - accuracy: 0.8256 - val_loss: 0.3713 - val_accuracy: 0.8286\n",
            "Epoch 29/100\n",
            "1519/1519 [==============================] - 6s 4ms/step - loss: 0.3667 - accuracy: 0.8258 - val_loss: 0.3696 - val_accuracy: 0.8268\n",
            "Epoch 30/100\n",
            "1519/1519 [==============================] - 6s 4ms/step - loss: 0.3659 - accuracy: 0.8257 - val_loss: 0.3655 - val_accuracy: 0.8299\n",
            "Epoch 31/100\n",
            "1519/1519 [==============================] - 7s 4ms/step - loss: 0.3642 - accuracy: 0.8269 - val_loss: 0.3698 - val_accuracy: 0.8272\n",
            "Epoch 32/100\n",
            "1519/1519 [==============================] - 6s 4ms/step - loss: 0.3635 - accuracy: 0.8264 - val_loss: 0.3675 - val_accuracy: 0.8268\n",
            "Epoch 33/100\n",
            "1519/1519 [==============================] - 6s 4ms/step - loss: 0.3646 - accuracy: 0.8256 - val_loss: 0.3720 - val_accuracy: 0.8261\n",
            "Epoch 34/100\n",
            "1519/1519 [==============================] - 6s 4ms/step - loss: 0.3633 - accuracy: 0.8269 - val_loss: 0.3681 - val_accuracy: 0.8280\n",
            "Epoch 35/100\n",
            "1519/1519 [==============================] - 6s 4ms/step - loss: 0.3633 - accuracy: 0.8282 - val_loss: 0.3716 - val_accuracy: 0.8251\n",
            "Epoch 36/100\n",
            "1519/1519 [==============================] - 7s 5ms/step - loss: 0.3622 - accuracy: 0.8271 - val_loss: 0.3691 - val_accuracy: 0.8257\n",
            "Epoch 37/100\n",
            "1519/1519 [==============================] - 6s 4ms/step - loss: 0.3608 - accuracy: 0.8269 - val_loss: 0.3619 - val_accuracy: 0.8309\n",
            "Epoch 38/100\n",
            "1519/1519 [==============================] - 7s 4ms/step - loss: 0.3603 - accuracy: 0.8272 - val_loss: 0.3741 - val_accuracy: 0.8273\n",
            "Epoch 39/100\n",
            "1519/1519 [==============================] - 6s 4ms/step - loss: 0.3600 - accuracy: 0.8276 - val_loss: 0.3651 - val_accuracy: 0.8283\n",
            "Epoch 40/100\n",
            "1519/1519 [==============================] - 7s 5ms/step - loss: 0.3583 - accuracy: 0.8280 - val_loss: 0.3759 - val_accuracy: 0.8254\n",
            "Epoch 41/100\n",
            "1519/1519 [==============================] - 6s 4ms/step - loss: 0.3583 - accuracy: 0.8278 - val_loss: 0.3699 - val_accuracy: 0.8251\n",
            "Epoch 42/100\n",
            "1519/1519 [==============================] - 7s 4ms/step - loss: 0.3578 - accuracy: 0.8291 - val_loss: 0.3685 - val_accuracy: 0.8302\n",
            "Epoch 43/100\n",
            "1519/1519 [==============================] - 6s 4ms/step - loss: 0.3567 - accuracy: 0.8294 - val_loss: 0.3609 - val_accuracy: 0.8313\n",
            "Epoch 44/100\n",
            "1519/1519 [==============================] - 7s 5ms/step - loss: 0.3560 - accuracy: 0.8300 - val_loss: 0.3661 - val_accuracy: 0.8280\n",
            "Epoch 45/100\n",
            "1519/1519 [==============================] - 6s 4ms/step - loss: 0.3560 - accuracy: 0.8299 - val_loss: 0.3620 - val_accuracy: 0.8280\n",
            "Epoch 46/100\n",
            "1519/1519 [==============================] - 7s 4ms/step - loss: 0.3546 - accuracy: 0.8304 - val_loss: 0.3626 - val_accuracy: 0.8315\n",
            "Epoch 47/100\n",
            "1519/1519 [==============================] - 6s 4ms/step - loss: 0.3547 - accuracy: 0.8289 - val_loss: 0.3764 - val_accuracy: 0.8228\n",
            "Epoch 48/100\n",
            "1519/1519 [==============================] - 7s 5ms/step - loss: 0.3545 - accuracy: 0.8295 - val_loss: 0.3593 - val_accuracy: 0.8286\n",
            "Epoch 49/100\n",
            "1519/1519 [==============================] - 6s 4ms/step - loss: 0.3535 - accuracy: 0.8303 - val_loss: 0.3654 - val_accuracy: 0.8298\n",
            "Epoch 50/100\n",
            "1519/1519 [==============================] - 7s 4ms/step - loss: 0.3534 - accuracy: 0.8289 - val_loss: 0.3700 - val_accuracy: 0.8291\n",
            "Epoch 51/100\n",
            "1519/1519 [==============================] - 6s 4ms/step - loss: 0.3523 - accuracy: 0.8323 - val_loss: 0.3685 - val_accuracy: 0.8276\n",
            "Epoch 52/100\n",
            "1519/1519 [==============================] - 7s 5ms/step - loss: 0.3515 - accuracy: 0.8316 - val_loss: 0.3578 - val_accuracy: 0.8306\n",
            "Epoch 53/100\n",
            "1519/1519 [==============================] - 6s 4ms/step - loss: 0.3516 - accuracy: 0.8315 - val_loss: 0.3631 - val_accuracy: 0.8288\n",
            "Epoch 54/100\n",
            "1519/1519 [==============================] - 7s 4ms/step - loss: 0.3527 - accuracy: 0.8307 - val_loss: 0.3567 - val_accuracy: 0.8324\n",
            "Epoch 55/100\n",
            "1519/1519 [==============================] - 6s 4ms/step - loss: 0.3506 - accuracy: 0.8320 - val_loss: 0.3703 - val_accuracy: 0.8304\n",
            "Epoch 56/100\n",
            "1519/1519 [==============================] - 7s 4ms/step - loss: 0.3493 - accuracy: 0.8325 - val_loss: 0.3618 - val_accuracy: 0.8291\n",
            "Epoch 57/100\n",
            "1519/1519 [==============================] - 6s 4ms/step - loss: 0.3502 - accuracy: 0.8319 - val_loss: 0.3575 - val_accuracy: 0.8323\n",
            "Epoch 58/100\n",
            "1519/1519 [==============================] - 6s 4ms/step - loss: 0.3480 - accuracy: 0.8338 - val_loss: 0.3658 - val_accuracy: 0.8298\n",
            "Epoch 59/100\n",
            "1519/1519 [==============================] - 7s 4ms/step - loss: 0.3490 - accuracy: 0.8321 - val_loss: 0.3674 - val_accuracy: 0.8261\n",
            "Epoch 60/100\n",
            "1519/1519 [==============================] - 6s 4ms/step - loss: 0.3489 - accuracy: 0.8323 - val_loss: 0.3739 - val_accuracy: 0.8252\n",
            "Epoch 61/100\n",
            "1519/1519 [==============================] - 7s 4ms/step - loss: 0.3482 - accuracy: 0.8329 - val_loss: 0.3714 - val_accuracy: 0.8248\n",
            "Epoch 62/100\n",
            "1519/1519 [==============================] - 6s 4ms/step - loss: 0.3478 - accuracy: 0.8351 - val_loss: 0.3626 - val_accuracy: 0.8295\n",
            "Epoch 63/100\n",
            "1519/1519 [==============================] - 7s 5ms/step - loss: 0.3469 - accuracy: 0.8339 - val_loss: 0.3567 - val_accuracy: 0.8297\n",
            "Epoch 64/100\n",
            "1519/1519 [==============================] - 6s 4ms/step - loss: 0.3480 - accuracy: 0.8339 - val_loss: 0.3586 - val_accuracy: 0.8301\n",
            "Epoch 65/100\n",
            "1519/1519 [==============================] - 7s 5ms/step - loss: 0.3469 - accuracy: 0.8347 - val_loss: 0.3564 - val_accuracy: 0.8309\n",
            "Epoch 66/100\n",
            "1519/1519 [==============================] - 6s 4ms/step - loss: 0.3466 - accuracy: 0.8349 - val_loss: 0.3583 - val_accuracy: 0.8298\n",
            "Epoch 67/100\n",
            "1519/1519 [==============================] - 7s 4ms/step - loss: 0.3467 - accuracy: 0.8338 - val_loss: 0.3563 - val_accuracy: 0.8302\n",
            "Epoch 68/100\n",
            "1519/1519 [==============================] - 6s 4ms/step - loss: 0.3471 - accuracy: 0.8341 - val_loss: 0.3747 - val_accuracy: 0.8229\n",
            "Epoch 69/100\n",
            "1519/1519 [==============================] - 7s 5ms/step - loss: 0.3456 - accuracy: 0.8347 - val_loss: 0.3539 - val_accuracy: 0.8320\n",
            "Epoch 70/100\n",
            "1519/1519 [==============================] - 6s 4ms/step - loss: 0.3451 - accuracy: 0.8360 - val_loss: 0.3550 - val_accuracy: 0.8295\n",
            "Epoch 71/100\n",
            "1519/1519 [==============================] - 7s 5ms/step - loss: 0.3443 - accuracy: 0.8352 - val_loss: 0.3700 - val_accuracy: 0.8240\n",
            "Epoch 72/100\n",
            "1519/1519 [==============================] - 6s 4ms/step - loss: 0.3449 - accuracy: 0.8346 - val_loss: 0.3532 - val_accuracy: 0.8341\n",
            "Epoch 73/100\n",
            "1519/1519 [==============================] - 7s 4ms/step - loss: 0.3438 - accuracy: 0.8348 - val_loss: 0.3580 - val_accuracy: 0.8248\n",
            "Epoch 74/100\n",
            "1519/1519 [==============================] - 6s 4ms/step - loss: 0.3438 - accuracy: 0.8366 - val_loss: 0.3548 - val_accuracy: 0.8328\n",
            "Epoch 75/100\n",
            "1519/1519 [==============================] - 7s 4ms/step - loss: 0.3426 - accuracy: 0.8349 - val_loss: 0.3506 - val_accuracy: 0.8319\n",
            "Epoch 76/100\n",
            "1519/1519 [==============================] - 6s 4ms/step - loss: 0.3419 - accuracy: 0.8353 - val_loss: 0.3622 - val_accuracy: 0.8287\n",
            "Epoch 77/100\n",
            "1519/1519 [==============================] - 7s 4ms/step - loss: 0.3422 - accuracy: 0.8339 - val_loss: 0.3507 - val_accuracy: 0.8327\n",
            "Epoch 78/100\n",
            "1519/1519 [==============================] - 6s 4ms/step - loss: 0.3408 - accuracy: 0.8373 - val_loss: 0.3607 - val_accuracy: 0.8294\n",
            "Epoch 79/100\n",
            "1519/1519 [==============================] - 7s 4ms/step - loss: 0.3412 - accuracy: 0.8357 - val_loss: 0.3522 - val_accuracy: 0.8312\n",
            "Epoch 80/100\n",
            "1519/1519 [==============================] - 6s 4ms/step - loss: 0.3397 - accuracy: 0.8357 - val_loss: 0.3596 - val_accuracy: 0.8294\n",
            "Epoch 81/100\n",
            "1519/1519 [==============================] - 6s 4ms/step - loss: 0.3385 - accuracy: 0.8362 - val_loss: 0.3525 - val_accuracy: 0.8341\n",
            "Epoch 82/100\n",
            "1519/1519 [==============================] - 6s 4ms/step - loss: 0.3387 - accuracy: 0.8378 - val_loss: 0.3484 - val_accuracy: 0.8335\n",
            "Epoch 83/100\n",
            "1519/1519 [==============================] - 6s 4ms/step - loss: 0.3390 - accuracy: 0.8368 - val_loss: 0.3449 - val_accuracy: 0.8376\n",
            "Epoch 84/100\n",
            "1519/1519 [==============================] - 7s 4ms/step - loss: 0.3359 - accuracy: 0.8385 - val_loss: 0.3455 - val_accuracy: 0.8369\n",
            "Epoch 85/100\n",
            "1519/1519 [==============================] - 6s 4ms/step - loss: 0.3369 - accuracy: 0.8384 - val_loss: 0.3451 - val_accuracy: 0.8348\n",
            "Epoch 86/100\n",
            "1519/1519 [==============================] - 7s 5ms/step - loss: 0.3360 - accuracy: 0.8382 - val_loss: 0.3561 - val_accuracy: 0.8333\n",
            "Epoch 87/100\n",
            "1519/1519 [==============================] - 6s 4ms/step - loss: 0.3345 - accuracy: 0.8380 - val_loss: 0.3493 - val_accuracy: 0.8341\n",
            "Epoch 88/100\n",
            "1519/1519 [==============================] - 7s 5ms/step - loss: 0.3356 - accuracy: 0.8376 - val_loss: 0.3611 - val_accuracy: 0.8270\n",
            "Epoch 89/100\n",
            "1519/1519 [==============================] - 6s 4ms/step - loss: 0.3342 - accuracy: 0.8382 - val_loss: 0.3484 - val_accuracy: 0.8360\n",
            "Epoch 90/100\n",
            "1519/1519 [==============================] - 7s 4ms/step - loss: 0.3337 - accuracy: 0.8388 - val_loss: 0.3464 - val_accuracy: 0.8341\n",
            "Epoch 91/100\n",
            "1519/1519 [==============================] - 6s 4ms/step - loss: 0.3341 - accuracy: 0.8379 - val_loss: 0.3459 - val_accuracy: 0.8384\n",
            "Epoch 92/100\n",
            "1519/1519 [==============================] - 7s 5ms/step - loss: 0.3333 - accuracy: 0.8382 - val_loss: 0.3561 - val_accuracy: 0.8333\n",
            "Epoch 93/100\n",
            "1519/1519 [==============================] - 6s 4ms/step - loss: 0.3316 - accuracy: 0.8400 - val_loss: 0.3525 - val_accuracy: 0.8327\n",
            "Epoch 94/100\n",
            "1519/1519 [==============================] - 7s 5ms/step - loss: 0.3333 - accuracy: 0.8378 - val_loss: 0.3417 - val_accuracy: 0.8355\n",
            "Epoch 95/100\n",
            "1519/1519 [==============================] - 6s 4ms/step - loss: 0.3323 - accuracy: 0.8398 - val_loss: 0.3580 - val_accuracy: 0.8298\n",
            "Epoch 96/100\n",
            "1519/1519 [==============================] - 7s 5ms/step - loss: 0.3340 - accuracy: 0.8372 - val_loss: 0.3432 - val_accuracy: 0.8349\n",
            "Epoch 97/100\n",
            "1519/1519 [==============================] - 6s 4ms/step - loss: 0.3309 - accuracy: 0.8387 - val_loss: 0.3443 - val_accuracy: 0.8348\n",
            "Epoch 98/100\n",
            "1519/1519 [==============================] - 7s 4ms/step - loss: 0.3306 - accuracy: 0.8394 - val_loss: 0.3460 - val_accuracy: 0.8340\n",
            "Epoch 99/100\n",
            "1519/1519 [==============================] - 6s 4ms/step - loss: 0.3306 - accuracy: 0.8396 - val_loss: 0.3586 - val_accuracy: 0.8311\n",
            "Epoch 100/100\n",
            "1519/1519 [==============================] - 6s 4ms/step - loss: 0.3312 - accuracy: 0.8403 - val_loss: 0.3461 - val_accuracy: 0.8348\n"
          ]
        }
      ]
    },
    {
      "cell_type": "code",
      "source": [
        "history_dict = history.history\n",
        "print(history_dict.keys())"
      ],
      "metadata": {
        "id": "n-ODrzCIfZo-",
        "colab": {
          "base_uri": "https://localhost:8080/"
        },
        "outputId": "49674fff-5231-485d-e68c-8d2d2cbffbae"
      },
      "execution_count": null,
      "outputs": [
        {
          "output_type": "stream",
          "name": "stdout",
          "text": [
            "dict_keys(['loss', 'accuracy', 'val_loss', 'val_accuracy'])\n"
          ]
        }
      ]
    },
    {
      "cell_type": "markdown",
      "source": [
        "The below snippet plots the graph of the training loss vs. validation loss over the number of epochs"
      ],
      "metadata": {
        "id": "p09u7K_HeIqN"
      }
    },
    {
      "cell_type": "code",
      "source": [
        "loss_train = history.history['loss']\n",
        "loss_val = history.history['val_loss']\n",
        "epochs = range(1,101)\n",
        "plt.plot(epochs, loss_train, 'g', label='Training loss')\n",
        "plt.plot(epochs, loss_val, 'b', label='validation loss')\n",
        "plt.title('Training and Validation loss')\n",
        "plt.xlabel('Epochs')\n",
        "plt.ylabel('Loss')\n",
        "plt.legend()\n",
        "plt.show()"
      ],
      "metadata": {
        "id": "1ovBNaYMc5hu",
        "colab": {
          "base_uri": "https://localhost:8080/",
          "height": 295
        },
        "outputId": "14252f3f-fd23-475a-9aa5-28ef299e58a0"
      },
      "execution_count": null,
      "outputs": [
        {
          "output_type": "display_data",
          "data": {
            "text/plain": [
              "<Figure size 432x288 with 1 Axes>"
            ],
            "image/png": "[encoded data removed]"
          },
          "metadata": {
            "needs_background": "light"
          }
        }
      ]
    },
    {
      "cell_type": "markdown",
      "source": [
        "The following snippet plots the graph of training accuracy vs. validation accuracy over the number of epochs."
      ],
      "metadata": {
        "id": "WvqfTsIpeYkF"
      }
    },
    {
      "cell_type": "code",
      "source": [
        "loss_train = history.history['accuracy']\n",
        "loss_val = history.history['val_accuracy']\n",
        "epochs = range(1,101)\n",
        "plt.plot(epochs, loss_train, 'g', label='Training accuracy')\n",
        "plt.plot(epochs, loss_val, 'b', label='validation accuracy')\n",
        "plt.title('Training and Validation accuracy')\n",
        "plt.xlabel('Epochs')\n",
        "plt.ylabel('Accuracy')\n",
        "plt.legend()\n",
        "plt.show()"
      ],
      "metadata": {
        "id": "b6ld_gFLdPs_",
        "colab": {
          "base_uri": "https://localhost:8080/",
          "height": 295
        },
        "outputId": "c6f0f344-871a-47fe-cee1-35f80cca4292"
      },
      "execution_count": null,
      "outputs": [
        {
          "output_type": "display_data",
          "data": {
            "text/plain": [
              "<Figure size 432x288 with 1 Axes>"
            ],
            "image/png": "[encoded data removed]"
          },
          "metadata": {
            "needs_background": "light"
          }
        }
      ]
    },
    {
      "cell_type": "code",
      "source": [
        "y_pred = ann.predict(X_test)\n",
        "y_pred = (y_pred > 0.5)   # This will predict output values as 'True' and 'False'"
      ],
      "metadata": {
        "id": "uGCCUiBqUOXv",
        "colab": {
          "base_uri": "https://localhost:8080/"
        },
        "outputId": "4054ab03-0931-4034-a66d-640b82714dda"
      },
      "execution_count": null,
      "outputs": [
        {
          "output_type": "stream",
          "name": "stdout",
          "text": [
            "75/75 [==============================] - 0s 2ms/step\n"
          ]
        }
      ]
    },
    {
      "cell_type": "code",
      "source": [
        "# Convert np array to Series\n",
        "my_list = map(lambda x: x[0], y_pred)\n",
        "y_pred = pd.Series(my_list)\n",
        "\n",
        "# Convert True/False values back to 1 and 0s\n",
        "y_prediction = y_pred.astype(int)"
      ],
      "metadata": {
        "id": "1bst1v8vUPmF"
      },
      "execution_count": null,
      "outputs": []
    },
    {
      "cell_type": "code",
      "source": [
        "from sklearn.metrics import confusion_matrix, accuracy_score\n",
        "cm = confusion_matrix(y_test, y_prediction)\n",
        "print(cm)\n",
        "accuracy_score(y_test, y_prediction)"
      ],
      "metadata": {
        "id": "xus8R8RQUWWe",
        "colab": {
          "base_uri": "https://localhost:8080/"
        },
        "outputId": "f8a8235f-7434-4ca4-884e-b36b30f2eb6a"
      },
      "execution_count": null,
      "outputs": [
        {
          "output_type": "stream",
          "name": "stdout",
          "text": [
            "[[1095  117]\n",
            " [ 279  889]]\n"
          ]
        },
        {
          "output_type": "execute_result",
          "data": {
            "text/plain": [
              "0.8336134453781513"
            ]
          },
          "metadata": {},
          "execution_count": 17
        }
      ]
    },
    {
      "cell_type": "code",
      "source": [
        "sns.heatmap(cm, cmap=\"Blues\", annot=True, fmt='g')"
      ],
      "metadata": {
        "id": "RPsRE0ubUeIW",
        "colab": {
          "base_uri": "https://localhost:8080/",
          "height": 283
        },
        "outputId": "5168732e-bf88-48bc-b13a-491688111f53"
      },
      "execution_count": null,
      "outputs": [
        {
          "output_type": "execute_result",
          "data": {
            "text/plain": [
              "<matplotlib.axes._subplots.AxesSubplot at 0x7f26aca44a30>"
            ]
          },
          "metadata": {},
          "execution_count": 18
        },
        {
          "output_type": "display_data",
          "data": {
            "text/plain": [
              "<Figure size 432x288 with 2 Axes>"
            ],
            "image/png": "[encoded data removed]"
          },
          "metadata": {
            "needs_background": "light"
          }
        }
      ]
    }
  ]
}