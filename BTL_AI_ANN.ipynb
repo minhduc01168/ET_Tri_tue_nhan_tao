{
  "nbformat": 4,
  "nbformat_minor": 0,
  "metadata": {
    "colab": {
      "provenance": [],
      "authorship_tag": "ABX9TyNhVEbDDb/uBlJT01ZpxVIY",
      "include_colab_link": true
    },
    "kernelspec": {
      "name": "python3",
      "display_name": "Python 3"
    },
    "language_info": {
      "name": "python"
    },
    "accelerator": "GPU",
    "gpuClass": "standard"
  },
  "cells": [
    {
      "cell_type": "markdown",
      "metadata": {
        "id": "view-in-github",
        "colab_type": "text"
      },
      "source": [
        "<a href=\"https://colab.research.google.com/github/minhduc01168/ET_Tri_tue_nhan_tao/blob/master/BTL_AI_ANN.ipynb\" target=\"_parent\"><img src=\"https://colab.research.google.com/assets/colab-badge.svg\" alt=\"Open In Colab\"/></a>"
      ]
    },
    {
      "cell_type": "code",
      "execution_count": null,
      "metadata": {
        "id": "d00VAuioL7KO"
      },
      "outputs": [],
      "source": [
        "# Problem Description\n",
        "# ANN.py\n",
        "# Description :\n",
        "# Predict whether the customer is creditable or not .\n",
        "# datasets :Bộ dữ liệu sẽ được sử dụng được tìm thấy trên Kaggle và nó chứa dữ liệu cho 32.581 người vay và 11 biến \n",
        "# Artificial Neural Network\n",
        "# Special requirements or dependencies :\n",
        "# None ; Tested in Mac OS X with Python \n",
        "# Compilation and execution :\n",
        "# Compilation not necessary\n",
        "# Execution takes approx 8 -10 minutes on most modern ←- hardware .\n",
        "# For the execution in terminal\n",
        "# python ANN .py"
      ]
    },
    {
      "cell_type": "code",
      "source": [
        "# Import the library\n",
        "import pandas as pd\n",
        "import numpy as np\n",
        "import matplotlib . pyplot as plt"
      ],
      "metadata": {
        "id": "Rcriv0yBMeEx"
      },
      "execution_count": null,
      "outputs": []
    },
    {
      "cell_type": "code",
      "source": [
        "from google.colab import drive\n",
        "drive.mount('/content/drive')"
      ],
      "metadata": {
        "colab": {
          "base_uri": "https://localhost:8080/"
        },
        "id": "1fW0t8l8NviQ",
        "outputId": "b98d50b7-0f6c-4e57-cce5-093372642db2"
      },
      "execution_count": null,
      "outputs": [
        {
          "output_type": "stream",
          "name": "stdout",
          "text": [
            "Drive already mounted at /content/drive; to attempt to forcibly remount, call drive.mount(\"/content/drive\", force_remount=True).\n"
          ]
        }
      ]
    },
    {
      "cell_type": "code",
      "source": [
        "# Import the dataset\n",
        "df = pd.read_csv('/content/drive/My Drive/AI_ML_DS/AI/BTL_AI/credit_risk_dataset_after.csv')"
      ],
      "metadata": {
        "id": "_Al2waDCNVlg"
      },
      "execution_count": null,
      "outputs": []
    },
    {
      "cell_type": "code",
      "source": [
        "X = pd.DataFrame(df)\n",
        "X = X.drop(['loan_status'], axis=1)\n",
        "y = df[['loan_status']]\n",
        "X.info()"
      ],
      "metadata": {
        "colab": {
          "base_uri": "https://localhost:8080/"
        },
        "id": "zWZTkGl6QbIw",
        "outputId": "c9f45c03-7f27-4f17-b3a2-7433ab61cae3"
      },
      "execution_count": null,
      "outputs": [
        {
          "output_type": "stream",
          "name": "stdout",
          "text": [
            "<class 'pandas.core.frame.DataFrame'>\n",
            "RangeIndex: 29998 entries, 0 to 29997\n",
            "Data columns (total 11 columns):\n",
            " #   Column                      Non-Null Count  Dtype  \n",
            "---  ------                      --------------  -----  \n",
            " 0   person_age                  29998 non-null  int64  \n",
            " 1   person_income               29998 non-null  int64  \n",
            " 2   person_home_ownership       29998 non-null  int64  \n",
            " 3   person_emp_length           29998 non-null  float64\n",
            " 4   loan_intent                 29998 non-null  int64  \n",
            " 5   loan_grade                  29998 non-null  int64  \n",
            " 6   loan_amnt                   29998 non-null  int64  \n",
            " 7   loan_int_rate               29998 non-null  float64\n",
            " 8   loan_percent_income         29998 non-null  float64\n",
            " 9   cb_person_default_on_file   29998 non-null  int64  \n",
            " 10  cb_person_cred_hist_length  29998 non-null  int64  \n",
            "dtypes: float64(3), int64(8)\n",
            "memory usage: 2.5 MB\n"
          ]
        }
      ]
    },
    {
      "cell_type": "markdown",
      "source": [
        "Tập dữ liệu được phân chia: \n",
        "* Training set: 64% \n",
        "* Validation set: 16%\n",
        "* Test set: 20%"
      ],
      "metadata": {
        "id": "-VjUMQZTdWp2"
      }
    },
    {
      "cell_type": "code",
      "source": [
        "# Data Preprocessing\n",
        "from sklearn.model_selection import train_test_split\n",
        "# X_train , X_test , y_train , y_test = train_test_split (X, y, test_size = 0.2)\n",
        "X_train, X_test, y_train, y_test = train_test_split(X, y, test_size=0.05, random_state=1)\n",
        "X_train, X_val, y_train, y_val = train_test_split(X_train, y_train, test_size=0.16, random_state=1)"
      ],
      "metadata": {
        "id": "eNnjYmKEN3qg"
      },
      "execution_count": null,
      "outputs": []
    },
    {
      "cell_type": "code",
      "source": [
        "print(\"-----------------------\")\n",
        "print(X_train.shape)\n",
        "print(y_train.shape)\n",
        "print(\"-----------------------\")\n",
        "print(X_test.shape)\n",
        "print(y_test.shape)\n",
        "print(\"-----------------------\")"
      ],
      "metadata": {
        "colab": {
          "base_uri": "https://localhost:8080/"
        },
        "id": "-DyL9gTnTLN2",
        "outputId": "95e439de-268f-42f8-89ce-f39587131b23"
      },
      "execution_count": null,
      "outputs": [
        {
          "output_type": "stream",
          "name": "stdout",
          "text": [
            "-----------------------\n",
            "(23938, 11)\n",
            "(23938, 1)\n",
            "-----------------------\n",
            "(1500, 11)\n",
            "(1500, 1)\n",
            "-----------------------\n"
          ]
        }
      ]
    },
    {
      "cell_type": "code",
      "source": [
        "np.shape( X_test )[1]"
      ],
      "metadata": {
        "colab": {
          "base_uri": "https://localhost:8080/"
        },
        "id": "nq_oJz7jf97I",
        "outputId": "93b5b620-dd04-41cd-89ef-0b8749fcea81"
      },
      "execution_count": null,
      "outputs": [
        {
          "output_type": "execute_result",
          "data": {
            "text/plain": [
              "11"
            ]
          },
          "metadata": {},
          "execution_count": 8
        }
      ]
    },
    {
      "cell_type": "code",
      "source": [
        "# Make the ANN!\n",
        "# Importing the Keras libraries and packages\n",
        "import keras\n",
        "import tensorflow as tf\n",
        "import numpy as np\n",
        "import pandas as pd\n",
        "import seaborn as sns\n",
        "import matplotlib.pyplot as plt"
      ],
      "metadata": {
        "id": "ZB9lVE96Qe_X"
      },
      "execution_count": null,
      "outputs": []
    },
    {
      "cell_type": "markdown",
      "source": [
        "Xây dựng model"
      ],
      "metadata": {
        "id": "881IdazQd7y-"
      }
    },
    {
      "cell_type": "code",
      "source": [
        "# Initialize Sequential object\n",
        "ann = tf.keras.models.Sequential()\n",
        "\n",
        "# Total no. of Neurons = 6\n",
        "# We will be adding 2 hidden layers in our Neural Network\n",
        "ann.add(tf.keras.layers.Dense(units=10, activation='relu',input_dim = np.shape( X_test )[1]))\n",
        "ann.add(tf.keras.layers.Dense(units=10, activation='relu'))\n",
        "ann.add(tf.keras.layers.Dense(units=10, activation='relu'))\n",
        "ann.add(tf.keras.layers.Dense(units=5, activation='relu'))\n",
        "# Adding Output Later\n",
        "ann.add(tf.keras.layers.Dense(units=1, activation='sigmoid'))\n",
        "\n",
        "# Initializing our Compiler\n",
        "ann.compile(optimizer = 'adam', loss = 'binary_crossentropy', metrics = ['accuracy'])"
      ],
      "metadata": {
        "id": "zU1W2FFgTMk3"
      },
      "execution_count": null,
      "outputs": []
    },
    {
      "cell_type": "code",
      "source": [
        "# Train our model\n",
        "# ann.fit(X_train, y_train, batch_size=128, epochs=150, verbose=1)\n",
        "history = ann.fit(X_train, y_train, epochs=100, batch_size=25, validation_data=(X_val, y_val))\n",
        "# batch size = the number of training examples in one forward/backward pass. The higher the batch size, the more memory space you'll need."
      ],
      "metadata": {
        "colab": {
          "base_uri": "https://localhost:8080/"
        },
        "id": "HcRRKgFxTgg_",
        "outputId": "69677572-0242-4022-8b59-52689ef56a83"
      },
      "execution_count": null,
      "outputs": [
        {
          "output_type": "stream",
          "name": "stdout",
          "text": [
            "Epoch 1/100\n",
            "958/958 [==============================] - 9s 7ms/step - loss: 5.3127 - accuracy: 0.7613 - val_loss: 0.5055 - val_accuracy: 0.7980\n",
            "Epoch 2/100\n",
            "958/958 [==============================] - 8s 8ms/step - loss: 0.5118 - accuracy: 0.7958 - val_loss: 0.5287 - val_accuracy: 0.7980\n",
            "Epoch 3/100\n",
            "958/958 [==============================] - 6s 7ms/step - loss: 0.5106 - accuracy: 0.7905 - val_loss: 0.5417 - val_accuracy: 0.7980\n",
            "Epoch 4/100\n",
            "958/958 [==============================] - 3s 4ms/step - loss: 0.5066 - accuracy: 0.7902 - val_loss: 0.4845 - val_accuracy: 0.7980\n",
            "Epoch 5/100\n",
            "958/958 [==============================] - 3s 3ms/step - loss: 0.5084 - accuracy: 0.7902 - val_loss: 0.5525 - val_accuracy: 0.7980\n",
            "Epoch 6/100\n",
            "958/958 [==============================] - 3s 3ms/step - loss: 0.4884 - accuracy: 0.7915 - val_loss: 0.4678 - val_accuracy: 0.7980\n",
            "Epoch 7/100\n",
            "958/958 [==============================] - 3s 3ms/step - loss: 0.4659 - accuracy: 0.8032 - val_loss: 0.4389 - val_accuracy: 0.8243\n",
            "Epoch 8/100\n",
            "958/958 [==============================] - 3s 3ms/step - loss: 0.4487 - accuracy: 0.8244 - val_loss: 0.4937 - val_accuracy: 0.7991\n",
            "Epoch 9/100\n",
            "958/958 [==============================] - 3s 4ms/step - loss: 0.4551 - accuracy: 0.8185 - val_loss: 0.4301 - val_accuracy: 0.8318\n",
            "Epoch 10/100\n",
            "958/958 [==============================] - 3s 3ms/step - loss: 0.4467 - accuracy: 0.8263 - val_loss: 0.4369 - val_accuracy: 0.8399\n",
            "Epoch 11/100\n",
            "958/958 [==============================] - 3s 4ms/step - loss: 0.4463 - accuracy: 0.8281 - val_loss: 0.4340 - val_accuracy: 0.8395\n",
            "Epoch 12/100\n",
            "958/958 [==============================] - 3s 3ms/step - loss: 0.4477 - accuracy: 0.8260 - val_loss: 0.4457 - val_accuracy: 0.7996\n",
            "Epoch 13/100\n",
            "958/958 [==============================] - 3s 3ms/step - loss: 0.4501 - accuracy: 0.8239 - val_loss: 0.4512 - val_accuracy: 0.8138\n",
            "Epoch 14/100\n",
            "958/958 [==============================] - 3s 3ms/step - loss: 0.4467 - accuracy: 0.8301 - val_loss: 0.4405 - val_accuracy: 0.8226\n",
            "Epoch 15/100\n",
            "958/958 [==============================] - 3s 4ms/step - loss: 0.4465 - accuracy: 0.8287 - val_loss: 0.4292 - val_accuracy: 0.8397\n",
            "Epoch 16/100\n",
            "958/958 [==============================] - 3s 3ms/step - loss: 0.4535 - accuracy: 0.8199 - val_loss: 0.4404 - val_accuracy: 0.8057\n",
            "Epoch 17/100\n",
            "958/958 [==============================] - 3s 4ms/step - loss: 0.4492 - accuracy: 0.8172 - val_loss: 0.4339 - val_accuracy: 0.8134\n",
            "Epoch 18/100\n",
            "958/958 [==============================] - 3s 4ms/step - loss: 0.4463 - accuracy: 0.8210 - val_loss: 0.4307 - val_accuracy: 0.8314\n",
            "Epoch 19/100\n",
            "958/958 [==============================] - 3s 3ms/step - loss: 0.4457 - accuracy: 0.8252 - val_loss: 0.4348 - val_accuracy: 0.8213\n",
            "Epoch 20/100\n",
            "958/958 [==============================] - 3s 3ms/step - loss: 0.4446 - accuracy: 0.8273 - val_loss: 0.4507 - val_accuracy: 0.8331\n",
            "Epoch 21/100\n",
            "958/958 [==============================] - 3s 4ms/step - loss: 0.4444 - accuracy: 0.8284 - val_loss: 0.4301 - val_accuracy: 0.8390\n",
            "Epoch 22/100\n",
            "958/958 [==============================] - 3s 3ms/step - loss: 0.4445 - accuracy: 0.8299 - val_loss: 0.4294 - val_accuracy: 0.8314\n",
            "Epoch 23/100\n",
            "958/958 [==============================] - 3s 3ms/step - loss: 0.4426 - accuracy: 0.8301 - val_loss: 0.4293 - val_accuracy: 0.8311\n",
            "Epoch 24/100\n",
            "958/958 [==============================] - 3s 3ms/step - loss: 0.4412 - accuracy: 0.8312 - val_loss: 0.4341 - val_accuracy: 0.8329\n",
            "Epoch 25/100\n",
            "958/958 [==============================] - 3s 3ms/step - loss: 0.4417 - accuracy: 0.8305 - val_loss: 0.4349 - val_accuracy: 0.8292\n",
            "Epoch 26/100\n",
            "958/958 [==============================] - 3s 4ms/step - loss: 0.4415 - accuracy: 0.8306 - val_loss: 0.4290 - val_accuracy: 0.8314\n",
            "Epoch 27/100\n",
            "958/958 [==============================] - 4s 4ms/step - loss: 0.4401 - accuracy: 0.8310 - val_loss: 0.4277 - val_accuracy: 0.8327\n",
            "Epoch 28/100\n",
            "958/958 [==============================] - 3s 3ms/step - loss: 0.4579 - accuracy: 0.8294 - val_loss: 0.4731 - val_accuracy: 0.8164\n",
            "Epoch 29/100\n",
            "958/958 [==============================] - 3s 3ms/step - loss: 0.4431 - accuracy: 0.8245 - val_loss: 0.4308 - val_accuracy: 0.8311\n",
            "Epoch 30/100\n",
            "958/958 [==============================] - 3s 3ms/step - loss: 0.4386 - accuracy: 0.8295 - val_loss: 0.4273 - val_accuracy: 0.8397\n",
            "Epoch 31/100\n",
            "958/958 [==============================] - 3s 4ms/step - loss: 0.4371 - accuracy: 0.8301 - val_loss: 0.4243 - val_accuracy: 0.8346\n",
            "Epoch 32/100\n",
            "958/958 [==============================] - 3s 3ms/step - loss: 0.4376 - accuracy: 0.8292 - val_loss: 0.4230 - val_accuracy: 0.8355\n",
            "Epoch 33/100\n",
            "958/958 [==============================] - 5s 5ms/step - loss: 0.4362 - accuracy: 0.8294 - val_loss: 0.4215 - val_accuracy: 0.8395\n",
            "Epoch 34/100\n",
            "958/958 [==============================] - 3s 3ms/step - loss: 0.4344 - accuracy: 0.8307 - val_loss: 0.4257 - val_accuracy: 0.8379\n",
            "Epoch 35/100\n",
            "958/958 [==============================] - 3s 3ms/step - loss: 0.4338 - accuracy: 0.8289 - val_loss: 0.4179 - val_accuracy: 0.8397\n",
            "Epoch 36/100\n",
            "958/958 [==============================] - 3s 3ms/step - loss: 0.4340 - accuracy: 0.8277 - val_loss: 0.4267 - val_accuracy: 0.8208\n",
            "Epoch 37/100\n",
            "958/958 [==============================] - 3s 4ms/step - loss: 0.4327 - accuracy: 0.8289 - val_loss: 0.4220 - val_accuracy: 0.8285\n",
            "Epoch 38/100\n",
            "958/958 [==============================] - 4s 4ms/step - loss: 0.4322 - accuracy: 0.8289 - val_loss: 0.4189 - val_accuracy: 0.8379\n",
            "Epoch 39/100\n",
            "958/958 [==============================] - 3s 3ms/step - loss: 0.4311 - accuracy: 0.8311 - val_loss: 0.4172 - val_accuracy: 0.8355\n",
            "Epoch 40/100\n",
            "958/958 [==============================] - 3s 4ms/step - loss: 0.4320 - accuracy: 0.8288 - val_loss: 0.4164 - val_accuracy: 0.8364\n",
            "Epoch 41/100\n",
            "958/958 [==============================] - 3s 3ms/step - loss: 0.4313 - accuracy: 0.8278 - val_loss: 0.4214 - val_accuracy: 0.8307\n",
            "Epoch 42/100\n",
            "958/958 [==============================] - 3s 3ms/step - loss: 0.4348 - accuracy: 0.8254 - val_loss: 0.4251 - val_accuracy: 0.8237\n",
            "Epoch 43/100\n",
            "958/958 [==============================] - 3s 3ms/step - loss: 0.4290 - accuracy: 0.8302 - val_loss: 0.4224 - val_accuracy: 0.8261\n",
            "Epoch 44/100\n",
            "958/958 [==============================] - 3s 4ms/step - loss: 0.4287 - accuracy: 0.8314 - val_loss: 0.4175 - val_accuracy: 0.8327\n",
            "Epoch 45/100\n",
            "958/958 [==============================] - 3s 3ms/step - loss: 0.4277 - accuracy: 0.8310 - val_loss: 0.4131 - val_accuracy: 0.8384\n",
            "Epoch 46/100\n",
            "958/958 [==============================] - 3s 3ms/step - loss: 0.4269 - accuracy: 0.8304 - val_loss: 0.4167 - val_accuracy: 0.8373\n",
            "Epoch 47/100\n",
            "958/958 [==============================] - 3s 4ms/step - loss: 0.4258 - accuracy: 0.8315 - val_loss: 0.4156 - val_accuracy: 0.8406\n",
            "Epoch 48/100\n",
            "958/958 [==============================] - 3s 3ms/step - loss: 0.4286 - accuracy: 0.8283 - val_loss: 0.4176 - val_accuracy: 0.8401\n",
            "Epoch 49/100\n",
            "958/958 [==============================] - 3s 3ms/step - loss: 0.4337 - accuracy: 0.8304 - val_loss: 0.4146 - val_accuracy: 0.8316\n",
            "Epoch 50/100\n",
            "958/958 [==============================] - 3s 3ms/step - loss: 0.4207 - accuracy: 0.8309 - val_loss: 0.4070 - val_accuracy: 0.8388\n",
            "Epoch 51/100\n",
            "958/958 [==============================] - 3s 3ms/step - loss: 0.4174 - accuracy: 0.8311 - val_loss: 0.4123 - val_accuracy: 0.8237\n",
            "Epoch 52/100\n",
            "958/958 [==============================] - 3s 3ms/step - loss: 0.4108 - accuracy: 0.8328 - val_loss: 0.3950 - val_accuracy: 0.8454\n",
            "Epoch 53/100\n",
            "958/958 [==============================] - 3s 3ms/step - loss: 0.4095 - accuracy: 0.8396 - val_loss: 0.4214 - val_accuracy: 0.8371\n",
            "Epoch 54/100\n",
            "958/958 [==============================] - 3s 3ms/step - loss: 0.4139 - accuracy: 0.8367 - val_loss: 0.3943 - val_accuracy: 0.8414\n",
            "Epoch 55/100\n",
            "958/958 [==============================] - 3s 3ms/step - loss: 0.4163 - accuracy: 0.8355 - val_loss: 0.4098 - val_accuracy: 0.8384\n",
            "Epoch 56/100\n",
            "958/958 [==============================] - 3s 3ms/step - loss: 0.4122 - accuracy: 0.8365 - val_loss: 0.4037 - val_accuracy: 0.8364\n",
            "Epoch 57/100\n",
            "958/958 [==============================] - 3s 3ms/step - loss: 0.4146 - accuracy: 0.8360 - val_loss: 0.4211 - val_accuracy: 0.8311\n",
            "Epoch 58/100\n",
            "958/958 [==============================] - 4s 4ms/step - loss: 0.4086 - accuracy: 0.8401 - val_loss: 0.4055 - val_accuracy: 0.8360\n",
            "Epoch 59/100\n",
            "958/958 [==============================] - 3s 3ms/step - loss: 0.4088 - accuracy: 0.8373 - val_loss: 0.4347 - val_accuracy: 0.8432\n",
            "Epoch 60/100\n",
            "958/958 [==============================] - 3s 3ms/step - loss: 0.4138 - accuracy: 0.8351 - val_loss: 0.3988 - val_accuracy: 0.8390\n",
            "Epoch 61/100\n",
            "958/958 [==============================] - 4s 4ms/step - loss: 0.4091 - accuracy: 0.8385 - val_loss: 0.3967 - val_accuracy: 0.8417\n",
            "Epoch 62/100\n",
            "958/958 [==============================] - 3s 3ms/step - loss: 0.4147 - accuracy: 0.8380 - val_loss: 0.4170 - val_accuracy: 0.8366\n",
            "Epoch 63/100\n",
            "958/958 [==============================] - 3s 3ms/step - loss: 0.4133 - accuracy: 0.8367 - val_loss: 0.3967 - val_accuracy: 0.8404\n",
            "Epoch 64/100\n",
            "958/958 [==============================] - 3s 3ms/step - loss: 0.4090 - accuracy: 0.8394 - val_loss: 0.3920 - val_accuracy: 0.8428\n",
            "Epoch 65/100\n",
            "958/958 [==============================] - 3s 3ms/step - loss: 0.4100 - accuracy: 0.8374 - val_loss: 0.3872 - val_accuracy: 0.8447\n",
            "Epoch 66/100\n",
            "958/958 [==============================] - 3s 3ms/step - loss: 0.4069 - accuracy: 0.8392 - val_loss: 0.3903 - val_accuracy: 0.8461\n",
            "Epoch 67/100\n",
            "958/958 [==============================] - 3s 3ms/step - loss: 0.4069 - accuracy: 0.8397 - val_loss: 0.3877 - val_accuracy: 0.8452\n",
            "Epoch 68/100\n",
            "958/958 [==============================] - 3s 3ms/step - loss: 0.4524 - accuracy: 0.7950 - val_loss: 0.3945 - val_accuracy: 0.8445\n",
            "Epoch 69/100\n",
            "958/958 [==============================] - 3s 3ms/step - loss: 0.4414 - accuracy: 0.8290 - val_loss: 0.4593 - val_accuracy: 0.8217\n",
            "Epoch 70/100\n",
            "958/958 [==============================] - 3s 3ms/step - loss: 0.4461 - accuracy: 0.8295 - val_loss: 0.4366 - val_accuracy: 0.8316\n",
            "Epoch 71/100\n",
            "958/958 [==============================] - 3s 4ms/step - loss: 0.4457 - accuracy: 0.8309 - val_loss: 0.4365 - val_accuracy: 0.8355\n",
            "Epoch 72/100\n",
            "958/958 [==============================] - 3s 3ms/step - loss: 0.4439 - accuracy: 0.8328 - val_loss: 0.4342 - val_accuracy: 0.8379\n",
            "Epoch 73/100\n",
            "958/958 [==============================] - 3s 3ms/step - loss: 0.4541 - accuracy: 0.8185 - val_loss: 0.4365 - val_accuracy: 0.8336\n",
            "Epoch 74/100\n",
            "958/958 [==============================] - 3s 3ms/step - loss: 0.4440 - accuracy: 0.8312 - val_loss: 0.4327 - val_accuracy: 0.8379\n",
            "Epoch 75/100\n",
            "958/958 [==============================] - 3s 4ms/step - loss: 0.4501 - accuracy: 0.8265 - val_loss: 0.4329 - val_accuracy: 0.8395\n",
            "Epoch 76/100\n",
            "958/958 [==============================] - 3s 3ms/step - loss: 0.4507 - accuracy: 0.8216 - val_loss: 0.4492 - val_accuracy: 0.8110\n",
            "Epoch 77/100\n",
            "958/958 [==============================] - 3s 3ms/step - loss: 0.4492 - accuracy: 0.8266 - val_loss: 0.4308 - val_accuracy: 0.8401\n",
            "Epoch 78/100\n",
            "958/958 [==============================] - 3s 3ms/step - loss: 0.4504 - accuracy: 0.8230 - val_loss: 0.4309 - val_accuracy: 0.8408\n",
            "Epoch 79/100\n",
            "958/958 [==============================] - 3s 3ms/step - loss: 0.4463 - accuracy: 0.8315 - val_loss: 0.4362 - val_accuracy: 0.8382\n",
            "Epoch 80/100\n",
            "958/958 [==============================] - 4s 4ms/step - loss: 0.4525 - accuracy: 0.8211 - val_loss: 0.4333 - val_accuracy: 0.8393\n",
            "Epoch 81/100\n",
            "958/958 [==============================] - 3s 3ms/step - loss: 0.4528 - accuracy: 0.8290 - val_loss: 0.6903 - val_accuracy: 0.5912\n",
            "Epoch 82/100\n",
            "958/958 [==============================] - 3s 3ms/step - loss: 0.4500 - accuracy: 0.8258 - val_loss: 0.4458 - val_accuracy: 0.8331\n",
            "Epoch 83/100\n",
            "958/958 [==============================] - 3s 3ms/step - loss: 0.4516 - accuracy: 0.8257 - val_loss: 0.4328 - val_accuracy: 0.8162\n",
            "Epoch 84/100\n",
            "958/958 [==============================] - 3s 3ms/step - loss: 0.4217 - accuracy: 0.8317 - val_loss: 0.4033 - val_accuracy: 0.8344\n",
            "Epoch 85/100\n",
            "958/958 [==============================] - 3s 3ms/step - loss: 0.4136 - accuracy: 0.8393 - val_loss: 0.3885 - val_accuracy: 0.8482\n",
            "Epoch 86/100\n",
            "958/958 [==============================] - 3s 4ms/step - loss: 0.4146 - accuracy: 0.8370 - val_loss: 0.4055 - val_accuracy: 0.8401\n",
            "Epoch 87/100\n",
            "958/958 [==============================] - 3s 3ms/step - loss: 0.4469 - accuracy: 0.8108 - val_loss: 0.4464 - val_accuracy: 0.8143\n",
            "Epoch 88/100\n",
            "958/958 [==============================] - 3s 3ms/step - loss: 0.4550 - accuracy: 0.8212 - val_loss: 0.4745 - val_accuracy: 0.8173\n",
            "Epoch 89/100\n",
            "958/958 [==============================] - 3s 3ms/step - loss: 0.4861 - accuracy: 0.8106 - val_loss: 0.4690 - val_accuracy: 0.8204\n",
            "Epoch 90/100\n",
            "958/958 [==============================] - 3s 4ms/step - loss: 0.4580 - accuracy: 0.8218 - val_loss: 0.4321 - val_accuracy: 0.8397\n",
            "Epoch 91/100\n",
            "958/958 [==============================] - 3s 4ms/step - loss: 0.4465 - accuracy: 0.8307 - val_loss: 0.4337 - val_accuracy: 0.8393\n",
            "Epoch 92/100\n",
            "958/958 [==============================] - 3s 3ms/step - loss: 0.4466 - accuracy: 0.8328 - val_loss: 0.4597 - val_accuracy: 0.8057\n",
            "Epoch 93/100\n",
            "958/958 [==============================] - 3s 3ms/step - loss: 0.4711 - accuracy: 0.8034 - val_loss: 0.4470 - val_accuracy: 0.8112\n",
            "Epoch 94/100\n",
            "958/958 [==============================] - 3s 4ms/step - loss: 0.4732 - accuracy: 0.7751 - val_loss: 0.4422 - val_accuracy: 0.8206\n",
            "Epoch 95/100\n",
            "958/958 [==============================] - 3s 3ms/step - loss: 0.4550 - accuracy: 0.8121 - val_loss: 0.4499 - val_accuracy: 0.7985\n",
            "Epoch 96/100\n",
            "958/958 [==============================] - 3s 3ms/step - loss: 0.4558 - accuracy: 0.8082 - val_loss: 0.4561 - val_accuracy: 0.8292\n",
            "Epoch 97/100\n",
            "958/958 [==============================] - 3s 3ms/step - loss: 0.4368 - accuracy: 0.8213 - val_loss: 0.4055 - val_accuracy: 0.8274\n",
            "Epoch 98/100\n",
            "958/958 [==============================] - 4s 4ms/step - loss: 0.4170 - accuracy: 0.8299 - val_loss: 0.3938 - val_accuracy: 0.8467\n",
            "Epoch 99/100\n",
            "958/958 [==============================] - 3s 3ms/step - loss: 0.4433 - accuracy: 0.8068 - val_loss: 0.4589 - val_accuracy: 0.7789\n",
            "Epoch 100/100\n",
            "958/958 [==============================] - 3s 3ms/step - loss: 0.4536 - accuracy: 0.8248 - val_loss: 0.4372 - val_accuracy: 0.8406\n"
          ]
        }
      ]
    },
    {
      "cell_type": "code",
      "source": [
        "history_dict = history.history\n",
        "print(history_dict.keys())"
      ],
      "metadata": {
        "colab": {
          "base_uri": "https://localhost:8080/"
        },
        "id": "n-ODrzCIfZo-",
        "outputId": "9e2c161b-dce6-40dc-f951-145e712e35c7"
      },
      "execution_count": null,
      "outputs": [
        {
          "output_type": "stream",
          "name": "stdout",
          "text": [
            "dict_keys(['loss', 'accuracy', 'val_loss', 'val_accuracy'])\n"
          ]
        }
      ]
    },
    {
      "cell_type": "markdown",
      "source": [
        "The below snippet plots the graph of the training loss vs. validation loss over the number of epochs"
      ],
      "metadata": {
        "id": "p09u7K_HeIqN"
      }
    },
    {
      "cell_type": "code",
      "source": [
        "loss_train = history.history['loss']\n",
        "loss_val = history.history['val_loss']\n",
        "epochs = range(1,101)\n",
        "plt.plot(epochs, loss_train, 'g', label='Training loss')\n",
        "plt.plot(epochs, loss_val, 'b', label='validation loss')\n",
        "plt.title('Training and Validation loss')\n",
        "plt.xlabel('Epochs')\n",
        "plt.ylabel('Loss')\n",
        "plt.legend()\n",
        "plt.show()"
      ],
      "metadata": {
        "colab": {
          "base_uri": "https://localhost:8080/",
          "height": 295
        },
        "id": "1ovBNaYMc5hu",
        "outputId": "e74ba2f1-b93f-48a3-ed9b-bebaec062cf3"
      },
      "execution_count": null,
      "outputs": [
        {
          "output_type": "display_data",
          "data": {
            "text/plain": [
              "<Figure size 432x288 with 1 Axes>"
            ],
            "image/png": "[encoded data removed]"
          },
          "metadata": {
            "needs_background": "light"
          }
        }
      ]
    },
    {
      "cell_type": "markdown",
      "source": [
        "The following snippet plots the graph of training accuracy vs. validation accuracy over the number of epochs."
      ],
      "metadata": {
        "id": "WvqfTsIpeYkF"
      }
    },
    {
      "cell_type": "code",
      "source": [
        "loss_train = history.history['accuracy']\n",
        "loss_val = history.history['val_accuracy']\n",
        "epochs = range(1,101)\n",
        "plt.plot(epochs, loss_train, 'g', label='Training accuracy')\n",
        "plt.plot(epochs, loss_val, 'b', label='validation accuracy')\n",
        "plt.title('Training and Validation accuracy')\n",
        "plt.xlabel('Epochs')\n",
        "plt.ylabel('Accuracy')\n",
        "plt.legend()\n",
        "plt.show()"
      ],
      "metadata": {
        "colab": {
          "base_uri": "https://localhost:8080/",
          "height": 295
        },
        "id": "b6ld_gFLdPs_",
        "outputId": "aa4120ad-8647-4e92-e362-843b6a5774fc"
      },
      "execution_count": null,
      "outputs": [
        {
          "output_type": "display_data",
          "data": {
            "text/plain": [
              "<Figure size 432x288 with 1 Axes>"
            ],
            "image/png": "[encoded data removed]"
          },
          "metadata": {
            "needs_background": "light"
          }
        }
      ]
    },
    {
      "cell_type": "code",
      "source": [
        "y_pred = ann.predict(X_test)\n",
        "y_pred = (y_pred > 0.5)   # This will predict output values as 'True' and 'False'"
      ],
      "metadata": {
        "colab": {
          "base_uri": "https://localhost:8080/"
        },
        "id": "uGCCUiBqUOXv",
        "outputId": "277b9f75-0655-40e5-baeb-3251fa692608"
      },
      "execution_count": null,
      "outputs": [
        {
          "output_type": "stream",
          "name": "stdout",
          "text": [
            "47/47 [==============================] - 0s 1ms/step\n"
          ]
        }
      ]
    },
    {
      "cell_type": "code",
      "source": [
        "# Convert np array to Series\n",
        "my_list = map(lambda x: x[0], y_pred)\n",
        "y_pred = pd.Series(my_list)\n",
        "\n",
        "# Convert True/False values back to 1 and 0s\n",
        "y_prediction = y_pred.astype(int)"
      ],
      "metadata": {
        "id": "1bst1v8vUPmF"
      },
      "execution_count": null,
      "outputs": []
    },
    {
      "cell_type": "code",
      "source": [
        "from sklearn.metrics import confusion_matrix, accuracy_score\n",
        "cm = confusion_matrix(y_test, y_prediction)\n",
        "print(cm)\n",
        "accuracy_score(y_test, y_prediction)"
      ],
      "metadata": {
        "colab": {
          "base_uri": "https://localhost:8080/"
        },
        "id": "xus8R8RQUWWe",
        "outputId": "2462870d-d584-4137-9768-05e066f6e8be"
      },
      "execution_count": null,
      "outputs": [
        {
          "output_type": "stream",
          "name": "stdout",
          "text": [
            "[[1165   49]\n",
            " [ 178  108]]\n"
          ]
        },
        {
          "output_type": "execute_result",
          "data": {
            "text/plain": [
              "0.8486666666666667"
            ]
          },
          "metadata": {},
          "execution_count": 17
        }
      ]
    },
    {
      "cell_type": "code",
      "source": [
        "sns.heatmap(cm, cmap=\"Blues\", annot=True, fmt='g')"
      ],
      "metadata": {
        "colab": {
          "base_uri": "https://localhost:8080/",
          "height": 283
        },
        "id": "RPsRE0ubUeIW",
        "outputId": "1688883f-297b-4f91-cf74-88a970882b36"
      },
      "execution_count": null,
      "outputs": [
        {
          "output_type": "execute_result",
          "data": {
            "text/plain": [
              "<matplotlib.axes._subplots.AxesSubplot at 0x7f9c20380d30>"
            ]
          },
          "metadata": {},
          "execution_count": 18
        },
        {
          "output_type": "display_data",
          "data": {
            "text/plain": [
              "<Figure size 432x288 with 2 Axes>"
            ],
            "image/png": "[encoded data removed]"
          },
          "metadata": {
            "needs_background": "light"
          }
        }
      ]
    }
  ]
}