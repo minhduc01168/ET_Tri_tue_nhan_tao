{
  "nbformat": 4,
  "nbformat_minor": 0,
  "metadata": {
    "colab": {
      "provenance": [],
      "authorship_tag": "ABX9TyPwKJw5Amc4SnGn0E98k1/t",
      "include_colab_link": true
    },
    "kernelspec": {
      "name": "python3",
      "display_name": "Python 3"
    },
    "language_info": {
      "name": "python"
    },
    "accelerator": "GPU",
    "gpuClass": "standard"
  },
  "cells": [
    {
      "cell_type": "markdown",
      "metadata": {
        "id": "view-in-github",
        "colab_type": "text"
      },
      "source": [
        "<a href=\"https://colab.research.google.com/github/minhduc01168/ET_Tri_tue_nhan_tao/blob/master/BTL_AI_ANN.ipynb\" target=\"_parent\"><img src=\"https://colab.research.google.com/assets/colab-badge.svg\" alt=\"Open In Colab\"/></a>"
      ]
    },
    {
      "cell_type": "code",
      "execution_count": null,
      "metadata": {
        "id": "d00VAuioL7KO"
      },
      "outputs": [],
      "source": [
        "# Problem Description\n",
        "# ANN.py\n",
        "# Description :\n",
        "# Predict whether the customer is creditable or not .\n",
        "# datasets :Bộ dữ liệu sẽ được sử dụng được tìm thấy trên Kaggle và nó chứa dữ liệu cho 32.581 người vay và 11 biến \n",
        "# Artificial Neural Network\n",
        "# Special requirements or dependencies :\n",
        "# None ; Tested in Mac OS X with Python \n",
        "# Compilation and execution :\n",
        "# Compilation not necessary\n",
        "# Execution takes approx 8 -10 minutes on most modern ←- hardware .\n",
        "# For the execution in terminal\n",
        "# python ANN .py"
      ]
    },
    {
      "cell_type": "code",
      "source": [
        "# Import the library\n",
        "import pandas as pd\n",
        "import numpy as np\n",
        "import matplotlib . pyplot as plt"
      ],
      "metadata": {
        "id": "Rcriv0yBMeEx"
      },
      "execution_count": null,
      "outputs": []
    },
    {
      "cell_type": "code",
      "source": [
        "from google.colab import drive\n",
        "drive.mount('/content/drive')"
      ],
      "metadata": {
        "colab": {
          "base_uri": "https://localhost:8080/"
        },
        "id": "1fW0t8l8NviQ",
        "outputId": "10528257-5cfc-4082-fa84-3554dce0d725"
      },
      "execution_count": null,
      "outputs": [
        {
          "output_type": "stream",
          "name": "stdout",
          "text": [
            "Mounted at /content/drive\n"
          ]
        }
      ]
    },
    {
      "cell_type": "code",
      "source": [
        "# Import the dataset\n",
        "df = pd.read_csv('/content/drive/My Drive/AI_ML_DS/AI/BTL_AI/credit_risk_dataset_SMOTE.csv')"
      ],
      "metadata": {
        "id": "_Al2waDCNVlg"
      },
      "execution_count": null,
      "outputs": []
    },
    {
      "cell_type": "code",
      "source": [
        "X = pd.DataFrame(df)\n",
        "X = X.drop(['loan_status'], axis=1)\n",
        "y = df[['loan_status']]\n",
        "X.info()"
      ],
      "metadata": {
        "colab": {
          "base_uri": "https://localhost:8080/"
        },
        "id": "zWZTkGl6QbIw",
        "outputId": "73ea7684-7cd4-4af4-8519-afaf5d20400a"
      },
      "execution_count": null,
      "outputs": [
        {
          "output_type": "stream",
          "name": "stdout",
          "text": [
            "<class 'pandas.core.frame.DataFrame'>\n",
            "RangeIndex: 47582 entries, 0 to 47581\n",
            "Data columns (total 11 columns):\n",
            " #   Column                      Non-Null Count  Dtype  \n",
            "---  ------                      --------------  -----  \n",
            " 0   person_age                  47582 non-null  float64\n",
            " 1   person_income               47582 non-null  float64\n",
            " 2   person_home_ownership       47582 non-null  float64\n",
            " 3   person_emp_length           47582 non-null  float64\n",
            " 4   loan_intent                 47582 non-null  float64\n",
            " 5   loan_grade                  47582 non-null  float64\n",
            " 6   loan_amnt                   47582 non-null  float64\n",
            " 7   loan_int_rate               47582 non-null  float64\n",
            " 8   loan_percent_income         47582 non-null  float64\n",
            " 9   cb_person_default_on_file   47582 non-null  float64\n",
            " 10  cb_person_cred_hist_length  47582 non-null  float64\n",
            "dtypes: float64(11)\n",
            "memory usage: 4.0 MB\n"
          ]
        }
      ]
    },
    {
      "cell_type": "markdown",
      "source": [
        "Tập dữ liệu được phân chia: \n",
        "* Training set: 64% \n",
        "* Validation set: 16%\n",
        "* Test set: 20%"
      ],
      "metadata": {
        "id": "-VjUMQZTdWp2"
      }
    },
    {
      "cell_type": "code",
      "source": [
        "# Data Preprocessing\n",
        "from sklearn.model_selection import train_test_split\n",
        "# X_train , X_test , y_train , y_test = train_test_split (X, y, test_size = 0.2)\n",
        "X_train, X_test, y_train, y_test = train_test_split(X, y, test_size=0.05, random_state=1)\n",
        "X_train, X_val, y_train, y_val = train_test_split(X_train, y_train, test_size=0.16, random_state=1)"
      ],
      "metadata": {
        "id": "eNnjYmKEN3qg"
      },
      "execution_count": null,
      "outputs": []
    },
    {
      "cell_type": "code",
      "source": [
        "print(\"-----------------------\")\n",
        "print(X_train.shape)\n",
        "print(y_train.shape)\n",
        "print(\"-----------------------\")\n",
        "print(X_test.shape)\n",
        "print(y_test.shape)\n",
        "print(\"-----------------------\")"
      ],
      "metadata": {
        "colab": {
          "base_uri": "https://localhost:8080/"
        },
        "id": "-DyL9gTnTLN2",
        "outputId": "5f1d757d-b9cb-4209-d97a-bbb151dfaf2a"
      },
      "execution_count": null,
      "outputs": [
        {
          "output_type": "stream",
          "name": "stdout",
          "text": [
            "-----------------------\n",
            "(37969, 11)\n",
            "(37969, 1)\n",
            "-----------------------\n",
            "(2380, 11)\n",
            "(2380, 1)\n",
            "-----------------------\n"
          ]
        }
      ]
    },
    {
      "cell_type": "code",
      "source": [
        "np.shape( X_test )[1]"
      ],
      "metadata": {
        "colab": {
          "base_uri": "https://localhost:8080/"
        },
        "id": "nq_oJz7jf97I",
        "outputId": "6c57dc9b-4aa8-4dc1-d037-59bcdb9f2830"
      },
      "execution_count": null,
      "outputs": [
        {
          "output_type": "execute_result",
          "data": {
            "text/plain": [
              "11"
            ]
          },
          "metadata": {},
          "execution_count": 8
        }
      ]
    },
    {
      "cell_type": "code",
      "source": [
        "# Make the ANN!\n",
        "# Importing the Keras libraries and packages\n",
        "import keras\n",
        "import tensorflow as tf\n",
        "import numpy as np\n",
        "import pandas as pd\n",
        "import seaborn as sns\n",
        "import matplotlib.pyplot as plt"
      ],
      "metadata": {
        "id": "ZB9lVE96Qe_X"
      },
      "execution_count": null,
      "outputs": []
    },
    {
      "cell_type": "markdown",
      "source": [
        "Xây dựng model"
      ],
      "metadata": {
        "id": "881IdazQd7y-"
      }
    },
    {
      "cell_type": "code",
      "source": [
        "# Initialize Sequential object\n",
        "ann = tf.keras.models.Sequential()\n",
        "\n",
        "# Total no. of Neurons = 6\n",
        "# We will be adding 2 hidden layers in our Neural Network\n",
        "ann.add(tf.keras.layers.Dense(units=11, activation='relu',input_dim = np.shape( X_test )[1]))\n",
        "ann.add(tf.keras.layers.Dense(units=25, activation='relu'))\n",
        "ann.add(tf.keras.layers.Dense(units=10, activation='relu'))\n",
        "ann.add(tf.keras.layers.Dense(units=5, activation='relu'))\n",
        "# Adding Output Later\n",
        "ann.add(tf.keras.layers.Dense(units=1, activation='sigmoid'))\n",
        "\n",
        "# Initializing our Compiler\n",
        "ann.compile(optimizer = 'adam', loss = 'binary_crossentropy', metrics = ['accuracy'])"
      ],
      "metadata": {
        "id": "zU1W2FFgTMk3"
      },
      "execution_count": null,
      "outputs": []
    },
    {
      "cell_type": "code",
      "source": [
        "# Train our model\n",
        "# ann.fit(X_train, y_train, batch_size=128, epochs=150, verbose=1)\n",
        "history = ann.fit(X_train, y_train, epochs=100, batch_size=25, validation_data=(X_val, y_val))\n",
        "# batch size = the number of training examples in one forward/backward pass. The higher the batch size, the more memory space you'll need."
      ],
      "metadata": {
        "colab": {
          "base_uri": "https://localhost:8080/"
        },
        "id": "HcRRKgFxTgg_",
        "outputId": "23c51574-e2f0-48f1-fb41-2f601dab9bdc"
      },
      "execution_count": null,
      "outputs": [
        {
          "output_type": "stream",
          "name": "stdout",
          "text": [
            "Epoch 1/100\n",
            "1519/1519 [==============================] - 8s 4ms/step - loss: 0.5089 - accuracy: 0.7539 - val_loss: 0.4666 - val_accuracy: 0.7831\n",
            "Epoch 2/100\n",
            "1519/1519 [==============================] - 5s 3ms/step - loss: 0.4527 - accuracy: 0.7923 - val_loss: 0.4485 - val_accuracy: 0.7940\n",
            "Epoch 3/100\n",
            "1519/1519 [==============================] - 5s 3ms/step - loss: 0.4406 - accuracy: 0.7963 - val_loss: 0.4417 - val_accuracy: 0.7926\n",
            "Epoch 4/100\n",
            "1519/1519 [==============================] - 5s 3ms/step - loss: 0.4315 - accuracy: 0.7992 - val_loss: 0.4337 - val_accuracy: 0.7987\n",
            "Epoch 5/100\n",
            "1519/1519 [==============================] - 5s 3ms/step - loss: 0.4225 - accuracy: 0.8027 - val_loss: 0.4282 - val_accuracy: 0.7977\n",
            "Epoch 6/100\n",
            "1519/1519 [==============================] - 5s 3ms/step - loss: 0.4143 - accuracy: 0.8064 - val_loss: 0.4144 - val_accuracy: 0.8042\n",
            "Epoch 7/100\n",
            "1519/1519 [==============================] - 6s 4ms/step - loss: 0.4056 - accuracy: 0.8106 - val_loss: 0.4077 - val_accuracy: 0.8102\n",
            "Epoch 8/100\n",
            "1519/1519 [==============================] - 5s 3ms/step - loss: 0.3974 - accuracy: 0.8156 - val_loss: 0.3999 - val_accuracy: 0.8124\n",
            "Epoch 9/100\n",
            "1519/1519 [==============================] - 5s 3ms/step - loss: 0.3908 - accuracy: 0.8168 - val_loss: 0.3975 - val_accuracy: 0.8154\n",
            "Epoch 10/100\n",
            "1519/1519 [==============================] - 5s 4ms/step - loss: 0.3885 - accuracy: 0.8196 - val_loss: 0.4005 - val_accuracy: 0.8160\n",
            "Epoch 11/100\n",
            "1519/1519 [==============================] - 5s 3ms/step - loss: 0.3849 - accuracy: 0.8218 - val_loss: 0.3899 - val_accuracy: 0.8215\n",
            "Epoch 12/100\n",
            "1519/1519 [==============================] - 5s 3ms/step - loss: 0.3822 - accuracy: 0.8233 - val_loss: 0.3838 - val_accuracy: 0.8233\n",
            "Epoch 13/100\n",
            "1519/1519 [==============================] - 5s 3ms/step - loss: 0.3799 - accuracy: 0.8237 - val_loss: 0.3871 - val_accuracy: 0.8210\n",
            "Epoch 14/100\n",
            "1519/1519 [==============================] - 5s 3ms/step - loss: 0.3780 - accuracy: 0.8270 - val_loss: 0.3979 - val_accuracy: 0.8196\n",
            "Epoch 15/100\n",
            "1519/1519 [==============================] - 5s 3ms/step - loss: 0.3750 - accuracy: 0.8268 - val_loss: 0.3872 - val_accuracy: 0.8237\n",
            "Epoch 16/100\n",
            "1519/1519 [==============================] - 5s 3ms/step - loss: 0.3732 - accuracy: 0.8272 - val_loss: 0.3846 - val_accuracy: 0.8252\n",
            "Epoch 17/100\n",
            "1519/1519 [==============================] - 5s 3ms/step - loss: 0.3718 - accuracy: 0.8284 - val_loss: 0.3792 - val_accuracy: 0.8207\n",
            "Epoch 18/100\n",
            "1519/1519 [==============================] - 5s 3ms/step - loss: 0.3710 - accuracy: 0.8271 - val_loss: 0.3852 - val_accuracy: 0.8217\n",
            "Epoch 19/100\n",
            "1519/1519 [==============================] - 5s 3ms/step - loss: 0.3684 - accuracy: 0.8292 - val_loss: 0.3732 - val_accuracy: 0.8272\n",
            "Epoch 20/100\n",
            "1519/1519 [==============================] - 5s 3ms/step - loss: 0.3673 - accuracy: 0.8294 - val_loss: 0.3777 - val_accuracy: 0.8232\n",
            "Epoch 21/100\n",
            "1519/1519 [==============================] - 5s 3ms/step - loss: 0.3672 - accuracy: 0.8307 - val_loss: 0.3761 - val_accuracy: 0.8254\n",
            "Epoch 22/100\n",
            "1519/1519 [==============================] - 5s 3ms/step - loss: 0.3639 - accuracy: 0.8300 - val_loss: 0.3692 - val_accuracy: 0.8277\n",
            "Epoch 23/100\n",
            "1519/1519 [==============================] - 5s 3ms/step - loss: 0.3632 - accuracy: 0.8310 - val_loss: 0.3767 - val_accuracy: 0.8270\n",
            "Epoch 24/100\n",
            "1519/1519 [==============================] - 5s 3ms/step - loss: 0.3621 - accuracy: 0.8311 - val_loss: 0.3856 - val_accuracy: 0.8221\n",
            "Epoch 25/100\n",
            "1519/1519 [==============================] - 5s 3ms/step - loss: 0.3631 - accuracy: 0.8309 - val_loss: 0.3799 - val_accuracy: 0.8262\n",
            "Epoch 26/100\n",
            "1519/1519 [==============================] - 5s 3ms/step - loss: 0.3591 - accuracy: 0.8328 - val_loss: 0.3725 - val_accuracy: 0.8259\n",
            "Epoch 27/100\n",
            "1519/1519 [==============================] - 5s 3ms/step - loss: 0.3612 - accuracy: 0.8312 - val_loss: 0.3757 - val_accuracy: 0.8243\n",
            "Epoch 28/100\n",
            "1519/1519 [==============================] - 5s 3ms/step - loss: 0.3597 - accuracy: 0.8323 - val_loss: 0.3683 - val_accuracy: 0.8276\n",
            "Epoch 29/100\n",
            "1519/1519 [==============================] - 5s 3ms/step - loss: 0.3580 - accuracy: 0.8326 - val_loss: 0.3679 - val_accuracy: 0.8273\n",
            "Epoch 30/100\n",
            "1519/1519 [==============================] - 5s 3ms/step - loss: 0.3576 - accuracy: 0.8317 - val_loss: 0.3673 - val_accuracy: 0.8279\n",
            "Epoch 31/100\n",
            "1519/1519 [==============================] - 5s 3ms/step - loss: 0.3569 - accuracy: 0.8332 - val_loss: 0.3696 - val_accuracy: 0.8269\n",
            "Epoch 32/100\n",
            "1519/1519 [==============================] - 5s 3ms/step - loss: 0.3566 - accuracy: 0.8327 - val_loss: 0.3708 - val_accuracy: 0.8283\n",
            "Epoch 33/100\n",
            "1519/1519 [==============================] - 5s 3ms/step - loss: 0.3562 - accuracy: 0.8312 - val_loss: 0.3671 - val_accuracy: 0.8299\n",
            "Epoch 34/100\n",
            "1519/1519 [==============================] - 5s 3ms/step - loss: 0.3555 - accuracy: 0.8334 - val_loss: 0.3647 - val_accuracy: 0.8288\n",
            "Epoch 35/100\n",
            "1519/1519 [==============================] - 5s 3ms/step - loss: 0.3555 - accuracy: 0.8328 - val_loss: 0.3666 - val_accuracy: 0.8295\n",
            "Epoch 36/100\n",
            "1519/1519 [==============================] - 5s 3ms/step - loss: 0.3529 - accuracy: 0.8344 - val_loss: 0.3642 - val_accuracy: 0.8305\n",
            "Epoch 37/100\n",
            "1519/1519 [==============================] - 5s 3ms/step - loss: 0.3537 - accuracy: 0.8333 - val_loss: 0.3633 - val_accuracy: 0.8305\n",
            "Epoch 38/100\n",
            "1519/1519 [==============================] - 5s 3ms/step - loss: 0.3534 - accuracy: 0.8337 - val_loss: 0.3650 - val_accuracy: 0.8308\n",
            "Epoch 39/100\n",
            "1519/1519 [==============================] - 5s 3ms/step - loss: 0.3527 - accuracy: 0.8340 - val_loss: 0.3677 - val_accuracy: 0.8286\n",
            "Epoch 40/100\n",
            "1519/1519 [==============================] - 5s 3ms/step - loss: 0.3536 - accuracy: 0.8326 - val_loss: 0.3646 - val_accuracy: 0.8284\n",
            "Epoch 41/100\n",
            "1519/1519 [==============================] - 5s 3ms/step - loss: 0.3508 - accuracy: 0.8351 - val_loss: 0.3676 - val_accuracy: 0.8301\n",
            "Epoch 42/100\n",
            "1519/1519 [==============================] - 5s 3ms/step - loss: 0.3507 - accuracy: 0.8356 - val_loss: 0.3630 - val_accuracy: 0.8335\n",
            "Epoch 43/100\n",
            "1519/1519 [==============================] - 5s 3ms/step - loss: 0.3504 - accuracy: 0.8346 - val_loss: 0.3632 - val_accuracy: 0.8265\n",
            "Epoch 44/100\n",
            "1519/1519 [==============================] - 5s 3ms/step - loss: 0.3500 - accuracy: 0.8376 - val_loss: 0.3631 - val_accuracy: 0.8298\n",
            "Epoch 45/100\n",
            "1519/1519 [==============================] - 5s 3ms/step - loss: 0.3488 - accuracy: 0.8351 - val_loss: 0.3753 - val_accuracy: 0.8247\n",
            "Epoch 46/100\n",
            "1519/1519 [==============================] - 5s 4ms/step - loss: 0.3498 - accuracy: 0.8349 - val_loss: 0.3623 - val_accuracy: 0.8293\n",
            "Epoch 47/100\n",
            "1519/1519 [==============================] - 5s 3ms/step - loss: 0.3493 - accuracy: 0.8357 - val_loss: 0.3690 - val_accuracy: 0.8272\n",
            "Epoch 48/100\n",
            "1519/1519 [==============================] - 5s 3ms/step - loss: 0.3483 - accuracy: 0.8364 - val_loss: 0.3619 - val_accuracy: 0.8311\n",
            "Epoch 49/100\n",
            "1519/1519 [==============================] - 5s 3ms/step - loss: 0.3493 - accuracy: 0.8354 - val_loss: 0.3621 - val_accuracy: 0.8326\n",
            "Epoch 50/100\n",
            "1519/1519 [==============================] - 5s 3ms/step - loss: 0.3474 - accuracy: 0.8354 - val_loss: 0.3638 - val_accuracy: 0.8311\n",
            "Epoch 51/100\n",
            "1519/1519 [==============================] - 5s 3ms/step - loss: 0.3478 - accuracy: 0.8361 - val_loss: 0.3663 - val_accuracy: 0.8288\n",
            "Epoch 52/100\n",
            "1519/1519 [==============================] - 5s 3ms/step - loss: 0.3466 - accuracy: 0.8362 - val_loss: 0.3712 - val_accuracy: 0.8286\n",
            "Epoch 53/100\n",
            "1519/1519 [==============================] - 5s 3ms/step - loss: 0.3467 - accuracy: 0.8361 - val_loss: 0.3588 - val_accuracy: 0.8313\n",
            "Epoch 54/100\n",
            "1519/1519 [==============================] - 6s 4ms/step - loss: 0.3463 - accuracy: 0.8358 - val_loss: 0.3734 - val_accuracy: 0.8304\n",
            "Epoch 55/100\n",
            "1519/1519 [==============================] - 5s 3ms/step - loss: 0.3458 - accuracy: 0.8348 - val_loss: 0.3696 - val_accuracy: 0.8280\n",
            "Epoch 56/100\n",
            "1519/1519 [==============================] - 5s 3ms/step - loss: 0.3448 - accuracy: 0.8368 - val_loss: 0.3745 - val_accuracy: 0.8247\n",
            "Epoch 57/100\n",
            "1519/1519 [==============================] - 5s 3ms/step - loss: 0.3454 - accuracy: 0.8361 - val_loss: 0.3616 - val_accuracy: 0.8315\n",
            "Epoch 58/100\n",
            "1519/1519 [==============================] - 5s 3ms/step - loss: 0.3448 - accuracy: 0.8368 - val_loss: 0.3590 - val_accuracy: 0.8301\n",
            "Epoch 59/100\n",
            "1519/1519 [==============================] - 5s 3ms/step - loss: 0.3429 - accuracy: 0.8383 - val_loss: 0.3597 - val_accuracy: 0.8328\n",
            "Epoch 60/100\n",
            "1519/1519 [==============================] - 5s 3ms/step - loss: 0.3444 - accuracy: 0.8364 - val_loss: 0.3599 - val_accuracy: 0.8327\n",
            "Epoch 61/100\n",
            "1519/1519 [==============================] - 5s 3ms/step - loss: 0.3425 - accuracy: 0.8375 - val_loss: 0.3634 - val_accuracy: 0.8276\n",
            "Epoch 62/100\n",
            "1519/1519 [==============================] - 5s 3ms/step - loss: 0.3427 - accuracy: 0.8382 - val_loss: 0.3653 - val_accuracy: 0.8351\n",
            "Epoch 63/100\n",
            "1519/1519 [==============================] - 5s 3ms/step - loss: 0.3426 - accuracy: 0.8381 - val_loss: 0.3632 - val_accuracy: 0.8308\n",
            "Epoch 64/100\n",
            "1519/1519 [==============================] - 5s 4ms/step - loss: 0.3425 - accuracy: 0.8375 - val_loss: 0.3577 - val_accuracy: 0.8323\n",
            "Epoch 65/100\n",
            "1519/1519 [==============================] - 5s 3ms/step - loss: 0.3420 - accuracy: 0.8390 - val_loss: 0.3706 - val_accuracy: 0.8305\n",
            "Epoch 66/100\n",
            "1519/1519 [==============================] - 5s 3ms/step - loss: 0.3420 - accuracy: 0.8377 - val_loss: 0.3634 - val_accuracy: 0.8312\n",
            "Epoch 67/100\n",
            "1519/1519 [==============================] - 5s 3ms/step - loss: 0.3410 - accuracy: 0.8379 - val_loss: 0.3545 - val_accuracy: 0.8373\n",
            "Epoch 68/100\n",
            "1519/1519 [==============================] - 5s 3ms/step - loss: 0.3395 - accuracy: 0.8394 - val_loss: 0.3535 - val_accuracy: 0.8334\n",
            "Epoch 69/100\n",
            "1519/1519 [==============================] - 5s 3ms/step - loss: 0.3402 - accuracy: 0.8407 - val_loss: 0.3575 - val_accuracy: 0.8311\n",
            "Epoch 70/100\n",
            "1519/1519 [==============================] - 5s 3ms/step - loss: 0.3400 - accuracy: 0.8392 - val_loss: 0.3599 - val_accuracy: 0.8302\n",
            "Epoch 71/100\n",
            "1519/1519 [==============================] - 5s 3ms/step - loss: 0.3392 - accuracy: 0.8402 - val_loss: 0.3536 - val_accuracy: 0.8376\n",
            "Epoch 72/100\n",
            "1519/1519 [==============================] - 5s 3ms/step - loss: 0.3394 - accuracy: 0.8393 - val_loss: 0.3530 - val_accuracy: 0.8358\n",
            "Epoch 73/100\n",
            "1519/1519 [==============================] - 5s 3ms/step - loss: 0.3377 - accuracy: 0.8405 - val_loss: 0.3543 - val_accuracy: 0.8393\n",
            "Epoch 74/100\n",
            "1519/1519 [==============================] - 5s 3ms/step - loss: 0.3381 - accuracy: 0.8402 - val_loss: 0.3540 - val_accuracy: 0.8359\n",
            "Epoch 75/100\n",
            "1519/1519 [==============================] - 5s 3ms/step - loss: 0.3372 - accuracy: 0.8395 - val_loss: 0.3630 - val_accuracy: 0.8330\n",
            "Epoch 76/100\n",
            "1519/1519 [==============================] - 5s 3ms/step - loss: 0.3370 - accuracy: 0.8413 - val_loss: 0.3566 - val_accuracy: 0.8353\n",
            "Epoch 77/100\n",
            "1519/1519 [==============================] - 5s 3ms/step - loss: 0.3371 - accuracy: 0.8411 - val_loss: 0.3653 - val_accuracy: 0.8302\n",
            "Epoch 78/100\n",
            "1519/1519 [==============================] - 5s 3ms/step - loss: 0.3370 - accuracy: 0.8406 - val_loss: 0.3525 - val_accuracy: 0.8341\n",
            "Epoch 79/100\n",
            "1519/1519 [==============================] - 5s 3ms/step - loss: 0.3368 - accuracy: 0.8423 - val_loss: 0.3536 - val_accuracy: 0.8380\n",
            "Epoch 80/100\n",
            "1519/1519 [==============================] - 5s 3ms/step - loss: 0.3355 - accuracy: 0.8411 - val_loss: 0.3685 - val_accuracy: 0.8277\n",
            "Epoch 81/100\n",
            "1519/1519 [==============================] - 5s 3ms/step - loss: 0.3360 - accuracy: 0.8409 - val_loss: 0.3591 - val_accuracy: 0.8366\n",
            "Epoch 82/100\n",
            "1519/1519 [==============================] - 5s 3ms/step - loss: 0.3344 - accuracy: 0.8424 - val_loss: 0.3521 - val_accuracy: 0.8388\n",
            "Epoch 83/100\n",
            "1519/1519 [==============================] - 5s 3ms/step - loss: 0.3353 - accuracy: 0.8412 - val_loss: 0.3622 - val_accuracy: 0.8330\n",
            "Epoch 84/100\n",
            "1519/1519 [==============================] - 5s 3ms/step - loss: 0.3354 - accuracy: 0.8430 - val_loss: 0.3643 - val_accuracy: 0.8298\n",
            "Epoch 85/100\n",
            "1519/1519 [==============================] - 5s 3ms/step - loss: 0.3343 - accuracy: 0.8424 - val_loss: 0.3522 - val_accuracy: 0.8360\n",
            "Epoch 86/100\n",
            "1519/1519 [==============================] - 5s 3ms/step - loss: 0.3343 - accuracy: 0.8411 - val_loss: 0.3509 - val_accuracy: 0.8373\n",
            "Epoch 87/100\n",
            "1519/1519 [==============================] - 5s 3ms/step - loss: 0.3327 - accuracy: 0.8429 - val_loss: 0.3528 - val_accuracy: 0.8376\n",
            "Epoch 88/100\n",
            "1519/1519 [==============================] - 5s 3ms/step - loss: 0.3326 - accuracy: 0.8433 - val_loss: 0.3536 - val_accuracy: 0.8349\n",
            "Epoch 89/100\n",
            "1519/1519 [==============================] - 5s 3ms/step - loss: 0.3324 - accuracy: 0.8418 - val_loss: 0.3549 - val_accuracy: 0.8344\n",
            "Epoch 90/100\n",
            "1519/1519 [==============================] - 5s 3ms/step - loss: 0.3325 - accuracy: 0.8419 - val_loss: 0.3580 - val_accuracy: 0.8374\n",
            "Epoch 91/100\n",
            "1519/1519 [==============================] - 5s 3ms/step - loss: 0.3339 - accuracy: 0.8407 - val_loss: 0.3564 - val_accuracy: 0.8377\n",
            "Epoch 92/100\n",
            "1519/1519 [==============================] - 5s 3ms/step - loss: 0.3330 - accuracy: 0.8435 - val_loss: 0.3532 - val_accuracy: 0.8342\n",
            "Epoch 93/100\n",
            "1519/1519 [==============================] - 5s 4ms/step - loss: 0.3321 - accuracy: 0.8413 - val_loss: 0.3487 - val_accuracy: 0.8377\n",
            "Epoch 94/100\n",
            "1519/1519 [==============================] - 5s 3ms/step - loss: 0.3310 - accuracy: 0.8434 - val_loss: 0.3582 - val_accuracy: 0.8366\n",
            "Epoch 95/100\n",
            "1519/1519 [==============================] - 5s 3ms/step - loss: 0.3318 - accuracy: 0.8410 - val_loss: 0.3490 - val_accuracy: 0.8377\n",
            "Epoch 96/100\n",
            "1519/1519 [==============================] - 5s 3ms/step - loss: 0.3313 - accuracy: 0.8435 - val_loss: 0.3670 - val_accuracy: 0.8385\n",
            "Epoch 97/100\n",
            "1519/1519 [==============================] - 5s 3ms/step - loss: 0.3311 - accuracy: 0.8423 - val_loss: 0.3570 - val_accuracy: 0.8340\n",
            "Epoch 98/100\n",
            "1519/1519 [==============================] - 5s 3ms/step - loss: 0.3300 - accuracy: 0.8429 - val_loss: 0.3465 - val_accuracy: 0.8388\n",
            "Epoch 99/100\n",
            "1519/1519 [==============================] - 5s 3ms/step - loss: 0.3306 - accuracy: 0.8420 - val_loss: 0.3473 - val_accuracy: 0.8396\n",
            "Epoch 100/100\n",
            "1519/1519 [==============================] - 5s 3ms/step - loss: 0.3309 - accuracy: 0.8425 - val_loss: 0.3486 - val_accuracy: 0.8391\n"
          ]
        }
      ]
    },
    {
      "cell_type": "code",
      "source": [
        "history_dict = history.history\n",
        "print(history_dict.keys())"
      ],
      "metadata": {
        "id": "n-ODrzCIfZo-",
        "colab": {
          "base_uri": "https://localhost:8080/"
        },
        "outputId": "b0beeb98-1a26-4243-dd11-4e3c9d0dddfc"
      },
      "execution_count": null,
      "outputs": [
        {
          "output_type": "stream",
          "name": "stdout",
          "text": [
            "dict_keys(['loss', 'accuracy', 'val_loss', 'val_accuracy'])\n"
          ]
        }
      ]
    },
    {
      "cell_type": "markdown",
      "source": [
        "The below snippet plots the graph of the training loss vs. validation loss over the number of epochs"
      ],
      "metadata": {
        "id": "p09u7K_HeIqN"
      }
    },
    {
      "cell_type": "code",
      "source": [
        "loss_train = history.history['loss']\n",
        "loss_val = history.history['val_loss']\n",
        "epochs = range(1,101)\n",
        "plt.plot(epochs, loss_train, 'g', label='Training loss')\n",
        "plt.plot(epochs, loss_val, 'b', label='validation loss')\n",
        "plt.title('Training and Validation loss')\n",
        "plt.xlabel('Epochs')\n",
        "plt.ylabel('Loss')\n",
        "plt.legend()\n",
        "plt.show()"
      ],
      "metadata": {
        "id": "1ovBNaYMc5hu",
        "colab": {
          "base_uri": "https://localhost:8080/",
          "height": 295
        },
        "outputId": "5d379f91-52e4-4ea6-88d8-17534bdf107f"
      },
      "execution_count": null,
      "outputs": [
        {
          "output_type": "display_data",
          "data": {
            "text/plain": [
              "<Figure size 432x288 with 1 Axes>"
            ],
            "image/png": "[encoded data removed]"
          },
          "metadata": {
            "needs_background": "light"
          }
        }
      ]
    },
    {
      "cell_type": "markdown",
      "source": [
        "The following snippet plots the graph of training accuracy vs. validation accuracy over the number of epochs."
      ],
      "metadata": {
        "id": "WvqfTsIpeYkF"
      }
    },
    {
      "cell_type": "code",
      "source": [
        "loss_train = history.history['accuracy']\n",
        "loss_val = history.history['val_accuracy']\n",
        "epochs = range(1,101)\n",
        "plt.plot(epochs, loss_train, 'g', label='Training accuracy')\n",
        "plt.plot(epochs, loss_val, 'b', label='validation accuracy')\n",
        "plt.title('Training and Validation accuracy')\n",
        "plt.xlabel('Epochs')\n",
        "plt.ylabel('Accuracy')\n",
        "plt.legend()\n",
        "plt.show()"
      ],
      "metadata": {
        "id": "b6ld_gFLdPs_",
        "colab": {
          "base_uri": "https://localhost:8080/",
          "height": 295
        },
        "outputId": "b07173c7-1f56-4e8f-85a0-06547a44f5ad"
      },
      "execution_count": null,
      "outputs": [
        {
          "output_type": "display_data",
          "data": {
            "text/plain": [
              "<Figure size 432x288 with 1 Axes>"
            ],
            "image/png": "[encoded data removed]"
          },
          "metadata": {
            "needs_background": "light"
          }
        }
      ]
    },
    {
      "cell_type": "code",
      "source": [
        "y_pred = ann.predict(X_test)\n",
        "y_pred = (y_pred > 0.5)   # This will predict output values as 'True' and 'False'"
      ],
      "metadata": {
        "id": "uGCCUiBqUOXv",
        "colab": {
          "base_uri": "https://localhost:8080/"
        },
        "outputId": "b54ab6b3-fede-4ee8-c621-dc26213c2220"
      },
      "execution_count": null,
      "outputs": [
        {
          "output_type": "stream",
          "name": "stdout",
          "text": [
            "75/75 [==============================] - 0s 1ms/step\n"
          ]
        }
      ]
    },
    {
      "cell_type": "code",
      "source": [
        "# Convert np array to Series\n",
        "my_list = map(lambda x: x[0], y_pred)\n",
        "y_pred = pd.Series(my_list)\n",
        "\n",
        "# Convert True/False values back to 1 and 0s\n",
        "y_prediction = y_pred.astype(int)"
      ],
      "metadata": {
        "id": "1bst1v8vUPmF"
      },
      "execution_count": null,
      "outputs": []
    },
    {
      "cell_type": "code",
      "source": [
        "from sklearn.metrics import confusion_matrix, accuracy_score\n",
        "cm = confusion_matrix(y_test, y_prediction)\n",
        "print(cm)\n",
        "accuracy_score(y_test, y_prediction)"
      ],
      "metadata": {
        "id": "xus8R8RQUWWe",
        "colab": {
          "base_uri": "https://localhost:8080/"
        },
        "outputId": "b55e7fcc-8558-4557-9b43-221814ecb7ac"
      },
      "execution_count": null,
      "outputs": [
        {
          "output_type": "stream",
          "name": "stdout",
          "text": [
            "[[1125   87]\n",
            " [ 296  872]]\n"
          ]
        },
        {
          "output_type": "execute_result",
          "data": {
            "text/plain": [
              "0.8390756302521009"
            ]
          },
          "metadata": {},
          "execution_count": 17
        }
      ]
    },
    {
      "cell_type": "code",
      "source": [
        "sns.heatmap(cm, cmap=\"Blues\", annot=True, fmt='g')"
      ],
      "metadata": {
        "id": "RPsRE0ubUeIW",
        "colab": {
          "base_uri": "https://localhost:8080/",
          "height": 283
        },
        "outputId": "705f85fa-c24e-40bf-df2b-33ad272acb8f"
      },
      "execution_count": null,
      "outputs": [
        {
          "output_type": "execute_result",
          "data": {
            "text/plain": [
              "<matplotlib.axes._subplots.AxesSubplot at 0x7f3352448850>"
            ]
          },
          "metadata": {},
          "execution_count": 18
        },
        {
          "output_type": "display_data",
          "data": {
            "text/plain": [
              "<Figure size 432x288 with 2 Axes>"
            ],
            "image/png": "[encoded data removed]"
          },
          "metadata": {
            "needs_background": "light"
          }
        }
      ]
    }
  ]
}