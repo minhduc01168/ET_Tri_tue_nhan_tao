{
  "nbformat": 4,
  "nbformat_minor": 0,
  "metadata": {
    "colab": {
      "provenance": [],
      "authorship_tag": "ABX9TyOglW0pI0FNdBug7Z0Fhg4d",
      "include_colab_link": true
    },
    "kernelspec": {
      "name": "python3",
      "display_name": "Python 3"
    },
    "language_info": {
      "name": "python"
    }
  },
  "cells": [
    {
      "cell_type": "markdown",
      "metadata": {
        "id": "view-in-github",
        "colab_type": "text"
      },
      "source": [
        "<a href=\"https://colab.research.google.com/github/minhduc01168/ET_Tri_tue_nhan_tao/blob/master/BTL_AI_Train_Test_SMOTE.ipynb\" target=\"_parent\"><img src=\"https://colab.research.google.com/assets/colab-badge.svg\" alt=\"Open In Colab\"/></a>"
      ]
    },
    {
      "cell_type": "markdown",
      "source": [
        "# Modeling"
      ],
      "metadata": {
        "id": "bor9FnrqbRwd"
      }
    },
    {
      "cell_type": "code",
      "execution_count": null,
      "metadata": {
        "id": "762F6V-aa7og"
      },
      "outputs": [],
      "source": [
        "# Import libraries\n",
        "\n",
        "import pandas as pd\n",
        "import matplotlib.pyplot as plt\n",
        "import numpy as np\n",
        "import scipy\n",
        "import sklearn\n",
        "import seaborn as sns\n",
        "import missingno as msno\n",
        "from sklearn.preprocessing import LabelEncoder\n",
        "from sklearn.model_selection import train_test_split\n",
        "from sklearn.feature_selection import SelectKBest\n",
        "from sklearn.feature_selection import chi2\n",
        "from imblearn.over_sampling import SMOTE\n",
        "from sklearn.inspection import permutation_importance\n",
        "from sklearn.neighbors import KNeighborsClassifier\n",
        "from sklearn import metrics\n",
        "from sklearn.metrics import classification_report, confusion_matrix, roc_auc_score,roc_curve, accuracy_score\n",
        "from imblearn import under_sampling, over_sampling\n",
        "from sklearn.ensemble import RandomForestClassifier\n",
        "from sklearn.tree import DecisionTreeClassifier\n",
        "from sklearn import svm\n",
        "from sklearn.model_selection import RandomizedSearchCV\n",
        "from imblearn.pipeline import Pipeline\n",
        "from sklearn.model_selection import RepeatedStratifiedKFold"
      ]
    },
    {
      "cell_type": "code",
      "source": [
        "from google.colab import drive\n",
        "drive.mount('/content/drive')"
      ],
      "metadata": {
        "id": "9vQ6asCSbYbS",
        "colab": {
          "base_uri": "https://localhost:8080/"
        },
        "outputId": "dff2e8bb-ebf4-4cfd-981b-b936ccb2d608"
      },
      "execution_count": null,
      "outputs": [
        {
          "output_type": "stream",
          "name": "stdout",
          "text": [
            "Mounted at /content/drive\n"
          ]
        }
      ]
    },
    {
      "cell_type": "code",
      "source": [
        "df = pd.read_csv('/content/drive/My Drive/AI_ML_DS/AI/BTL_AI/credit_risk_dataset_SMOTE.csv')"
      ],
      "metadata": {
        "id": "pdlkFVxSbgyy"
      },
      "execution_count": null,
      "outputs": []
    },
    {
      "cell_type": "code",
      "source": [
        "df.head()"
      ],
      "metadata": {
        "id": "Uxn6nTmpbspr",
        "colab": {
          "base_uri": "https://localhost:8080/",
          "height": 270
        },
        "outputId": "b24084f6-6019-456d-d9cc-999b5b52a8aa"
      },
      "execution_count": null,
      "outputs": [
        {
          "output_type": "execute_result",
          "data": {
            "text/plain": [
              "   person_age  person_income  person_home_ownership  person_emp_length  \\\n",
              "0    0.038462       0.026807               0.666667             0.3125   \n",
              "1    0.038462       0.028263               0.666667             0.1250   \n",
              "2    0.038462       0.028749               0.666667             0.3750   \n",
              "3    0.038462       0.028749               0.666667             0.1250   \n",
              "4    0.153846       0.032634               0.000000             0.5000   \n",
              "\n",
              "   loan_intent  loan_grade  loan_amnt  loan_int_rate  loan_percent_income  \\\n",
              "0          0.2        0.25   0.018450       0.400841             0.191489   \n",
              "1          1.0        0.00   0.073801       0.120533             0.510638   \n",
              "2          1.0        0.75   0.040590       0.653118             0.319149   \n",
              "3          0.4        0.00   0.147601       0.224947             0.936170   \n",
              "4          0.2        0.25   0.046125       0.390329             0.319149   \n",
              "\n",
              "   cb_person_default_on_file  cb_person_cred_hist_length  loan_status  \n",
              "0                        0.0                    0.000000          0.0  \n",
              "1                        0.0                    0.000000          1.0  \n",
              "2                        0.0                    0.071429          1.0  \n",
              "3                        0.0                    0.000000          1.0  \n",
              "4                        0.0                    0.000000          1.0  "
            ],
            "text/html": [
              "\n",
              "  <div id=\"df-e44cbd39-b769-404a-8f38-949f9450346b\">\n",
              "    <div class=\"colab-df-container\">\n",
              "      <div>\n",
              "<style scoped>\n",
              "    .dataframe tbody tr th:only-of-type {\n",
              "        vertical-align: middle;\n",
              "    }\n",
              "\n",
              "    .dataframe tbody tr th {\n",
              "        vertical-align: top;\n",
              "    }\n",
              "\n",
              "    .dataframe thead th {\n",
              "        text-align: right;\n",
              "    }\n",
              "</style>\n",
              "<table border=\"1\" class=\"dataframe\">\n",
              "  <thead>\n",
              "    <tr style=\"text-align: right;\">\n",
              "      <th></th>\n",
              "      <th>person_age</th>\n",
              "      <th>person_income</th>\n",
              "      <th>person_home_ownership</th>\n",
              "      <th>person_emp_length</th>\n",
              "      <th>loan_intent</th>\n",
              "      <th>loan_grade</th>\n",
              "      <th>loan_amnt</th>\n",
              "      <th>loan_int_rate</th>\n",
              "      <th>loan_percent_income</th>\n",
              "      <th>cb_person_default_on_file</th>\n",
              "      <th>cb_person_cred_hist_length</th>\n",
              "      <th>loan_status</th>\n",
              "    </tr>\n",
              "  </thead>\n",
              "  <tbody>\n",
              "    <tr>\n",
              "      <th>0</th>\n",
              "      <td>0.038462</td>\n",
              "      <td>0.026807</td>\n",
              "      <td>0.666667</td>\n",
              "      <td>0.3125</td>\n",
              "      <td>0.2</td>\n",
              "      <td>0.25</td>\n",
              "      <td>0.018450</td>\n",
              "      <td>0.400841</td>\n",
              "      <td>0.191489</td>\n",
              "      <td>0.0</td>\n",
              "      <td>0.000000</td>\n",
              "      <td>0.0</td>\n",
              "    </tr>\n",
              "    <tr>\n",
              "      <th>1</th>\n",
              "      <td>0.038462</td>\n",
              "      <td>0.028263</td>\n",
              "      <td>0.666667</td>\n",
              "      <td>0.1250</td>\n",
              "      <td>1.0</td>\n",
              "      <td>0.00</td>\n",
              "      <td>0.073801</td>\n",
              "      <td>0.120533</td>\n",
              "      <td>0.510638</td>\n",
              "      <td>0.0</td>\n",
              "      <td>0.000000</td>\n",
              "      <td>1.0</td>\n",
              "    </tr>\n",
              "    <tr>\n",
              "      <th>2</th>\n",
              "      <td>0.038462</td>\n",
              "      <td>0.028749</td>\n",
              "      <td>0.666667</td>\n",
              "      <td>0.3750</td>\n",
              "      <td>1.0</td>\n",
              "      <td>0.75</td>\n",
              "      <td>0.040590</td>\n",
              "      <td>0.653118</td>\n",
              "      <td>0.319149</td>\n",
              "      <td>0.0</td>\n",
              "      <td>0.071429</td>\n",
              "      <td>1.0</td>\n",
              "    </tr>\n",
              "    <tr>\n",
              "      <th>3</th>\n",
              "      <td>0.038462</td>\n",
              "      <td>0.028749</td>\n",
              "      <td>0.666667</td>\n",
              "      <td>0.1250</td>\n",
              "      <td>0.4</td>\n",
              "      <td>0.00</td>\n",
              "      <td>0.147601</td>\n",
              "      <td>0.224947</td>\n",
              "      <td>0.936170</td>\n",
              "      <td>0.0</td>\n",
              "      <td>0.000000</td>\n",
              "      <td>1.0</td>\n",
              "    </tr>\n",
              "    <tr>\n",
              "      <th>4</th>\n",
              "      <td>0.153846</td>\n",
              "      <td>0.032634</td>\n",
              "      <td>0.000000</td>\n",
              "      <td>0.5000</td>\n",
              "      <td>0.2</td>\n",
              "      <td>0.25</td>\n",
              "      <td>0.046125</td>\n",
              "      <td>0.390329</td>\n",
              "      <td>0.319149</td>\n",
              "      <td>0.0</td>\n",
              "      <td>0.000000</td>\n",
              "      <td>1.0</td>\n",
              "    </tr>\n",
              "  </tbody>\n",
              "</table>\n",
              "</div>\n",
              "      <button class=\"colab-df-convert\" onclick=\"convertToInteractive('df-e44cbd39-b769-404a-8f38-949f9450346b')\"\n",
              "              title=\"Convert this dataframe to an interactive table.\"\n",
              "              style=\"display:none;\">\n",
              "        \n",
              "  <svg xmlns=\"http://www.w3.org/2000/svg\" height=\"24px\"viewBox=\"0 0 24 24\"\n",
              "       width=\"24px\">\n",
              "    <path d=\"M0 0h24v24H0V0z\" fill=\"none\"/>\n",
              "    <path d=\"M18.56 5.44l.94 2.06.94-2.06 2.06-.94-2.06-.94-.94-2.06-.94 2.06-2.06.94zm-11 1L8.5 8.5l.94-2.06 2.06-.94-2.06-.94L8.5 2.5l-.94 2.06-2.06.94zm10 10l.94 2.06.94-2.06 2.06-.94-2.06-.94-.94-2.06-.94 2.06-2.06.94z\"/><path d=\"M17.41 7.96l-1.37-1.37c-.4-.4-.92-.59-1.43-.59-.52 0-1.04.2-1.43.59L10.3 9.45l-7.72 7.72c-.78.78-.78 2.05 0 2.83L4 21.41c.39.39.9.59 1.41.59.51 0 1.02-.2 1.41-.59l7.78-7.78 2.81-2.81c.8-.78.8-2.07 0-2.86zM5.41 20L4 18.59l7.72-7.72 1.47 1.35L5.41 20z\"/>\n",
              "  </svg>\n",
              "      </button>\n",
              "      \n",
              "  <style>\n",
              "    .colab-df-container {\n",
              "      display:flex;\n",
              "      flex-wrap:wrap;\n",
              "      gap: 12px;\n",
              "    }\n",
              "\n",
              "    .colab-df-convert {\n",
              "      background-color: #E8F0FE;\n",
              "      border: none;\n",
              "      border-radius: 50%;\n",
              "      cursor: pointer;\n",
              "      display: none;\n",
              "      fill: #1967D2;\n",
              "      height: 32px;\n",
              "      padding: 0 0 0 0;\n",
              "      width: 32px;\n",
              "    }\n",
              "\n",
              "    .colab-df-convert:hover {\n",
              "      background-color: #E2EBFA;\n",
              "      box-shadow: 0px 1px 2px rgba(60, 64, 67, 0.3), 0px 1px 3px 1px rgba(60, 64, 67, 0.15);\n",
              "      fill: #174EA6;\n",
              "    }\n",
              "\n",
              "    [theme=dark] .colab-df-convert {\n",
              "      background-color: #3B4455;\n",
              "      fill: #D2E3FC;\n",
              "    }\n",
              "\n",
              "    [theme=dark] .colab-df-convert:hover {\n",
              "      background-color: #434B5C;\n",
              "      box-shadow: 0px 1px 3px 1px rgba(0, 0, 0, 0.15);\n",
              "      filter: drop-shadow(0px 1px 2px rgba(0, 0, 0, 0.3));\n",
              "      fill: #FFFFFF;\n",
              "    }\n",
              "  </style>\n",
              "\n",
              "      <script>\n",
              "        const buttonEl =\n",
              "          document.querySelector('#df-e44cbd39-b769-404a-8f38-949f9450346b button.colab-df-convert');\n",
              "        buttonEl.style.display =\n",
              "          google.colab.kernel.accessAllowed ? 'block' : 'none';\n",
              "\n",
              "        async function convertToInteractive(key) {\n",
              "          const element = document.querySelector('#df-e44cbd39-b769-404a-8f38-949f9450346b');\n",
              "          const dataTable =\n",
              "            await google.colab.kernel.invokeFunction('convertToInteractive',\n",
              "                                                     [key], {});\n",
              "          if (!dataTable) return;\n",
              "\n",
              "          const docLinkHtml = 'Like what you see? Visit the ' +\n",
              "            '<a target=\"_blank\" href=https://colab.research.google.com/notebooks/data_table.ipynb>data table notebook</a>'\n",
              "            + ' to learn more about interactive tables.';\n",
              "          element.innerHTML = '';\n",
              "          dataTable['output_type'] = 'display_data';\n",
              "          await google.colab.output.renderOutput(dataTable, element);\n",
              "          const docLink = document.createElement('div');\n",
              "          docLink.innerHTML = docLinkHtml;\n",
              "          element.appendChild(docLink);\n",
              "        }\n",
              "      </script>\n",
              "    </div>\n",
              "  </div>\n",
              "  "
            ]
          },
          "metadata": {},
          "execution_count": 4
        }
      ]
    },
    {
      "cell_type": "code",
      "source": [
        "X_smote = pd.DataFrame(df)\n",
        "X_smote = X_smote.drop(['loan_status'], axis=1)\n",
        "y_smote = df[['loan_status']]\n",
        "X_smote.info()"
      ],
      "metadata": {
        "id": "4TRQsRN_bwAj",
        "colab": {
          "base_uri": "https://localhost:8080/"
        },
        "outputId": "cacac684-e664-4aeb-c9b7-65d85b7f3c98"
      },
      "execution_count": null,
      "outputs": [
        {
          "output_type": "stream",
          "name": "stdout",
          "text": [
            "<class 'pandas.core.frame.DataFrame'>\n",
            "RangeIndex: 47582 entries, 0 to 47581\n",
            "Data columns (total 11 columns):\n",
            " #   Column                      Non-Null Count  Dtype  \n",
            "---  ------                      --------------  -----  \n",
            " 0   person_age                  47582 non-null  float64\n",
            " 1   person_income               47582 non-null  float64\n",
            " 2   person_home_ownership       47582 non-null  float64\n",
            " 3   person_emp_length           47582 non-null  float64\n",
            " 4   loan_intent                 47582 non-null  float64\n",
            " 5   loan_grade                  47582 non-null  float64\n",
            " 6   loan_amnt                   47582 non-null  float64\n",
            " 7   loan_int_rate               47582 non-null  float64\n",
            " 8   loan_percent_income         47582 non-null  float64\n",
            " 9   cb_person_default_on_file   47582 non-null  float64\n",
            " 10  cb_person_cred_hist_length  47582 non-null  float64\n",
            "dtypes: float64(11)\n",
            "memory usage: 4.0 MB\n"
          ]
        }
      ]
    },
    {
      "cell_type": "code",
      "source": [
        "X_smote"
      ],
      "metadata": {
        "id": "45TKwrEfcr9T",
        "colab": {
          "base_uri": "https://localhost:8080/",
          "height": 488
        },
        "outputId": "5e342092-aa33-41cc-82ee-4356f6559dba"
      },
      "execution_count": null,
      "outputs": [
        {
          "output_type": "execute_result",
          "data": {
            "text/plain": [
              "       person_age  person_income  person_home_ownership  person_emp_length  \\\n",
              "0        0.038462       0.026807               0.666667           0.312500   \n",
              "1        0.038462       0.028263               0.666667           0.125000   \n",
              "2        0.038462       0.028749               0.666667           0.375000   \n",
              "3        0.038462       0.028749               0.666667           0.125000   \n",
              "4        0.153846       0.032634               0.000000           0.500000   \n",
              "...           ...            ...                    ...                ...   \n",
              "47577    0.192308       0.197807               0.706255           0.007423   \n",
              "47578    0.077245       0.254022               0.000000           0.375000   \n",
              "47579    0.428612       0.221951               1.000000           0.127249   \n",
              "47580    0.213917       0.258194               0.000000           0.285116   \n",
              "47581    0.144612       0.173487               0.000000           0.484994   \n",
              "\n",
              "       loan_intent  loan_grade  loan_amnt  loan_int_rate  loan_percent_income  \\\n",
              "0         0.200000    0.250000   0.018450       0.400841             0.191489   \n",
              "1         1.000000    0.000000   0.073801       0.120533             0.510638   \n",
              "2         1.000000    0.750000   0.040590       0.653118             0.319149   \n",
              "3         0.400000    0.000000   0.147601       0.224947             0.936170   \n",
              "4         0.200000    0.250000   0.046125       0.390329             0.319149   \n",
              "...            ...         ...        ...            ...                  ...   \n",
              "47577     0.000000    0.970309   0.689515       0.776737             0.891090   \n",
              "47578     0.198324    0.750000   0.292008       0.665278             0.298407   \n",
              "47579     0.607196    0.500000   0.643101       0.566107             0.744681   \n",
              "47580     0.600000    0.750000   0.292921       0.764664             0.295240   \n",
              "47581     0.800000    0.250000   0.040814       0.391850             0.074889   \n",
              "\n",
              "       cb_person_default_on_file  cb_person_cred_hist_length  \n",
              "0                            0.0                    0.000000  \n",
              "1                            0.0                    0.000000  \n",
              "2                            0.0                    0.071429  \n",
              "3                            0.0                    0.000000  \n",
              "4                            0.0                    0.000000  \n",
              "...                          ...                         ...  \n",
              "47577                        1.0                    0.125891  \n",
              "47578                        0.0                    0.000000  \n",
              "47579                        1.0                    0.497430  \n",
              "47580                        1.0                    0.000000  \n",
              "47581                        0.0                    0.142857  \n",
              "\n",
              "[47582 rows x 11 columns]"
            ],
            "text/html": [
              "\n",
              "  <div id=\"df-aca35f48-c435-4e90-bf15-104319642aef\">\n",
              "    <div class=\"colab-df-container\">\n",
              "      <div>\n",
              "<style scoped>\n",
              "    .dataframe tbody tr th:only-of-type {\n",
              "        vertical-align: middle;\n",
              "    }\n",
              "\n",
              "    .dataframe tbody tr th {\n",
              "        vertical-align: top;\n",
              "    }\n",
              "\n",
              "    .dataframe thead th {\n",
              "        text-align: right;\n",
              "    }\n",
              "</style>\n",
              "<table border=\"1\" class=\"dataframe\">\n",
              "  <thead>\n",
              "    <tr style=\"text-align: right;\">\n",
              "      <th></th>\n",
              "      <th>person_age</th>\n",
              "      <th>person_income</th>\n",
              "      <th>person_home_ownership</th>\n",
              "      <th>person_emp_length</th>\n",
              "      <th>loan_intent</th>\n",
              "      <th>loan_grade</th>\n",
              "      <th>loan_amnt</th>\n",
              "      <th>loan_int_rate</th>\n",
              "      <th>loan_percent_income</th>\n",
              "      <th>cb_person_default_on_file</th>\n",
              "      <th>cb_person_cred_hist_length</th>\n",
              "    </tr>\n",
              "  </thead>\n",
              "  <tbody>\n",
              "    <tr>\n",
              "      <th>0</th>\n",
              "      <td>0.038462</td>\n",
              "      <td>0.026807</td>\n",
              "      <td>0.666667</td>\n",
              "      <td>0.312500</td>\n",
              "      <td>0.200000</td>\n",
              "      <td>0.250000</td>\n",
              "      <td>0.018450</td>\n",
              "      <td>0.400841</td>\n",
              "      <td>0.191489</td>\n",
              "      <td>0.0</td>\n",
              "      <td>0.000000</td>\n",
              "    </tr>\n",
              "    <tr>\n",
              "      <th>1</th>\n",
              "      <td>0.038462</td>\n",
              "      <td>0.028263</td>\n",
              "      <td>0.666667</td>\n",
              "      <td>0.125000</td>\n",
              "      <td>1.000000</td>\n",
              "      <td>0.000000</td>\n",
              "      <td>0.073801</td>\n",
              "      <td>0.120533</td>\n",
              "      <td>0.510638</td>\n",
              "      <td>0.0</td>\n",
              "      <td>0.000000</td>\n",
              "    </tr>\n",
              "    <tr>\n",
              "      <th>2</th>\n",
              "      <td>0.038462</td>\n",
              "      <td>0.028749</td>\n",
              "      <td>0.666667</td>\n",
              "      <td>0.375000</td>\n",
              "      <td>1.000000</td>\n",
              "      <td>0.750000</td>\n",
              "      <td>0.040590</td>\n",
              "      <td>0.653118</td>\n",
              "      <td>0.319149</td>\n",
              "      <td>0.0</td>\n",
              "      <td>0.071429</td>\n",
              "    </tr>\n",
              "    <tr>\n",
              "      <th>3</th>\n",
              "      <td>0.038462</td>\n",
              "      <td>0.028749</td>\n",
              "      <td>0.666667</td>\n",
              "      <td>0.125000</td>\n",
              "      <td>0.400000</td>\n",
              "      <td>0.000000</td>\n",
              "      <td>0.147601</td>\n",
              "      <td>0.224947</td>\n",
              "      <td>0.936170</td>\n",
              "      <td>0.0</td>\n",
              "      <td>0.000000</td>\n",
              "    </tr>\n",
              "    <tr>\n",
              "      <th>4</th>\n",
              "      <td>0.153846</td>\n",
              "      <td>0.032634</td>\n",
              "      <td>0.000000</td>\n",
              "      <td>0.500000</td>\n",
              "      <td>0.200000</td>\n",
              "      <td>0.250000</td>\n",
              "      <td>0.046125</td>\n",
              "      <td>0.390329</td>\n",
              "      <td>0.319149</td>\n",
              "      <td>0.0</td>\n",
              "      <td>0.000000</td>\n",
              "    </tr>\n",
              "    <tr>\n",
              "      <th>...</th>\n",
              "      <td>...</td>\n",
              "      <td>...</td>\n",
              "      <td>...</td>\n",
              "      <td>...</td>\n",
              "      <td>...</td>\n",
              "      <td>...</td>\n",
              "      <td>...</td>\n",
              "      <td>...</td>\n",
              "      <td>...</td>\n",
              "      <td>...</td>\n",
              "      <td>...</td>\n",
              "    </tr>\n",
              "    <tr>\n",
              "      <th>47577</th>\n",
              "      <td>0.192308</td>\n",
              "      <td>0.197807</td>\n",
              "      <td>0.706255</td>\n",
              "      <td>0.007423</td>\n",
              "      <td>0.000000</td>\n",
              "      <td>0.970309</td>\n",
              "      <td>0.689515</td>\n",
              "      <td>0.776737</td>\n",
              "      <td>0.891090</td>\n",
              "      <td>1.0</td>\n",
              "      <td>0.125891</td>\n",
              "    </tr>\n",
              "    <tr>\n",
              "      <th>47578</th>\n",
              "      <td>0.077245</td>\n",
              "      <td>0.254022</td>\n",
              "      <td>0.000000</td>\n",
              "      <td>0.375000</td>\n",
              "      <td>0.198324</td>\n",
              "      <td>0.750000</td>\n",
              "      <td>0.292008</td>\n",
              "      <td>0.665278</td>\n",
              "      <td>0.298407</td>\n",
              "      <td>0.0</td>\n",
              "      <td>0.000000</td>\n",
              "    </tr>\n",
              "    <tr>\n",
              "      <th>47579</th>\n",
              "      <td>0.428612</td>\n",
              "      <td>0.221951</td>\n",
              "      <td>1.000000</td>\n",
              "      <td>0.127249</td>\n",
              "      <td>0.607196</td>\n",
              "      <td>0.500000</td>\n",
              "      <td>0.643101</td>\n",
              "      <td>0.566107</td>\n",
              "      <td>0.744681</td>\n",
              "      <td>1.0</td>\n",
              "      <td>0.497430</td>\n",
              "    </tr>\n",
              "    <tr>\n",
              "      <th>47580</th>\n",
              "      <td>0.213917</td>\n",
              "      <td>0.258194</td>\n",
              "      <td>0.000000</td>\n",
              "      <td>0.285116</td>\n",
              "      <td>0.600000</td>\n",
              "      <td>0.750000</td>\n",
              "      <td>0.292921</td>\n",
              "      <td>0.764664</td>\n",
              "      <td>0.295240</td>\n",
              "      <td>1.0</td>\n",
              "      <td>0.000000</td>\n",
              "    </tr>\n",
              "    <tr>\n",
              "      <th>47581</th>\n",
              "      <td>0.144612</td>\n",
              "      <td>0.173487</td>\n",
              "      <td>0.000000</td>\n",
              "      <td>0.484994</td>\n",
              "      <td>0.800000</td>\n",
              "      <td>0.250000</td>\n",
              "      <td>0.040814</td>\n",
              "      <td>0.391850</td>\n",
              "      <td>0.074889</td>\n",
              "      <td>0.0</td>\n",
              "      <td>0.142857</td>\n",
              "    </tr>\n",
              "  </tbody>\n",
              "</table>\n",
              "<p>47582 rows × 11 columns</p>\n",
              "</div>\n",
              "      <button class=\"colab-df-convert\" onclick=\"convertToInteractive('df-aca35f48-c435-4e90-bf15-104319642aef')\"\n",
              "              title=\"Convert this dataframe to an interactive table.\"\n",
              "              style=\"display:none;\">\n",
              "        \n",
              "  <svg xmlns=\"http://www.w3.org/2000/svg\" height=\"24px\"viewBox=\"0 0 24 24\"\n",
              "       width=\"24px\">\n",
              "    <path d=\"M0 0h24v24H0V0z\" fill=\"none\"/>\n",
              "    <path d=\"M18.56 5.44l.94 2.06.94-2.06 2.06-.94-2.06-.94-.94-2.06-.94 2.06-2.06.94zm-11 1L8.5 8.5l.94-2.06 2.06-.94-2.06-.94L8.5 2.5l-.94 2.06-2.06.94zm10 10l.94 2.06.94-2.06 2.06-.94-2.06-.94-.94-2.06-.94 2.06-2.06.94z\"/><path d=\"M17.41 7.96l-1.37-1.37c-.4-.4-.92-.59-1.43-.59-.52 0-1.04.2-1.43.59L10.3 9.45l-7.72 7.72c-.78.78-.78 2.05 0 2.83L4 21.41c.39.39.9.59 1.41.59.51 0 1.02-.2 1.41-.59l7.78-7.78 2.81-2.81c.8-.78.8-2.07 0-2.86zM5.41 20L4 18.59l7.72-7.72 1.47 1.35L5.41 20z\"/>\n",
              "  </svg>\n",
              "      </button>\n",
              "      \n",
              "  <style>\n",
              "    .colab-df-container {\n",
              "      display:flex;\n",
              "      flex-wrap:wrap;\n",
              "      gap: 12px;\n",
              "    }\n",
              "\n",
              "    .colab-df-convert {\n",
              "      background-color: #E8F0FE;\n",
              "      border: none;\n",
              "      border-radius: 50%;\n",
              "      cursor: pointer;\n",
              "      display: none;\n",
              "      fill: #1967D2;\n",
              "      height: 32px;\n",
              "      padding: 0 0 0 0;\n",
              "      width: 32px;\n",
              "    }\n",
              "\n",
              "    .colab-df-convert:hover {\n",
              "      background-color: #E2EBFA;\n",
              "      box-shadow: 0px 1px 2px rgba(60, 64, 67, 0.3), 0px 1px 3px 1px rgba(60, 64, 67, 0.15);\n",
              "      fill: #174EA6;\n",
              "    }\n",
              "\n",
              "    [theme=dark] .colab-df-convert {\n",
              "      background-color: #3B4455;\n",
              "      fill: #D2E3FC;\n",
              "    }\n",
              "\n",
              "    [theme=dark] .colab-df-convert:hover {\n",
              "      background-color: #434B5C;\n",
              "      box-shadow: 0px 1px 3px 1px rgba(0, 0, 0, 0.15);\n",
              "      filter: drop-shadow(0px 1px 2px rgba(0, 0, 0, 0.3));\n",
              "      fill: #FFFFFF;\n",
              "    }\n",
              "  </style>\n",
              "\n",
              "      <script>\n",
              "        const buttonEl =\n",
              "          document.querySelector('#df-aca35f48-c435-4e90-bf15-104319642aef button.colab-df-convert');\n",
              "        buttonEl.style.display =\n",
              "          google.colab.kernel.accessAllowed ? 'block' : 'none';\n",
              "\n",
              "        async function convertToInteractive(key) {\n",
              "          const element = document.querySelector('#df-aca35f48-c435-4e90-bf15-104319642aef');\n",
              "          const dataTable =\n",
              "            await google.colab.kernel.invokeFunction('convertToInteractive',\n",
              "                                                     [key], {});\n",
              "          if (!dataTable) return;\n",
              "\n",
              "          const docLinkHtml = 'Like what you see? Visit the ' +\n",
              "            '<a target=\"_blank\" href=https://colab.research.google.com/notebooks/data_table.ipynb>data table notebook</a>'\n",
              "            + ' to learn more about interactive tables.';\n",
              "          element.innerHTML = '';\n",
              "          dataTable['output_type'] = 'display_data';\n",
              "          await google.colab.output.renderOutput(dataTable, element);\n",
              "          const docLink = document.createElement('div');\n",
              "          docLink.innerHTML = docLinkHtml;\n",
              "          element.appendChild(docLink);\n",
              "        }\n",
              "      </script>\n",
              "    </div>\n",
              "  </div>\n",
              "  "
            ]
          },
          "metadata": {},
          "execution_count": 6
        }
      ]
    },
    {
      "cell_type": "code",
      "source": [
        "y_smote"
      ],
      "metadata": {
        "id": "rDUzx0jEcvSK",
        "colab": {
          "base_uri": "https://localhost:8080/",
          "height": 424
        },
        "outputId": "b5b763fa-24af-47ca-bf10-75b2b8d73bde"
      },
      "execution_count": null,
      "outputs": [
        {
          "output_type": "execute_result",
          "data": {
            "text/plain": [
              "       loan_status\n",
              "0              0.0\n",
              "1              1.0\n",
              "2              1.0\n",
              "3              1.0\n",
              "4              1.0\n",
              "...            ...\n",
              "47577          1.0\n",
              "47578          1.0\n",
              "47579          1.0\n",
              "47580          1.0\n",
              "47581          1.0\n",
              "\n",
              "[47582 rows x 1 columns]"
            ],
            "text/html": [
              "\n",
              "  <div id=\"df-512c1539-6f92-47e9-9e51-9e233df87583\">\n",
              "    <div class=\"colab-df-container\">\n",
              "      <div>\n",
              "<style scoped>\n",
              "    .dataframe tbody tr th:only-of-type {\n",
              "        vertical-align: middle;\n",
              "    }\n",
              "\n",
              "    .dataframe tbody tr th {\n",
              "        vertical-align: top;\n",
              "    }\n",
              "\n",
              "    .dataframe thead th {\n",
              "        text-align: right;\n",
              "    }\n",
              "</style>\n",
              "<table border=\"1\" class=\"dataframe\">\n",
              "  <thead>\n",
              "    <tr style=\"text-align: right;\">\n",
              "      <th></th>\n",
              "      <th>loan_status</th>\n",
              "    </tr>\n",
              "  </thead>\n",
              "  <tbody>\n",
              "    <tr>\n",
              "      <th>0</th>\n",
              "      <td>0.0</td>\n",
              "    </tr>\n",
              "    <tr>\n",
              "      <th>1</th>\n",
              "      <td>1.0</td>\n",
              "    </tr>\n",
              "    <tr>\n",
              "      <th>2</th>\n",
              "      <td>1.0</td>\n",
              "    </tr>\n",
              "    <tr>\n",
              "      <th>3</th>\n",
              "      <td>1.0</td>\n",
              "    </tr>\n",
              "    <tr>\n",
              "      <th>4</th>\n",
              "      <td>1.0</td>\n",
              "    </tr>\n",
              "    <tr>\n",
              "      <th>...</th>\n",
              "      <td>...</td>\n",
              "    </tr>\n",
              "    <tr>\n",
              "      <th>47577</th>\n",
              "      <td>1.0</td>\n",
              "    </tr>\n",
              "    <tr>\n",
              "      <th>47578</th>\n",
              "      <td>1.0</td>\n",
              "    </tr>\n",
              "    <tr>\n",
              "      <th>47579</th>\n",
              "      <td>1.0</td>\n",
              "    </tr>\n",
              "    <tr>\n",
              "      <th>47580</th>\n",
              "      <td>1.0</td>\n",
              "    </tr>\n",
              "    <tr>\n",
              "      <th>47581</th>\n",
              "      <td>1.0</td>\n",
              "    </tr>\n",
              "  </tbody>\n",
              "</table>\n",
              "<p>47582 rows × 1 columns</p>\n",
              "</div>\n",
              "      <button class=\"colab-df-convert\" onclick=\"convertToInteractive('df-512c1539-6f92-47e9-9e51-9e233df87583')\"\n",
              "              title=\"Convert this dataframe to an interactive table.\"\n",
              "              style=\"display:none;\">\n",
              "        \n",
              "  <svg xmlns=\"http://www.w3.org/2000/svg\" height=\"24px\"viewBox=\"0 0 24 24\"\n",
              "       width=\"24px\">\n",
              "    <path d=\"M0 0h24v24H0V0z\" fill=\"none\"/>\n",
              "    <path d=\"M18.56 5.44l.94 2.06.94-2.06 2.06-.94-2.06-.94-.94-2.06-.94 2.06-2.06.94zm-11 1L8.5 8.5l.94-2.06 2.06-.94-2.06-.94L8.5 2.5l-.94 2.06-2.06.94zm10 10l.94 2.06.94-2.06 2.06-.94-2.06-.94-.94-2.06-.94 2.06-2.06.94z\"/><path d=\"M17.41 7.96l-1.37-1.37c-.4-.4-.92-.59-1.43-.59-.52 0-1.04.2-1.43.59L10.3 9.45l-7.72 7.72c-.78.78-.78 2.05 0 2.83L4 21.41c.39.39.9.59 1.41.59.51 0 1.02-.2 1.41-.59l7.78-7.78 2.81-2.81c.8-.78.8-2.07 0-2.86zM5.41 20L4 18.59l7.72-7.72 1.47 1.35L5.41 20z\"/>\n",
              "  </svg>\n",
              "      </button>\n",
              "      \n",
              "  <style>\n",
              "    .colab-df-container {\n",
              "      display:flex;\n",
              "      flex-wrap:wrap;\n",
              "      gap: 12px;\n",
              "    }\n",
              "\n",
              "    .colab-df-convert {\n",
              "      background-color: #E8F0FE;\n",
              "      border: none;\n",
              "      border-radius: 50%;\n",
              "      cursor: pointer;\n",
              "      display: none;\n",
              "      fill: #1967D2;\n",
              "      height: 32px;\n",
              "      padding: 0 0 0 0;\n",
              "      width: 32px;\n",
              "    }\n",
              "\n",
              "    .colab-df-convert:hover {\n",
              "      background-color: #E2EBFA;\n",
              "      box-shadow: 0px 1px 2px rgba(60, 64, 67, 0.3), 0px 1px 3px 1px rgba(60, 64, 67, 0.15);\n",
              "      fill: #174EA6;\n",
              "    }\n",
              "\n",
              "    [theme=dark] .colab-df-convert {\n",
              "      background-color: #3B4455;\n",
              "      fill: #D2E3FC;\n",
              "    }\n",
              "\n",
              "    [theme=dark] .colab-df-convert:hover {\n",
              "      background-color: #434B5C;\n",
              "      box-shadow: 0px 1px 3px 1px rgba(0, 0, 0, 0.15);\n",
              "      filter: drop-shadow(0px 1px 2px rgba(0, 0, 0, 0.3));\n",
              "      fill: #FFFFFF;\n",
              "    }\n",
              "  </style>\n",
              "\n",
              "      <script>\n",
              "        const buttonEl =\n",
              "          document.querySelector('#df-512c1539-6f92-47e9-9e51-9e233df87583 button.colab-df-convert');\n",
              "        buttonEl.style.display =\n",
              "          google.colab.kernel.accessAllowed ? 'block' : 'none';\n",
              "\n",
              "        async function convertToInteractive(key) {\n",
              "          const element = document.querySelector('#df-512c1539-6f92-47e9-9e51-9e233df87583');\n",
              "          const dataTable =\n",
              "            await google.colab.kernel.invokeFunction('convertToInteractive',\n",
              "                                                     [key], {});\n",
              "          if (!dataTable) return;\n",
              "\n",
              "          const docLinkHtml = 'Like what you see? Visit the ' +\n",
              "            '<a target=\"_blank\" href=https://colab.research.google.com/notebooks/data_table.ipynb>data table notebook</a>'\n",
              "            + ' to learn more about interactive tables.';\n",
              "          element.innerHTML = '';\n",
              "          dataTable['output_type'] = 'display_data';\n",
              "          await google.colab.output.renderOutput(dataTable, element);\n",
              "          const docLink = document.createElement('div');\n",
              "          docLink.innerHTML = docLinkHtml;\n",
              "          element.appendChild(docLink);\n",
              "        }\n",
              "      </script>\n",
              "    </div>\n",
              "  </div>\n",
              "  "
            ]
          },
          "metadata": {},
          "execution_count": 7
        }
      ]
    },
    {
      "cell_type": "code",
      "source": [
        "y_smote = y_smote.values.ravel()"
      ],
      "metadata": {
        "id": "XWfkrab25EOQ"
      },
      "execution_count": null,
      "outputs": []
    },
    {
      "cell_type": "code",
      "source": [
        "lst_accuracy =[]"
      ],
      "metadata": {
        "id": "C82bNCM7rMv4"
      },
      "execution_count": null,
      "outputs": []
    },
    {
      "cell_type": "markdown",
      "source": [
        "### **KNN**"
      ],
      "metadata": {
        "id": "umKG4JwvcK37"
      }
    },
    {
      "cell_type": "code",
      "source": [
        "# 4) Smote\"\"\"\n",
        "\n",
        "# Train, Test, Split\n",
        "X_train_1, X_test_1, Y_train_1, Y_test_1 = train_test_split(X_smote, y_smote, test_size = 0.2, random_state=152, stratify=y_smote)\n",
        "\n",
        "# Define the model\n",
        "clf_1 = KNeighborsClassifier()\n",
        "\n",
        "# Fit the model\n",
        "clf_1.fit(X_train_1,Y_train_1)\n",
        "\n",
        "# Make prediction\n",
        "pred_1 = clf_1.predict(X_test_1)\n",
        "\n",
        "# Accuracy score\n",
        "print('Accuracy score of KNN model 2 is:', accuracy_score(Y_test_1, pred_1))\n",
        "lst_accuracy.append(accuracy_score(Y_test_1, pred_1))\n",
        "# Confusion Matrix\n",
        "conmat_1 = confusion_matrix(Y_test_1, pred_1)\n",
        "print(conmat_1)\n",
        "plt.figure(figsize=(10,8))\n",
        "plt.title('Confusion Matrix of KNN 2th Model')\n",
        "sns.heatmap(conmat_1, annot=True, cmap=\"Purples\", fmt=\"d\",cbar=True)\n",
        "\n",
        "# Classification Report\n",
        "print('Classification Report of KNN 2th Model')\n",
        "print(classification_report(Y_test_1, pred_1))"
      ],
      "metadata": {
        "id": "j_1Fc-olcOjI",
        "colab": {
          "base_uri": "https://localhost:8080/",
          "height": 735
        },
        "outputId": "82e1b587-b6c3-4c40-84ec-bbae0fc56c3f"
      },
      "execution_count": null,
      "outputs": [
        {
          "output_type": "stream",
          "name": "stdout",
          "text": [
            "Accuracy score of KNN model 2 is: 0.8816854050646212\n",
            "[[3857  902]\n",
            " [ 224 4534]]\n",
            "Classification Report of KNN 2th Model\n",
            "              precision    recall  f1-score   support\n",
            "\n",
            "         0.0       0.95      0.81      0.87      4759\n",
            "         1.0       0.83      0.95      0.89      4758\n",
            "\n",
            "    accuracy                           0.88      9517\n",
            "   macro avg       0.89      0.88      0.88      9517\n",
            "weighted avg       0.89      0.88      0.88      9517\n",
            "\n"
          ]
        },
        {
          "output_type": "display_data",
          "data": {
            "text/plain": [
              "<Figure size 720x576 with 2 Axes>"
            ],
            "image/png": "[encoded data removed]"
          },
          "metadata": {
            "needs_background": "light"
          }
        }
      ]
    },
    {
      "cell_type": "code",
      "source": [
        "from sklearn.neighbors import KNeighborsClassifier\n",
        "from sklearn.model_selection import cross_val_score\n",
        "\n",
        "# KNN classifier\n",
        "knn = KNeighborsClassifier()\n",
        "\n",
        "# Use k-fold cross validation with k=10\n",
        "scores = cross_val_score(knn, X_smote, y_smote, cv=10)\n",
        "\n",
        "# Print the mean and standard deviation of the scores\n",
        "print(\"Array acucuracy KNN \")\n",
        "print(scores)\n",
        "print(\"Accuracy: %0.2f\" % scores.mean())"
      ],
      "metadata": {
        "id": "6NsYzi3d3FQZ",
        "colab": {
          "base_uri": "https://localhost:8080/"
        },
        "outputId": "87c53d76-bf7a-4fb0-d8e3-cd55e3b087be"
      },
      "execution_count": null,
      "outputs": [
        {
          "output_type": "stream",
          "name": "stdout",
          "text": [
            "Array acucuracy KNN \n",
            "[0.79953772 0.81949989 0.83606557 0.85981505 0.87431694 0.87662884\n",
            " 0.81672972 0.84342161 0.8678016  0.69482976]\n",
            "Accuracy: 0.83\n"
          ]
        }
      ]
    },
    {
      "cell_type": "markdown",
      "source": [
        "## **Decision Tree Classifier**"
      ],
      "metadata": {
        "id": "oa78lLW9dDsa"
      }
    },
    {
      "cell_type": "code",
      "source": [
        "#4) Smote\n",
        "# Train, Test, Split\n",
        "X_train_2, X_test_2, Y_train_2, Y_test_2 = train_test_split(X_smote, y_smote, test_size = 0.2, random_state=152, stratify=y_smote)\n",
        "\n",
        "# Define the model\n",
        "clf_2 = DecisionTreeClassifier()\n",
        "\n",
        "# Fit the model\n",
        "clf_2.fit(X_train_2,Y_train_2)\n",
        "\n",
        "# Make prediction\n",
        "pred_2 = clf_2.predict(X_test_2)\n",
        "\n",
        "# Accuracy score\n",
        "print('Accuracy score of Decision Tree model is:', accuracy_score(Y_test_2, pred_2))\n",
        "lst_accuracy.append(accuracy_score(Y_test_2, pred_2))\n",
        "# Confusion Matrix\n",
        "conmat_2 = confusion_matrix(Y_test_2, pred_2)\n",
        "print(conmat_2)\n",
        "plt.figure(figsize=(10,8))\n",
        "plt.title('Confusion Matrix of Decision Tree Model')\n",
        "sns.heatmap(conmat_2, annot=True, cmap=\"Purples\", fmt=\"d\",cbar=True)\n",
        "\n",
        "# Classification Report\n",
        "print('Classification Report of Decision Tree Model')\n",
        "print(classification_report(Y_test_2, pred_2))\n"
      ],
      "metadata": {
        "id": "-PO9ncBBdERa",
        "colab": {
          "base_uri": "https://localhost:8080/",
          "height": 735
        },
        "outputId": "077828cd-43e2-4085-9766-5a67c9717b9d"
      },
      "execution_count": null,
      "outputs": [
        {
          "output_type": "stream",
          "name": "stdout",
          "text": [
            "Accuracy score of Decision Tree model is: 0.8980771251444783\n",
            "[[4255  504]\n",
            " [ 466 4292]]\n",
            "Classification Report of Decision Tree Model\n",
            "              precision    recall  f1-score   support\n",
            "\n",
            "         0.0       0.90      0.89      0.90      4759\n",
            "         1.0       0.89      0.90      0.90      4758\n",
            "\n",
            "    accuracy                           0.90      9517\n",
            "   macro avg       0.90      0.90      0.90      9517\n",
            "weighted avg       0.90      0.90      0.90      9517\n",
            "\n"
          ]
        },
        {
          "output_type": "display_data",
          "data": {
            "text/plain": [
              "<Figure size 720x576 with 2 Axes>"
            ],
            "image/png": "[encoded data removed]"
          },
          "metadata": {
            "needs_background": "light"
          }
        }
      ]
    },
    {
      "cell_type": "code",
      "source": [
        "from sklearn.tree import DecisionTreeClassifier\n",
        "from sklearn.model_selection import cross_val_score\n",
        "\n",
        "# Decision Tree classifier\n",
        "dt = DecisionTreeClassifier()\n",
        "\n",
        "# Use k-fold cross validation with k=10\n",
        "scores = cross_val_score(dt, X_smote, y_smote, cv=10)\n",
        "\n",
        "# Print the mean and standard deviation of the scores\n",
        "print(\"Array acucuracy Decision Tree Classifier \")\n",
        "print(scores)\n",
        "print(\"Accuracy: %0.2f\" % scores.mean())"
      ],
      "metadata": {
        "id": "YtQKECIM3RRR",
        "colab": {
          "base_uri": "https://localhost:8080/"
        },
        "outputId": "6b87cd2c-3fe0-4549-ef66-6dc0270052c0"
      },
      "execution_count": null,
      "outputs": [
        {
          "output_type": "stream",
          "name": "stdout",
          "text": [
            "Array acucuracy Decision Tree Classifier \n",
            "[0.80332003 0.80962387 0.78940731 0.85329971 0.89974779 0.91151744\n",
            " 0.82870954 0.84047919 0.8989071  0.60655738]\n",
            "Accuracy: 0.82\n"
          ]
        }
      ]
    },
    {
      "cell_type": "markdown",
      "source": [
        "## **Random Forest Classifier**"
      ],
      "metadata": {
        "id": "NcjOZ2K7fRqi"
      }
    },
    {
      "cell_type": "code",
      "source": [
        "#\"\"\"4) Smote\"\"\"\n",
        "\n",
        "# Train, Test, Split\n",
        "X_train_3, X_test_3, Y_train_3, Y_test_3 = train_test_split(X_smote, y_smote, test_size = 0.2, random_state=152, stratify=y_smote)\n",
        "\n",
        "# Define the model\n",
        "clf_3 = RandomForestClassifier()\n",
        "\n",
        "# Fit tme model\n",
        "clf_3.fit(X_train_3,Y_train_3)\n",
        "\n",
        "# Make prediction\n",
        "pred_3 = clf_3.predict(X_test_3)\n",
        "\n",
        "# Accuracy score\n",
        "print('Accuracy score of Random Forest model is:', accuracy_score(Y_test_3, pred_3))\n",
        "lst_accuracy.append(accuracy_score(Y_test_3, pred_3))\n",
        "# Confusion Matrix\n",
        "conmat_3 = confusion_matrix(Y_test_3, pred_3)\n",
        "print(conmat_3)\n",
        "plt.figure(figsize=(10,8))\n",
        "plt.title('Confusion Matrix of Random Forest Model')\n",
        "sns.heatmap(conmat_3, annot=True, cmap=\"Purples\", fmt=\"d\",cbar=True)\n",
        "\n",
        "# Classification Report\n",
        "print('Classification Report of Random Forest Model')\n",
        "print(classification_report(Y_test_3, pred_3))"
      ],
      "metadata": {
        "id": "U6oGPArcfSXJ",
        "colab": {
          "base_uri": "https://localhost:8080/",
          "height": 735
        },
        "outputId": "a1be9f3f-d26d-4055-946b-12f5f7ab6106"
      },
      "execution_count": null,
      "outputs": [
        {
          "output_type": "stream",
          "name": "stdout",
          "text": [
            "Accuracy score of Random Forest model is: 0.9470421351266155\n",
            "[[4680   79]\n",
            " [ 425 4333]]\n",
            "Classification Report of Random Forest Model\n",
            "              precision    recall  f1-score   support\n",
            "\n",
            "         0.0       0.92      0.98      0.95      4759\n",
            "         1.0       0.98      0.91      0.95      4758\n",
            "\n",
            "    accuracy                           0.95      9517\n",
            "   macro avg       0.95      0.95      0.95      9517\n",
            "weighted avg       0.95      0.95      0.95      9517\n",
            "\n"
          ]
        },
        {
          "output_type": "display_data",
          "data": {
            "text/plain": [
              "<Figure size 720x576 with 2 Axes>"
            ],
            "image/png": "[encoded data removed]"
          },
          "metadata": {
            "needs_background": "light"
          }
        }
      ]
    },
    {
      "cell_type": "code",
      "source": [
        "from sklearn.ensemble import RandomForestClassifier\n",
        "from sklearn.model_selection import cross_val_score\n",
        "\n",
        "# Random Forest Classifier\n",
        "rf = RandomForestClassifier()\n",
        "\n",
        "# Use k-fold cross validation with k=10\n",
        "scores = cross_val_score(rf, X_smote, y_smote, cv=10)\n",
        "\n",
        "# Print the mean and standard deviation of the scores\n",
        "print(\"Array acucuracy Random Forest Classifier \")\n",
        "print(scores)\n",
        "print(\"Accuracy: %0.2f\" % scores.mean())"
      ],
      "metadata": {
        "id": "OAWtPelL3Voo",
        "colab": {
          "base_uri": "https://localhost:8080/"
        },
        "outputId": "04144409-8a5e-4657-c3ba-c2a6ad778c07"
      },
      "execution_count": null,
      "outputs": [
        {
          "output_type": "stream",
          "name": "stdout",
          "text": [
            "Array acucuracy Random Forest Classifier \n",
            "[0.84555579 0.83736079 0.86359815 0.95187053 0.97688104 0.9665826\n",
            " 0.91424968 0.9384195  0.96826398 0.60992013]\n",
            "Accuracy: 0.89\n"
          ]
        }
      ]
    },
    {
      "cell_type": "markdown",
      "source": [
        "### **SVM**"
      ],
      "metadata": {
        "id": "4ItxeS6V9lV8"
      }
    },
    {
      "cell_type": "code",
      "source": [
        "# 4) Smote\"\"\"\n",
        "from sklearn.svm import SVC\n",
        "# Train, Test, Split\n",
        "X_train_4, X_test_4, Y_train_4, Y_test_4 = train_test_split(X_smote, y_smote, test_size = 0.2, random_state=152, stratify=y_smote)\n",
        "\n",
        "# Define the model\n",
        "clf_4 = SVC()\n",
        "\n",
        "# Fit the model\n",
        "clf_4.fit(X_train_4,Y_train_4)\n",
        "\n",
        "# Make prediction\n",
        "pred_4 = clf_4.predict(X_test_4)\n",
        "\n",
        "# Accuracy score\n",
        "print('Accuracy score of SVM model is:', accuracy_score(Y_test_4, pred_4))\n",
        "lst_accuracy.append(accuracy_score(Y_test_4, pred_4))\n",
        "# Confusion Matrix\n",
        "conmat_4 = confusion_matrix(Y_test_4, pred_4)\n",
        "print(conmat_4)\n",
        "plt.figure(figsize=(10,8))\n",
        "plt.title('Confusion Matrix of SVM Model')\n",
        "sns.heatmap(conmat_4, annot=True, cmap=\"Purples\", fmt=\"d\",cbar=True)\n",
        "\n",
        "# Classification Report\n",
        "print('Classification Report of SVM Model')\n",
        "print(classification_report(Y_test_4, pred_4))"
      ],
      "metadata": {
        "id": "Sjx9hF0f9kIM",
        "colab": {
          "base_uri": "https://localhost:8080/",
          "height": 735
        },
        "outputId": "03420a9e-cbdc-4ee8-c2bb-09ee6a0cb326"
      },
      "execution_count": null,
      "outputs": [
        {
          "output_type": "stream",
          "name": "stdout",
          "text": [
            "Accuracy score of SVM model is: 0.8244194599138384\n",
            "[[4183  576]\n",
            " [1095 3663]]\n",
            "Classification Report of SVM Model\n",
            "              precision    recall  f1-score   support\n",
            "\n",
            "         0.0       0.79      0.88      0.83      4759\n",
            "         1.0       0.86      0.77      0.81      4758\n",
            "\n",
            "    accuracy                           0.82      9517\n",
            "   macro avg       0.83      0.82      0.82      9517\n",
            "weighted avg       0.83      0.82      0.82      9517\n",
            "\n"
          ]
        },
        {
          "output_type": "display_data",
          "data": {
            "text/plain": [
              "<Figure size 720x576 with 2 Axes>"
            ],
            "image/png": "[encoded data removed]"
          },
          "metadata": {
            "needs_background": "light"
          }
        }
      ]
    },
    {
      "cell_type": "code",
      "source": [
        "from sklearn.svm import SVC\n",
        "from sklearn.model_selection import cross_val_score\n",
        "\n",
        "# SVM classifier\n",
        "svm = SVC()\n",
        "\n",
        "# Use k-fold cross validation with k=10\n",
        "scores = cross_val_score(svm, X_smote, y_smote, cv=10)\n",
        "\n",
        "# Print the mean and standard deviation of the scores\n",
        "print(\"Array acucuracy SVM\")\n",
        "print(scores)\n",
        "print(\"Accuracy: %0.2f\" % scores.mean())"
      ],
      "metadata": {
        "id": "ylnw7E_53aHy",
        "colab": {
          "base_uri": "https://localhost:8080/"
        },
        "outputId": "b2ea4d4a-f080-4859-beb2-d470fd6ff9d4"
      },
      "execution_count": null,
      "outputs": [
        {
          "output_type": "stream",
          "name": "stdout",
          "text": [
            "Array acucuracy SVM\n",
            "[0.75099811 0.79281362 0.79192938 0.81441782 0.8358554  0.82093317\n",
            " 0.79571248 0.81925179 0.83648592 0.59604876]\n",
            "Accuracy: 0.79\n"
          ]
        }
      ]
    },
    {
      "cell_type": "markdown",
      "source": [
        "### **Naive Bayes**"
      ],
      "metadata": {
        "id": "QfX7oXBj9rv8"
      }
    },
    {
      "cell_type": "code",
      "source": [
        "# 4) Smote\"\"\"\n",
        "from sklearn . naive_bayes import BernoulliNB\n",
        "# Train, Test, Split\n",
        "X_train_5, X_test_5, Y_train_5, Y_test_5 = train_test_split(X_smote, y_smote, test_size = 0.2, random_state=152, stratify=y_smote)\n",
        "\n",
        "# Define the model\n",
        "clf_5 = BernoulliNB()\n",
        "\n",
        "# Fit the model\n",
        "clf_5.fit(X_train_5,Y_train_5)\n",
        "\n",
        "# Make prediction\n",
        "pred_5 = clf_5.predict(X_test_5)\n",
        "\n",
        "# Accuracy score\n",
        "print('Accuracy score of Naive Bayes model 2 is:', accuracy_score(Y_test_5, pred_5))\n",
        "lst_accuracy.append(accuracy_score(Y_test_5, pred_5))\n",
        "\n",
        "# Confusion Matrix\n",
        "conmat_5 = confusion_matrix(Y_test_5, pred_5)\n",
        "print(conmat_5)\n",
        "plt.figure(figsize=(10,8))\n",
        "plt.title('Confusion Matrix of Naive Bayes Model')\n",
        "sns.heatmap(conmat_5, annot=True, cmap=\"Purples\", fmt=\"d\",cbar=True)\n",
        "\n",
        "# Classification Report\n",
        "print('Classification Report of Naive Bayes Model')\n",
        "print(classification_report(Y_test_5, pred_5))"
      ],
      "metadata": {
        "id": "IqjkZGLR9sTT",
        "colab": {
          "base_uri": "https://localhost:8080/"
        },
        "outputId": "8b3d5ae3-931e-42b3-f551-691cd3331107"
      },
      "execution_count": null,
      "outputs": [
        {
          "output_type": "stream",
          "name": "stdout",
          "text": [
            "Accuracy score of Naive Bayes model 2 is: 0.6550383524219817\n",
            "[[2817 1942]\n",
            " [1341 3417]]\n",
            "Classification Report of Naive Bayes Model\n",
            "              precision    recall  f1-score   support\n",
            "\n",
            "         0.0       0.68      0.59      0.63      4759\n",
            "         1.0       0.64      0.72      0.68      4758\n",
            "\n",
            "    accuracy                           0.66      9517\n",
            "   macro avg       0.66      0.66      0.65      9517\n",
            "weighted avg       0.66      0.66      0.65      9517\n",
            "\n"
          ]
        },
        {
          "output_type": "display_data",
          "data": {
            "text/plain": [
              "<Figure size 720x576 with 2 Axes>"
            ],
            "image/png": "[encoded data removed]"
          },
          "metadata": {
            "needs_background": "light"
          }
        }
      ]
    },
    {
      "cell_type": "code",
      "source": [
        "from sklearn.naive_bayes import GaussianNB\n",
        "from sklearn.model_selection import cross_val_score\n",
        "\n",
        "# Naive Bayes classifier\n",
        "nb = GaussianNB()\n",
        "\n",
        "# Use k-fold cross validation with k=10\n",
        "scores = cross_val_score(nb, X_smote, y_smote, cv=10)\n",
        "\n",
        "# Print the mean and standard deviation of the scores\n",
        "print(\"Array acucuracy Naive Bayes \")\n",
        "print(scores)\n",
        "print(\"Accuracy: %0.2f\" % scores.mean())"
      ],
      "metadata": {
        "id": "koDASweH3eCo",
        "colab": {
          "base_uri": "https://localhost:8080/"
        },
        "outputId": "f3b2aae7-9d54-468b-ce7e-8a18863fdc7f"
      },
      "execution_count": null,
      "outputs": [
        {
          "output_type": "stream",
          "name": "stdout",
          "text": [
            "Array acucuracy Naive Bayes \n",
            "[0.72998529 0.73040555 0.69314838 0.72992854 0.78667507 0.75746112\n",
            " 0.74022699 0.76860025 0.79361076 0.51176965]\n",
            "Accuracy: 0.72\n"
          ]
        }
      ]
    },
    {
      "cell_type": "markdown",
      "source": [
        "## **Tổng kết**"
      ],
      "metadata": {
        "id": "LHDIQeGpq-rB"
      }
    },
    {
      "cell_type": "code",
      "source": [
        "# Import libraries\n",
        "import matplotlib.pyplot as plt\n",
        " \n",
        "# Define Axes\n",
        "X = ['KNN', 'Decision Tree', 'Random Forest', 'SVM', 'Naive Bayes']\n",
        "Y = lst_accuracy\n",
        " \n",
        "# Plot a graph\n",
        "plt.plot(X, Y, 'o-r', color='red')\n",
        " \n",
        "# Display graph\n",
        "# plotting\n",
        "plt.title(\"Accuracy: KNN, Decision Tree Classifier, Random Forest Classifier, SVM, Naive Bayes\")\n",
        "plt.xlabel(\"Model\")\n",
        "plt.ylabel(\"Accuracy\")\n",
        "plt.show()"
      ],
      "metadata": {
        "id": "14AvtORPrCtn",
        "colab": {
          "base_uri": "https://localhost:8080/"
        },
        "outputId": "955dcf55-03af-44e3-d252-8c0f476a2a7a"
      },
      "execution_count": null,
      "outputs": [
        {
          "output_type": "display_data",
          "data": {
            "text/plain": [
              "<Figure size 432x288 with 1 Axes>"
            ],
            "image/png": "[encoded data removed]"
          },
          "metadata": {
            "needs_background": "light"
          }
        }
      ]
    }
  ]
}