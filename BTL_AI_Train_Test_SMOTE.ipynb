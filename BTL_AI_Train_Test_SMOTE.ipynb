{
  "nbformat": 4,
  "nbformat_minor": 0,
  "metadata": {
    "colab": {
      "provenance": [],
      "authorship_tag": "ABX9TyNhcmywTfo7qZOg8ZhFRvS1",
      "include_colab_link": true
    },
    "kernelspec": {
      "name": "python3",
      "display_name": "Python 3"
    },
    "language_info": {
      "name": "python"
    }
  },
  "cells": [
    {
      "cell_type": "markdown",
      "metadata": {
        "id": "view-in-github",
        "colab_type": "text"
      },
      "source": [
        "<a href=\"https://colab.research.google.com/github/minhduc01168/ET_Tri_tue_nhan_tao/blob/master/BTL_AI_Train_Test_SMOTE.ipynb\" target=\"_parent\"><img src=\"https://colab.research.google.com/assets/colab-badge.svg\" alt=\"Open In Colab\"/></a>"
      ]
    },
    {
      "cell_type": "markdown",
      "source": [
        "# Modeling"
      ],
      "metadata": {
        "id": "bor9FnrqbRwd"
      }
    },
    {
      "cell_type": "code",
      "execution_count": null,
      "metadata": {
        "id": "762F6V-aa7og"
      },
      "outputs": [],
      "source": [
        "# Import libraries\n",
        "\n",
        "import pandas as pd\n",
        "import matplotlib.pyplot as plt\n",
        "import numpy as np\n",
        "import scipy\n",
        "import sklearn\n",
        "import seaborn as sns\n",
        "import missingno as msno\n",
        "from sklearn.preprocessing import LabelEncoder\n",
        "from sklearn.model_selection import train_test_split\n",
        "from sklearn.feature_selection import SelectKBest\n",
        "from sklearn.feature_selection import chi2\n",
        "from imblearn.over_sampling import SMOTE\n",
        "from sklearn.inspection import permutation_importance\n",
        "from sklearn.neighbors import KNeighborsClassifier\n",
        "from sklearn import metrics\n",
        "from sklearn.metrics import classification_report, confusion_matrix, roc_auc_score,roc_curve, accuracy_score\n",
        "from imblearn import under_sampling, over_sampling\n",
        "from sklearn.ensemble import RandomForestClassifier\n",
        "from sklearn.tree import DecisionTreeClassifier\n",
        "from sklearn import svm\n",
        "from sklearn.model_selection import RandomizedSearchCV\n",
        "from imblearn.pipeline import Pipeline\n",
        "from sklearn.model_selection import RepeatedStratifiedKFold"
      ]
    },
    {
      "cell_type": "code",
      "source": [
        "from google.colab import drive\n",
        "drive.mount('/content/drive')"
      ],
      "metadata": {
        "id": "9vQ6asCSbYbS",
        "colab": {
          "base_uri": "https://localhost:8080/"
        },
        "outputId": "41866f7b-cf20-4fb2-cb51-76d52bb4642b"
      },
      "execution_count": null,
      "outputs": [
        {
          "output_type": "stream",
          "name": "stdout",
          "text": [
            "Mounted at /content/drive\n"
          ]
        }
      ]
    },
    {
      "cell_type": "code",
      "source": [
        "df = pd.read_csv('/content/drive/My Drive/AI_ML_DS/AI/BTL_AI/credit_risk_dataset_SMOTE.csv')"
      ],
      "metadata": {
        "id": "pdlkFVxSbgyy"
      },
      "execution_count": null,
      "outputs": []
    },
    {
      "cell_type": "code",
      "source": [
        "df.head()"
      ],
      "metadata": {
        "id": "Uxn6nTmpbspr",
        "colab": {
          "base_uri": "https://localhost:8080/",
          "height": 270
        },
        "outputId": "356c062f-57f8-4ff9-e964-b9084958a57d"
      },
      "execution_count": null,
      "outputs": [
        {
          "output_type": "execute_result",
          "data": {
            "text/plain": [
              "   person_age  person_income  person_home_ownership  person_emp_length  \\\n",
              "0    0.038462       0.026807               0.666667             0.3125   \n",
              "1    0.038462       0.028263               0.666667             0.1250   \n",
              "2    0.038462       0.028749               0.666667             0.3750   \n",
              "3    0.038462       0.028749               0.666667             0.1250   \n",
              "4    0.153846       0.032634               0.000000             0.5000   \n",
              "\n",
              "   loan_intent  loan_grade  loan_amnt  loan_int_rate  loan_percent_income  \\\n",
              "0          0.2        0.25   0.018450       0.400841             0.191489   \n",
              "1          1.0        0.00   0.073801       0.120533             0.510638   \n",
              "2          1.0        0.75   0.040590       0.653118             0.319149   \n",
              "3          0.4        0.00   0.147601       0.224947             0.936170   \n",
              "4          0.2        0.25   0.046125       0.390329             0.319149   \n",
              "\n",
              "   cb_person_default_on_file  cb_person_cred_hist_length  loan_status  \n",
              "0                        0.0                    0.000000          0.0  \n",
              "1                        0.0                    0.000000          1.0  \n",
              "2                        0.0                    0.071429          1.0  \n",
              "3                        0.0                    0.000000          1.0  \n",
              "4                        0.0                    0.000000          1.0  "
            ],
            "text/html": [
              "\n",
              "  <div id=\"df-168eecde-4f3f-4483-86b3-76d918ccccef\">\n",
              "    <div class=\"colab-df-container\">\n",
              "      <div>\n",
              "<style scoped>\n",
              "    .dataframe tbody tr th:only-of-type {\n",
              "        vertical-align: middle;\n",
              "    }\n",
              "\n",
              "    .dataframe tbody tr th {\n",
              "        vertical-align: top;\n",
              "    }\n",
              "\n",
              "    .dataframe thead th {\n",
              "        text-align: right;\n",
              "    }\n",
              "</style>\n",
              "<table border=\"1\" class=\"dataframe\">\n",
              "  <thead>\n",
              "    <tr style=\"text-align: right;\">\n",
              "      <th></th>\n",
              "      <th>person_age</th>\n",
              "      <th>person_income</th>\n",
              "      <th>person_home_ownership</th>\n",
              "      <th>person_emp_length</th>\n",
              "      <th>loan_intent</th>\n",
              "      <th>loan_grade</th>\n",
              "      <th>loan_amnt</th>\n",
              "      <th>loan_int_rate</th>\n",
              "      <th>loan_percent_income</th>\n",
              "      <th>cb_person_default_on_file</th>\n",
              "      <th>cb_person_cred_hist_length</th>\n",
              "      <th>loan_status</th>\n",
              "    </tr>\n",
              "  </thead>\n",
              "  <tbody>\n",
              "    <tr>\n",
              "      <th>0</th>\n",
              "      <td>0.038462</td>\n",
              "      <td>0.026807</td>\n",
              "      <td>0.666667</td>\n",
              "      <td>0.3125</td>\n",
              "      <td>0.2</td>\n",
              "      <td>0.25</td>\n",
              "      <td>0.018450</td>\n",
              "      <td>0.400841</td>\n",
              "      <td>0.191489</td>\n",
              "      <td>0.0</td>\n",
              "      <td>0.000000</td>\n",
              "      <td>0.0</td>\n",
              "    </tr>\n",
              "    <tr>\n",
              "      <th>1</th>\n",
              "      <td>0.038462</td>\n",
              "      <td>0.028263</td>\n",
              "      <td>0.666667</td>\n",
              "      <td>0.1250</td>\n",
              "      <td>1.0</td>\n",
              "      <td>0.00</td>\n",
              "      <td>0.073801</td>\n",
              "      <td>0.120533</td>\n",
              "      <td>0.510638</td>\n",
              "      <td>0.0</td>\n",
              "      <td>0.000000</td>\n",
              "      <td>1.0</td>\n",
              "    </tr>\n",
              "    <tr>\n",
              "      <th>2</th>\n",
              "      <td>0.038462</td>\n",
              "      <td>0.028749</td>\n",
              "      <td>0.666667</td>\n",
              "      <td>0.3750</td>\n",
              "      <td>1.0</td>\n",
              "      <td>0.75</td>\n",
              "      <td>0.040590</td>\n",
              "      <td>0.653118</td>\n",
              "      <td>0.319149</td>\n",
              "      <td>0.0</td>\n",
              "      <td>0.071429</td>\n",
              "      <td>1.0</td>\n",
              "    </tr>\n",
              "    <tr>\n",
              "      <th>3</th>\n",
              "      <td>0.038462</td>\n",
              "      <td>0.028749</td>\n",
              "      <td>0.666667</td>\n",
              "      <td>0.1250</td>\n",
              "      <td>0.4</td>\n",
              "      <td>0.00</td>\n",
              "      <td>0.147601</td>\n",
              "      <td>0.224947</td>\n",
              "      <td>0.936170</td>\n",
              "      <td>0.0</td>\n",
              "      <td>0.000000</td>\n",
              "      <td>1.0</td>\n",
              "    </tr>\n",
              "    <tr>\n",
              "      <th>4</th>\n",
              "      <td>0.153846</td>\n",
              "      <td>0.032634</td>\n",
              "      <td>0.000000</td>\n",
              "      <td>0.5000</td>\n",
              "      <td>0.2</td>\n",
              "      <td>0.25</td>\n",
              "      <td>0.046125</td>\n",
              "      <td>0.390329</td>\n",
              "      <td>0.319149</td>\n",
              "      <td>0.0</td>\n",
              "      <td>0.000000</td>\n",
              "      <td>1.0</td>\n",
              "    </tr>\n",
              "  </tbody>\n",
              "</table>\n",
              "</div>\n",
              "      <button class=\"colab-df-convert\" onclick=\"convertToInteractive('df-168eecde-4f3f-4483-86b3-76d918ccccef')\"\n",
              "              title=\"Convert this dataframe to an interactive table.\"\n",
              "              style=\"display:none;\">\n",
              "        \n",
              "  <svg xmlns=\"http://www.w3.org/2000/svg\" height=\"24px\"viewBox=\"0 0 24 24\"\n",
              "       width=\"24px\">\n",
              "    <path d=\"M0 0h24v24H0V0z\" fill=\"none\"/>\n",
              "    <path d=\"M18.56 5.44l.94 2.06.94-2.06 2.06-.94-2.06-.94-.94-2.06-.94 2.06-2.06.94zm-11 1L8.5 8.5l.94-2.06 2.06-.94-2.06-.94L8.5 2.5l-.94 2.06-2.06.94zm10 10l.94 2.06.94-2.06 2.06-.94-2.06-.94-.94-2.06-.94 2.06-2.06.94z\"/><path d=\"M17.41 7.96l-1.37-1.37c-.4-.4-.92-.59-1.43-.59-.52 0-1.04.2-1.43.59L10.3 9.45l-7.72 7.72c-.78.78-.78 2.05 0 2.83L4 21.41c.39.39.9.59 1.41.59.51 0 1.02-.2 1.41-.59l7.78-7.78 2.81-2.81c.8-.78.8-2.07 0-2.86zM5.41 20L4 18.59l7.72-7.72 1.47 1.35L5.41 20z\"/>\n",
              "  </svg>\n",
              "      </button>\n",
              "      \n",
              "  <style>\n",
              "    .colab-df-container {\n",
              "      display:flex;\n",
              "      flex-wrap:wrap;\n",
              "      gap: 12px;\n",
              "    }\n",
              "\n",
              "    .colab-df-convert {\n",
              "      background-color: #E8F0FE;\n",
              "      border: none;\n",
              "      border-radius: 50%;\n",
              "      cursor: pointer;\n",
              "      display: none;\n",
              "      fill: #1967D2;\n",
              "      height: 32px;\n",
              "      padding: 0 0 0 0;\n",
              "      width: 32px;\n",
              "    }\n",
              "\n",
              "    .colab-df-convert:hover {\n",
              "      background-color: #E2EBFA;\n",
              "      box-shadow: 0px 1px 2px rgba(60, 64, 67, 0.3), 0px 1px 3px 1px rgba(60, 64, 67, 0.15);\n",
              "      fill: #174EA6;\n",
              "    }\n",
              "\n",
              "    [theme=dark] .colab-df-convert {\n",
              "      background-color: #3B4455;\n",
              "      fill: #D2E3FC;\n",
              "    }\n",
              "\n",
              "    [theme=dark] .colab-df-convert:hover {\n",
              "      background-color: #434B5C;\n",
              "      box-shadow: 0px 1px 3px 1px rgba(0, 0, 0, 0.15);\n",
              "      filter: drop-shadow(0px 1px 2px rgba(0, 0, 0, 0.3));\n",
              "      fill: #FFFFFF;\n",
              "    }\n",
              "  </style>\n",
              "\n",
              "      <script>\n",
              "        const buttonEl =\n",
              "          document.querySelector('#df-168eecde-4f3f-4483-86b3-76d918ccccef button.colab-df-convert');\n",
              "        buttonEl.style.display =\n",
              "          google.colab.kernel.accessAllowed ? 'block' : 'none';\n",
              "\n",
              "        async function convertToInteractive(key) {\n",
              "          const element = document.querySelector('#df-168eecde-4f3f-4483-86b3-76d918ccccef');\n",
              "          const dataTable =\n",
              "            await google.colab.kernel.invokeFunction('convertToInteractive',\n",
              "                                                     [key], {});\n",
              "          if (!dataTable) return;\n",
              "\n",
              "          const docLinkHtml = 'Like what you see? Visit the ' +\n",
              "            '<a target=\"_blank\" href=https://colab.research.google.com/notebooks/data_table.ipynb>data table notebook</a>'\n",
              "            + ' to learn more about interactive tables.';\n",
              "          element.innerHTML = '';\n",
              "          dataTable['output_type'] = 'display_data';\n",
              "          await google.colab.output.renderOutput(dataTable, element);\n",
              "          const docLink = document.createElement('div');\n",
              "          docLink.innerHTML = docLinkHtml;\n",
              "          element.appendChild(docLink);\n",
              "        }\n",
              "      </script>\n",
              "    </div>\n",
              "  </div>\n",
              "  "
            ]
          },
          "metadata": {},
          "execution_count": 4
        }
      ]
    },
    {
      "cell_type": "code",
      "source": [
        "X_smote = pd.DataFrame(df)\n",
        "X_smote = X_smote.drop(['loan_status'], axis=1)\n",
        "y_smote = df[['loan_status']]\n",
        "X_smote.info()"
      ],
      "metadata": {
        "id": "4TRQsRN_bwAj",
        "colab": {
          "base_uri": "https://localhost:8080/"
        },
        "outputId": "d3b64198-b7b9-4373-e580-a56291e1b00e"
      },
      "execution_count": null,
      "outputs": [
        {
          "output_type": "stream",
          "name": "stdout",
          "text": [
            "<class 'pandas.core.frame.DataFrame'>\n",
            "RangeIndex: 47582 entries, 0 to 47581\n",
            "Data columns (total 11 columns):\n",
            " #   Column                      Non-Null Count  Dtype  \n",
            "---  ------                      --------------  -----  \n",
            " 0   person_age                  47582 non-null  float64\n",
            " 1   person_income               47582 non-null  float64\n",
            " 2   person_home_ownership       47582 non-null  float64\n",
            " 3   person_emp_length           47582 non-null  float64\n",
            " 4   loan_intent                 47582 non-null  float64\n",
            " 5   loan_grade                  47582 non-null  float64\n",
            " 6   loan_amnt                   47582 non-null  float64\n",
            " 7   loan_int_rate               47582 non-null  float64\n",
            " 8   loan_percent_income         47582 non-null  float64\n",
            " 9   cb_person_default_on_file   47582 non-null  float64\n",
            " 10  cb_person_cred_hist_length  47582 non-null  float64\n",
            "dtypes: float64(11)\n",
            "memory usage: 4.0 MB\n"
          ]
        }
      ]
    },
    {
      "cell_type": "code",
      "source": [
        "X_smote"
      ],
      "metadata": {
        "id": "45TKwrEfcr9T",
        "colab": {
          "base_uri": "https://localhost:8080/",
          "height": 487
        },
        "outputId": "19397f6a-fffa-4d0b-85d1-b0a45b1b89e3"
      },
      "execution_count": null,
      "outputs": [
        {
          "output_type": "execute_result",
          "data": {
            "text/plain": [
              "       person_age  person_income  person_home_ownership  person_emp_length  \\\n",
              "0        0.038462       0.026807               0.666667           0.312500   \n",
              "1        0.038462       0.028263               0.666667           0.125000   \n",
              "2        0.038462       0.028749               0.666667           0.375000   \n",
              "3        0.038462       0.028749               0.666667           0.125000   \n",
              "4        0.153846       0.032634               0.000000           0.500000   \n",
              "...           ...            ...                    ...                ...   \n",
              "47577    0.642322       0.099647               1.000000           0.308561   \n",
              "47578    0.088389       0.156551               0.000000           0.321906   \n",
              "47579    0.244847       0.406957               0.894336           0.647876   \n",
              "47580    0.038462       0.142473               1.000000           0.121842   \n",
              "47581    0.302400       0.130062               1.000000           0.187500   \n",
              "\n",
              "       loan_intent  loan_grade  loan_amnt  loan_int_rate  loan_percent_income  \\\n",
              "0              0.2    0.250000   0.018450       0.400841             0.191489   \n",
              "1              1.0    0.000000   0.073801       0.120533             0.510638   \n",
              "2              1.0    0.750000   0.040590       0.653118             0.319149   \n",
              "3              0.4    0.000000   0.147601       0.224947             0.936170   \n",
              "4              0.2    0.250000   0.046125       0.390329             0.319149   \n",
              "...            ...         ...        ...            ...                  ...   \n",
              "47577          0.0    0.250000   0.333969       0.322192             0.814964   \n",
              "47578          0.4    0.000000   0.197977       0.060834             0.327337   \n",
              "47579          0.6    0.829248   0.719557       0.772293             0.384022   \n",
              "47580          0.6    0.250000   0.420625       0.399510             0.741456   \n",
              "47581          0.8    0.000000   0.445343       0.267021             0.847745   \n",
              "\n",
              "       cb_person_default_on_file  cb_person_cred_hist_length  \n",
              "0                            0.0                    0.000000  \n",
              "1                            0.0                    0.000000  \n",
              "2                            0.0                    0.071429  \n",
              "3                            0.0                    0.000000  \n",
              "4                            0.0                    0.000000  \n",
              "...                          ...                         ...  \n",
              "47577                        0.0                    0.807116  \n",
              "47578                        0.0                    0.121564  \n",
              "47579                        1.0                    0.169001  \n",
              "47580                        0.0                    0.067819  \n",
              "47581                        0.0                    0.540629  \n",
              "\n",
              "[47582 rows x 11 columns]"
            ],
            "text/html": [
              "\n",
              "  <div id=\"df-f2a44940-ff6f-4fd8-b7ed-f1e8461c1432\">\n",
              "    <div class=\"colab-df-container\">\n",
              "      <div>\n",
              "<style scoped>\n",
              "    .dataframe tbody tr th:only-of-type {\n",
              "        vertical-align: middle;\n",
              "    }\n",
              "\n",
              "    .dataframe tbody tr th {\n",
              "        vertical-align: top;\n",
              "    }\n",
              "\n",
              "    .dataframe thead th {\n",
              "        text-align: right;\n",
              "    }\n",
              "</style>\n",
              "<table border=\"1\" class=\"dataframe\">\n",
              "  <thead>\n",
              "    <tr style=\"text-align: right;\">\n",
              "      <th></th>\n",
              "      <th>person_age</th>\n",
              "      <th>person_income</th>\n",
              "      <th>person_home_ownership</th>\n",
              "      <th>person_emp_length</th>\n",
              "      <th>loan_intent</th>\n",
              "      <th>loan_grade</th>\n",
              "      <th>loan_amnt</th>\n",
              "      <th>loan_int_rate</th>\n",
              "      <th>loan_percent_income</th>\n",
              "      <th>cb_person_default_on_file</th>\n",
              "      <th>cb_person_cred_hist_length</th>\n",
              "    </tr>\n",
              "  </thead>\n",
              "  <tbody>\n",
              "    <tr>\n",
              "      <th>0</th>\n",
              "      <td>0.038462</td>\n",
              "      <td>0.026807</td>\n",
              "      <td>0.666667</td>\n",
              "      <td>0.312500</td>\n",
              "      <td>0.2</td>\n",
              "      <td>0.250000</td>\n",
              "      <td>0.018450</td>\n",
              "      <td>0.400841</td>\n",
              "      <td>0.191489</td>\n",
              "      <td>0.0</td>\n",
              "      <td>0.000000</td>\n",
              "    </tr>\n",
              "    <tr>\n",
              "      <th>1</th>\n",
              "      <td>0.038462</td>\n",
              "      <td>0.028263</td>\n",
              "      <td>0.666667</td>\n",
              "      <td>0.125000</td>\n",
              "      <td>1.0</td>\n",
              "      <td>0.000000</td>\n",
              "      <td>0.073801</td>\n",
              "      <td>0.120533</td>\n",
              "      <td>0.510638</td>\n",
              "      <td>0.0</td>\n",
              "      <td>0.000000</td>\n",
              "    </tr>\n",
              "    <tr>\n",
              "      <th>2</th>\n",
              "      <td>0.038462</td>\n",
              "      <td>0.028749</td>\n",
              "      <td>0.666667</td>\n",
              "      <td>0.375000</td>\n",
              "      <td>1.0</td>\n",
              "      <td>0.750000</td>\n",
              "      <td>0.040590</td>\n",
              "      <td>0.653118</td>\n",
              "      <td>0.319149</td>\n",
              "      <td>0.0</td>\n",
              "      <td>0.071429</td>\n",
              "    </tr>\n",
              "    <tr>\n",
              "      <th>3</th>\n",
              "      <td>0.038462</td>\n",
              "      <td>0.028749</td>\n",
              "      <td>0.666667</td>\n",
              "      <td>0.125000</td>\n",
              "      <td>0.4</td>\n",
              "      <td>0.000000</td>\n",
              "      <td>0.147601</td>\n",
              "      <td>0.224947</td>\n",
              "      <td>0.936170</td>\n",
              "      <td>0.0</td>\n",
              "      <td>0.000000</td>\n",
              "    </tr>\n",
              "    <tr>\n",
              "      <th>4</th>\n",
              "      <td>0.153846</td>\n",
              "      <td>0.032634</td>\n",
              "      <td>0.000000</td>\n",
              "      <td>0.500000</td>\n",
              "      <td>0.2</td>\n",
              "      <td>0.250000</td>\n",
              "      <td>0.046125</td>\n",
              "      <td>0.390329</td>\n",
              "      <td>0.319149</td>\n",
              "      <td>0.0</td>\n",
              "      <td>0.000000</td>\n",
              "    </tr>\n",
              "    <tr>\n",
              "      <th>...</th>\n",
              "      <td>...</td>\n",
              "      <td>...</td>\n",
              "      <td>...</td>\n",
              "      <td>...</td>\n",
              "      <td>...</td>\n",
              "      <td>...</td>\n",
              "      <td>...</td>\n",
              "      <td>...</td>\n",
              "      <td>...</td>\n",
              "      <td>...</td>\n",
              "      <td>...</td>\n",
              "    </tr>\n",
              "    <tr>\n",
              "      <th>47577</th>\n",
              "      <td>0.642322</td>\n",
              "      <td>0.099647</td>\n",
              "      <td>1.000000</td>\n",
              "      <td>0.308561</td>\n",
              "      <td>0.0</td>\n",
              "      <td>0.250000</td>\n",
              "      <td>0.333969</td>\n",
              "      <td>0.322192</td>\n",
              "      <td>0.814964</td>\n",
              "      <td>0.0</td>\n",
              "      <td>0.807116</td>\n",
              "    </tr>\n",
              "    <tr>\n",
              "      <th>47578</th>\n",
              "      <td>0.088389</td>\n",
              "      <td>0.156551</td>\n",
              "      <td>0.000000</td>\n",
              "      <td>0.321906</td>\n",
              "      <td>0.4</td>\n",
              "      <td>0.000000</td>\n",
              "      <td>0.197977</td>\n",
              "      <td>0.060834</td>\n",
              "      <td>0.327337</td>\n",
              "      <td>0.0</td>\n",
              "      <td>0.121564</td>\n",
              "    </tr>\n",
              "    <tr>\n",
              "      <th>47579</th>\n",
              "      <td>0.244847</td>\n",
              "      <td>0.406957</td>\n",
              "      <td>0.894336</td>\n",
              "      <td>0.647876</td>\n",
              "      <td>0.6</td>\n",
              "      <td>0.829248</td>\n",
              "      <td>0.719557</td>\n",
              "      <td>0.772293</td>\n",
              "      <td>0.384022</td>\n",
              "      <td>1.0</td>\n",
              "      <td>0.169001</td>\n",
              "    </tr>\n",
              "    <tr>\n",
              "      <th>47580</th>\n",
              "      <td>0.038462</td>\n",
              "      <td>0.142473</td>\n",
              "      <td>1.000000</td>\n",
              "      <td>0.121842</td>\n",
              "      <td>0.6</td>\n",
              "      <td>0.250000</td>\n",
              "      <td>0.420625</td>\n",
              "      <td>0.399510</td>\n",
              "      <td>0.741456</td>\n",
              "      <td>0.0</td>\n",
              "      <td>0.067819</td>\n",
              "    </tr>\n",
              "    <tr>\n",
              "      <th>47581</th>\n",
              "      <td>0.302400</td>\n",
              "      <td>0.130062</td>\n",
              "      <td>1.000000</td>\n",
              "      <td>0.187500</td>\n",
              "      <td>0.8</td>\n",
              "      <td>0.000000</td>\n",
              "      <td>0.445343</td>\n",
              "      <td>0.267021</td>\n",
              "      <td>0.847745</td>\n",
              "      <td>0.0</td>\n",
              "      <td>0.540629</td>\n",
              "    </tr>\n",
              "  </tbody>\n",
              "</table>\n",
              "<p>47582 rows × 11 columns</p>\n",
              "</div>\n",
              "      <button class=\"colab-df-convert\" onclick=\"convertToInteractive('df-f2a44940-ff6f-4fd8-b7ed-f1e8461c1432')\"\n",
              "              title=\"Convert this dataframe to an interactive table.\"\n",
              "              style=\"display:none;\">\n",
              "        \n",
              "  <svg xmlns=\"http://www.w3.org/2000/svg\" height=\"24px\"viewBox=\"0 0 24 24\"\n",
              "       width=\"24px\">\n",
              "    <path d=\"M0 0h24v24H0V0z\" fill=\"none\"/>\n",
              "    <path d=\"M18.56 5.44l.94 2.06.94-2.06 2.06-.94-2.06-.94-.94-2.06-.94 2.06-2.06.94zm-11 1L8.5 8.5l.94-2.06 2.06-.94-2.06-.94L8.5 2.5l-.94 2.06-2.06.94zm10 10l.94 2.06.94-2.06 2.06-.94-2.06-.94-.94-2.06-.94 2.06-2.06.94z\"/><path d=\"M17.41 7.96l-1.37-1.37c-.4-.4-.92-.59-1.43-.59-.52 0-1.04.2-1.43.59L10.3 9.45l-7.72 7.72c-.78.78-.78 2.05 0 2.83L4 21.41c.39.39.9.59 1.41.59.51 0 1.02-.2 1.41-.59l7.78-7.78 2.81-2.81c.8-.78.8-2.07 0-2.86zM5.41 20L4 18.59l7.72-7.72 1.47 1.35L5.41 20z\"/>\n",
              "  </svg>\n",
              "      </button>\n",
              "      \n",
              "  <style>\n",
              "    .colab-df-container {\n",
              "      display:flex;\n",
              "      flex-wrap:wrap;\n",
              "      gap: 12px;\n",
              "    }\n",
              "\n",
              "    .colab-df-convert {\n",
              "      background-color: #E8F0FE;\n",
              "      border: none;\n",
              "      border-radius: 50%;\n",
              "      cursor: pointer;\n",
              "      display: none;\n",
              "      fill: #1967D2;\n",
              "      height: 32px;\n",
              "      padding: 0 0 0 0;\n",
              "      width: 32px;\n",
              "    }\n",
              "\n",
              "    .colab-df-convert:hover {\n",
              "      background-color: #E2EBFA;\n",
              "      box-shadow: 0px 1px 2px rgba(60, 64, 67, 0.3), 0px 1px 3px 1px rgba(60, 64, 67, 0.15);\n",
              "      fill: #174EA6;\n",
              "    }\n",
              "\n",
              "    [theme=dark] .colab-df-convert {\n",
              "      background-color: #3B4455;\n",
              "      fill: #D2E3FC;\n",
              "    }\n",
              "\n",
              "    [theme=dark] .colab-df-convert:hover {\n",
              "      background-color: #434B5C;\n",
              "      box-shadow: 0px 1px 3px 1px rgba(0, 0, 0, 0.15);\n",
              "      filter: drop-shadow(0px 1px 2px rgba(0, 0, 0, 0.3));\n",
              "      fill: #FFFFFF;\n",
              "    }\n",
              "  </style>\n",
              "\n",
              "      <script>\n",
              "        const buttonEl =\n",
              "          document.querySelector('#df-f2a44940-ff6f-4fd8-b7ed-f1e8461c1432 button.colab-df-convert');\n",
              "        buttonEl.style.display =\n",
              "          google.colab.kernel.accessAllowed ? 'block' : 'none';\n",
              "\n",
              "        async function convertToInteractive(key) {\n",
              "          const element = document.querySelector('#df-f2a44940-ff6f-4fd8-b7ed-f1e8461c1432');\n",
              "          const dataTable =\n",
              "            await google.colab.kernel.invokeFunction('convertToInteractive',\n",
              "                                                     [key], {});\n",
              "          if (!dataTable) return;\n",
              "\n",
              "          const docLinkHtml = 'Like what you see? Visit the ' +\n",
              "            '<a target=\"_blank\" href=https://colab.research.google.com/notebooks/data_table.ipynb>data table notebook</a>'\n",
              "            + ' to learn more about interactive tables.';\n",
              "          element.innerHTML = '';\n",
              "          dataTable['output_type'] = 'display_data';\n",
              "          await google.colab.output.renderOutput(dataTable, element);\n",
              "          const docLink = document.createElement('div');\n",
              "          docLink.innerHTML = docLinkHtml;\n",
              "          element.appendChild(docLink);\n",
              "        }\n",
              "      </script>\n",
              "    </div>\n",
              "  </div>\n",
              "  "
            ]
          },
          "metadata": {},
          "execution_count": 6
        }
      ]
    },
    {
      "cell_type": "code",
      "source": [
        "y_smote"
      ],
      "metadata": {
        "id": "rDUzx0jEcvSK",
        "colab": {
          "base_uri": "https://localhost:8080/",
          "height": 423
        },
        "outputId": "2dd8c89d-938f-422a-db59-eea3d407a176"
      },
      "execution_count": null,
      "outputs": [
        {
          "output_type": "execute_result",
          "data": {
            "text/plain": [
              "       loan_status\n",
              "0              0.0\n",
              "1              1.0\n",
              "2              1.0\n",
              "3              1.0\n",
              "4              1.0\n",
              "...            ...\n",
              "47577          1.0\n",
              "47578          1.0\n",
              "47579          1.0\n",
              "47580          1.0\n",
              "47581          1.0\n",
              "\n",
              "[47582 rows x 1 columns]"
            ],
            "text/html": [
              "\n",
              "  <div id=\"df-32849ff3-a0cf-45f7-a0ee-2889815715ea\">\n",
              "    <div class=\"colab-df-container\">\n",
              "      <div>\n",
              "<style scoped>\n",
              "    .dataframe tbody tr th:only-of-type {\n",
              "        vertical-align: middle;\n",
              "    }\n",
              "\n",
              "    .dataframe tbody tr th {\n",
              "        vertical-align: top;\n",
              "    }\n",
              "\n",
              "    .dataframe thead th {\n",
              "        text-align: right;\n",
              "    }\n",
              "</style>\n",
              "<table border=\"1\" class=\"dataframe\">\n",
              "  <thead>\n",
              "    <tr style=\"text-align: right;\">\n",
              "      <th></th>\n",
              "      <th>loan_status</th>\n",
              "    </tr>\n",
              "  </thead>\n",
              "  <tbody>\n",
              "    <tr>\n",
              "      <th>0</th>\n",
              "      <td>0.0</td>\n",
              "    </tr>\n",
              "    <tr>\n",
              "      <th>1</th>\n",
              "      <td>1.0</td>\n",
              "    </tr>\n",
              "    <tr>\n",
              "      <th>2</th>\n",
              "      <td>1.0</td>\n",
              "    </tr>\n",
              "    <tr>\n",
              "      <th>3</th>\n",
              "      <td>1.0</td>\n",
              "    </tr>\n",
              "    <tr>\n",
              "      <th>4</th>\n",
              "      <td>1.0</td>\n",
              "    </tr>\n",
              "    <tr>\n",
              "      <th>...</th>\n",
              "      <td>...</td>\n",
              "    </tr>\n",
              "    <tr>\n",
              "      <th>47577</th>\n",
              "      <td>1.0</td>\n",
              "    </tr>\n",
              "    <tr>\n",
              "      <th>47578</th>\n",
              "      <td>1.0</td>\n",
              "    </tr>\n",
              "    <tr>\n",
              "      <th>47579</th>\n",
              "      <td>1.0</td>\n",
              "    </tr>\n",
              "    <tr>\n",
              "      <th>47580</th>\n",
              "      <td>1.0</td>\n",
              "    </tr>\n",
              "    <tr>\n",
              "      <th>47581</th>\n",
              "      <td>1.0</td>\n",
              "    </tr>\n",
              "  </tbody>\n",
              "</table>\n",
              "<p>47582 rows × 1 columns</p>\n",
              "</div>\n",
              "      <button class=\"colab-df-convert\" onclick=\"convertToInteractive('df-32849ff3-a0cf-45f7-a0ee-2889815715ea')\"\n",
              "              title=\"Convert this dataframe to an interactive table.\"\n",
              "              style=\"display:none;\">\n",
              "        \n",
              "  <svg xmlns=\"http://www.w3.org/2000/svg\" height=\"24px\"viewBox=\"0 0 24 24\"\n",
              "       width=\"24px\">\n",
              "    <path d=\"M0 0h24v24H0V0z\" fill=\"none\"/>\n",
              "    <path d=\"M18.56 5.44l.94 2.06.94-2.06 2.06-.94-2.06-.94-.94-2.06-.94 2.06-2.06.94zm-11 1L8.5 8.5l.94-2.06 2.06-.94-2.06-.94L8.5 2.5l-.94 2.06-2.06.94zm10 10l.94 2.06.94-2.06 2.06-.94-2.06-.94-.94-2.06-.94 2.06-2.06.94z\"/><path d=\"M17.41 7.96l-1.37-1.37c-.4-.4-.92-.59-1.43-.59-.52 0-1.04.2-1.43.59L10.3 9.45l-7.72 7.72c-.78.78-.78 2.05 0 2.83L4 21.41c.39.39.9.59 1.41.59.51 0 1.02-.2 1.41-.59l7.78-7.78 2.81-2.81c.8-.78.8-2.07 0-2.86zM5.41 20L4 18.59l7.72-7.72 1.47 1.35L5.41 20z\"/>\n",
              "  </svg>\n",
              "      </button>\n",
              "      \n",
              "  <style>\n",
              "    .colab-df-container {\n",
              "      display:flex;\n",
              "      flex-wrap:wrap;\n",
              "      gap: 12px;\n",
              "    }\n",
              "\n",
              "    .colab-df-convert {\n",
              "      background-color: #E8F0FE;\n",
              "      border: none;\n",
              "      border-radius: 50%;\n",
              "      cursor: pointer;\n",
              "      display: none;\n",
              "      fill: #1967D2;\n",
              "      height: 32px;\n",
              "      padding: 0 0 0 0;\n",
              "      width: 32px;\n",
              "    }\n",
              "\n",
              "    .colab-df-convert:hover {\n",
              "      background-color: #E2EBFA;\n",
              "      box-shadow: 0px 1px 2px rgba(60, 64, 67, 0.3), 0px 1px 3px 1px rgba(60, 64, 67, 0.15);\n",
              "      fill: #174EA6;\n",
              "    }\n",
              "\n",
              "    [theme=dark] .colab-df-convert {\n",
              "      background-color: #3B4455;\n",
              "      fill: #D2E3FC;\n",
              "    }\n",
              "\n",
              "    [theme=dark] .colab-df-convert:hover {\n",
              "      background-color: #434B5C;\n",
              "      box-shadow: 0px 1px 3px 1px rgba(0, 0, 0, 0.15);\n",
              "      filter: drop-shadow(0px 1px 2px rgba(0, 0, 0, 0.3));\n",
              "      fill: #FFFFFF;\n",
              "    }\n",
              "  </style>\n",
              "\n",
              "      <script>\n",
              "        const buttonEl =\n",
              "          document.querySelector('#df-32849ff3-a0cf-45f7-a0ee-2889815715ea button.colab-df-convert');\n",
              "        buttonEl.style.display =\n",
              "          google.colab.kernel.accessAllowed ? 'block' : 'none';\n",
              "\n",
              "        async function convertToInteractive(key) {\n",
              "          const element = document.querySelector('#df-32849ff3-a0cf-45f7-a0ee-2889815715ea');\n",
              "          const dataTable =\n",
              "            await google.colab.kernel.invokeFunction('convertToInteractive',\n",
              "                                                     [key], {});\n",
              "          if (!dataTable) return;\n",
              "\n",
              "          const docLinkHtml = 'Like what you see? Visit the ' +\n",
              "            '<a target=\"_blank\" href=https://colab.research.google.com/notebooks/data_table.ipynb>data table notebook</a>'\n",
              "            + ' to learn more about interactive tables.';\n",
              "          element.innerHTML = '';\n",
              "          dataTable['output_type'] = 'display_data';\n",
              "          await google.colab.output.renderOutput(dataTable, element);\n",
              "          const docLink = document.createElement('div');\n",
              "          docLink.innerHTML = docLinkHtml;\n",
              "          element.appendChild(docLink);\n",
              "        }\n",
              "      </script>\n",
              "    </div>\n",
              "  </div>\n",
              "  "
            ]
          },
          "metadata": {},
          "execution_count": 7
        }
      ]
    },
    {
      "cell_type": "code",
      "source": [
        "y_smote = y_smote.values.ravel()"
      ],
      "metadata": {
        "id": "XWfkrab25EOQ"
      },
      "execution_count": null,
      "outputs": []
    },
    {
      "cell_type": "code",
      "source": [
        "lst_accuracy =[]"
      ],
      "metadata": {
        "id": "C82bNCM7rMv4"
      },
      "execution_count": null,
      "outputs": []
    },
    {
      "cell_type": "markdown",
      "source": [
        "### **KNN**"
      ],
      "metadata": {
        "id": "umKG4JwvcK37"
      }
    },
    {
      "cell_type": "code",
      "source": [
        "# 4) Smote\"\"\"\n",
        "\n",
        "# Train, Test, Split\n",
        "X_train_1, X_test_1, Y_train_1, Y_test_1 = train_test_split(X_smote, y_smote, test_size = 0.2, random_state=152, stratify=y_smote)\n",
        "\n",
        "# Define the model\n",
        "clf_1 = KNeighborsClassifier()\n",
        "\n",
        "# Fit the model\n",
        "clf_1.fit(X_train_1,Y_train_1)\n",
        "\n",
        "# Make prediction\n",
        "pred_1 = clf_1.predict(X_test_1)\n",
        "\n",
        "# Accuracy score\n",
        "print('Accuracy score of KNN model 2 is:', accuracy_score(Y_test_1, pred_1))\n",
        "# lst_accuracy.append(accuracy_score(Y_test_1, pred_1))\n",
        "# Confusion Matrix\n",
        "conmat_1 = confusion_matrix(Y_test_1, pred_1)\n",
        "print(conmat_1)\n",
        "plt.figure(figsize=(10,8))\n",
        "plt.title('Confusion Matrix of KNN 2th Model')\n",
        "sns.heatmap(conmat_1, annot=True, cmap=\"Purples\", fmt=\"d\",cbar=True)\n",
        "\n",
        "# Classification Report\n",
        "print('Classification Report of KNN 2th Model')\n",
        "print(classification_report(Y_test_1, pred_1))"
      ],
      "metadata": {
        "id": "j_1Fc-olcOjI",
        "colab": {
          "base_uri": "https://localhost:8080/",
          "height": 735
        },
        "outputId": "1d75c5a3-431e-4d9d-d5aa-b121eafa6985"
      },
      "execution_count": null,
      "outputs": [
        {
          "output_type": "stream",
          "name": "stdout",
          "text": [
            "Accuracy score of KNN model 2 is: 0.8818955553220553\n",
            "[[3852  907]\n",
            " [ 217 4541]]\n",
            "Classification Report of KNN 2th Model\n",
            "              precision    recall  f1-score   support\n",
            "\n",
            "         0.0       0.95      0.81      0.87      4759\n",
            "         1.0       0.83      0.95      0.89      4758\n",
            "\n",
            "    accuracy                           0.88      9517\n",
            "   macro avg       0.89      0.88      0.88      9517\n",
            "weighted avg       0.89      0.88      0.88      9517\n",
            "\n"
          ]
        },
        {
          "output_type": "display_data",
          "data": {
            "text/plain": [
              "<Figure size 720x576 with 2 Axes>"
            ],
            "image/png": "[encoded data removed]"
          },
          "metadata": {
            "needs_background": "light"
          }
        }
      ]
    },
    {
      "cell_type": "code",
      "source": [
        "from sklearn.neighbors import KNeighborsClassifier\n",
        "from sklearn.model_selection import cross_val_score\n",
        "\n",
        "# KNN classifier\n",
        "knn = KNeighborsClassifier()\n",
        "\n",
        "# Use k-fold cross validation with k=10\n",
        "scores = cross_val_score(knn, X_smote, y_smote, cv=10)\n",
        "\n",
        "# Print the mean and standard deviation of the scores\n",
        "print(\"Array acucuracy KNN \")\n",
        "print(scores)\n",
        "print(\"Accuracy: %0.2f\" % scores.mean())\n",
        "lst_accuracy.append(scores.mean())"
      ],
      "metadata": {
        "id": "6NsYzi3d3FQZ",
        "colab": {
          "base_uri": "https://localhost:8080/"
        },
        "outputId": "04d3d7ea-b6fc-4603-cf87-f9cc30e9ea84"
      },
      "execution_count": null,
      "outputs": [
        {
          "output_type": "stream",
          "name": "stdout",
          "text": [
            "Array acucuracy KNN \n",
            "[0.80647195 0.81781887 0.83375368 0.85897436 0.87683901 0.87641866\n",
            " 0.81357713 0.84068937 0.86696091 0.68726356]\n",
            "Accuracy: 0.83\n"
          ]
        }
      ]
    },
    {
      "cell_type": "markdown",
      "source": [
        "## **Decision Tree Classifier**"
      ],
      "metadata": {
        "id": "oa78lLW9dDsa"
      }
    },
    {
      "cell_type": "code",
      "source": [
        "#4) Smote\n",
        "# Train, Test, Split\n",
        "X_train_2, X_test_2, Y_train_2, Y_test_2 = train_test_split(X_smote, y_smote, test_size = 0.2, random_state=152, stratify=y_smote)\n",
        "\n",
        "# Define the model\n",
        "clf_2 = DecisionTreeClassifier()\n",
        "\n",
        "# Fit the model\n",
        "clf_2.fit(X_train_2,Y_train_2)\n",
        "\n",
        "# Make prediction\n",
        "pred_2 = clf_2.predict(X_test_2)\n",
        "\n",
        "# Accuracy score\n",
        "print('Accuracy score of Decision Tree model is:', accuracy_score(Y_test_2, pred_2))\n",
        "# lst_accuracy.append(accuracy_score(Y_test_2, pred_2))\n",
        "# Confusion Matrix\n",
        "conmat_2 = confusion_matrix(Y_test_2, pred_2)\n",
        "print(conmat_2)\n",
        "plt.figure(figsize=(10,8))\n",
        "plt.title('Confusion Matrix of Decision Tree Model')\n",
        "sns.heatmap(conmat_2, annot=True, cmap=\"Purples\", fmt=\"d\",cbar=True)\n",
        "\n",
        "# Classification Report\n",
        "print('Classification Report of Decision Tree Model')\n",
        "print(classification_report(Y_test_2, pred_2))\n"
      ],
      "metadata": {
        "id": "-PO9ncBBdERa",
        "colab": {
          "base_uri": "https://localhost:8080/",
          "height": 735
        },
        "outputId": "3f5a46de-e1d6-4e83-eb31-3405c1e1109f"
      },
      "execution_count": null,
      "outputs": [
        {
          "output_type": "stream",
          "name": "stdout",
          "text": [
            "Accuracy score of Decision Tree model is: 0.8993380266890827\n",
            "[[4247  512]\n",
            " [ 446 4312]]\n",
            "Classification Report of Decision Tree Model\n",
            "              precision    recall  f1-score   support\n",
            "\n",
            "         0.0       0.90      0.89      0.90      4759\n",
            "         1.0       0.89      0.91      0.90      4758\n",
            "\n",
            "    accuracy                           0.90      9517\n",
            "   macro avg       0.90      0.90      0.90      9517\n",
            "weighted avg       0.90      0.90      0.90      9517\n",
            "\n"
          ]
        },
        {
          "output_type": "display_data",
          "data": {
            "text/plain": [
              "<Figure size 720x576 with 2 Axes>"
            ],
            "image/png": "[encoded data removed]"
          },
          "metadata": {
            "needs_background": "light"
          }
        }
      ]
    },
    {
      "cell_type": "code",
      "source": [
        "from sklearn.tree import DecisionTreeClassifier\n",
        "from sklearn.model_selection import cross_val_score\n",
        "\n",
        "# Decision Tree classifier\n",
        "dt = DecisionTreeClassifier()\n",
        "\n",
        "# Use k-fold cross validation with k=10\n",
        "scores = cross_val_score(dt, X_smote, y_smote, cv=10)\n",
        "\n",
        "# Print the mean and standard deviation of the scores\n",
        "print(\"Array acucuracy Decision Tree Classifier \")\n",
        "print(scores)\n",
        "print(\"Accuracy: %0.2f\" % scores.mean())\n",
        "lst_accuracy.append(scores.mean())"
      ],
      "metadata": {
        "id": "YtQKECIM3RRR",
        "colab": {
          "base_uri": "https://localhost:8080/"
        },
        "outputId": "16edbeee-738a-428d-b006-180f40970773"
      },
      "execution_count": null,
      "outputs": [
        {
          "output_type": "stream",
          "name": "stdout",
          "text": [
            "Array acucuracy Decision Tree Classifier \n",
            "[0.809834   0.80794285 0.82576713 0.86359815 0.90416141 0.91656158\n",
            " 0.85140815 0.83900799 0.895124   0.61769651]\n",
            "Accuracy: 0.83\n"
          ]
        }
      ]
    },
    {
      "cell_type": "markdown",
      "source": [
        "## **Random Forest Classifier**"
      ],
      "metadata": {
        "id": "NcjOZ2K7fRqi"
      }
    },
    {
      "cell_type": "code",
      "source": [
        "#\"\"\"4) Smote\"\"\"\n",
        "\n",
        "# Train, Test, Split\n",
        "X_train_3, X_test_3, Y_train_3, Y_test_3 = train_test_split(X_smote, y_smote, test_size = 0.2, random_state=152, stratify=y_smote)\n",
        "\n",
        "# Define the model\n",
        "clf_3 = RandomForestClassifier()\n",
        "\n",
        "# Fit tme model\n",
        "clf_3.fit(X_train_3,Y_train_3)\n",
        "\n",
        "# Make prediction\n",
        "pred_3 = clf_3.predict(X_test_3)\n",
        "\n",
        "# Accuracy score\n",
        "print('Accuracy score of Random Forest model is:', accuracy_score(Y_test_3, pred_3))\n",
        "# lst_accuracy.append(accuracy_score(Y_test_3, pred_3))\n",
        "# Confusion Matrix\n",
        "conmat_3 = confusion_matrix(Y_test_3, pred_3)\n",
        "print(conmat_3)\n",
        "plt.figure(figsize=(10,8))\n",
        "plt.title('Confusion Matrix of Random Forest Model')\n",
        "sns.heatmap(conmat_3, annot=True, cmap=\"Purples\", fmt=\"d\",cbar=True)\n",
        "\n",
        "# Classification Report\n",
        "print('Classification Report of Random Forest Model')\n",
        "print(classification_report(Y_test_3, pred_3))"
      ],
      "metadata": {
        "id": "U6oGPArcfSXJ",
        "colab": {
          "base_uri": "https://localhost:8080/",
          "height": 735
        },
        "outputId": "4a1aa440-c0d6-4964-c837-641843a6da9b"
      },
      "execution_count": null,
      "outputs": [
        {
          "output_type": "stream",
          "name": "stdout",
          "text": [
            "Accuracy score of Random Forest model is: 0.9485131869286539\n",
            "[[4681   78]\n",
            " [ 412 4346]]\n",
            "Classification Report of Random Forest Model\n",
            "              precision    recall  f1-score   support\n",
            "\n",
            "         0.0       0.92      0.98      0.95      4759\n",
            "         1.0       0.98      0.91      0.95      4758\n",
            "\n",
            "    accuracy                           0.95      9517\n",
            "   macro avg       0.95      0.95      0.95      9517\n",
            "weighted avg       0.95      0.95      0.95      9517\n",
            "\n"
          ]
        },
        {
          "output_type": "display_data",
          "data": {
            "text/plain": [
              "<Figure size 720x576 with 2 Axes>"
            ],
            "image/png": "[encoded data removed]"
          },
          "metadata": {
            "needs_background": "light"
          }
        }
      ]
    },
    {
      "cell_type": "code",
      "source": [
        "from sklearn.ensemble import RandomForestClassifier\n",
        "from sklearn.model_selection import cross_val_score\n",
        "\n",
        "# Random Forest Classifier\n",
        "rf = RandomForestClassifier()\n",
        "\n",
        "# Use k-fold cross validation with k=10\n",
        "scores = cross_val_score(rf, X_smote, y_smote, cv=10)\n",
        "\n",
        "# Print the mean and standard deviation of the scores\n",
        "print(\"Array acucuracy Random Forest Classifier \")\n",
        "print(scores)\n",
        "print(\"Accuracy: %0.2f\" % scores.mean())\n",
        "lst_accuracy.append(scores.mean())"
      ],
      "metadata": {
        "id": "OAWtPelL3Voo",
        "colab": {
          "base_uri": "https://localhost:8080/"
        },
        "outputId": "7e1c6433-a39c-4cc5-a387-5f2a3f23b803"
      },
      "execution_count": null,
      "outputs": [
        {
          "output_type": "stream",
          "name": "stdout",
          "text": [
            "Array acucuracy Random Forest Classifier \n",
            "[0.84366464 0.84093297 0.86359815 0.94745691 0.97772173 0.9642707\n",
            " 0.9186633  0.93926019 0.9726776  0.610971  ]\n",
            "Accuracy: 0.89\n"
          ]
        }
      ]
    },
    {
      "cell_type": "markdown",
      "source": [
        "### **SVM**"
      ],
      "metadata": {
        "id": "4ItxeS6V9lV8"
      }
    },
    {
      "cell_type": "code",
      "source": [
        "# 4) Smote\"\"\"\n",
        "from sklearn.svm import SVC\n",
        "# Train, Test, Split\n",
        "X_train_4, X_test_4, Y_train_4, Y_test_4 = train_test_split(X_smote, y_smote, test_size = 0.2, random_state=152, stratify=y_smote)\n",
        "\n",
        "# Define the model\n",
        "clf_4 = SVC()\n",
        "\n",
        "# Fit the model\n",
        "clf_4.fit(X_train_4,Y_train_4)\n",
        "\n",
        "# Make prediction\n",
        "pred_4 = clf_4.predict(X_test_4)\n",
        "\n",
        "# Accuracy score\n",
        "print('Accuracy score of SVM model is:', accuracy_score(Y_test_4, pred_4))\n",
        "# lst_accuracy.append(accuracy_score(Y_test_4, pred_4))\n",
        "# Confusion Matrix\n",
        "conmat_4 = confusion_matrix(Y_test_4, pred_4)\n",
        "print(conmat_4)\n",
        "plt.figure(figsize=(10,8))\n",
        "plt.title('Confusion Matrix of SVM Model')\n",
        "sns.heatmap(conmat_4, annot=True, cmap=\"Purples\", fmt=\"d\",cbar=True)\n",
        "\n",
        "# Classification Report\n",
        "print('Classification Report of SVM Model')\n",
        "print(classification_report(Y_test_4, pred_4))"
      ],
      "metadata": {
        "id": "Sjx9hF0f9kIM",
        "colab": {
          "base_uri": "https://localhost:8080/",
          "height": 735
        },
        "outputId": "d1d842f3-820e-4956-d957-3099965a867d"
      },
      "execution_count": null,
      "outputs": [
        {
          "output_type": "stream",
          "name": "stdout",
          "text": [
            "Accuracy score of SVM model is: 0.8225281075969318\n",
            "[[4184  575]\n",
            " [1114 3644]]\n",
            "Classification Report of SVM Model\n",
            "              precision    recall  f1-score   support\n",
            "\n",
            "         0.0       0.79      0.88      0.83      4759\n",
            "         1.0       0.86      0.77      0.81      4758\n",
            "\n",
            "    accuracy                           0.82      9517\n",
            "   macro avg       0.83      0.82      0.82      9517\n",
            "weighted avg       0.83      0.82      0.82      9517\n",
            "\n"
          ]
        },
        {
          "output_type": "display_data",
          "data": {
            "text/plain": [
              "<Figure size 720x576 with 2 Axes>"
            ],
            "image/png": "[encoded data removed]"
          },
          "metadata": {
            "needs_background": "light"
          }
        }
      ]
    },
    {
      "cell_type": "code",
      "source": [
        "from sklearn.svm import SVC\n",
        "from sklearn.model_selection import cross_val_score\n",
        "\n",
        "# SVM classifier\n",
        "svm = SVC()\n",
        "\n",
        "# Use k-fold cross validation with k=10\n",
        "scores = cross_val_score(svm, X_smote, y_smote, cv=10)\n",
        "\n",
        "# Print the mean and standard deviation of the scores\n",
        "print(\"Array acucuracy SVM\")\n",
        "print(scores)\n",
        "print(\"Accuracy: %0.2f\" % scores.mean())\n",
        "lst_accuracy.append(scores.mean())"
      ],
      "metadata": {
        "id": "ylnw7E_53aHy",
        "colab": {
          "base_uri": "https://localhost:8080/"
        },
        "outputId": "7c20d7ba-7c51-470e-eea9-0355c26557a1"
      },
      "execution_count": null,
      "outputs": [
        {
          "output_type": "stream",
          "name": "stdout",
          "text": [
            "Array acucuracy SVM\n",
            "[0.75225888 0.79155285 0.79361076 0.808533   0.8480454  0.81462799\n",
            " 0.79655317 0.81315679 0.8297604  0.58196721]\n",
            "Accuracy: 0.78\n"
          ]
        }
      ]
    },
    {
      "cell_type": "markdown",
      "source": [
        "### **Naive Bayes**"
      ],
      "metadata": {
        "id": "QfX7oXBj9rv8"
      }
    },
    {
      "cell_type": "code",
      "source": [
        "# 4) Smote\"\"\"\n",
        "from sklearn . naive_bayes import BernoulliNB\n",
        "# Train, Test, Split\n",
        "X_train_5, X_test_5, Y_train_5, Y_test_5 = train_test_split(X_smote, y_smote, test_size = 0.2, random_state=152, stratify=y_smote)\n",
        "\n",
        "# Define the model\n",
        "clf_5 = BernoulliNB()\n",
        "\n",
        "# Fit the model\n",
        "clf_5.fit(X_train_5,Y_train_5)\n",
        "\n",
        "# Make prediction\n",
        "pred_5 = clf_5.predict(X_test_5)\n",
        "\n",
        "# Accuracy score\n",
        "print('Accuracy score of Naive Bayes model 2 is:', accuracy_score(Y_test_5, pred_5))\n",
        "# lst_accuracy.append(accuracy_score(Y_test_5, pred_5))\n",
        "\n",
        "# Confusion Matrix\n",
        "conmat_5 = confusion_matrix(Y_test_5, pred_5)\n",
        "print(conmat_5)\n",
        "plt.figure(figsize=(10,8))\n",
        "plt.title('Confusion Matrix of Naive Bayes Model')\n",
        "sns.heatmap(conmat_5, annot=True, cmap=\"Purples\", fmt=\"d\",cbar=True)\n",
        "\n",
        "# Classification Report\n",
        "print('Classification Report of Naive Bayes Model')\n",
        "print(classification_report(Y_test_5, pred_5))"
      ],
      "metadata": {
        "id": "IqjkZGLR9sTT",
        "colab": {
          "base_uri": "https://localhost:8080/"
        },
        "outputId": "ab8b7f95-e454-4a2c-e11e-46a5d8326d98"
      },
      "execution_count": null,
      "outputs": [
        {
          "output_type": "stream",
          "name": "stdout",
          "text": [
            "Accuracy score of Naive Bayes model 2 is: 0.6575601555111905\n",
            "[[2817 1942]\n",
            " [1317 3441]]\n",
            "Classification Report of Naive Bayes Model\n",
            "              precision    recall  f1-score   support\n",
            "\n",
            "         0.0       0.68      0.59      0.63      4759\n",
            "         1.0       0.64      0.72      0.68      4758\n",
            "\n",
            "    accuracy                           0.66      9517\n",
            "   macro avg       0.66      0.66      0.66      9517\n",
            "weighted avg       0.66      0.66      0.66      9517\n",
            "\n"
          ]
        },
        {
          "output_type": "display_data",
          "data": {
            "text/plain": [
              "<Figure size 720x576 with 2 Axes>"
            ],
            "image/png": "[encoded data removed]"
          },
          "metadata": {
            "needs_background": "light"
          }
        }
      ]
    },
    {
      "cell_type": "code",
      "source": [
        "from sklearn.naive_bayes import GaussianNB\n",
        "from sklearn.model_selection import cross_val_score\n",
        "\n",
        "# Naive Bayes classifier\n",
        "nb = GaussianNB()\n",
        "\n",
        "# Use k-fold cross validation with k=10\n",
        "scores = cross_val_score(nb, X_smote, y_smote, cv=10)\n",
        "\n",
        "# Print the mean and standard deviation of the scores\n",
        "print(\"Array acucuracy Naive Bayes \")\n",
        "print(scores)\n",
        "print(\"Accuracy: %0.2f\" % scores.mean())\n",
        "lst_accuracy.append(scores.mean())"
      ],
      "metadata": {
        "id": "koDASweH3eCo",
        "colab": {
          "base_uri": "https://localhost:8080/"
        },
        "outputId": "c77a6f03-0b87-4fc6-9944-3e9aa6787d05"
      },
      "execution_count": null,
      "outputs": [
        {
          "output_type": "stream",
          "name": "stdout",
          "text": [
            "Array acucuracy Naive Bayes \n",
            "[0.72956503 0.73040555 0.68116856 0.72530475 0.79003783 0.75052543\n",
            " 0.74653216 0.76166456 0.79697352 0.51576293]\n",
            "Accuracy: 0.72\n"
          ]
        }
      ]
    },
    {
      "cell_type": "markdown",
      "source": [
        "## **Tổng kết**"
      ],
      "metadata": {
        "id": "LHDIQeGpq-rB"
      }
    },
    {
      "cell_type": "code",
      "source": [
        "# Import libraries\n",
        "import matplotlib.pyplot as plt\n",
        " \n",
        "# Define Axes\n",
        "X = ['KNN', 'Decision Tree', 'Random Forest', 'SVM', 'Naive Bayes']\n",
        "Y = lst_accuracy\n",
        " \n",
        "# Plot a graph\n",
        "plt.plot(X, Y, 'o-r', color='red')\n",
        " \n",
        "# Display graph\n",
        "# plotting\n",
        "plt.title(\"Accuracy: KNN, Decision Tree Classifier, Random Forest Classifier, SVM, Naive Bayes\")\n",
        "plt.xlabel(\"Model\")\n",
        "plt.ylabel(\"Accuracy\")\n",
        "plt.show()"
      ],
      "metadata": {
        "id": "14AvtORPrCtn",
        "colab": {
          "base_uri": "https://localhost:8080/"
        },
        "outputId": "d90f9726-1e3e-4b32-f7b2-e2c96e9b4370"
      },
      "execution_count": null,
      "outputs": [
        {
          "output_type": "display_data",
          "data": {
            "text/plain": [
              "<Figure size 432x288 with 1 Axes>"
            ],
            "image/png": "[encoded data removed]"
          },
          "metadata": {
            "needs_background": "light"
          }
        }
      ]
    }
  ]
}