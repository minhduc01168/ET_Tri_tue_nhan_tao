{
  "nbformat": 4,
  "nbformat_minor": 0,
  "metadata": {
    "colab": {
      "provenance": [],
      "authorship_tag": "ABX9TyOk+wurCD7wEobkuE7kvQwl",
      "include_colab_link": true
    },
    "kernelspec": {
      "name": "python3",
      "display_name": "Python 3"
    },
    "language_info": {
      "name": "python"
    },
    "accelerator": "GPU",
    "gpuClass": "standard"
  },
  "cells": [
    {
      "cell_type": "markdown",
      "metadata": {
        "id": "view-in-github",
        "colab_type": "text"
      },
      "source": [
        "<a href=\"https://colab.research.google.com/github/minhduc01168/ET_Tri_tue_nhan_tao/blob/master/BTL_AI_ANN_normalization.ipynb\" target=\"_parent\"><img src=\"https://colab.research.google.com/assets/colab-badge.svg\" alt=\"Open In Colab\"/></a>"
      ]
    },
    {
      "cell_type": "code",
      "execution_count": null,
      "metadata": {
        "id": "MHaVLWe0ZoJU"
      },
      "outputs": [],
      "source": [
        "# Import the library\n",
        "import pandas as pd\n",
        "import numpy as np\n",
        "import matplotlib . pyplot as plt"
      ]
    },
    {
      "cell_type": "code",
      "source": [
        "from google.colab import drive\n",
        "drive.mount('/content/drive')"
      ],
      "metadata": {
        "colab": {
          "base_uri": "https://localhost:8080/"
        },
        "id": "EHROkECTZ19m",
        "outputId": "586e7fdf-6248-4a68-d802-77ff0c8badf0"
      },
      "execution_count": null,
      "outputs": [
        {
          "output_type": "stream",
          "name": "stdout",
          "text": [
            "Drive already mounted at /content/drive; to attempt to forcibly remount, call drive.mount(\"/content/drive\", force_remount=True).\n"
          ]
        }
      ]
    },
    {
      "cell_type": "code",
      "source": [
        "# Import the dataset\n",
        "df = pd.read_csv('/content/drive/My Drive/AI_ML_DS/AI/BTL_AI/credit_risk_dataset_normalization.csv')"
      ],
      "metadata": {
        "id": "nmNbzBNwZ4oG"
      },
      "execution_count": null,
      "outputs": []
    },
    {
      "cell_type": "code",
      "source": [
        "X = pd.DataFrame(df)\n",
        "X = X.drop(['loan_status'], axis=1)\n",
        "y = df[['loan_status']]\n",
        "X.info()"
      ],
      "metadata": {
        "colab": {
          "base_uri": "https://localhost:8080/"
        },
        "id": "62lMPWwsZ7S-",
        "outputId": "19e8abf0-676c-4a5b-9ceb-2b4aa3076f91"
      },
      "execution_count": null,
      "outputs": [
        {
          "output_type": "stream",
          "name": "stdout",
          "text": [
            "<class 'pandas.core.frame.DataFrame'>\n",
            "RangeIndex: 29998 entries, 0 to 29997\n",
            "Data columns (total 11 columns):\n",
            " #   Column                      Non-Null Count  Dtype  \n",
            "---  ------                      --------------  -----  \n",
            " 0   person_age                  29998 non-null  float64\n",
            " 1   person_income               29998 non-null  float64\n",
            " 2   person_home_ownership       29998 non-null  float64\n",
            " 3   person_emp_length           29998 non-null  float64\n",
            " 4   loan_intent                 29998 non-null  float64\n",
            " 5   loan_grade                  29998 non-null  float64\n",
            " 6   loan_amnt                   29998 non-null  float64\n",
            " 7   loan_int_rate               29998 non-null  float64\n",
            " 8   loan_percent_income         29998 non-null  float64\n",
            " 9   cb_person_default_on_file   29998 non-null  float64\n",
            " 10  cb_person_cred_hist_length  29998 non-null  float64\n",
            "dtypes: float64(11)\n",
            "memory usage: 2.5 MB\n"
          ]
        }
      ]
    },
    {
      "cell_type": "code",
      "source": [
        "# Data Preprocessing\n",
        "from sklearn.model_selection import train_test_split\n",
        "# X_train , X_test , y_train , y_test = train_test_split (X, y, test_size = 0.2)\n",
        "X_train, X_test, y_train, y_test = train_test_split(X, y, test_size=0.05, random_state=1)\n",
        "X_train, X_val, y_train, y_val = train_test_split(X_train, y_train, test_size=0.16, random_state=1)"
      ],
      "metadata": {
        "id": "FdHs0KryZ942"
      },
      "execution_count": null,
      "outputs": []
    },
    {
      "cell_type": "code",
      "source": [
        "print(X_test.head())\n",
        "print(y_test)"
      ],
      "metadata": {
        "colab": {
          "base_uri": "https://localhost:8080/"
        },
        "id": "uVJRB_2pzSLP",
        "outputId": "fa819a1d-6e94-42c7-ea08-f6570b297ad4"
      },
      "execution_count": null,
      "outputs": [
        {
          "output_type": "stream",
          "name": "stdout",
          "text": [
            "       person_age  person_income  person_home_ownership  person_emp_length  \\\n",
            "16454    0.192308       0.141803               1.000000             0.0625   \n",
            "23617    0.461538       0.341230               0.000000             1.0000   \n",
            "17574    0.576923       0.077312               0.666667             0.0625   \n",
            "8856     0.115385       0.271562               0.000000             0.3750   \n",
            "14902    0.192308       0.616356               0.000000             0.0625   \n",
            "\n",
            "       loan_intent  loan_grade  loan_amnt  loan_int_rate  loan_percent_income  \\\n",
            "16454          0.8        0.25   0.184502       0.391850             0.340426   \n",
            "23617          0.6        0.00   0.239852       0.173791             0.170213   \n",
            "17574          1.0        0.00   0.184502       0.156973             0.574468   \n",
            "8856           0.8        0.00   0.105166       0.391850             0.106383   \n",
            "14902          0.8        0.50   0.258303       0.481430             0.106383   \n",
            "\n",
            "       cb_person_default_on_file  cb_person_cred_hist_length  \n",
            "16454                        0.0                    0.000000  \n",
            "23617                        0.0                    0.500000  \n",
            "17574                        0.0                    0.428571  \n",
            "8856                         0.0                    0.142857  \n",
            "14902                        0.0                    0.071429  \n",
            "       loan_status\n",
            "16454          0.0\n",
            "23617          0.0\n",
            "17574          0.0\n",
            "8856           0.0\n",
            "14902          0.0\n",
            "...            ...\n",
            "5344           0.0\n",
            "12700          0.0\n",
            "27697          0.0\n",
            "18370          1.0\n",
            "454            1.0\n",
            "\n",
            "[1500 rows x 1 columns]\n"
          ]
        }
      ]
    },
    {
      "cell_type": "code",
      "source": [
        "print(\"-----------------------\")\n",
        "print(X_train.shape)\n",
        "print(y_train.shape)\n",
        "print(\"-----------------------\")\n",
        "print(X_test.shape)\n",
        "print(y_test.shape)\n",
        "print(\"-----------------------\")"
      ],
      "metadata": {
        "colab": {
          "base_uri": "https://localhost:8080/"
        },
        "id": "skEvLCT3aMrt",
        "outputId": "d6c03ae5-1418-4c04-9f5c-29e7552f9ebf"
      },
      "execution_count": null,
      "outputs": [
        {
          "output_type": "stream",
          "name": "stdout",
          "text": [
            "-----------------------\n",
            "(23938, 11)\n",
            "(23938, 1)\n",
            "-----------------------\n",
            "(1500, 11)\n",
            "(1500, 1)\n",
            "-----------------------\n"
          ]
        }
      ]
    },
    {
      "cell_type": "code",
      "source": [
        "# Make the ANN!\n",
        "# Importing the Keras libraries and packages\n",
        "import keras\n",
        "import tensorflow as tf\n",
        "import numpy as np\n",
        "import pandas as pd\n",
        "import seaborn as sns\n",
        "import matplotlib.pyplot as plt"
      ],
      "metadata": {
        "id": "MVWf8HuZaP9Q"
      },
      "execution_count": null,
      "outputs": []
    },
    {
      "cell_type": "code",
      "source": [
        "# Initialize Sequential object\n",
        "ann = tf.keras.models.Sequential()\n",
        "\n",
        "# Total no. of Neurons = 6\n",
        "# We will be adding 2 hidden layers in our Neural Network\n",
        "ann.add(tf.keras.layers.Dense(units=11, activation='relu',input_dim = np.shape( X_test )[1]))\n",
        "ann.add(tf.keras.layers.Dense(units=25, activation='relu'))\n",
        "ann.add(tf.keras.layers.Dense(units=10, activation='relu'))\n",
        "ann.add(tf.keras.layers.Dense(units=5, activation='relu'))\n",
        "# Adding Output Later\n",
        "ann.add(tf.keras.layers.Dense(units=1, activation='sigmoid'))\n",
        "\n",
        "# Initializing our Compiler\n",
        "ann.compile(optimizer = 'adam', loss = 'binary_crossentropy', metrics = ['accuracy'])"
      ],
      "metadata": {
        "id": "wcTTSWNlaUDe"
      },
      "execution_count": null,
      "outputs": []
    },
    {
      "cell_type": "code",
      "source": [
        "# Train our model\n",
        "# ann.fit(X_train, y_train, batch_size=128, epochs=150, verbose=1)\n",
        "history = ann.fit(X_train, y_train, epochs=150, batch_size=32, validation_data=(X_val, y_val))\n",
        "# batch size = the number of training examples in one forward/backward pass. The higher the batch size, the more memory space you'll need."
      ],
      "metadata": {
        "colab": {
          "base_uri": "https://localhost:8080/"
        },
        "id": "9APnJC_qaW4u",
        "outputId": "2a339e70-c058-4406-95bb-c627465169e4"
      },
      "execution_count": null,
      "outputs": [
        {
          "output_type": "stream",
          "name": "stdout",
          "text": [
            "Epoch 1/150\n",
            "749/749 [==============================] - 13s 8ms/step - loss: 0.4108 - accuracy: 0.8289 - val_loss: 0.3420 - val_accuracy: 0.8588\n",
            "Epoch 2/150\n",
            "749/749 [==============================] - 7s 10ms/step - loss: 0.3505 - accuracy: 0.8591 - val_loss: 0.3299 - val_accuracy: 0.8669\n",
            "Epoch 3/150\n",
            "749/749 [==============================] - 4s 5ms/step - loss: 0.3406 - accuracy: 0.8653 - val_loss: 0.3230 - val_accuracy: 0.8695\n",
            "Epoch 4/150\n",
            "749/749 [==============================] - 3s 4ms/step - loss: 0.3345 - accuracy: 0.8677 - val_loss: 0.3213 - val_accuracy: 0.8691\n",
            "Epoch 5/150\n",
            "749/749 [==============================] - 4s 5ms/step - loss: 0.3299 - accuracy: 0.8690 - val_loss: 0.3145 - val_accuracy: 0.8759\n",
            "Epoch 6/150\n",
            "749/749 [==============================] - 3s 5ms/step - loss: 0.3254 - accuracy: 0.8706 - val_loss: 0.3122 - val_accuracy: 0.8768\n",
            "Epoch 7/150\n",
            "749/749 [==============================] - 3s 4ms/step - loss: 0.3230 - accuracy: 0.8719 - val_loss: 0.3072 - val_accuracy: 0.8794\n",
            "Epoch 8/150\n",
            "749/749 [==============================] - 3s 4ms/step - loss: 0.3193 - accuracy: 0.8732 - val_loss: 0.3061 - val_accuracy: 0.8776\n",
            "Epoch 9/150\n",
            "749/749 [==============================] - 4s 5ms/step - loss: 0.3160 - accuracy: 0.8742 - val_loss: 0.2981 - val_accuracy: 0.8820\n",
            "Epoch 10/150\n",
            "749/749 [==============================] - 4s 5ms/step - loss: 0.3121 - accuracy: 0.8754 - val_loss: 0.3002 - val_accuracy: 0.8783\n",
            "Epoch 11/150\n",
            "749/749 [==============================] - 3s 4ms/step - loss: 0.3105 - accuracy: 0.8763 - val_loss: 0.2956 - val_accuracy: 0.8849\n",
            "Epoch 12/150\n",
            "749/749 [==============================] - 3s 4ms/step - loss: 0.3077 - accuracy: 0.8773 - val_loss: 0.2947 - val_accuracy: 0.8855\n",
            "Epoch 13/150\n",
            "749/749 [==============================] - 4s 5ms/step - loss: 0.3063 - accuracy: 0.8776 - val_loss: 0.3005 - val_accuracy: 0.8807\n",
            "Epoch 14/150\n",
            "749/749 [==============================] - 4s 5ms/step - loss: 0.3040 - accuracy: 0.8791 - val_loss: 0.2915 - val_accuracy: 0.8882\n",
            "Epoch 15/150\n",
            "749/749 [==============================] - 3s 4ms/step - loss: 0.3015 - accuracy: 0.8794 - val_loss: 0.2949 - val_accuracy: 0.8871\n",
            "Epoch 16/150\n",
            "749/749 [==============================] - 3s 4ms/step - loss: 0.3004 - accuracy: 0.8806 - val_loss: 0.2831 - val_accuracy: 0.8928\n",
            "Epoch 17/150\n",
            "749/749 [==============================] - 3s 4ms/step - loss: 0.2979 - accuracy: 0.8825 - val_loss: 0.2829 - val_accuracy: 0.8919\n",
            "Epoch 18/150\n",
            "749/749 [==============================] - 4s 6ms/step - loss: 0.2962 - accuracy: 0.8836 - val_loss: 0.2873 - val_accuracy: 0.8871\n",
            "Epoch 19/150\n",
            "749/749 [==============================] - 6s 8ms/step - loss: 0.2958 - accuracy: 0.8842 - val_loss: 0.2822 - val_accuracy: 0.8912\n",
            "Epoch 20/150\n",
            "749/749 [==============================] - 5s 7ms/step - loss: 0.2929 - accuracy: 0.8856 - val_loss: 0.2771 - val_accuracy: 0.8936\n",
            "Epoch 21/150\n",
            "749/749 [==============================] - 3s 4ms/step - loss: 0.2896 - accuracy: 0.8861 - val_loss: 0.2870 - val_accuracy: 0.8851\n",
            "Epoch 22/150\n",
            "749/749 [==============================] - 3s 4ms/step - loss: 0.2898 - accuracy: 0.8858 - val_loss: 0.2812 - val_accuracy: 0.8928\n",
            "Epoch 23/150\n",
            "749/749 [==============================] - 3s 4ms/step - loss: 0.2873 - accuracy: 0.8874 - val_loss: 0.2750 - val_accuracy: 0.8934\n",
            "Epoch 24/150\n",
            "749/749 [==============================] - 4s 6ms/step - loss: 0.2865 - accuracy: 0.8880 - val_loss: 0.2703 - val_accuracy: 0.8961\n",
            "Epoch 25/150\n",
            "749/749 [==============================] - 3s 4ms/step - loss: 0.2831 - accuracy: 0.8910 - val_loss: 0.2689 - val_accuracy: 0.8985\n",
            "Epoch 26/150\n",
            "749/749 [==============================] - 3s 4ms/step - loss: 0.2811 - accuracy: 0.8911 - val_loss: 0.2727 - val_accuracy: 0.8985\n",
            "Epoch 27/150\n",
            "749/749 [==============================] - 3s 4ms/step - loss: 0.2812 - accuracy: 0.8913 - val_loss: 0.2683 - val_accuracy: 0.8952\n",
            "Epoch 28/150\n",
            "749/749 [==============================] - 4s 6ms/step - loss: 0.2795 - accuracy: 0.8928 - val_loss: 0.2702 - val_accuracy: 0.8978\n",
            "Epoch 29/150\n",
            "749/749 [==============================] - 3s 4ms/step - loss: 0.2784 - accuracy: 0.8922 - val_loss: 0.2618 - val_accuracy: 0.9015\n",
            "Epoch 30/150\n",
            "749/749 [==============================] - 3s 4ms/step - loss: 0.2783 - accuracy: 0.8927 - val_loss: 0.2808 - val_accuracy: 0.8864\n",
            "Epoch 31/150\n",
            "749/749 [==============================] - 5s 6ms/step - loss: 0.2756 - accuracy: 0.8929 - val_loss: 0.2629 - val_accuracy: 0.8996\n",
            "Epoch 32/150\n",
            "749/749 [==============================] - 4s 5ms/step - loss: 0.2775 - accuracy: 0.8928 - val_loss: 0.2616 - val_accuracy: 0.9037\n",
            "Epoch 33/150\n",
            "749/749 [==============================] - 3s 4ms/step - loss: 0.2750 - accuracy: 0.8951 - val_loss: 0.2838 - val_accuracy: 0.8921\n",
            "Epoch 34/150\n",
            "749/749 [==============================] - 3s 4ms/step - loss: 0.2751 - accuracy: 0.8933 - val_loss: 0.2637 - val_accuracy: 0.8989\n",
            "Epoch 35/150\n",
            "749/749 [==============================] - 3s 4ms/step - loss: 0.2754 - accuracy: 0.8939 - val_loss: 0.2614 - val_accuracy: 0.9033\n",
            "Epoch 36/150\n",
            "749/749 [==============================] - 4s 5ms/step - loss: 0.2726 - accuracy: 0.8957 - val_loss: 0.2813 - val_accuracy: 0.8932\n",
            "Epoch 37/150\n",
            "749/749 [==============================] - 3s 4ms/step - loss: 0.2715 - accuracy: 0.8963 - val_loss: 0.2621 - val_accuracy: 0.9059\n",
            "Epoch 38/150\n",
            "749/749 [==============================] - 3s 4ms/step - loss: 0.2707 - accuracy: 0.8961 - val_loss: 0.2700 - val_accuracy: 0.8969\n",
            "Epoch 39/150\n",
            "749/749 [==============================] - 3s 5ms/step - loss: 0.2723 - accuracy: 0.8947 - val_loss: 0.2731 - val_accuracy: 0.8989\n",
            "Epoch 40/150\n",
            "749/749 [==============================] - 4s 5ms/step - loss: 0.2719 - accuracy: 0.8966 - val_loss: 0.2759 - val_accuracy: 0.9013\n",
            "Epoch 41/150\n",
            "749/749 [==============================] - 3s 4ms/step - loss: 0.2713 - accuracy: 0.8952 - val_loss: 0.2597 - val_accuracy: 0.9020\n",
            "Epoch 42/150\n",
            "749/749 [==============================] - 3s 4ms/step - loss: 0.2693 - accuracy: 0.8969 - val_loss: 0.2556 - val_accuracy: 0.9057\n",
            "Epoch 43/150\n",
            "749/749 [==============================] - 4s 5ms/step - loss: 0.2709 - accuracy: 0.8959 - val_loss: 0.2588 - val_accuracy: 0.9031\n",
            "Epoch 44/150\n",
            "749/749 [==============================] - 5s 6ms/step - loss: 0.2703 - accuracy: 0.8956 - val_loss: 0.2549 - val_accuracy: 0.9068\n",
            "Epoch 45/150\n",
            "749/749 [==============================] - 3s 4ms/step - loss: 0.2697 - accuracy: 0.8966 - val_loss: 0.2556 - val_accuracy: 0.9059\n",
            "Epoch 46/150\n",
            "749/749 [==============================] - 3s 4ms/step - loss: 0.2690 - accuracy: 0.8970 - val_loss: 0.2641 - val_accuracy: 0.9044\n",
            "Epoch 47/150\n",
            "749/749 [==============================] - 4s 5ms/step - loss: 0.2677 - accuracy: 0.8984 - val_loss: 0.2636 - val_accuracy: 0.9009\n",
            "Epoch 48/150\n",
            "749/749 [==============================] - 3s 4ms/step - loss: 0.2686 - accuracy: 0.8970 - val_loss: 0.2579 - val_accuracy: 0.9046\n",
            "Epoch 49/150\n",
            "749/749 [==============================] - 3s 4ms/step - loss: 0.2670 - accuracy: 0.8977 - val_loss: 0.2605 - val_accuracy: 0.9033\n",
            "Epoch 50/150\n",
            "749/749 [==============================] - 3s 4ms/step - loss: 0.2788 - accuracy: 0.8928 - val_loss: 0.2553 - val_accuracy: 0.9037\n",
            "Epoch 51/150\n",
            "749/749 [==============================] - 4s 5ms/step - loss: 0.2659 - accuracy: 0.8972 - val_loss: 0.2538 - val_accuracy: 0.9059\n",
            "Epoch 52/150\n",
            "749/749 [==============================] - 3s 5ms/step - loss: 0.2662 - accuracy: 0.8979 - val_loss: 0.2764 - val_accuracy: 0.8952\n",
            "Epoch 53/150\n",
            "749/749 [==============================] - 3s 4ms/step - loss: 0.2685 - accuracy: 0.8976 - val_loss: 0.2534 - val_accuracy: 0.9037\n",
            "Epoch 54/150\n",
            "749/749 [==============================] - 3s 4ms/step - loss: 0.2664 - accuracy: 0.8975 - val_loss: 0.2508 - val_accuracy: 0.9066\n",
            "Epoch 55/150\n",
            "749/749 [==============================] - 4s 6ms/step - loss: 0.2672 - accuracy: 0.8977 - val_loss: 0.2563 - val_accuracy: 0.9046\n",
            "Epoch 56/150\n",
            "749/749 [==============================] - 3s 4ms/step - loss: 0.2665 - accuracy: 0.8979 - val_loss: 0.2588 - val_accuracy: 0.9022\n",
            "Epoch 57/150\n",
            "749/749 [==============================] - 3s 4ms/step - loss: 0.2676 - accuracy: 0.8982 - val_loss: 0.2578 - val_accuracy: 0.9053\n",
            "Epoch 58/150\n",
            "749/749 [==============================] - 3s 4ms/step - loss: 0.2669 - accuracy: 0.8979 - val_loss: 0.2644 - val_accuracy: 0.9015\n",
            "Epoch 59/150\n",
            "749/749 [==============================] - 4s 5ms/step - loss: 0.2666 - accuracy: 0.8987 - val_loss: 0.2722 - val_accuracy: 0.8930\n",
            "Epoch 60/150\n",
            "749/749 [==============================] - 3s 4ms/step - loss: 0.2658 - accuracy: 0.8977 - val_loss: 0.2583 - val_accuracy: 0.9024\n",
            "Epoch 61/150\n",
            "749/749 [==============================] - 3s 4ms/step - loss: 0.2644 - accuracy: 0.8977 - val_loss: 0.2543 - val_accuracy: 0.9064\n",
            "Epoch 62/150\n",
            "749/749 [==============================] - 3s 4ms/step - loss: 0.2653 - accuracy: 0.8981 - val_loss: 0.2601 - val_accuracy: 0.9002\n",
            "Epoch 63/150\n",
            "749/749 [==============================] - 4s 5ms/step - loss: 0.2643 - accuracy: 0.8989 - val_loss: 0.2532 - val_accuracy: 0.9055\n",
            "Epoch 64/150\n",
            "749/749 [==============================] - 3s 4ms/step - loss: 0.2639 - accuracy: 0.8997 - val_loss: 0.2595 - val_accuracy: 0.9011\n",
            "Epoch 65/150\n",
            "749/749 [==============================] - 3s 4ms/step - loss: 0.2685 - accuracy: 0.8980 - val_loss: 0.2519 - val_accuracy: 0.9029\n",
            "Epoch 66/150\n",
            "749/749 [==============================] - 3s 4ms/step - loss: 0.2645 - accuracy: 0.8982 - val_loss: 0.2479 - val_accuracy: 0.9086\n",
            "Epoch 67/150\n",
            "749/749 [==============================] - 4s 5ms/step - loss: 0.2644 - accuracy: 0.8984 - val_loss: 0.2519 - val_accuracy: 0.9035\n",
            "Epoch 68/150\n",
            "749/749 [==============================] - 3s 5ms/step - loss: 0.2634 - accuracy: 0.8999 - val_loss: 0.2590 - val_accuracy: 0.9046\n",
            "Epoch 69/150\n",
            "749/749 [==============================] - 3s 4ms/step - loss: 0.2625 - accuracy: 0.9004 - val_loss: 0.2494 - val_accuracy: 0.9086\n",
            "Epoch 70/150\n",
            "749/749 [==============================] - 3s 4ms/step - loss: 0.2628 - accuracy: 0.8990 - val_loss: 0.2500 - val_accuracy: 0.9066\n",
            "Epoch 71/150\n",
            "749/749 [==============================] - 4s 5ms/step - loss: 0.2627 - accuracy: 0.9007 - val_loss: 0.2512 - val_accuracy: 0.9055\n",
            "Epoch 72/150\n",
            "749/749 [==============================] - 3s 5ms/step - loss: 0.2744 - accuracy: 0.8939 - val_loss: 0.2568 - val_accuracy: 0.9037\n",
            "Epoch 73/150\n",
            "749/749 [==============================] - 3s 4ms/step - loss: 0.2606 - accuracy: 0.8999 - val_loss: 0.2519 - val_accuracy: 0.9031\n",
            "Epoch 74/150\n",
            "749/749 [==============================] - 3s 4ms/step - loss: 0.2624 - accuracy: 0.9002 - val_loss: 0.2477 - val_accuracy: 0.9094\n",
            "Epoch 75/150\n",
            "749/749 [==============================] - 4s 5ms/step - loss: 0.2611 - accuracy: 0.9000 - val_loss: 0.2547 - val_accuracy: 0.9094\n",
            "Epoch 76/150\n",
            "749/749 [==============================] - 4s 5ms/step - loss: 0.2629 - accuracy: 0.8996 - val_loss: 0.2545 - val_accuracy: 0.9042\n",
            "Epoch 77/150\n",
            "749/749 [==============================] - 3s 4ms/step - loss: 0.2617 - accuracy: 0.9010 - val_loss: 0.2482 - val_accuracy: 0.9092\n",
            "Epoch 78/150\n",
            "749/749 [==============================] - 3s 4ms/step - loss: 0.2620 - accuracy: 0.9002 - val_loss: 0.2533 - val_accuracy: 0.9053\n",
            "Epoch 79/150\n",
            "749/749 [==============================] - 3s 4ms/step - loss: 0.2595 - accuracy: 0.9030 - val_loss: 0.2474 - val_accuracy: 0.9077\n",
            "Epoch 80/150\n",
            "749/749 [==============================] - 4s 5ms/step - loss: 0.2621 - accuracy: 0.9007 - val_loss: 0.2593 - val_accuracy: 0.9077\n",
            "Epoch 81/150\n",
            "749/749 [==============================] - 3s 4ms/step - loss: 0.2609 - accuracy: 0.9014 - val_loss: 0.2518 - val_accuracy: 0.9088\n",
            "Epoch 82/150\n",
            "749/749 [==============================] - 3s 4ms/step - loss: 0.2616 - accuracy: 0.9004 - val_loss: 0.2512 - val_accuracy: 0.9053\n",
            "Epoch 83/150\n",
            "749/749 [==============================] - 4s 5ms/step - loss: 0.2611 - accuracy: 0.9005 - val_loss: 0.2606 - val_accuracy: 0.9011\n",
            "Epoch 84/150\n",
            "749/749 [==============================] - 4s 5ms/step - loss: 0.2611 - accuracy: 0.9008 - val_loss: 0.2477 - val_accuracy: 0.9099\n",
            "Epoch 85/150\n",
            "749/749 [==============================] - 3s 4ms/step - loss: 0.2590 - accuracy: 0.9030 - val_loss: 0.2900 - val_accuracy: 0.8921\n",
            "Epoch 86/150\n",
            "749/749 [==============================] - 3s 4ms/step - loss: 0.2597 - accuracy: 0.9020 - val_loss: 0.2533 - val_accuracy: 0.9086\n",
            "Epoch 87/150\n",
            "749/749 [==============================] - 3s 5ms/step - loss: 0.2609 - accuracy: 0.9024 - val_loss: 0.2437 - val_accuracy: 0.9127\n",
            "Epoch 88/150\n",
            "749/749 [==============================] - 4s 5ms/step - loss: 0.2572 - accuracy: 0.9027 - val_loss: 0.2658 - val_accuracy: 0.9022\n",
            "Epoch 89/150\n",
            "749/749 [==============================] - 3s 4ms/step - loss: 0.2598 - accuracy: 0.9028 - val_loss: 0.2581 - val_accuracy: 0.9057\n",
            "Epoch 90/150\n",
            "749/749 [==============================] - 3s 4ms/step - loss: 0.2597 - accuracy: 0.9025 - val_loss: 0.2498 - val_accuracy: 0.9103\n",
            "Epoch 91/150\n",
            "749/749 [==============================] - 3s 4ms/step - loss: 0.2581 - accuracy: 0.9034 - val_loss: 0.2484 - val_accuracy: 0.9086\n",
            "Epoch 92/150\n",
            "749/749 [==============================] - 4s 5ms/step - loss: 0.2588 - accuracy: 0.9029 - val_loss: 0.2514 - val_accuracy: 0.9094\n",
            "Epoch 93/150\n",
            "749/749 [==============================] - 3s 4ms/step - loss: 0.2580 - accuracy: 0.9035 - val_loss: 0.2519 - val_accuracy: 0.9075\n",
            "Epoch 94/150\n",
            "749/749 [==============================] - 3s 4ms/step - loss: 0.2575 - accuracy: 0.9041 - val_loss: 0.2455 - val_accuracy: 0.9105\n",
            "Epoch 95/150\n",
            "749/749 [==============================] - 3s 5ms/step - loss: 0.2584 - accuracy: 0.9037 - val_loss: 0.2420 - val_accuracy: 0.9143\n",
            "Epoch 96/150\n",
            "749/749 [==============================] - 4s 5ms/step - loss: 0.2575 - accuracy: 0.9033 - val_loss: 0.2651 - val_accuracy: 0.9053\n",
            "Epoch 97/150\n",
            "749/749 [==============================] - 3s 4ms/step - loss: 0.2584 - accuracy: 0.9028 - val_loss: 0.2441 - val_accuracy: 0.9123\n",
            "Epoch 98/150\n",
            "749/749 [==============================] - 3s 4ms/step - loss: 0.2563 - accuracy: 0.9044 - val_loss: 0.2426 - val_accuracy: 0.9132\n",
            "Epoch 99/150\n",
            "749/749 [==============================] - 3s 4ms/step - loss: 0.2588 - accuracy: 0.9031 - val_loss: 0.2469 - val_accuracy: 0.9101\n",
            "Epoch 100/150\n",
            "749/749 [==============================] - 4s 6ms/step - loss: 0.2547 - accuracy: 0.9044 - val_loss: 0.2432 - val_accuracy: 0.9136\n",
            "Epoch 101/150\n",
            "749/749 [==============================] - 4s 5ms/step - loss: 0.2552 - accuracy: 0.9054 - val_loss: 0.2478 - val_accuracy: 0.9077\n",
            "Epoch 102/150\n",
            "749/749 [==============================] - 3s 5ms/step - loss: 0.2572 - accuracy: 0.9045 - val_loss: 0.2466 - val_accuracy: 0.9118\n",
            "Epoch 103/150\n",
            "749/749 [==============================] - 4s 5ms/step - loss: 0.2543 - accuracy: 0.9064 - val_loss: 0.2415 - val_accuracy: 0.9149\n",
            "Epoch 104/150\n",
            "749/749 [==============================] - 4s 5ms/step - loss: 0.2546 - accuracy: 0.9056 - val_loss: 0.2402 - val_accuracy: 0.9147\n",
            "Epoch 105/150\n",
            "749/749 [==============================] - 3s 4ms/step - loss: 0.2562 - accuracy: 0.9052 - val_loss: 0.2424 - val_accuracy: 0.9145\n",
            "Epoch 106/150\n",
            "749/749 [==============================] - 3s 4ms/step - loss: 0.2543 - accuracy: 0.9060 - val_loss: 0.2379 - val_accuracy: 0.9167\n",
            "Epoch 107/150\n",
            "749/749 [==============================] - 4s 5ms/step - loss: 0.2536 - accuracy: 0.9070 - val_loss: 0.2455 - val_accuracy: 0.9116\n",
            "Epoch 108/150\n",
            "749/749 [==============================] - 4s 5ms/step - loss: 0.2523 - accuracy: 0.9077 - val_loss: 0.2439 - val_accuracy: 0.9149\n",
            "Epoch 109/150\n",
            "749/749 [==============================] - 3s 4ms/step - loss: 0.2531 - accuracy: 0.9073 - val_loss: 0.2618 - val_accuracy: 0.9020\n",
            "Epoch 110/150\n",
            "749/749 [==============================] - 3s 4ms/step - loss: 0.2541 - accuracy: 0.9063 - val_loss: 0.2647 - val_accuracy: 0.9072\n",
            "Epoch 111/150\n",
            "749/749 [==============================] - 3s 4ms/step - loss: 0.2529 - accuracy: 0.9081 - val_loss: 0.2414 - val_accuracy: 0.9160\n",
            "Epoch 112/150\n",
            "749/749 [==============================] - 4s 5ms/step - loss: 0.2528 - accuracy: 0.9081 - val_loss: 0.2453 - val_accuracy: 0.9110\n",
            "Epoch 113/150\n",
            "749/749 [==============================] - 3s 4ms/step - loss: 0.2500 - accuracy: 0.9110 - val_loss: 0.2375 - val_accuracy: 0.9202\n",
            "Epoch 114/150\n",
            "749/749 [==============================] - 3s 4ms/step - loss: 0.2510 - accuracy: 0.9105 - val_loss: 0.2380 - val_accuracy: 0.9178\n",
            "Epoch 115/150\n",
            "749/749 [==============================] - 4s 5ms/step - loss: 0.2501 - accuracy: 0.9100 - val_loss: 0.2396 - val_accuracy: 0.9182\n",
            "Epoch 116/150\n",
            "749/749 [==============================] - 4s 5ms/step - loss: 0.2482 - accuracy: 0.9113 - val_loss: 0.2406 - val_accuracy: 0.9162\n",
            "Epoch 117/150\n",
            "749/749 [==============================] - 3s 4ms/step - loss: 0.2493 - accuracy: 0.9103 - val_loss: 0.2480 - val_accuracy: 0.9136\n",
            "Epoch 118/150\n",
            "749/749 [==============================] - 3s 4ms/step - loss: 0.2489 - accuracy: 0.9107 - val_loss: 0.2518 - val_accuracy: 0.9156\n",
            "Epoch 119/150\n",
            "749/749 [==============================] - 3s 5ms/step - loss: 0.2473 - accuracy: 0.9110 - val_loss: 0.2658 - val_accuracy: 0.9050\n",
            "Epoch 120/150\n",
            "749/749 [==============================] - 4s 5ms/step - loss: 0.2487 - accuracy: 0.9102 - val_loss: 0.2411 - val_accuracy: 0.9151\n",
            "Epoch 121/150\n",
            "749/749 [==============================] - 3s 4ms/step - loss: 0.2506 - accuracy: 0.9100 - val_loss: 0.2329 - val_accuracy: 0.9200\n",
            "Epoch 122/150\n",
            "749/749 [==============================] - 3s 4ms/step - loss: 0.2479 - accuracy: 0.9111 - val_loss: 0.2483 - val_accuracy: 0.9138\n",
            "Epoch 123/150\n",
            "749/749 [==============================] - 4s 5ms/step - loss: 0.2487 - accuracy: 0.9111 - val_loss: 0.2408 - val_accuracy: 0.9184\n",
            "Epoch 124/150\n",
            "749/749 [==============================] - 4s 5ms/step - loss: 0.2469 - accuracy: 0.9119 - val_loss: 0.2373 - val_accuracy: 0.9191\n",
            "Epoch 125/150\n",
            "749/749 [==============================] - 3s 4ms/step - loss: 0.2462 - accuracy: 0.9124 - val_loss: 0.2543 - val_accuracy: 0.9145\n",
            "Epoch 126/150\n",
            "749/749 [==============================] - 3s 4ms/step - loss: 0.2479 - accuracy: 0.9115 - val_loss: 0.2576 - val_accuracy: 0.9121\n",
            "Epoch 127/150\n",
            "749/749 [==============================] - 3s 5ms/step - loss: 0.2465 - accuracy: 0.9126 - val_loss: 0.2371 - val_accuracy: 0.9180\n",
            "Epoch 128/150\n",
            "749/749 [==============================] - 4s 5ms/step - loss: 0.2462 - accuracy: 0.9115 - val_loss: 0.2374 - val_accuracy: 0.9195\n",
            "Epoch 129/150\n",
            "749/749 [==============================] - 3s 4ms/step - loss: 0.2443 - accuracy: 0.9127 - val_loss: 0.2372 - val_accuracy: 0.9162\n",
            "Epoch 130/150\n",
            "749/749 [==============================] - 3s 4ms/step - loss: 0.2470 - accuracy: 0.9121 - val_loss: 0.2357 - val_accuracy: 0.9204\n",
            "Epoch 131/150\n",
            "749/749 [==============================] - 3s 4ms/step - loss: 0.2435 - accuracy: 0.9132 - val_loss: 0.2325 - val_accuracy: 0.9219\n",
            "Epoch 132/150\n",
            "749/749 [==============================] - 4s 5ms/step - loss: 0.2463 - accuracy: 0.9131 - val_loss: 0.2329 - val_accuracy: 0.9211\n",
            "Epoch 133/150\n",
            "749/749 [==============================] - 3s 4ms/step - loss: 0.2432 - accuracy: 0.9143 - val_loss: 0.2319 - val_accuracy: 0.9204\n",
            "Epoch 134/150\n",
            "749/749 [==============================] - 3s 4ms/step - loss: 0.2432 - accuracy: 0.9141 - val_loss: 0.2353 - val_accuracy: 0.9178\n",
            "Epoch 135/150\n",
            "749/749 [==============================] - 3s 4ms/step - loss: 0.2429 - accuracy: 0.9160 - val_loss: 0.2324 - val_accuracy: 0.9219\n",
            "Epoch 136/150\n",
            "749/749 [==============================] - 4s 6ms/step - loss: 0.2425 - accuracy: 0.9155 - val_loss: 0.2334 - val_accuracy: 0.9195\n",
            "Epoch 137/150\n",
            "749/749 [==============================] - 3s 4ms/step - loss: 0.2418 - accuracy: 0.9152 - val_loss: 0.2289 - val_accuracy: 0.9241\n",
            "Epoch 138/150\n",
            "749/749 [==============================] - 3s 4ms/step - loss: 0.2423 - accuracy: 0.9151 - val_loss: 0.2274 - val_accuracy: 0.9268\n",
            "Epoch 139/150\n",
            "749/749 [==============================] - 3s 4ms/step - loss: 0.2423 - accuracy: 0.9155 - val_loss: 0.2507 - val_accuracy: 0.9114\n",
            "Epoch 140/150\n",
            "749/749 [==============================] - 4s 5ms/step - loss: 0.2409 - accuracy: 0.9163 - val_loss: 0.2350 - val_accuracy: 0.9230\n",
            "Epoch 141/150\n",
            "749/749 [==============================] - 3s 4ms/step - loss: 0.2398 - accuracy: 0.9175 - val_loss: 0.2304 - val_accuracy: 0.9208\n",
            "Epoch 142/150\n",
            "749/749 [==============================] - 3s 4ms/step - loss: 0.2402 - accuracy: 0.9182 - val_loss: 0.2409 - val_accuracy: 0.9186\n",
            "Epoch 143/150\n",
            "749/749 [==============================] - 3s 4ms/step - loss: 0.2392 - accuracy: 0.9185 - val_loss: 0.2295 - val_accuracy: 0.9230\n",
            "Epoch 144/150\n",
            "749/749 [==============================] - 4s 6ms/step - loss: 0.2402 - accuracy: 0.9173 - val_loss: 0.2307 - val_accuracy: 0.9217\n",
            "Epoch 145/150\n",
            "749/749 [==============================] - 3s 4ms/step - loss: 0.2392 - accuracy: 0.9178 - val_loss: 0.2357 - val_accuracy: 0.9202\n",
            "Epoch 146/150\n",
            "749/749 [==============================] - 3s 4ms/step - loss: 0.2380 - accuracy: 0.9182 - val_loss: 0.2337 - val_accuracy: 0.9235\n",
            "Epoch 147/150\n",
            "749/749 [==============================] - 3s 4ms/step - loss: 0.2387 - accuracy: 0.9183 - val_loss: 0.2369 - val_accuracy: 0.9208\n",
            "Epoch 148/150\n",
            "749/749 [==============================] - 4s 6ms/step - loss: 0.2366 - accuracy: 0.9193 - val_loss: 0.2273 - val_accuracy: 0.9259\n",
            "Epoch 149/150\n",
            "749/749 [==============================] - 3s 4ms/step - loss: 0.2390 - accuracy: 0.9185 - val_loss: 0.2349 - val_accuracy: 0.9202\n",
            "Epoch 150/150\n",
            "749/749 [==============================] - 3s 4ms/step - loss: 0.2377 - accuracy: 0.9203 - val_loss: 0.2288 - val_accuracy: 0.9246\n"
          ]
        }
      ]
    },
    {
      "cell_type": "code",
      "source": [
        "history_dict = history.history\n",
        "print(history_dict.keys())"
      ],
      "metadata": {
        "colab": {
          "base_uri": "https://localhost:8080/"
        },
        "id": "aopoiKHAacT-",
        "outputId": "438a3fea-a853-4c20-a7da-438cf73d7cce"
      },
      "execution_count": null,
      "outputs": [
        {
          "output_type": "stream",
          "name": "stdout",
          "text": [
            "dict_keys(['loss', 'accuracy', 'val_loss', 'val_accuracy'])\n"
          ]
        }
      ]
    },
    {
      "cell_type": "code",
      "source": [
        "loss_train = history.history['loss']\n",
        "loss_val = history.history['val_loss']\n",
        "epochs = range(1,151)\n",
        "plt.plot(epochs, loss_train, 'g', label='Training loss')\n",
        "plt.plot(epochs, loss_val, 'b', label='validation loss')\n",
        "plt.title('Training and Validation loss')\n",
        "plt.xlabel('Epochs')\n",
        "plt.ylabel('Loss')\n",
        "plt.legend()\n",
        "plt.show()"
      ],
      "metadata": {
        "colab": {
          "base_uri": "https://localhost:8080/",
          "height": 295
        },
        "id": "9EZRO2HTac8d",
        "outputId": "995bf7a7-e929-44fa-ab1c-22f8869b6295"
      },
      "execution_count": null,
      "outputs": [
        {
          "output_type": "display_data",
          "data": {
            "text/plain": [
              "<Figure size 432x288 with 1 Axes>"
            ],
            "image/png": "[encoded data removed]"
          },
          "metadata": {
            "needs_background": "light"
          }
        }
      ]
    },
    {
      "cell_type": "code",
      "source": [
        "loss_train = history.history['accuracy']\n",
        "loss_val = history.history['val_accuracy']\n",
        "epochs = range(1,151)\n",
        "plt.plot(epochs, loss_train, 'g', label='Training accuracy')\n",
        "plt.plot(epochs, loss_val, 'b', label='validation accuracy')\n",
        "plt.title('Training and Validation accuracy')\n",
        "plt.xlabel('Epochs')\n",
        "plt.ylabel('Accuracy')\n",
        "plt.legend()\n",
        "plt.show()"
      ],
      "metadata": {
        "colab": {
          "base_uri": "https://localhost:8080/",
          "height": 295
        },
        "id": "9j1exYpBafoO",
        "outputId": "d7f386bd-425e-4b88-b68d-68a09e4a5fe7"
      },
      "execution_count": null,
      "outputs": [
        {
          "output_type": "display_data",
          "data": {
            "text/plain": [
              "<Figure size 432x288 with 1 Axes>"
            ],
            "image/png": "[encoded data removed]"
          },
          "metadata": {
            "needs_background": "light"
          }
        }
      ]
    },
    {
      "cell_type": "code",
      "source": [
        "y_pred = ann.predict(X_test)\n",
        "y_pred = (y_pred > 0.5)   # This will predict output values as 'True' and 'False'"
      ],
      "metadata": {
        "colab": {
          "base_uri": "https://localhost:8080/"
        },
        "id": "HbSyFFZmaj4u",
        "outputId": "1ecabf19-1fd6-4ae6-d9d8-c724d57c0de7"
      },
      "execution_count": null,
      "outputs": [
        {
          "output_type": "stream",
          "name": "stdout",
          "text": [
            "47/47 [==============================] - 0s 3ms/step\n"
          ]
        }
      ]
    },
    {
      "cell_type": "code",
      "source": [
        "# Convert np array to Series\n",
        "my_list = map(lambda x: x[0], y_pred)\n",
        "y_pred = pd.Series(my_list)\n",
        "\n",
        "# Convert True/False values back to 1 and 0s\n",
        "y_prediction = y_pred.astype(int)"
      ],
      "metadata": {
        "id": "GlsPgmtcakqG"
      },
      "execution_count": null,
      "outputs": []
    },
    {
      "cell_type": "code",
      "source": [
        "from sklearn.metrics import confusion_matrix, accuracy_score\n",
        "cm = confusion_matrix(y_test, y_prediction)\n",
        "print(cm)\n",
        "accuracy_score(y_test, y_prediction)"
      ],
      "metadata": {
        "colab": {
          "base_uri": "https://localhost:8080/"
        },
        "id": "QLy-wNifamv-",
        "outputId": "02512265-bae4-42eb-933f-9d3d9aa10a64"
      },
      "execution_count": null,
      "outputs": [
        {
          "output_type": "stream",
          "name": "stdout",
          "text": [
            "[[1197   17]\n",
            " [  92  194]]\n"
          ]
        },
        {
          "output_type": "execute_result",
          "data": {
            "text/plain": [
              "0.9273333333333333"
            ]
          },
          "metadata": {},
          "execution_count": 16
        }
      ]
    },
    {
      "cell_type": "code",
      "source": [
        "sns.heatmap(cm, cmap=\"Blues\", annot=True, fmt='g')"
      ],
      "metadata": {
        "colab": {
          "base_uri": "https://localhost:8080/"
        },
        "id": "5aX3eQ1wapT9",
        "outputId": "191dc0d9-60ae-486a-a9a1-c3591f84e6c0"
      },
      "execution_count": null,
      "outputs": [
        {
          "output_type": "execute_result",
          "data": {
            "text/plain": [
              "<matplotlib.axes._subplots.AxesSubplot at 0x7fd03812dd30>"
            ]
          },
          "metadata": {},
          "execution_count": 17
        },
        {
          "output_type": "display_data",
          "data": {
            "text/plain": [
              "<Figure size 432x288 with 2 Axes>"
            ],
            "image/png": "[encoded data removed]"
          },
          "metadata": {
            "needs_background": "light"
          }
        }
      ]
    },
    {
      "cell_type": "code",
      "source": [],
      "metadata": {
        "id": "cTpmeRDwKQKJ"
      },
      "execution_count": null,
      "outputs": []
    }
  ]
}