{
  "nbformat": 4,
  "nbformat_minor": 0,
  "metadata": {
    "colab": {
      "provenance": [],
      "authorship_tag": "ABX9TyOR6Vu8mVj3BpeiwCea/yK0",
      "include_colab_link": true
    },
    "kernelspec": {
      "name": "python3",
      "display_name": "Python 3"
    },
    "language_info": {
      "name": "python"
    },
    "accelerator": "GPU",
    "gpuClass": "standard"
  },
  "cells": [
    {
      "cell_type": "markdown",
      "metadata": {
        "id": "view-in-github",
        "colab_type": "text"
      },
      "source": [
        "<a href=\"https://colab.research.google.com/github/minhduc01168/ET_Tri_tue_nhan_tao/blob/master/BTL_AI_ANN_normalization.ipynb\" target=\"_parent\"><img src=\"https://colab.research.google.com/assets/colab-badge.svg\" alt=\"Open In Colab\"/></a>"
      ]
    },
    {
      "cell_type": "code",
      "execution_count": null,
      "metadata": {
        "id": "MHaVLWe0ZoJU"
      },
      "outputs": [],
      "source": [
        "# Import the library\n",
        "import pandas as pd\n",
        "import numpy as np\n",
        "import matplotlib . pyplot as plt"
      ]
    },
    {
      "cell_type": "code",
      "source": [
        "from google.colab import drive\n",
        "drive.mount('/content/drive')"
      ],
      "metadata": {
        "colab": {
          "base_uri": "https://localhost:8080/"
        },
        "id": "EHROkECTZ19m",
        "outputId": "96158d8f-b1f0-42a8-990a-8e82ccca7170"
      },
      "execution_count": null,
      "outputs": [
        {
          "output_type": "stream",
          "name": "stdout",
          "text": [
            "Drive already mounted at /content/drive; to attempt to forcibly remount, call drive.mount(\"/content/drive\", force_remount=True).\n"
          ]
        }
      ]
    },
    {
      "cell_type": "code",
      "source": [
        "# Import the dataset\n",
        "df = pd.read_csv('/content/drive/My Drive/AI_ML_DS/AI/BTL_AI/credit_risk_dataset_normalization.csv')"
      ],
      "metadata": {
        "id": "nmNbzBNwZ4oG"
      },
      "execution_count": null,
      "outputs": []
    },
    {
      "cell_type": "code",
      "source": [
        "X = pd.DataFrame(df)\n",
        "X = X.drop(['loan_status'], axis=1)\n",
        "y = df[['loan_status']]\n",
        "X.info()"
      ],
      "metadata": {
        "colab": {
          "base_uri": "https://localhost:8080/"
        },
        "id": "62lMPWwsZ7S-",
        "outputId": "6c0df7c7-b089-4251-d52e-5b03cf1ad83f"
      },
      "execution_count": null,
      "outputs": [
        {
          "output_type": "stream",
          "name": "stdout",
          "text": [
            "<class 'pandas.core.frame.DataFrame'>\n",
            "RangeIndex: 29998 entries, 0 to 29997\n",
            "Data columns (total 11 columns):\n",
            " #   Column                      Non-Null Count  Dtype  \n",
            "---  ------                      --------------  -----  \n",
            " 0   person_age                  29998 non-null  float64\n",
            " 1   person_income               29998 non-null  float64\n",
            " 2   person_home_ownership       29998 non-null  float64\n",
            " 3   person_emp_length           29998 non-null  float64\n",
            " 4   loan_intent                 29998 non-null  float64\n",
            " 5   loan_grade                  29998 non-null  float64\n",
            " 6   loan_amnt                   29998 non-null  float64\n",
            " 7   loan_int_rate               29998 non-null  float64\n",
            " 8   loan_percent_income         29998 non-null  float64\n",
            " 9   cb_person_default_on_file   29998 non-null  float64\n",
            " 10  cb_person_cred_hist_length  29998 non-null  float64\n",
            "dtypes: float64(11)\n",
            "memory usage: 2.5 MB\n"
          ]
        }
      ]
    },
    {
      "cell_type": "code",
      "source": [
        "# Data Preprocessing\n",
        "from sklearn.model_selection import train_test_split\n",
        "# X_train , X_test , y_train , y_test = train_test_split (X, y, test_size = 0.2)\n",
        "X_train, X_test, y_train, y_test = train_test_split(X, y, test_size=0.05, random_state=1)\n",
        "X_train, X_val, y_train, y_val = train_test_split(X_train, y_train, test_size=0.16, random_state=1)"
      ],
      "metadata": {
        "id": "FdHs0KryZ942"
      },
      "execution_count": null,
      "outputs": []
    },
    {
      "cell_type": "code",
      "source": [
        "print(\"-----------------------\")\n",
        "print(X_train.shape)\n",
        "print(y_train.shape)\n",
        "print(\"-----------------------\")\n",
        "print(X_test.shape)\n",
        "print(y_test.shape)\n",
        "print(\"-----------------------\")"
      ],
      "metadata": {
        "colab": {
          "base_uri": "https://localhost:8080/"
        },
        "id": "skEvLCT3aMrt",
        "outputId": "6e279682-64a2-4b3c-a720-af759b88d944"
      },
      "execution_count": null,
      "outputs": [
        {
          "output_type": "stream",
          "name": "stdout",
          "text": [
            "-----------------------\n",
            "(23938, 11)\n",
            "(23938, 1)\n",
            "-----------------------\n",
            "(1500, 11)\n",
            "(1500, 1)\n",
            "-----------------------\n"
          ]
        }
      ]
    },
    {
      "cell_type": "code",
      "source": [
        "# Make the ANN!\n",
        "# Importing the Keras libraries and packages\n",
        "import keras\n",
        "import tensorflow as tf\n",
        "import numpy as np\n",
        "import pandas as pd\n",
        "import seaborn as sns\n",
        "import matplotlib.pyplot as plt"
      ],
      "metadata": {
        "id": "MVWf8HuZaP9Q"
      },
      "execution_count": null,
      "outputs": []
    },
    {
      "cell_type": "code",
      "source": [
        "# Initialize Sequential object\n",
        "ann = tf.keras.models.Sequential()\n",
        "\n",
        "# Total no. of Neurons = 6\n",
        "# We will be adding 2 hidden layers in our Neural Network\n",
        "ann.add(tf.keras.layers.Dense(units=11, activation='relu',input_dim = np.shape( X_test )[1]))\n",
        "ann.add(tf.keras.layers.Dense(units=25, activation='relu'))\n",
        "ann.add(tf.keras.layers.Dense(units=10, activation='relu'))\n",
        "ann.add(tf.keras.layers.Dense(units=5, activation='relu'))\n",
        "# Adding Output Later\n",
        "ann.add(tf.keras.layers.Dense(units=1, activation='sigmoid'))\n",
        "\n",
        "# Initializing our Compiler\n",
        "ann.compile(optimizer = 'adam', loss = 'binary_crossentropy', metrics = ['accuracy'])"
      ],
      "metadata": {
        "id": "wcTTSWNlaUDe"
      },
      "execution_count": null,
      "outputs": []
    },
    {
      "cell_type": "code",
      "source": [
        "# Train our model\n",
        "# ann.fit(X_train, y_train, batch_size=128, epochs=150, verbose=1)\n",
        "history = ann.fit(X_train, y_train, epochs=150, batch_size=32, validation_data=(X_val, y_val))\n",
        "# batch size = the number of training examples in one forward/backward pass. The higher the batch size, the more memory space you'll need."
      ],
      "metadata": {
        "colab": {
          "base_uri": "https://localhost:8080/"
        },
        "id": "9APnJC_qaW4u",
        "outputId": "57ae01b4-32cc-41c0-f787-8643d72b17c7"
      },
      "execution_count": null,
      "outputs": [
        {
          "output_type": "stream",
          "name": "stdout",
          "text": [
            "Epoch 1/150\n",
            "749/749 [==============================] - 7s 7ms/step - loss: 0.4507 - accuracy: 0.7907 - val_loss: 0.3757 - val_accuracy: 0.8461\n",
            "Epoch 2/150\n",
            "749/749 [==============================] - 5s 6ms/step - loss: 0.3822 - accuracy: 0.8436 - val_loss: 0.3612 - val_accuracy: 0.8564\n",
            "Epoch 3/150\n",
            "749/749 [==============================] - 5s 7ms/step - loss: 0.3732 - accuracy: 0.8494 - val_loss: 0.3592 - val_accuracy: 0.8546\n",
            "Epoch 4/150\n",
            "749/749 [==============================] - 3s 4ms/step - loss: 0.3636 - accuracy: 0.8538 - val_loss: 0.3502 - val_accuracy: 0.8621\n",
            "Epoch 5/150\n",
            "749/749 [==============================] - 3s 3ms/step - loss: 0.3544 - accuracy: 0.8614 - val_loss: 0.3391 - val_accuracy: 0.8669\n",
            "Epoch 6/150\n",
            "749/749 [==============================] - 3s 4ms/step - loss: 0.3474 - accuracy: 0.8652 - val_loss: 0.3353 - val_accuracy: 0.8713\n",
            "Epoch 7/150\n",
            "749/749 [==============================] - 3s 4ms/step - loss: 0.3406 - accuracy: 0.8681 - val_loss: 0.3248 - val_accuracy: 0.8754\n",
            "Epoch 8/150\n",
            "749/749 [==============================] - 3s 4ms/step - loss: 0.3353 - accuracy: 0.8706 - val_loss: 0.3256 - val_accuracy: 0.8732\n",
            "Epoch 9/150\n",
            "749/749 [==============================] - 3s 4ms/step - loss: 0.3310 - accuracy: 0.8733 - val_loss: 0.3196 - val_accuracy: 0.8737\n",
            "Epoch 10/150\n",
            "749/749 [==============================] - 3s 4ms/step - loss: 0.3266 - accuracy: 0.8745 - val_loss: 0.3132 - val_accuracy: 0.8800\n",
            "Epoch 11/150\n",
            "749/749 [==============================] - 3s 4ms/step - loss: 0.3234 - accuracy: 0.8761 - val_loss: 0.3128 - val_accuracy: 0.8816\n",
            "Epoch 12/150\n",
            "749/749 [==============================] - 3s 4ms/step - loss: 0.3194 - accuracy: 0.8781 - val_loss: 0.3050 - val_accuracy: 0.8860\n",
            "Epoch 13/150\n",
            "749/749 [==============================] - 3s 4ms/step - loss: 0.3162 - accuracy: 0.8803 - val_loss: 0.3050 - val_accuracy: 0.8849\n",
            "Epoch 14/150\n",
            "749/749 [==============================] - 3s 4ms/step - loss: 0.3141 - accuracy: 0.8817 - val_loss: 0.3101 - val_accuracy: 0.8857\n",
            "Epoch 15/150\n",
            "749/749 [==============================] - 3s 4ms/step - loss: 0.3119 - accuracy: 0.8814 - val_loss: 0.2982 - val_accuracy: 0.8901\n",
            "Epoch 16/150\n",
            "749/749 [==============================] - 3s 4ms/step - loss: 0.3100 - accuracy: 0.8828 - val_loss: 0.3010 - val_accuracy: 0.8862\n",
            "Epoch 17/150\n",
            "749/749 [==============================] - 3s 4ms/step - loss: 0.3078 - accuracy: 0.8832 - val_loss: 0.2938 - val_accuracy: 0.8914\n",
            "Epoch 18/150\n",
            "749/749 [==============================] - 3s 4ms/step - loss: 0.3064 - accuracy: 0.8848 - val_loss: 0.2947 - val_accuracy: 0.8925\n",
            "Epoch 19/150\n",
            "749/749 [==============================] - 3s 4ms/step - loss: 0.3048 - accuracy: 0.8853 - val_loss: 0.2930 - val_accuracy: 0.8919\n",
            "Epoch 20/150\n",
            "749/749 [==============================] - 3s 4ms/step - loss: 0.3035 - accuracy: 0.8854 - val_loss: 0.2950 - val_accuracy: 0.8864\n",
            "Epoch 21/150\n",
            "749/749 [==============================] - 3s 4ms/step - loss: 0.3032 - accuracy: 0.8850 - val_loss: 0.3015 - val_accuracy: 0.8890\n",
            "Epoch 22/150\n",
            "749/749 [==============================] - 4s 5ms/step - loss: 0.3003 - accuracy: 0.8866 - val_loss: 0.2862 - val_accuracy: 0.8965\n",
            "Epoch 23/150\n",
            "749/749 [==============================] - 3s 4ms/step - loss: 0.3003 - accuracy: 0.8860 - val_loss: 0.2850 - val_accuracy: 0.8947\n",
            "Epoch 24/150\n",
            "749/749 [==============================] - 3s 4ms/step - loss: 0.2980 - accuracy: 0.8880 - val_loss: 0.2962 - val_accuracy: 0.8884\n",
            "Epoch 25/150\n",
            "749/749 [==============================] - 3s 4ms/step - loss: 0.2960 - accuracy: 0.8890 - val_loss: 0.2869 - val_accuracy: 0.8965\n",
            "Epoch 26/150\n",
            "749/749 [==============================] - 3s 4ms/step - loss: 0.2955 - accuracy: 0.8895 - val_loss: 0.2893 - val_accuracy: 0.8908\n",
            "Epoch 27/150\n",
            "749/749 [==============================] - 3s 4ms/step - loss: 0.2936 - accuracy: 0.8899 - val_loss: 0.2822 - val_accuracy: 0.8947\n",
            "Epoch 28/150\n",
            "749/749 [==============================] - 3s 4ms/step - loss: 0.2926 - accuracy: 0.8899 - val_loss: 0.2873 - val_accuracy: 0.8901\n",
            "Epoch 29/150\n",
            "749/749 [==============================] - 3s 4ms/step - loss: 0.2908 - accuracy: 0.8911 - val_loss: 0.2797 - val_accuracy: 0.8941\n",
            "Epoch 30/150\n",
            "749/749 [==============================] - 4s 5ms/step - loss: 0.2908 - accuracy: 0.8903 - val_loss: 0.2865 - val_accuracy: 0.8936\n",
            "Epoch 31/150\n",
            "749/749 [==============================] - 3s 4ms/step - loss: 0.2894 - accuracy: 0.8932 - val_loss: 0.2831 - val_accuracy: 0.8947\n",
            "Epoch 32/150\n",
            "749/749 [==============================] - 3s 4ms/step - loss: 0.2895 - accuracy: 0.8914 - val_loss: 0.2970 - val_accuracy: 0.8884\n",
            "Epoch 33/150\n",
            "749/749 [==============================] - 3s 4ms/step - loss: 0.2891 - accuracy: 0.8922 - val_loss: 0.2829 - val_accuracy: 0.8976\n",
            "Epoch 34/150\n",
            "749/749 [==============================] - 3s 4ms/step - loss: 0.2862 - accuracy: 0.8938 - val_loss: 0.2768 - val_accuracy: 0.9000\n",
            "Epoch 35/150\n",
            "749/749 [==============================] - 3s 4ms/step - loss: 0.2869 - accuracy: 0.8937 - val_loss: 0.2783 - val_accuracy: 0.8993\n",
            "Epoch 36/150\n",
            "749/749 [==============================] - 3s 4ms/step - loss: 0.2869 - accuracy: 0.8926 - val_loss: 0.2796 - val_accuracy: 0.8982\n",
            "Epoch 37/150\n",
            "749/749 [==============================] - 3s 4ms/step - loss: 0.2850 - accuracy: 0.8941 - val_loss: 0.2753 - val_accuracy: 0.9013\n",
            "Epoch 38/150\n",
            "749/749 [==============================] - 3s 4ms/step - loss: 0.2851 - accuracy: 0.8953 - val_loss: 0.2768 - val_accuracy: 0.9004\n",
            "Epoch 39/150\n",
            "749/749 [==============================] - 3s 4ms/step - loss: 0.2839 - accuracy: 0.8946 - val_loss: 0.2740 - val_accuracy: 0.9002\n",
            "Epoch 40/150\n",
            "749/749 [==============================] - 3s 4ms/step - loss: 0.2830 - accuracy: 0.8964 - val_loss: 0.2715 - val_accuracy: 0.9033\n",
            "Epoch 41/150\n",
            "749/749 [==============================] - 3s 4ms/step - loss: 0.2819 - accuracy: 0.8949 - val_loss: 0.2757 - val_accuracy: 0.8998\n",
            "Epoch 42/150\n",
            "749/749 [==============================] - 3s 4ms/step - loss: 0.2801 - accuracy: 0.8955 - val_loss: 0.2720 - val_accuracy: 0.8987\n",
            "Epoch 43/150\n",
            "749/749 [==============================] - 3s 4ms/step - loss: 0.2796 - accuracy: 0.8958 - val_loss: 0.2715 - val_accuracy: 0.8998\n",
            "Epoch 44/150\n",
            "749/749 [==============================] - 3s 4ms/step - loss: 0.2783 - accuracy: 0.8958 - val_loss: 0.2724 - val_accuracy: 0.8989\n",
            "Epoch 45/150\n",
            "749/749 [==============================] - 3s 4ms/step - loss: 0.2779 - accuracy: 0.8958 - val_loss: 0.2653 - val_accuracy: 0.9033\n",
            "Epoch 46/150\n",
            "749/749 [==============================] - 3s 4ms/step - loss: 0.2761 - accuracy: 0.8971 - val_loss: 0.2691 - val_accuracy: 0.9020\n",
            "Epoch 47/150\n",
            "749/749 [==============================] - 3s 4ms/step - loss: 0.2760 - accuracy: 0.8976 - val_loss: 0.2730 - val_accuracy: 0.9007\n",
            "Epoch 48/150\n",
            "749/749 [==============================] - 3s 4ms/step - loss: 0.2751 - accuracy: 0.8974 - val_loss: 0.2804 - val_accuracy: 0.8963\n",
            "Epoch 49/150\n",
            "749/749 [==============================] - 3s 4ms/step - loss: 0.2753 - accuracy: 0.8976 - val_loss: 0.2659 - val_accuracy: 0.9048\n",
            "Epoch 50/150\n",
            "749/749 [==============================] - 3s 4ms/step - loss: 0.2741 - accuracy: 0.8974 - val_loss: 0.2685 - val_accuracy: 0.9039\n",
            "Epoch 51/150\n",
            "749/749 [==============================] - 3s 4ms/step - loss: 0.2729 - accuracy: 0.8979 - val_loss: 0.2645 - val_accuracy: 0.9070\n",
            "Epoch 52/150\n",
            "749/749 [==============================] - 3s 4ms/step - loss: 0.2745 - accuracy: 0.8967 - val_loss: 0.2654 - val_accuracy: 0.9039\n",
            "Epoch 53/150\n",
            "749/749 [==============================] - 3s 4ms/step - loss: 0.2722 - accuracy: 0.8978 - val_loss: 0.2645 - val_accuracy: 0.9013\n",
            "Epoch 54/150\n",
            "749/749 [==============================] - 3s 4ms/step - loss: 0.2707 - accuracy: 0.8983 - val_loss: 0.2613 - val_accuracy: 0.9039\n",
            "Epoch 55/150\n",
            "749/749 [==============================] - 3s 4ms/step - loss: 0.2714 - accuracy: 0.8973 - val_loss: 0.2701 - val_accuracy: 0.9007\n",
            "Epoch 56/150\n",
            "749/749 [==============================] - 3s 4ms/step - loss: 0.2739 - accuracy: 0.8976 - val_loss: 0.2624 - val_accuracy: 0.9046\n",
            "Epoch 57/150\n",
            "749/749 [==============================] - 3s 4ms/step - loss: 0.2703 - accuracy: 0.8982 - val_loss: 0.2591 - val_accuracy: 0.9096\n",
            "Epoch 58/150\n",
            "749/749 [==============================] - 3s 4ms/step - loss: 0.2687 - accuracy: 0.8983 - val_loss: 0.2590 - val_accuracy: 0.9057\n",
            "Epoch 59/150\n",
            "749/749 [==============================] - 3s 4ms/step - loss: 0.2711 - accuracy: 0.8982 - val_loss: 0.2602 - val_accuracy: 0.9029\n",
            "Epoch 60/150\n",
            "749/749 [==============================] - 3s 4ms/step - loss: 0.2707 - accuracy: 0.8979 - val_loss: 0.2631 - val_accuracy: 0.9035\n",
            "Epoch 61/150\n",
            "749/749 [==============================] - 3s 4ms/step - loss: 0.2693 - accuracy: 0.8979 - val_loss: 0.2596 - val_accuracy: 0.9029\n",
            "Epoch 62/150\n",
            "749/749 [==============================] - 3s 4ms/step - loss: 0.2685 - accuracy: 0.8982 - val_loss: 0.2623 - val_accuracy: 0.9035\n",
            "Epoch 63/150\n",
            "749/749 [==============================] - 3s 4ms/step - loss: 0.2683 - accuracy: 0.9000 - val_loss: 0.2612 - val_accuracy: 0.9059\n",
            "Epoch 64/150\n",
            "749/749 [==============================] - 3s 4ms/step - loss: 0.2665 - accuracy: 0.8985 - val_loss: 0.2570 - val_accuracy: 0.9064\n",
            "Epoch 65/150\n",
            "749/749 [==============================] - 3s 4ms/step - loss: 0.2672 - accuracy: 0.8994 - val_loss: 0.2566 - val_accuracy: 0.9070\n",
            "Epoch 66/150\n",
            "749/749 [==============================] - 3s 4ms/step - loss: 0.2664 - accuracy: 0.8993 - val_loss: 0.2633 - val_accuracy: 0.9011\n",
            "Epoch 67/150\n",
            "749/749 [==============================] - 3s 4ms/step - loss: 0.2671 - accuracy: 0.8996 - val_loss: 0.2589 - val_accuracy: 0.9061\n",
            "Epoch 68/150\n",
            "749/749 [==============================] - 3s 4ms/step - loss: 0.2674 - accuracy: 0.8983 - val_loss: 0.2598 - val_accuracy: 0.9059\n",
            "Epoch 69/150\n",
            "749/749 [==============================] - 3s 4ms/step - loss: 0.2650 - accuracy: 0.8994 - val_loss: 0.2749 - val_accuracy: 0.8989\n",
            "Epoch 70/150\n",
            "749/749 [==============================] - 3s 4ms/step - loss: 0.2659 - accuracy: 0.8987 - val_loss: 0.2708 - val_accuracy: 0.9009\n",
            "Epoch 71/150\n",
            "749/749 [==============================] - 3s 4ms/step - loss: 0.2662 - accuracy: 0.8989 - val_loss: 0.2588 - val_accuracy: 0.9070\n",
            "Epoch 72/150\n",
            "749/749 [==============================] - 3s 4ms/step - loss: 0.2657 - accuracy: 0.9002 - val_loss: 0.2575 - val_accuracy: 0.9107\n",
            "Epoch 73/150\n",
            "749/749 [==============================] - 3s 4ms/step - loss: 0.2665 - accuracy: 0.8990 - val_loss: 0.2576 - val_accuracy: 0.9064\n",
            "Epoch 74/150\n",
            "749/749 [==============================] - 3s 4ms/step - loss: 0.2637 - accuracy: 0.8995 - val_loss: 0.2732 - val_accuracy: 0.8978\n",
            "Epoch 75/150\n",
            "749/749 [==============================] - 3s 4ms/step - loss: 0.2638 - accuracy: 0.9014 - val_loss: 0.2551 - val_accuracy: 0.9077\n",
            "Epoch 76/150\n",
            "749/749 [==============================] - 3s 4ms/step - loss: 0.2661 - accuracy: 0.8998 - val_loss: 0.2553 - val_accuracy: 0.9079\n",
            "Epoch 77/150\n",
            "749/749 [==============================] - 3s 4ms/step - loss: 0.2641 - accuracy: 0.8996 - val_loss: 0.2546 - val_accuracy: 0.9077\n",
            "Epoch 78/150\n",
            "749/749 [==============================] - 3s 4ms/step - loss: 0.2618 - accuracy: 0.9011 - val_loss: 0.2677 - val_accuracy: 0.8971\n",
            "Epoch 79/150\n",
            "749/749 [==============================] - 3s 4ms/step - loss: 0.2637 - accuracy: 0.8994 - val_loss: 0.2590 - val_accuracy: 0.9046\n",
            "Epoch 80/150\n",
            "749/749 [==============================] - 3s 4ms/step - loss: 0.2631 - accuracy: 0.9003 - val_loss: 0.2626 - val_accuracy: 0.9059\n",
            "Epoch 81/150\n",
            "749/749 [==============================] - 3s 4ms/step - loss: 0.2618 - accuracy: 0.9020 - val_loss: 0.2580 - val_accuracy: 0.9059\n",
            "Epoch 82/150\n",
            "749/749 [==============================] - 3s 4ms/step - loss: 0.2637 - accuracy: 0.9003 - val_loss: 0.2692 - val_accuracy: 0.9000\n",
            "Epoch 83/150\n",
            "749/749 [==============================] - 3s 4ms/step - loss: 0.2624 - accuracy: 0.9002 - val_loss: 0.2513 - val_accuracy: 0.9068\n",
            "Epoch 84/150\n",
            "749/749 [==============================] - 3s 4ms/step - loss: 0.2625 - accuracy: 0.9012 - val_loss: 0.2576 - val_accuracy: 0.9050\n",
            "Epoch 85/150\n",
            "749/749 [==============================] - 3s 4ms/step - loss: 0.2632 - accuracy: 0.8998 - val_loss: 0.2696 - val_accuracy: 0.9020\n",
            "Epoch 86/150\n",
            "749/749 [==============================] - 3s 4ms/step - loss: 0.2622 - accuracy: 0.9008 - val_loss: 0.2578 - val_accuracy: 0.9077\n",
            "Epoch 87/150\n",
            "749/749 [==============================] - 3s 4ms/step - loss: 0.2621 - accuracy: 0.9005 - val_loss: 0.2602 - val_accuracy: 0.9061\n",
            "Epoch 88/150\n",
            "749/749 [==============================] - 3s 4ms/step - loss: 0.2626 - accuracy: 0.9005 - val_loss: 0.2527 - val_accuracy: 0.9083\n",
            "Epoch 89/150\n",
            "749/749 [==============================] - 3s 4ms/step - loss: 0.2615 - accuracy: 0.9015 - val_loss: 0.2535 - val_accuracy: 0.9103\n",
            "Epoch 90/150\n",
            "749/749 [==============================] - 3s 4ms/step - loss: 0.2617 - accuracy: 0.9000 - val_loss: 0.2624 - val_accuracy: 0.9026\n",
            "Epoch 91/150\n",
            "749/749 [==============================] - 3s 4ms/step - loss: 0.2615 - accuracy: 0.9005 - val_loss: 0.2531 - val_accuracy: 0.9061\n",
            "Epoch 92/150\n",
            "749/749 [==============================] - 3s 4ms/step - loss: 0.2611 - accuracy: 0.9019 - val_loss: 0.2523 - val_accuracy: 0.9081\n",
            "Epoch 93/150\n",
            "749/749 [==============================] - 3s 4ms/step - loss: 0.2602 - accuracy: 0.9005 - val_loss: 0.2546 - val_accuracy: 0.9075\n",
            "Epoch 94/150\n",
            "749/749 [==============================] - 3s 4ms/step - loss: 0.2609 - accuracy: 0.9016 - val_loss: 0.2574 - val_accuracy: 0.9077\n",
            "Epoch 95/150\n",
            "749/749 [==============================] - 3s 4ms/step - loss: 0.2627 - accuracy: 0.9002 - val_loss: 0.2545 - val_accuracy: 0.9086\n",
            "Epoch 96/150\n",
            "749/749 [==============================] - 3s 4ms/step - loss: 0.2596 - accuracy: 0.9013 - val_loss: 0.2599 - val_accuracy: 0.9018\n",
            "Epoch 97/150\n",
            "749/749 [==============================] - 3s 4ms/step - loss: 0.2598 - accuracy: 0.9008 - val_loss: 0.2703 - val_accuracy: 0.8943\n",
            "Epoch 98/150\n",
            "749/749 [==============================] - 3s 4ms/step - loss: 0.2600 - accuracy: 0.9015 - val_loss: 0.2581 - val_accuracy: 0.9083\n",
            "Epoch 99/150\n",
            "749/749 [==============================] - 3s 4ms/step - loss: 0.2599 - accuracy: 0.9013 - val_loss: 0.2519 - val_accuracy: 0.9094\n",
            "Epoch 100/150\n",
            "749/749 [==============================] - 3s 4ms/step - loss: 0.2588 - accuracy: 0.9027 - val_loss: 0.2534 - val_accuracy: 0.9075\n",
            "Epoch 101/150\n",
            "749/749 [==============================] - 3s 4ms/step - loss: 0.2603 - accuracy: 0.9000 - val_loss: 0.2491 - val_accuracy: 0.9103\n",
            "Epoch 102/150\n",
            "749/749 [==============================] - 3s 4ms/step - loss: 0.2588 - accuracy: 0.9012 - val_loss: 0.2540 - val_accuracy: 0.9077\n",
            "Epoch 103/150\n",
            "749/749 [==============================] - 3s 4ms/step - loss: 0.2601 - accuracy: 0.9010 - val_loss: 0.2533 - val_accuracy: 0.9075\n",
            "Epoch 104/150\n",
            "749/749 [==============================] - 3s 4ms/step - loss: 0.2593 - accuracy: 0.9012 - val_loss: 0.2661 - val_accuracy: 0.9020\n",
            "Epoch 105/150\n",
            "749/749 [==============================] - 3s 4ms/step - loss: 0.2611 - accuracy: 0.9001 - val_loss: 0.2501 - val_accuracy: 0.9105\n",
            "Epoch 106/150\n",
            "749/749 [==============================] - 3s 4ms/step - loss: 0.2572 - accuracy: 0.9017 - val_loss: 0.2538 - val_accuracy: 0.9090\n",
            "Epoch 107/150\n",
            "749/749 [==============================] - 3s 4ms/step - loss: 0.2621 - accuracy: 0.9007 - val_loss: 0.2528 - val_accuracy: 0.9099\n",
            "Epoch 108/150\n",
            "749/749 [==============================] - 3s 4ms/step - loss: 0.2591 - accuracy: 0.9019 - val_loss: 0.2649 - val_accuracy: 0.9033\n",
            "Epoch 109/150\n",
            "749/749 [==============================] - 3s 4ms/step - loss: 0.2585 - accuracy: 0.9019 - val_loss: 0.2502 - val_accuracy: 0.9086\n",
            "Epoch 110/150\n",
            "749/749 [==============================] - 3s 4ms/step - loss: 0.2566 - accuracy: 0.9029 - val_loss: 0.2729 - val_accuracy: 0.9009\n",
            "Epoch 111/150\n",
            "749/749 [==============================] - 3s 4ms/step - loss: 0.2579 - accuracy: 0.9020 - val_loss: 0.2496 - val_accuracy: 0.9105\n",
            "Epoch 112/150\n",
            "749/749 [==============================] - 3s 4ms/step - loss: 0.2565 - accuracy: 0.9020 - val_loss: 0.2528 - val_accuracy: 0.9083\n",
            "Epoch 113/150\n",
            "749/749 [==============================] - 3s 4ms/step - loss: 0.2593 - accuracy: 0.9008 - val_loss: 0.2554 - val_accuracy: 0.9092\n",
            "Epoch 114/150\n",
            "749/749 [==============================] - 3s 4ms/step - loss: 0.2571 - accuracy: 0.9020 - val_loss: 0.2602 - val_accuracy: 0.9081\n",
            "Epoch 115/150\n",
            "749/749 [==============================] - 3s 4ms/step - loss: 0.2577 - accuracy: 0.9022 - val_loss: 0.2831 - val_accuracy: 0.8978\n",
            "Epoch 116/150\n",
            "749/749 [==============================] - 3s 4ms/step - loss: 0.2593 - accuracy: 0.9010 - val_loss: 0.2509 - val_accuracy: 0.9086\n",
            "Epoch 117/150\n",
            "749/749 [==============================] - 3s 4ms/step - loss: 0.2603 - accuracy: 0.9014 - val_loss: 0.2506 - val_accuracy: 0.9086\n",
            "Epoch 118/150\n",
            "749/749 [==============================] - 3s 4ms/step - loss: 0.2570 - accuracy: 0.9025 - val_loss: 0.2519 - val_accuracy: 0.9055\n",
            "Epoch 119/150\n",
            "749/749 [==============================] - 3s 4ms/step - loss: 0.2547 - accuracy: 0.9037 - val_loss: 0.2526 - val_accuracy: 0.9090\n",
            "Epoch 120/150\n",
            "749/749 [==============================] - 3s 4ms/step - loss: 0.2581 - accuracy: 0.9030 - val_loss: 0.2499 - val_accuracy: 0.9105\n",
            "Epoch 121/150\n",
            "749/749 [==============================] - 3s 4ms/step - loss: 0.2568 - accuracy: 0.9024 - val_loss: 0.2494 - val_accuracy: 0.9114\n",
            "Epoch 122/150\n",
            "749/749 [==============================] - 3s 4ms/step - loss: 0.2547 - accuracy: 0.9040 - val_loss: 0.2569 - val_accuracy: 0.9064\n",
            "Epoch 123/150\n",
            "749/749 [==============================] - 3s 4ms/step - loss: 0.2561 - accuracy: 0.9026 - val_loss: 0.2684 - val_accuracy: 0.9029\n",
            "Epoch 124/150\n",
            "749/749 [==============================] - 3s 4ms/step - loss: 0.2558 - accuracy: 0.9038 - val_loss: 0.2527 - val_accuracy: 0.9118\n",
            "Epoch 125/150\n",
            "749/749 [==============================] - 3s 4ms/step - loss: 0.2564 - accuracy: 0.9025 - val_loss: 0.2474 - val_accuracy: 0.9103\n",
            "Epoch 126/150\n",
            "749/749 [==============================] - 3s 4ms/step - loss: 0.2547 - accuracy: 0.9033 - val_loss: 0.2532 - val_accuracy: 0.9101\n",
            "Epoch 127/150\n",
            "749/749 [==============================] - 3s 4ms/step - loss: 0.2536 - accuracy: 0.9038 - val_loss: 0.2503 - val_accuracy: 0.9140\n",
            "Epoch 128/150\n",
            "749/749 [==============================] - 3s 4ms/step - loss: 0.2552 - accuracy: 0.9038 - val_loss: 0.2619 - val_accuracy: 0.9050\n",
            "Epoch 129/150\n",
            "749/749 [==============================] - 3s 4ms/step - loss: 0.2541 - accuracy: 0.9042 - val_loss: 0.2553 - val_accuracy: 0.9101\n",
            "Epoch 130/150\n",
            "749/749 [==============================] - 3s 4ms/step - loss: 0.2548 - accuracy: 0.9036 - val_loss: 0.2484 - val_accuracy: 0.9105\n",
            "Epoch 131/150\n",
            "749/749 [==============================] - 3s 4ms/step - loss: 0.2570 - accuracy: 0.9025 - val_loss: 0.2540 - val_accuracy: 0.9099\n",
            "Epoch 132/150\n",
            "749/749 [==============================] - 3s 4ms/step - loss: 0.2539 - accuracy: 0.9042 - val_loss: 0.2498 - val_accuracy: 0.9092\n",
            "Epoch 133/150\n",
            "749/749 [==============================] - 3s 4ms/step - loss: 0.2543 - accuracy: 0.9047 - val_loss: 0.2450 - val_accuracy: 0.9114\n",
            "Epoch 134/150\n",
            "749/749 [==============================] - 3s 4ms/step - loss: 0.2536 - accuracy: 0.9036 - val_loss: 0.2592 - val_accuracy: 0.9061\n",
            "Epoch 135/150\n",
            "749/749 [==============================] - 3s 4ms/step - loss: 0.2545 - accuracy: 0.9048 - val_loss: 0.2612 - val_accuracy: 0.9081\n",
            "Epoch 136/150\n",
            "749/749 [==============================] - 3s 4ms/step - loss: 0.2532 - accuracy: 0.9053 - val_loss: 0.2590 - val_accuracy: 0.9061\n",
            "Epoch 137/150\n",
            "749/749 [==============================] - 4s 5ms/step - loss: 0.2514 - accuracy: 0.9054 - val_loss: 0.2603 - val_accuracy: 0.9057\n",
            "Epoch 138/150\n",
            "749/749 [==============================] - 3s 4ms/step - loss: 0.2546 - accuracy: 0.9038 - val_loss: 0.2556 - val_accuracy: 0.9099\n",
            "Epoch 139/150\n",
            "749/749 [==============================] - 3s 4ms/step - loss: 0.2531 - accuracy: 0.9049 - val_loss: 0.2504 - val_accuracy: 0.9118\n",
            "Epoch 140/150\n",
            "749/749 [==============================] - 3s 4ms/step - loss: 0.2536 - accuracy: 0.9040 - val_loss: 0.2604 - val_accuracy: 0.9053\n",
            "Epoch 141/150\n",
            "749/749 [==============================] - 3s 4ms/step - loss: 0.2521 - accuracy: 0.9052 - val_loss: 0.2493 - val_accuracy: 0.9123\n",
            "Epoch 142/150\n",
            "749/749 [==============================] - 3s 4ms/step - loss: 0.2547 - accuracy: 0.9048 - val_loss: 0.2470 - val_accuracy: 0.9132\n",
            "Epoch 143/150\n",
            "749/749 [==============================] - 3s 4ms/step - loss: 0.2523 - accuracy: 0.9052 - val_loss: 0.2470 - val_accuracy: 0.9129\n",
            "Epoch 144/150\n",
            "749/749 [==============================] - 3s 4ms/step - loss: 0.2532 - accuracy: 0.9049 - val_loss: 0.2485 - val_accuracy: 0.9134\n",
            "Epoch 145/150\n",
            "749/749 [==============================] - 3s 4ms/step - loss: 0.2534 - accuracy: 0.9044 - val_loss: 0.2476 - val_accuracy: 0.9143\n",
            "Epoch 146/150\n",
            "749/749 [==============================] - 3s 4ms/step - loss: 0.2512 - accuracy: 0.9058 - val_loss: 0.2494 - val_accuracy: 0.9121\n",
            "Epoch 147/150\n",
            "749/749 [==============================] - 3s 4ms/step - loss: 0.2552 - accuracy: 0.9033 - val_loss: 0.2641 - val_accuracy: 0.9057\n",
            "Epoch 148/150\n",
            "749/749 [==============================] - 3s 4ms/step - loss: 0.2520 - accuracy: 0.9060 - val_loss: 0.2536 - val_accuracy: 0.9081\n",
            "Epoch 149/150\n",
            "749/749 [==============================] - 3s 4ms/step - loss: 0.2514 - accuracy: 0.9061 - val_loss: 0.2918 - val_accuracy: 0.9004\n",
            "Epoch 150/150\n",
            "749/749 [==============================] - 3s 4ms/step - loss: 0.2526 - accuracy: 0.9047 - val_loss: 0.2574 - val_accuracy: 0.9055\n"
          ]
        }
      ]
    },
    {
      "cell_type": "code",
      "source": [
        "history_dict = history.history\n",
        "print(history_dict.keys())"
      ],
      "metadata": {
        "colab": {
          "base_uri": "https://localhost:8080/"
        },
        "id": "aopoiKHAacT-",
        "outputId": "549e4c13-0c78-4b2f-f91c-9ef3caf55fb8"
      },
      "execution_count": null,
      "outputs": [
        {
          "output_type": "stream",
          "name": "stdout",
          "text": [
            "dict_keys(['loss', 'accuracy', 'val_loss', 'val_accuracy'])\n"
          ]
        }
      ]
    },
    {
      "cell_type": "code",
      "source": [
        "loss_train = history.history['loss']\n",
        "loss_val = history.history['val_loss']\n",
        "epochs = range(1,151)\n",
        "plt.plot(epochs, loss_train, 'g', label='Training loss')\n",
        "plt.plot(epochs, loss_val, 'b', label='validation loss')\n",
        "plt.title('Training and Validation loss')\n",
        "plt.xlabel('Epochs')\n",
        "plt.ylabel('Loss')\n",
        "plt.legend()\n",
        "plt.show()"
      ],
      "metadata": {
        "colab": {
          "base_uri": "https://localhost:8080/",
          "height": 295
        },
        "id": "9EZRO2HTac8d",
        "outputId": "08ab546d-9ced-4991-d2c3-f22d0417353c"
      },
      "execution_count": null,
      "outputs": [
        {
          "output_type": "display_data",
          "data": {
            "text/plain": [
              "<Figure size 432x288 with 1 Axes>"
            ],
            "image/png": "[encoded data removed]"
          },
          "metadata": {
            "needs_background": "light"
          }
        }
      ]
    },
    {
      "cell_type": "code",
      "source": [
        "loss_train = history.history['accuracy']\n",
        "loss_val = history.history['val_accuracy']\n",
        "epochs = range(1,151)\n",
        "plt.plot(epochs, loss_train, 'g', label='Training accuracy')\n",
        "plt.plot(epochs, loss_val, 'b', label='validation accuracy')\n",
        "plt.title('Training and Validation accuracy')\n",
        "plt.xlabel('Epochs')\n",
        "plt.ylabel('Accuracy')\n",
        "plt.legend()\n",
        "plt.show()"
      ],
      "metadata": {
        "colab": {
          "base_uri": "https://localhost:8080/",
          "height": 295
        },
        "id": "9j1exYpBafoO",
        "outputId": "06230618-dac1-4288-ecdf-aaf518428a48"
      },
      "execution_count": null,
      "outputs": [
        {
          "output_type": "display_data",
          "data": {
            "text/plain": [
              "<Figure size 432x288 with 1 Axes>"
            ],
            "image/png": "[encoded data removed]"
          },
          "metadata": {
            "needs_background": "light"
          }
        }
      ]
    },
    {
      "cell_type": "code",
      "source": [
        "y_pred = ann.predict(X_test)\n",
        "y_pred = (y_pred > 0.5)   # This will predict output values as 'True' and 'False'"
      ],
      "metadata": {
        "colab": {
          "base_uri": "https://localhost:8080/"
        },
        "id": "HbSyFFZmaj4u",
        "outputId": "5042ff8b-10a4-4007-b415-1ce7209298c6"
      },
      "execution_count": null,
      "outputs": [
        {
          "output_type": "stream",
          "name": "stdout",
          "text": [
            "47/47 [==============================] - 0s 2ms/step\n"
          ]
        }
      ]
    },
    {
      "cell_type": "code",
      "source": [
        "# Convert np array to Series\n",
        "my_list = map(lambda x: x[0], y_pred)\n",
        "y_pred = pd.Series(my_list)\n",
        "\n",
        "# Convert True/False values back to 1 and 0s\n",
        "y_prediction = y_pred.astype(int)"
      ],
      "metadata": {
        "id": "GlsPgmtcakqG"
      },
      "execution_count": null,
      "outputs": []
    },
    {
      "cell_type": "code",
      "source": [
        "from sklearn.metrics import confusion_matrix, accuracy_score\n",
        "cm = confusion_matrix(y_test, y_prediction)\n",
        "print(cm)\n",
        "accuracy_score(y_test, y_prediction)"
      ],
      "metadata": {
        "colab": {
          "base_uri": "https://localhost:8080/"
        },
        "id": "QLy-wNifamv-",
        "outputId": "31cb69af-c3f9-4b64-abb5-a590745715be"
      },
      "execution_count": null,
      "outputs": [
        {
          "output_type": "stream",
          "name": "stdout",
          "text": [
            "[[1162   52]\n",
            " [  83  203]]\n"
          ]
        },
        {
          "output_type": "execute_result",
          "data": {
            "text/plain": [
              "0.91"
            ]
          },
          "metadata": {},
          "execution_count": 16
        }
      ]
    },
    {
      "cell_type": "code",
      "source": [
        "sns.heatmap(cm, cmap=\"Blues\", annot=True, fmt='g')"
      ],
      "metadata": {
        "colab": {
          "base_uri": "https://localhost:8080/",
          "height": 283
        },
        "id": "5aX3eQ1wapT9",
        "outputId": "1adc6b4a-0585-483f-d466-9828c63c23c5"
      },
      "execution_count": null,
      "outputs": [
        {
          "output_type": "execute_result",
          "data": {
            "text/plain": [
              "<matplotlib.axes._subplots.AxesSubplot at 0x7f6fe6481070>"
            ]
          },
          "metadata": {},
          "execution_count": 17
        },
        {
          "output_type": "display_data",
          "data": {
            "text/plain": [
              "<Figure size 432x288 with 2 Axes>"
            ],
            "image/png": "[encoded data removed]"
          },
          "metadata": {
            "needs_background": "light"
          }
        }
      ]
    }
  ]
}