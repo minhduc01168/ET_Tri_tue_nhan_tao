{
  "nbformat": 4,
  "nbformat_minor": 0,
  "metadata": {
    "colab": {
      "provenance": [],
      "authorship_tag": "ABX9TyPej801L5jSZLChS06MCVyK",
      "include_colab_link": true
    },
    "kernelspec": {
      "name": "python3",
      "display_name": "Python 3"
    },
    "language_info": {
      "name": "python"
    },
    "gpuClass": "standard"
  },
  "cells": [
    {
      "cell_type": "markdown",
      "metadata": {
        "id": "view-in-github",
        "colab_type": "text"
      },
      "source": [
        "<a href=\"https://colab.research.google.com/github/minhduc01168/ET_Tri_tue_nhan_tao/blob/master/BTL_AI_Train_Test.ipynb\" target=\"_parent\"><img src=\"https://colab.research.google.com/assets/colab-badge.svg\" alt=\"Open In Colab\"/></a>"
      ]
    },
    {
      "cell_type": "markdown",
      "source": [
        "# Modeling"
      ],
      "metadata": {
        "id": "dsKEVaHlTlwM"
      }
    },
    {
      "cell_type": "code",
      "execution_count": null,
      "metadata": {
        "id": "P2Ssoa6RPOyn"
      },
      "outputs": [],
      "source": [
        "# Import libraries\n",
        "\n",
        "import pandas as pd\n",
        "import matplotlib.pyplot as plt\n",
        "import numpy as np\n",
        "import scipy\n",
        "import sklearn\n",
        "import seaborn as sns\n",
        "import missingno as msno\n",
        "from sklearn.preprocessing import LabelEncoder\n",
        "from sklearn.model_selection import train_test_split\n",
        "from sklearn.feature_selection import SelectKBest\n",
        "from sklearn.feature_selection import chi2\n",
        "from imblearn.over_sampling import SMOTE\n",
        "from sklearn.inspection import permutation_importance\n",
        "from sklearn.neighbors import KNeighborsClassifier\n",
        "from sklearn import metrics\n",
        "from sklearn.metrics import classification_report, confusion_matrix, roc_auc_score,roc_curve, accuracy_score\n",
        "from imblearn import under_sampling, over_sampling\n",
        "from sklearn.ensemble import RandomForestClassifier\n",
        "from sklearn.tree import DecisionTreeClassifier\n",
        "from sklearn import svm\n",
        "from sklearn.model_selection import RandomizedSearchCV\n",
        "from imblearn.pipeline import Pipeline\n",
        "from sklearn.model_selection import RepeatedStratifiedKFold"
      ]
    },
    {
      "cell_type": "code",
      "source": [
        "from google.colab import drive\n",
        "drive.mount('/content/drive')"
      ],
      "metadata": {
        "colab": {
          "base_uri": "https://localhost:8080/"
        },
        "id": "zWCfu54pUFwr",
        "outputId": "e02a8f4c-a75b-4127-c9ca-d0073b44ecd4"
      },
      "execution_count": null,
      "outputs": [
        {
          "output_type": "stream",
          "name": "stdout",
          "text": [
            "Mounted at /content/drive\n"
          ]
        }
      ]
    },
    {
      "cell_type": "code",
      "source": [
        "df = pd.read_csv('/content/drive/My Drive/AI_ML_DS/AI/BTL_AI/credit_risk_dataset_normalization.csv')"
      ],
      "metadata": {
        "id": "7yfe5lN-UJ4i"
      },
      "execution_count": null,
      "outputs": []
    },
    {
      "cell_type": "code",
      "source": [
        "df.head()\n"
      ],
      "metadata": {
        "colab": {
          "base_uri": "https://localhost:8080/",
          "height": 270
        },
        "id": "JmiFevXRUULv",
        "outputId": "a58685aa-82f6-47b2-d2d3-dd809c91b657"
      },
      "execution_count": null,
      "outputs": [
        {
          "output_type": "execute_result",
          "data": {
            "text/plain": [
              "   person_age  person_income  person_home_ownership  person_emp_length  \\\n",
              "0    0.038462       0.026807               0.666667             0.3125   \n",
              "1    0.038462       0.028263               0.666667             0.1250   \n",
              "2    0.038462       0.028749               0.666667             0.3750   \n",
              "3    0.038462       0.028749               0.666667             0.1250   \n",
              "4    0.153846       0.032634               0.000000             0.5000   \n",
              "\n",
              "   loan_intent  loan_grade  loan_amnt  loan_int_rate  loan_status  \\\n",
              "0          0.2        0.25   0.018450       0.400841          0.0   \n",
              "1          1.0        0.00   0.073801       0.120533          1.0   \n",
              "2          1.0        0.75   0.040590       0.653118          1.0   \n",
              "3          0.4        0.00   0.147601       0.224947          1.0   \n",
              "4          0.2        0.25   0.046125       0.390329          1.0   \n",
              "\n",
              "   loan_percent_income  cb_person_default_on_file  cb_person_cred_hist_length  \n",
              "0             0.191489                        0.0                    0.000000  \n",
              "1             0.510638                        0.0                    0.000000  \n",
              "2             0.319149                        0.0                    0.071429  \n",
              "3             0.936170                        0.0                    0.000000  \n",
              "4             0.319149                        0.0                    0.000000  "
            ],
            "text/html": [
              "\n",
              "  <div id=\"df-7d3d04a9-ce90-49f6-813e-5b1e7e4a2cff\">\n",
              "    <div class=\"colab-df-container\">\n",
              "      <div>\n",
              "<style scoped>\n",
              "    .dataframe tbody tr th:only-of-type {\n",
              "        vertical-align: middle;\n",
              "    }\n",
              "\n",
              "    .dataframe tbody tr th {\n",
              "        vertical-align: top;\n",
              "    }\n",
              "\n",
              "    .dataframe thead th {\n",
              "        text-align: right;\n",
              "    }\n",
              "</style>\n",
              "<table border=\"1\" class=\"dataframe\">\n",
              "  <thead>\n",
              "    <tr style=\"text-align: right;\">\n",
              "      <th></th>\n",
              "      <th>person_age</th>\n",
              "      <th>person_income</th>\n",
              "      <th>person_home_ownership</th>\n",
              "      <th>person_emp_length</th>\n",
              "      <th>loan_intent</th>\n",
              "      <th>loan_grade</th>\n",
              "      <th>loan_amnt</th>\n",
              "      <th>loan_int_rate</th>\n",
              "      <th>loan_status</th>\n",
              "      <th>loan_percent_income</th>\n",
              "      <th>cb_person_default_on_file</th>\n",
              "      <th>cb_person_cred_hist_length</th>\n",
              "    </tr>\n",
              "  </thead>\n",
              "  <tbody>\n",
              "    <tr>\n",
              "      <th>0</th>\n",
              "      <td>0.038462</td>\n",
              "      <td>0.026807</td>\n",
              "      <td>0.666667</td>\n",
              "      <td>0.3125</td>\n",
              "      <td>0.2</td>\n",
              "      <td>0.25</td>\n",
              "      <td>0.018450</td>\n",
              "      <td>0.400841</td>\n",
              "      <td>0.0</td>\n",
              "      <td>0.191489</td>\n",
              "      <td>0.0</td>\n",
              "      <td>0.000000</td>\n",
              "    </tr>\n",
              "    <tr>\n",
              "      <th>1</th>\n",
              "      <td>0.038462</td>\n",
              "      <td>0.028263</td>\n",
              "      <td>0.666667</td>\n",
              "      <td>0.1250</td>\n",
              "      <td>1.0</td>\n",
              "      <td>0.00</td>\n",
              "      <td>0.073801</td>\n",
              "      <td>0.120533</td>\n",
              "      <td>1.0</td>\n",
              "      <td>0.510638</td>\n",
              "      <td>0.0</td>\n",
              "      <td>0.000000</td>\n",
              "    </tr>\n",
              "    <tr>\n",
              "      <th>2</th>\n",
              "      <td>0.038462</td>\n",
              "      <td>0.028749</td>\n",
              "      <td>0.666667</td>\n",
              "      <td>0.3750</td>\n",
              "      <td>1.0</td>\n",
              "      <td>0.75</td>\n",
              "      <td>0.040590</td>\n",
              "      <td>0.653118</td>\n",
              "      <td>1.0</td>\n",
              "      <td>0.319149</td>\n",
              "      <td>0.0</td>\n",
              "      <td>0.071429</td>\n",
              "    </tr>\n",
              "    <tr>\n",
              "      <th>3</th>\n",
              "      <td>0.038462</td>\n",
              "      <td>0.028749</td>\n",
              "      <td>0.666667</td>\n",
              "      <td>0.1250</td>\n",
              "      <td>0.4</td>\n",
              "      <td>0.00</td>\n",
              "      <td>0.147601</td>\n",
              "      <td>0.224947</td>\n",
              "      <td>1.0</td>\n",
              "      <td>0.936170</td>\n",
              "      <td>0.0</td>\n",
              "      <td>0.000000</td>\n",
              "    </tr>\n",
              "    <tr>\n",
              "      <th>4</th>\n",
              "      <td>0.153846</td>\n",
              "      <td>0.032634</td>\n",
              "      <td>0.000000</td>\n",
              "      <td>0.5000</td>\n",
              "      <td>0.2</td>\n",
              "      <td>0.25</td>\n",
              "      <td>0.046125</td>\n",
              "      <td>0.390329</td>\n",
              "      <td>1.0</td>\n",
              "      <td>0.319149</td>\n",
              "      <td>0.0</td>\n",
              "      <td>0.000000</td>\n",
              "    </tr>\n",
              "  </tbody>\n",
              "</table>\n",
              "</div>\n",
              "      <button class=\"colab-df-convert\" onclick=\"convertToInteractive('df-7d3d04a9-ce90-49f6-813e-5b1e7e4a2cff')\"\n",
              "              title=\"Convert this dataframe to an interactive table.\"\n",
              "              style=\"display:none;\">\n",
              "        \n",
              "  <svg xmlns=\"http://www.w3.org/2000/svg\" height=\"24px\"viewBox=\"0 0 24 24\"\n",
              "       width=\"24px\">\n",
              "    <path d=\"M0 0h24v24H0V0z\" fill=\"none\"/>\n",
              "    <path d=\"M18.56 5.44l.94 2.06.94-2.06 2.06-.94-2.06-.94-.94-2.06-.94 2.06-2.06.94zm-11 1L8.5 8.5l.94-2.06 2.06-.94-2.06-.94L8.5 2.5l-.94 2.06-2.06.94zm10 10l.94 2.06.94-2.06 2.06-.94-2.06-.94-.94-2.06-.94 2.06-2.06.94z\"/><path d=\"M17.41 7.96l-1.37-1.37c-.4-.4-.92-.59-1.43-.59-.52 0-1.04.2-1.43.59L10.3 9.45l-7.72 7.72c-.78.78-.78 2.05 0 2.83L4 21.41c.39.39.9.59 1.41.59.51 0 1.02-.2 1.41-.59l7.78-7.78 2.81-2.81c.8-.78.8-2.07 0-2.86zM5.41 20L4 18.59l7.72-7.72 1.47 1.35L5.41 20z\"/>\n",
              "  </svg>\n",
              "      </button>\n",
              "      \n",
              "  <style>\n",
              "    .colab-df-container {\n",
              "      display:flex;\n",
              "      flex-wrap:wrap;\n",
              "      gap: 12px;\n",
              "    }\n",
              "\n",
              "    .colab-df-convert {\n",
              "      background-color: #E8F0FE;\n",
              "      border: none;\n",
              "      border-radius: 50%;\n",
              "      cursor: pointer;\n",
              "      display: none;\n",
              "      fill: #1967D2;\n",
              "      height: 32px;\n",
              "      padding: 0 0 0 0;\n",
              "      width: 32px;\n",
              "    }\n",
              "\n",
              "    .colab-df-convert:hover {\n",
              "      background-color: #E2EBFA;\n",
              "      box-shadow: 0px 1px 2px rgba(60, 64, 67, 0.3), 0px 1px 3px 1px rgba(60, 64, 67, 0.15);\n",
              "      fill: #174EA6;\n",
              "    }\n",
              "\n",
              "    [theme=dark] .colab-df-convert {\n",
              "      background-color: #3B4455;\n",
              "      fill: #D2E3FC;\n",
              "    }\n",
              "\n",
              "    [theme=dark] .colab-df-convert:hover {\n",
              "      background-color: #434B5C;\n",
              "      box-shadow: 0px 1px 3px 1px rgba(0, 0, 0, 0.15);\n",
              "      filter: drop-shadow(0px 1px 2px rgba(0, 0, 0, 0.3));\n",
              "      fill: #FFFFFF;\n",
              "    }\n",
              "  </style>\n",
              "\n",
              "      <script>\n",
              "        const buttonEl =\n",
              "          document.querySelector('#df-7d3d04a9-ce90-49f6-813e-5b1e7e4a2cff button.colab-df-convert');\n",
              "        buttonEl.style.display =\n",
              "          google.colab.kernel.accessAllowed ? 'block' : 'none';\n",
              "\n",
              "        async function convertToInteractive(key) {\n",
              "          const element = document.querySelector('#df-7d3d04a9-ce90-49f6-813e-5b1e7e4a2cff');\n",
              "          const dataTable =\n",
              "            await google.colab.kernel.invokeFunction('convertToInteractive',\n",
              "                                                     [key], {});\n",
              "          if (!dataTable) return;\n",
              "\n",
              "          const docLinkHtml = 'Like what you see? Visit the ' +\n",
              "            '<a target=\"_blank\" href=https://colab.research.google.com/notebooks/data_table.ipynb>data table notebook</a>'\n",
              "            + ' to learn more about interactive tables.';\n",
              "          element.innerHTML = '';\n",
              "          dataTable['output_type'] = 'display_data';\n",
              "          await google.colab.output.renderOutput(dataTable, element);\n",
              "          const docLink = document.createElement('div');\n",
              "          docLink.innerHTML = docLinkHtml;\n",
              "          element.appendChild(docLink);\n",
              "        }\n",
              "      </script>\n",
              "    </div>\n",
              "  </div>\n",
              "  "
            ]
          },
          "metadata": {},
          "execution_count": 4
        }
      ]
    },
    {
      "cell_type": "code",
      "source": [
        "X = pd.DataFrame(df)\n",
        "X = X.drop(['loan_status'], axis=1)\n",
        "y = df[['loan_status']]\n",
        "X.info()\n"
      ],
      "metadata": {
        "colab": {
          "base_uri": "https://localhost:8080/"
        },
        "id": "HUl39axlUZsO",
        "outputId": "825181e2-7fa1-464d-9861-31cb70aca2a9"
      },
      "execution_count": null,
      "outputs": [
        {
          "output_type": "stream",
          "name": "stdout",
          "text": [
            "<class 'pandas.core.frame.DataFrame'>\n",
            "RangeIndex: 29998 entries, 0 to 29997\n",
            "Data columns (total 11 columns):\n",
            " #   Column                      Non-Null Count  Dtype  \n",
            "---  ------                      --------------  -----  \n",
            " 0   person_age                  29998 non-null  float64\n",
            " 1   person_income               29998 non-null  float64\n",
            " 2   person_home_ownership       29998 non-null  float64\n",
            " 3   person_emp_length           29998 non-null  float64\n",
            " 4   loan_intent                 29998 non-null  float64\n",
            " 5   loan_grade                  29998 non-null  float64\n",
            " 6   loan_amnt                   29998 non-null  float64\n",
            " 7   loan_int_rate               29998 non-null  float64\n",
            " 8   loan_percent_income         29998 non-null  float64\n",
            " 9   cb_person_default_on_file   29998 non-null  float64\n",
            " 10  cb_person_cred_hist_length  29998 non-null  float64\n",
            "dtypes: float64(11)\n",
            "memory usage: 2.5 MB\n"
          ]
        }
      ]
    },
    {
      "cell_type": "code",
      "source": [
        "X.head()"
      ],
      "metadata": {
        "colab": {
          "base_uri": "https://localhost:8080/",
          "height": 270
        },
        "id": "M1RyScNNVA6k",
        "outputId": "516fed81-f22e-4977-a766-7905eb15c51d"
      },
      "execution_count": null,
      "outputs": [
        {
          "output_type": "execute_result",
          "data": {
            "text/plain": [
              "   person_age  person_income  person_home_ownership  person_emp_length  \\\n",
              "0    0.038462       0.026807               0.666667             0.3125   \n",
              "1    0.038462       0.028263               0.666667             0.1250   \n",
              "2    0.038462       0.028749               0.666667             0.3750   \n",
              "3    0.038462       0.028749               0.666667             0.1250   \n",
              "4    0.153846       0.032634               0.000000             0.5000   \n",
              "\n",
              "   loan_intent  loan_grade  loan_amnt  loan_int_rate  loan_percent_income  \\\n",
              "0          0.2        0.25   0.018450       0.400841             0.191489   \n",
              "1          1.0        0.00   0.073801       0.120533             0.510638   \n",
              "2          1.0        0.75   0.040590       0.653118             0.319149   \n",
              "3          0.4        0.00   0.147601       0.224947             0.936170   \n",
              "4          0.2        0.25   0.046125       0.390329             0.319149   \n",
              "\n",
              "   cb_person_default_on_file  cb_person_cred_hist_length  \n",
              "0                        0.0                    0.000000  \n",
              "1                        0.0                    0.000000  \n",
              "2                        0.0                    0.071429  \n",
              "3                        0.0                    0.000000  \n",
              "4                        0.0                    0.000000  "
            ],
            "text/html": [
              "\n",
              "  <div id=\"df-8299728b-6ccb-4731-8f38-1bb4c4296774\">\n",
              "    <div class=\"colab-df-container\">\n",
              "      <div>\n",
              "<style scoped>\n",
              "    .dataframe tbody tr th:only-of-type {\n",
              "        vertical-align: middle;\n",
              "    }\n",
              "\n",
              "    .dataframe tbody tr th {\n",
              "        vertical-align: top;\n",
              "    }\n",
              "\n",
              "    .dataframe thead th {\n",
              "        text-align: right;\n",
              "    }\n",
              "</style>\n",
              "<table border=\"1\" class=\"dataframe\">\n",
              "  <thead>\n",
              "    <tr style=\"text-align: right;\">\n",
              "      <th></th>\n",
              "      <th>person_age</th>\n",
              "      <th>person_income</th>\n",
              "      <th>person_home_ownership</th>\n",
              "      <th>person_emp_length</th>\n",
              "      <th>loan_intent</th>\n",
              "      <th>loan_grade</th>\n",
              "      <th>loan_amnt</th>\n",
              "      <th>loan_int_rate</th>\n",
              "      <th>loan_percent_income</th>\n",
              "      <th>cb_person_default_on_file</th>\n",
              "      <th>cb_person_cred_hist_length</th>\n",
              "    </tr>\n",
              "  </thead>\n",
              "  <tbody>\n",
              "    <tr>\n",
              "      <th>0</th>\n",
              "      <td>0.038462</td>\n",
              "      <td>0.026807</td>\n",
              "      <td>0.666667</td>\n",
              "      <td>0.3125</td>\n",
              "      <td>0.2</td>\n",
              "      <td>0.25</td>\n",
              "      <td>0.018450</td>\n",
              "      <td>0.400841</td>\n",
              "      <td>0.191489</td>\n",
              "      <td>0.0</td>\n",
              "      <td>0.000000</td>\n",
              "    </tr>\n",
              "    <tr>\n",
              "      <th>1</th>\n",
              "      <td>0.038462</td>\n",
              "      <td>0.028263</td>\n",
              "      <td>0.666667</td>\n",
              "      <td>0.1250</td>\n",
              "      <td>1.0</td>\n",
              "      <td>0.00</td>\n",
              "      <td>0.073801</td>\n",
              "      <td>0.120533</td>\n",
              "      <td>0.510638</td>\n",
              "      <td>0.0</td>\n",
              "      <td>0.000000</td>\n",
              "    </tr>\n",
              "    <tr>\n",
              "      <th>2</th>\n",
              "      <td>0.038462</td>\n",
              "      <td>0.028749</td>\n",
              "      <td>0.666667</td>\n",
              "      <td>0.3750</td>\n",
              "      <td>1.0</td>\n",
              "      <td>0.75</td>\n",
              "      <td>0.040590</td>\n",
              "      <td>0.653118</td>\n",
              "      <td>0.319149</td>\n",
              "      <td>0.0</td>\n",
              "      <td>0.071429</td>\n",
              "    </tr>\n",
              "    <tr>\n",
              "      <th>3</th>\n",
              "      <td>0.038462</td>\n",
              "      <td>0.028749</td>\n",
              "      <td>0.666667</td>\n",
              "      <td>0.1250</td>\n",
              "      <td>0.4</td>\n",
              "      <td>0.00</td>\n",
              "      <td>0.147601</td>\n",
              "      <td>0.224947</td>\n",
              "      <td>0.936170</td>\n",
              "      <td>0.0</td>\n",
              "      <td>0.000000</td>\n",
              "    </tr>\n",
              "    <tr>\n",
              "      <th>4</th>\n",
              "      <td>0.153846</td>\n",
              "      <td>0.032634</td>\n",
              "      <td>0.000000</td>\n",
              "      <td>0.5000</td>\n",
              "      <td>0.2</td>\n",
              "      <td>0.25</td>\n",
              "      <td>0.046125</td>\n",
              "      <td>0.390329</td>\n",
              "      <td>0.319149</td>\n",
              "      <td>0.0</td>\n",
              "      <td>0.000000</td>\n",
              "    </tr>\n",
              "  </tbody>\n",
              "</table>\n",
              "</div>\n",
              "      <button class=\"colab-df-convert\" onclick=\"convertToInteractive('df-8299728b-6ccb-4731-8f38-1bb4c4296774')\"\n",
              "              title=\"Convert this dataframe to an interactive table.\"\n",
              "              style=\"display:none;\">\n",
              "        \n",
              "  <svg xmlns=\"http://www.w3.org/2000/svg\" height=\"24px\"viewBox=\"0 0 24 24\"\n",
              "       width=\"24px\">\n",
              "    <path d=\"M0 0h24v24H0V0z\" fill=\"none\"/>\n",
              "    <path d=\"M18.56 5.44l.94 2.06.94-2.06 2.06-.94-2.06-.94-.94-2.06-.94 2.06-2.06.94zm-11 1L8.5 8.5l.94-2.06 2.06-.94-2.06-.94L8.5 2.5l-.94 2.06-2.06.94zm10 10l.94 2.06.94-2.06 2.06-.94-2.06-.94-.94-2.06-.94 2.06-2.06.94z\"/><path d=\"M17.41 7.96l-1.37-1.37c-.4-.4-.92-.59-1.43-.59-.52 0-1.04.2-1.43.59L10.3 9.45l-7.72 7.72c-.78.78-.78 2.05 0 2.83L4 21.41c.39.39.9.59 1.41.59.51 0 1.02-.2 1.41-.59l7.78-7.78 2.81-2.81c.8-.78.8-2.07 0-2.86zM5.41 20L4 18.59l7.72-7.72 1.47 1.35L5.41 20z\"/>\n",
              "  </svg>\n",
              "      </button>\n",
              "      \n",
              "  <style>\n",
              "    .colab-df-container {\n",
              "      display:flex;\n",
              "      flex-wrap:wrap;\n",
              "      gap: 12px;\n",
              "    }\n",
              "\n",
              "    .colab-df-convert {\n",
              "      background-color: #E8F0FE;\n",
              "      border: none;\n",
              "      border-radius: 50%;\n",
              "      cursor: pointer;\n",
              "      display: none;\n",
              "      fill: #1967D2;\n",
              "      height: 32px;\n",
              "      padding: 0 0 0 0;\n",
              "      width: 32px;\n",
              "    }\n",
              "\n",
              "    .colab-df-convert:hover {\n",
              "      background-color: #E2EBFA;\n",
              "      box-shadow: 0px 1px 2px rgba(60, 64, 67, 0.3), 0px 1px 3px 1px rgba(60, 64, 67, 0.15);\n",
              "      fill: #174EA6;\n",
              "    }\n",
              "\n",
              "    [theme=dark] .colab-df-convert {\n",
              "      background-color: #3B4455;\n",
              "      fill: #D2E3FC;\n",
              "    }\n",
              "\n",
              "    [theme=dark] .colab-df-convert:hover {\n",
              "      background-color: #434B5C;\n",
              "      box-shadow: 0px 1px 3px 1px rgba(0, 0, 0, 0.15);\n",
              "      filter: drop-shadow(0px 1px 2px rgba(0, 0, 0, 0.3));\n",
              "      fill: #FFFFFF;\n",
              "    }\n",
              "  </style>\n",
              "\n",
              "      <script>\n",
              "        const buttonEl =\n",
              "          document.querySelector('#df-8299728b-6ccb-4731-8f38-1bb4c4296774 button.colab-df-convert');\n",
              "        buttonEl.style.display =\n",
              "          google.colab.kernel.accessAllowed ? 'block' : 'none';\n",
              "\n",
              "        async function convertToInteractive(key) {\n",
              "          const element = document.querySelector('#df-8299728b-6ccb-4731-8f38-1bb4c4296774');\n",
              "          const dataTable =\n",
              "            await google.colab.kernel.invokeFunction('convertToInteractive',\n",
              "                                                     [key], {});\n",
              "          if (!dataTable) return;\n",
              "\n",
              "          const docLinkHtml = 'Like what you see? Visit the ' +\n",
              "            '<a target=\"_blank\" href=https://colab.research.google.com/notebooks/data_table.ipynb>data table notebook</a>'\n",
              "            + ' to learn more about interactive tables.';\n",
              "          element.innerHTML = '';\n",
              "          dataTable['output_type'] = 'display_data';\n",
              "          await google.colab.output.renderOutput(dataTable, element);\n",
              "          const docLink = document.createElement('div');\n",
              "          docLink.innerHTML = docLinkHtml;\n",
              "          element.appendChild(docLink);\n",
              "        }\n",
              "      </script>\n",
              "    </div>\n",
              "  </div>\n",
              "  "
            ]
          },
          "metadata": {},
          "execution_count": 6
        }
      ]
    },
    {
      "cell_type": "code",
      "source": [
        "y.head()"
      ],
      "metadata": {
        "colab": {
          "base_uri": "https://localhost:8080/",
          "height": 206
        },
        "id": "PV6XnYD0VJkJ",
        "outputId": "fc6208b8-b151-4cd2-8419-b0630a6e7747"
      },
      "execution_count": null,
      "outputs": [
        {
          "output_type": "execute_result",
          "data": {
            "text/plain": [
              "   loan_status\n",
              "0          0.0\n",
              "1          1.0\n",
              "2          1.0\n",
              "3          1.0\n",
              "4          1.0"
            ],
            "text/html": [
              "\n",
              "  <div id=\"df-454ec784-26e0-4478-9fc0-fdd2bafb4631\">\n",
              "    <div class=\"colab-df-container\">\n",
              "      <div>\n",
              "<style scoped>\n",
              "    .dataframe tbody tr th:only-of-type {\n",
              "        vertical-align: middle;\n",
              "    }\n",
              "\n",
              "    .dataframe tbody tr th {\n",
              "        vertical-align: top;\n",
              "    }\n",
              "\n",
              "    .dataframe thead th {\n",
              "        text-align: right;\n",
              "    }\n",
              "</style>\n",
              "<table border=\"1\" class=\"dataframe\">\n",
              "  <thead>\n",
              "    <tr style=\"text-align: right;\">\n",
              "      <th></th>\n",
              "      <th>loan_status</th>\n",
              "    </tr>\n",
              "  </thead>\n",
              "  <tbody>\n",
              "    <tr>\n",
              "      <th>0</th>\n",
              "      <td>0.0</td>\n",
              "    </tr>\n",
              "    <tr>\n",
              "      <th>1</th>\n",
              "      <td>1.0</td>\n",
              "    </tr>\n",
              "    <tr>\n",
              "      <th>2</th>\n",
              "      <td>1.0</td>\n",
              "    </tr>\n",
              "    <tr>\n",
              "      <th>3</th>\n",
              "      <td>1.0</td>\n",
              "    </tr>\n",
              "    <tr>\n",
              "      <th>4</th>\n",
              "      <td>1.0</td>\n",
              "    </tr>\n",
              "  </tbody>\n",
              "</table>\n",
              "</div>\n",
              "      <button class=\"colab-df-convert\" onclick=\"convertToInteractive('df-454ec784-26e0-4478-9fc0-fdd2bafb4631')\"\n",
              "              title=\"Convert this dataframe to an interactive table.\"\n",
              "              style=\"display:none;\">\n",
              "        \n",
              "  <svg xmlns=\"http://www.w3.org/2000/svg\" height=\"24px\"viewBox=\"0 0 24 24\"\n",
              "       width=\"24px\">\n",
              "    <path d=\"M0 0h24v24H0V0z\" fill=\"none\"/>\n",
              "    <path d=\"M18.56 5.44l.94 2.06.94-2.06 2.06-.94-2.06-.94-.94-2.06-.94 2.06-2.06.94zm-11 1L8.5 8.5l.94-2.06 2.06-.94-2.06-.94L8.5 2.5l-.94 2.06-2.06.94zm10 10l.94 2.06.94-2.06 2.06-.94-2.06-.94-.94-2.06-.94 2.06-2.06.94z\"/><path d=\"M17.41 7.96l-1.37-1.37c-.4-.4-.92-.59-1.43-.59-.52 0-1.04.2-1.43.59L10.3 9.45l-7.72 7.72c-.78.78-.78 2.05 0 2.83L4 21.41c.39.39.9.59 1.41.59.51 0 1.02-.2 1.41-.59l7.78-7.78 2.81-2.81c.8-.78.8-2.07 0-2.86zM5.41 20L4 18.59l7.72-7.72 1.47 1.35L5.41 20z\"/>\n",
              "  </svg>\n",
              "      </button>\n",
              "      \n",
              "  <style>\n",
              "    .colab-df-container {\n",
              "      display:flex;\n",
              "      flex-wrap:wrap;\n",
              "      gap: 12px;\n",
              "    }\n",
              "\n",
              "    .colab-df-convert {\n",
              "      background-color: #E8F0FE;\n",
              "      border: none;\n",
              "      border-radius: 50%;\n",
              "      cursor: pointer;\n",
              "      display: none;\n",
              "      fill: #1967D2;\n",
              "      height: 32px;\n",
              "      padding: 0 0 0 0;\n",
              "      width: 32px;\n",
              "    }\n",
              "\n",
              "    .colab-df-convert:hover {\n",
              "      background-color: #E2EBFA;\n",
              "      box-shadow: 0px 1px 2px rgba(60, 64, 67, 0.3), 0px 1px 3px 1px rgba(60, 64, 67, 0.15);\n",
              "      fill: #174EA6;\n",
              "    }\n",
              "\n",
              "    [theme=dark] .colab-df-convert {\n",
              "      background-color: #3B4455;\n",
              "      fill: #D2E3FC;\n",
              "    }\n",
              "\n",
              "    [theme=dark] .colab-df-convert:hover {\n",
              "      background-color: #434B5C;\n",
              "      box-shadow: 0px 1px 3px 1px rgba(0, 0, 0, 0.15);\n",
              "      filter: drop-shadow(0px 1px 2px rgba(0, 0, 0, 0.3));\n",
              "      fill: #FFFFFF;\n",
              "    }\n",
              "  </style>\n",
              "\n",
              "      <script>\n",
              "        const buttonEl =\n",
              "          document.querySelector('#df-454ec784-26e0-4478-9fc0-fdd2bafb4631 button.colab-df-convert');\n",
              "        buttonEl.style.display =\n",
              "          google.colab.kernel.accessAllowed ? 'block' : 'none';\n",
              "\n",
              "        async function convertToInteractive(key) {\n",
              "          const element = document.querySelector('#df-454ec784-26e0-4478-9fc0-fdd2bafb4631');\n",
              "          const dataTable =\n",
              "            await google.colab.kernel.invokeFunction('convertToInteractive',\n",
              "                                                     [key], {});\n",
              "          if (!dataTable) return;\n",
              "\n",
              "          const docLinkHtml = 'Like what you see? Visit the ' +\n",
              "            '<a target=\"_blank\" href=https://colab.research.google.com/notebooks/data_table.ipynb>data table notebook</a>'\n",
              "            + ' to learn more about interactive tables.';\n",
              "          element.innerHTML = '';\n",
              "          dataTable['output_type'] = 'display_data';\n",
              "          await google.colab.output.renderOutput(dataTable, element);\n",
              "          const docLink = document.createElement('div');\n",
              "          docLink.innerHTML = docLinkHtml;\n",
              "          element.appendChild(docLink);\n",
              "        }\n",
              "      </script>\n",
              "    </div>\n",
              "  </div>\n",
              "  "
            ]
          },
          "metadata": {},
          "execution_count": 7
        }
      ]
    },
    {
      "cell_type": "code",
      "source": [
        "y = y.values.ravel()"
      ],
      "metadata": {
        "id": "fKF7U5mOo2mm"
      },
      "execution_count": null,
      "outputs": []
    },
    {
      "cell_type": "code",
      "source": [
        "# K-best Method\n",
        "best_features = SelectKBest(score_func=chi2, k=11) #Chọn các tính năng theo k điểm cao nhất.\n",
        "fit = best_features.fit(X,y)\n",
        "df_scores = pd.DataFrame(fit.scores_)# Điểm số của các tính năng\n",
        "df_columns = pd.DataFrame(X.columns)\n",
        "feature_scores = pd.concat([df_columns, df_scores], axis=1)# Nối các đối tượng pandas dọc theo cột.\n",
        "feature_scores.columns = [\"Feature\",\"Score\"]\n",
        "print(feature_scores.nlargest(11,\"Score\"))\n"
      ],
      "metadata": {
        "colab": {
          "base_uri": "https://localhost:8080/"
        },
        "id": "0eu6UFA_VZH6",
        "outputId": "95001ca3-9f4d-4e6b-93c6-14411f2057b4"
      },
      "execution_count": null,
      "outputs": [
        {
          "output_type": "stream",
          "name": "stdout",
          "text": [
            "                       Feature       Score\n",
            "5                   loan_grade  979.486278\n",
            "9    cb_person_default_on_file  756.959610\n",
            "8          loan_percent_income  510.348486\n",
            "2        person_home_ownership  509.438695\n",
            "7                loan_int_rate  316.182079\n",
            "1                person_income  160.386595\n",
            "3            person_emp_length   40.968762\n",
            "6                    loan_amnt   26.140949\n",
            "4                  loan_intent   24.132526\n",
            "0                   person_age    3.029378\n",
            "10  cb_person_cred_hist_length    3.014954\n"
          ]
        }
      ]
    },
    {
      "cell_type": "code",
      "source": [
        "lst_accuracy = []"
      ],
      "metadata": {
        "id": "CmMQ7h-ishVJ"
      },
      "execution_count": null,
      "outputs": []
    },
    {
      "cell_type": "markdown",
      "source": [
        "### **KNN**"
      ],
      "metadata": {
        "id": "7-59MfOHIqz4"
      }
    },
    {
      "cell_type": "markdown",
      "source": [
        "### **Mô hình ban đầu**\n",
        "Tạo và các tham số được sử dụng mặc định."
      ],
      "metadata": {
        "id": "4f47vFow6qJZ"
      }
    },
    {
      "cell_type": "code",
      "source": [
        "### KNN Classifier\n",
        "# 1) Initial\n",
        "\n",
        "# Train, Test, Split\n",
        "X_train_1, X_test_1, Y_train_1, Y_test_1 = train_test_split(X, y, test_size = 0.2, random_state=152, stratify=y)\n",
        "\n",
        "# Define the model\n",
        "clf_1 = KNeighborsClassifier()\n",
        "\n",
        " # Fit the model\n",
        "clf_1.fit(X_train_1,Y_train_1)\n",
        "\n",
        "# Make prediction\n",
        "pred_1 = clf_1.predict(X_test_1)\n",
        "\n",
        "# Accuracy score\n",
        "print('Accuracy score of KNN model 1 is:', accuracy_score(Y_test_1, pred_1))\n",
        "# lst_accuracy.append(accuracy_score(Y_test_1, pred_1))\n",
        "\n",
        "# Confusion Matrix\n",
        "conmat_1 = confusion_matrix(Y_test_1, pred_1)\n",
        "print(conmat_1)\n",
        "plt.figure(figsize=(10,8))\n",
        "plt.title('Confusion Matrix of KNN 1st Model')\n",
        "sns.heatmap(conmat_1, annot=True, cmap=\"Purples\", fmt=\"d\",cbar=True)\n",
        "\n",
        " # Classification Report\n",
        "print('Classification Report of KNN 1st Model')\n",
        "print(classification_report(Y_test_1, pred_1))\n"
      ],
      "metadata": {
        "colab": {
          "base_uri": "https://localhost:8080/",
          "height": 735
        },
        "id": "zyw8uFkPnZ4o",
        "outputId": "cf2c3f36-9272-4ce5-8507-d889e73fcaef"
      },
      "execution_count": null,
      "outputs": [
        {
          "output_type": "stream",
          "name": "stdout",
          "text": [
            "Accuracy score of KNN model 1 is: 0.8846666666666667\n",
            "[[4593  166]\n",
            " [ 526  715]]\n",
            "Classification Report of KNN 1st Model\n",
            "              precision    recall  f1-score   support\n",
            "\n",
            "         0.0       0.90      0.97      0.93      4759\n",
            "         1.0       0.81      0.58      0.67      1241\n",
            "\n",
            "    accuracy                           0.88      6000\n",
            "   macro avg       0.85      0.77      0.80      6000\n",
            "weighted avg       0.88      0.88      0.88      6000\n",
            "\n"
          ]
        },
        {
          "output_type": "display_data",
          "data": {
            "text/plain": [
              "<Figure size 720x576 with 2 Axes>"
            ],
            "image/png": "[encoded data removed]"
          },
          "metadata": {
            "needs_background": "light"
          }
        }
      ]
    },
    {
      "cell_type": "code",
      "source": [
        "from sklearn.neighbors import KNeighborsClassifier\n",
        "from sklearn.model_selection import cross_val_score\n",
        "\n",
        "# KNN classifier\n",
        "knn = KNeighborsClassifier()\n",
        "\n",
        "# Use k-fold cross validation with k=10\n",
        "scores = cross_val_score(knn, X, y, cv=10)\n",
        "\n",
        "# Print the mean and standard deviation of the scores\n",
        "print(\"Array acucuracy KNN \")\n",
        "print(scores)\n",
        "print(\"Accuracy: %0.2f\" % scores.mean())\n",
        "lst_accuracy.append(scores.mean())"
      ],
      "metadata": {
        "id": "Dk1yN9KDZG9i",
        "colab": {
          "base_uri": "https://localhost:8080/"
        },
        "outputId": "dcafde91-092c-42fb-954f-e9628d585b25"
      },
      "execution_count": null,
      "outputs": [
        {
          "output_type": "stream",
          "name": "stdout",
          "text": [
            "Array acucuracy KNN \n",
            "[0.88466667 0.85966667 0.87333333 0.88833333 0.88966667 0.86466667\n",
            " 0.84166667 0.86166667 0.88096032 0.87662554]\n",
            "Accuracy: 0.87\n"
          ]
        }
      ]
    },
    {
      "cell_type": "markdown",
      "source": [
        "## **Decision Tree Classifier**"
      ],
      "metadata": {
        "id": "kssf8F6zJGBm"
      }
    },
    {
      "cell_type": "code",
      "source": [
        "# 1) Initial\n",
        "\n",
        "# Train, Test, Split\n",
        "X_train_2, X_test_2, Y_train_2, Y_test_2 = train_test_split(X, y, test_size = 0.2, random_state=152, stratify=y)\n",
        "\n",
        "# Define the model\n",
        "clf_2 = DecisionTreeClassifier()\n",
        "\n",
        "# Fit the model\n",
        "clf_2.fit(X_train_2,Y_train_2)\n",
        "\n",
        "# Make prediction\n",
        "pred_2 = clf_2.predict(X_test_2)\n",
        "\n",
        "# Accuracy score\n",
        "print('Accuracy score of Decision Tree model 1 is:', accuracy_score(Y_test_2, pred_2))\n",
        "# lst_accuracy.append(accuracy_score(Y_test_2, pred_2))\n",
        "\n",
        "# Confusion Matrix\n",
        "conmat_2 = confusion_matrix(Y_test_2, pred_2)\n",
        "print(conmat_2)\n",
        "plt.figure(figsize=(10,8))\n",
        "plt.title('Confusion Matrix of Decision Tree 1st Model')\n",
        "sns.heatmap(conmat_2, annot=True, cmap=\"Purples\", fmt=\"d\",cbar=True)\n",
        "\n",
        "# Classification Report\n",
        "print('Classification Report of Decision Tree 1st Model')\n",
        "print(classification_report(Y_test_2, pred_2))"
      ],
      "metadata": {
        "colab": {
          "base_uri": "https://localhost:8080/",
          "height": 735
        },
        "id": "h3epKhCdJQRz",
        "outputId": "06fb7a91-90d5-4857-8e69-728fb2aaf635"
      },
      "execution_count": null,
      "outputs": [
        {
          "output_type": "stream",
          "name": "stdout",
          "text": [
            "Accuracy score of Decision Tree model 1 is: 0.884\n",
            "[[4377  382]\n",
            " [ 314  927]]\n",
            "Classification Report of Decision Tree 1st Model\n",
            "              precision    recall  f1-score   support\n",
            "\n",
            "         0.0       0.93      0.92      0.93      4759\n",
            "         1.0       0.71      0.75      0.73      1241\n",
            "\n",
            "    accuracy                           0.88      6000\n",
            "   macro avg       0.82      0.83      0.83      6000\n",
            "weighted avg       0.89      0.88      0.89      6000\n",
            "\n"
          ]
        },
        {
          "output_type": "display_data",
          "data": {
            "text/plain": [
              "<Figure size 720x576 with 2 Axes>"
            ],
            "image/png": "[encoded data removed]"
          },
          "metadata": {
            "needs_background": "light"
          }
        }
      ]
    },
    {
      "cell_type": "code",
      "source": [
        "from sklearn.tree import DecisionTreeClassifier\n",
        "from sklearn.model_selection import cross_val_score\n",
        "\n",
        "# Decision Tree classifier\n",
        "dt = DecisionTreeClassifier()\n",
        "\n",
        "# Use k-fold cross validation with k=10\n",
        "scores = cross_val_score(dt, X, y, cv=10)\n",
        "\n",
        "# Print the mean and standard deviation of the scores\n",
        "print(\"Array acucuracy Decision Tree Classifier \")\n",
        "print(scores)\n",
        "print(\"Accuracy: %0.2f\" % scores.mean())\n",
        "lst_accuracy.append(scores.mean())"
      ],
      "metadata": {
        "id": "E2dyss01ZcBi",
        "colab": {
          "base_uri": "https://localhost:8080/"
        },
        "outputId": "f2bd7bf6-3c9e-4d32-dde7-826a39afd07c"
      },
      "execution_count": null,
      "outputs": [
        {
          "output_type": "stream",
          "name": "stdout",
          "text": [
            "Array acucuracy Decision Tree Classifier \n",
            "[0.822      0.77066667 0.796      0.825      0.87733333 0.89833333\n",
            " 0.83966667 0.834      0.90196732 0.86862287]\n",
            "Accuracy: 0.84\n"
          ]
        }
      ]
    },
    {
      "cell_type": "markdown",
      "source": [
        "## **Random Forest Classifier**"
      ],
      "metadata": {
        "id": "1GEShT6oeINq"
      }
    },
    {
      "cell_type": "code",
      "source": [
        "#1) Initial\n",
        "\n",
        "# Train, Test, Split\n",
        "X_train_3, X_test_3, Y_train_3, Y_test_3 = train_test_split(X, y, test_size = 0.2, random_state=152, stratify=y)\n",
        "\n",
        "# Define the model\n",
        "clf_3 = RandomForestClassifier()\n",
        "\n",
        "# Fit the model\n",
        "clf_3.fit(X_train_3,Y_train_3)\n",
        "\n",
        "# Make prediction\n",
        "pred_3 = clf_3.predict(X_test_3)\n",
        "\n",
        "# Accuracy score\n",
        "print('Accuracy score of Random Forest model is:', accuracy_score(Y_test_3, pred_3))\n",
        "# lst_accuracy.append(accuracy_score(Y_test_3, pred_3))\n",
        "\n",
        "# Confusion Matrix\n",
        "conmat_3 = confusion_matrix(Y_test_3, pred_3)\n",
        "print(conmat_3)\n",
        "plt.figure(figsize=(10,8))\n",
        "plt.title('Confusion Matrix of Random Forest Model')\n",
        "sns.heatmap(conmat_3, annot=True, cmap=\"Purples\", fmt=\"d\",cbar=True)\n",
        "\n",
        "# Classification Report\n",
        "print('Classification Report of Random Forest Model')\n",
        "print(classification_report(Y_test_3, pred_3))"
      ],
      "metadata": {
        "colab": {
          "base_uri": "https://localhost:8080/",
          "height": 735
        },
        "id": "SVIH72XUeIdK",
        "outputId": "368fc795-0925-48d6-ee25-f9cc623fb450"
      },
      "execution_count": null,
      "outputs": [
        {
          "output_type": "stream",
          "name": "stdout",
          "text": [
            "Accuracy score of Random Forest model is: 0.9281666666666667\n",
            "[[4734   25]\n",
            " [ 406  835]]\n",
            "Classification Report of Random Forest Model\n",
            "              precision    recall  f1-score   support\n",
            "\n",
            "         0.0       0.92      0.99      0.96      4759\n",
            "         1.0       0.97      0.67      0.79      1241\n",
            "\n",
            "    accuracy                           0.93      6000\n",
            "   macro avg       0.95      0.83      0.88      6000\n",
            "weighted avg       0.93      0.93      0.92      6000\n",
            "\n"
          ]
        },
        {
          "output_type": "display_data",
          "data": {
            "text/plain": [
              "<Figure size 720x576 with 2 Axes>"
            ],
            "image/png": "[encoded data removed]"
          },
          "metadata": {
            "needs_background": "light"
          }
        }
      ]
    },
    {
      "cell_type": "code",
      "source": [
        "from sklearn.ensemble import RandomForestClassifier\n",
        "from sklearn.model_selection import cross_val_score\n",
        "\n",
        "# Random Forest Classifier\n",
        "rf = RandomForestClassifier()\n",
        "\n",
        "# Use k-fold cross validation with k=10\n",
        "scores = cross_val_score(rf, X, y, cv=10)\n",
        "\n",
        "# Print the mean and standard deviation of the scores\n",
        "print(\"Array acucuracy Random Forest Classifier \")\n",
        "print(scores)\n",
        "print(\"Accuracy: %0.2f\" % scores.mean())\n",
        "lst_accuracy.append(scores.mean())"
      ],
      "metadata": {
        "id": "SGV1z-uCZjYZ",
        "colab": {
          "base_uri": "https://localhost:8080/"
        },
        "outputId": "003923de-a4bc-4340-cefd-ae61f2aef8d9"
      },
      "execution_count": null,
      "outputs": [
        {
          "output_type": "stream",
          "name": "stdout",
          "text": [
            "Array acucuracy Random Forest Classifier \n",
            "[0.917      0.91366667 0.88733333 0.91833333 0.924      0.93266667\n",
            " 0.92766667 0.90533333 0.92530844 0.93897966]\n",
            "Accuracy: 0.92\n"
          ]
        }
      ]
    },
    {
      "cell_type": "markdown",
      "source": [
        "### **SVM**"
      ],
      "metadata": {
        "id": "CFXJS-DWBbtD"
      }
    },
    {
      "cell_type": "code",
      "source": [
        "from sklearn.svm import SVC\n",
        "# 1) Initial\n",
        "\n",
        "# Train, Test, Split\n",
        "X_train_4, X_test_4, Y_train_4, Y_test_4 = train_test_split(X, y, test_size = 0.2, random_state=152, stratify=y)\n",
        "\n",
        "# Define the model\n",
        "clf_4 = SVC()\n",
        "\n",
        " # Fit the model\n",
        "clf_4.fit(X_train_4,Y_train_4)\n",
        "\n",
        "# Make prediction\n",
        "pred_4 = clf_4.predict(X_test_4)\n",
        "\n",
        "# Accuracy score\n",
        "print('Accuracy score of SVM model is:', accuracy_score(Y_test_4, pred_4))\n",
        "# lst_accuracy.append(accuracy_score(Y_test_4, pred_4))\n",
        "\n",
        "# Confusion Matrix\n",
        "conmat_4 = confusion_matrix(Y_test_4, pred_4)\n",
        "print(conmat_4)\n",
        "plt.figure(figsize=(10,8))\n",
        "plt.title('Confusion Matrix of SVM Model')\n",
        "sns.heatmap(conmat_4, annot=True, cmap=\"Purples\", fmt=\"d\",cbar=True)\n",
        "\n",
        " # Classification Report\n",
        "print('Classification Report of SVM Model')\n",
        "print(classification_report(Y_test_4, pred_4))"
      ],
      "metadata": {
        "colab": {
          "base_uri": "https://localhost:8080/",
          "height": 735
        },
        "id": "87BCxUsaBeiU",
        "outputId": "f3306677-ad42-4881-91f7-32ab199bdfa5"
      },
      "execution_count": null,
      "outputs": [
        {
          "output_type": "stream",
          "name": "stdout",
          "text": [
            "Accuracy score of SVM model is: 0.8885\n",
            "[[4649  110]\n",
            " [ 559  682]]\n",
            "Classification Report of SVM Model\n",
            "              precision    recall  f1-score   support\n",
            "\n",
            "         0.0       0.89      0.98      0.93      4759\n",
            "         1.0       0.86      0.55      0.67      1241\n",
            "\n",
            "    accuracy                           0.89      6000\n",
            "   macro avg       0.88      0.76      0.80      6000\n",
            "weighted avg       0.89      0.89      0.88      6000\n",
            "\n"
          ]
        },
        {
          "output_type": "display_data",
          "data": {
            "text/plain": [
              "<Figure size 720x576 with 2 Axes>"
            ],
            "image/png": "[encoded data removed]"
          },
          "metadata": {
            "needs_background": "light"
          }
        }
      ]
    },
    {
      "cell_type": "code",
      "source": [
        "from sklearn.svm import SVC\n",
        "from sklearn.model_selection import cross_val_score\n",
        "\n",
        "# SVM classifier\n",
        "svm = SVC()\n",
        "\n",
        "# Use k-fold cross validation with k=10\n",
        "scores = cross_val_score(svm, X, y, cv=10)\n",
        "\n",
        "# Print the mean and standard deviation of the scores\n",
        "print(\"Array acucuracy SVM\")\n",
        "print(scores)\n",
        "print(\"Accuracy: %0.2f\" % scores.mean())\n",
        "lst_accuracy.append(scores.mean())"
      ],
      "metadata": {
        "id": "ggy6YM-QZfkq",
        "colab": {
          "base_uri": "https://localhost:8080/"
        },
        "outputId": "70e0ad7d-7cd4-4347-8b28-5aa6b6f46ce0"
      },
      "execution_count": null,
      "outputs": [
        {
          "output_type": "stream",
          "name": "stdout",
          "text": [
            "Array acucuracy SVM\n",
            "[0.91566667 0.87466667 0.87066667 0.89033333 0.89466667 0.87166667\n",
            " 0.88033333 0.88133333 0.87729243 0.88729577]\n",
            "Accuracy: 0.88\n"
          ]
        }
      ]
    },
    {
      "cell_type": "markdown",
      "source": [
        "### **Naive Bayes**"
      ],
      "metadata": {
        "id": "L8IbikFbBfdb"
      }
    },
    {
      "cell_type": "code",
      "source": [
        "from sklearn.naive_bayes import BernoulliNB\n",
        "# 1) Initial\n",
        "\n",
        "# Train, Test, Split\n",
        "X_train_5, X_test_5, Y_train_5, Y_test_5 = train_test_split(X, y, test_size = 0.2, random_state=152, stratify=y)\n",
        "\n",
        "# Define the model\n",
        "clf_5 = BernoulliNB()\n",
        "\n",
        " # Fit the model\n",
        "clf_5.fit(X_train_5, Y_train_5)\n",
        "\n",
        "# Make prediction\n",
        "pred_5 = clf_5.predict(X_test_5)\n",
        "\n",
        "# Accuracy score\n",
        "print('Accuracy score of Naive Bayes model is:', accuracy_score(Y_test_5, pred_5))\n",
        "# lst_accuracy.append(accuracy_score(Y_test_5, pred_5))\n",
        "\n",
        "# Confusion Matrix\n",
        "conmat_5 = confusion_matrix(Y_test_5, pred_5)\n",
        "print(conmat_5)\n",
        "plt.figure(figsize=(10,8))\n",
        "plt.title('Confusion Matrix of Naive Bayes Model')\n",
        "sns.heatmap(conmat_5, annot=True, cmap=\"Purples\", fmt=\"d\",cbar=True)\n",
        "\n",
        " # Classification Report\n",
        "print('Classification Report of Naive Bayes Model')\n",
        "print(classification_report(Y_test_5, pred_5))"
      ],
      "metadata": {
        "colab": {
          "base_uri": "https://localhost:8080/",
          "height": 735
        },
        "id": "mWzyUaAVBi-1",
        "outputId": "6535b8af-133b-4259-ad57-3d58f896d563"
      },
      "execution_count": null,
      "outputs": [
        {
          "output_type": "stream",
          "name": "stdout",
          "text": [
            "Accuracy score of Naive Bayes model is: 0.7931666666666667\n",
            "[[4601  158]\n",
            " [1083  158]]\n",
            "Classification Report of Naive Bayes Model\n",
            "              precision    recall  f1-score   support\n",
            "\n",
            "         0.0       0.81      0.97      0.88      4759\n",
            "         1.0       0.50      0.13      0.20      1241\n",
            "\n",
            "    accuracy                           0.79      6000\n",
            "   macro avg       0.65      0.55      0.54      6000\n",
            "weighted avg       0.75      0.79      0.74      6000\n",
            "\n"
          ]
        },
        {
          "output_type": "display_data",
          "data": {
            "text/plain": [
              "<Figure size 720x576 with 2 Axes>"
            ],
            "image/png": "[encoded data removed]"
          },
          "metadata": {
            "needs_background": "light"
          }
        }
      ]
    },
    {
      "cell_type": "code",
      "source": [
        "from sklearn.naive_bayes import GaussianNB\n",
        "from sklearn.model_selection import cross_val_score\n",
        "\n",
        "# Naive Bayes classifier\n",
        "nb = GaussianNB()\n",
        "\n",
        "# Use k-fold cross validation with k=10\n",
        "scores = cross_val_score(nb, X, y, cv=10)\n",
        "\n",
        "# Print the mean and standard deviation of the scores\n",
        "print(\"Array acucuracy Naive Bayes \")\n",
        "print(scores)\n",
        "print(\"Accuracy: %0.2f\" % scores.mean())\n",
        "lst_accuracy.append(scores.mean())"
      ],
      "metadata": {
        "id": "DxPwmaQvZll4",
        "colab": {
          "base_uri": "https://localhost:8080/"
        },
        "outputId": "e36f7b48-af09-4443-9173-d035bc235312"
      },
      "execution_count": null,
      "outputs": [
        {
          "output_type": "stream",
          "name": "stdout",
          "text": [
            "Array acucuracy Naive Bayes \n",
            "[0.79333333 0.79166667 0.79533333 0.79633333 0.836      0.799\n",
            " 0.78366667 0.80566667 0.84061354 0.8306102 ]\n",
            "Accuracy: 0.81\n"
          ]
        }
      ]
    },
    {
      "cell_type": "markdown",
      "source": [
        "## **Tổng kết**"
      ],
      "metadata": {
        "id": "qRmANvdGtfh5"
      }
    },
    {
      "cell_type": "code",
      "source": [
        "# Import libraries\n",
        "import matplotlib.pyplot as plt\n",
        " \n",
        "# Define Axes\n",
        "X1 = ['KNN', 'Decision Tree', 'Random Forest', 'SVM', 'Naive Bayes']\n",
        "Y1 = lst_accuracy\n",
        " \n",
        "# Plot a graph\n",
        "plt.plot(X1, Y1, 'o-r', color='red')\n",
        " \n",
        "# Display graph\n",
        "# plotting\n",
        "plt.title(\"Accuracy: KNN, Decision Tree Classifier, Random Forest Classifier, SVM, Naive Bayes\")\n",
        "plt.xlabel(\"Model\")\n",
        "plt.ylabel(\"Accuracy\")\n",
        "plt.show()"
      ],
      "metadata": {
        "colab": {
          "base_uri": "https://localhost:8080/",
          "height": 295
        },
        "id": "UFrY1z4ItjXM",
        "outputId": "8fd79660-3594-46fb-b9e4-64ab568511be"
      },
      "execution_count": null,
      "outputs": [
        {
          "output_type": "display_data",
          "data": {
            "text/plain": [
              "<Figure size 432x288 with 1 Axes>"
            ],
            "image/png": "[encoded data removed]"
          },
          "metadata": {
            "needs_background": "light"
          }
        }
      ]
    }
  ]
}