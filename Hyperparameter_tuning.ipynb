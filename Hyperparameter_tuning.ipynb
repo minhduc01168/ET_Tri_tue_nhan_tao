{
  "nbformat": 4,
  "nbformat_minor": 0,
  "metadata": {
    "colab": {
      "provenance": [],
      "authorship_tag": "ABX9TyPNMopjak63WilkR8V49nj4",
      "include_colab_link": true
    },
    "kernelspec": {
      "name": "python3",
      "display_name": "Python 3"
    },
    "language_info": {
      "name": "python"
    },
    "gpuClass": "standard"
  },
  "cells": [
    {
      "cell_type": "markdown",
      "metadata": {
        "id": "view-in-github",
        "colab_type": "text"
      },
      "source": [
        "<a href=\"https://colab.research.google.com/github/minhduc01168/ET_Tri_tue_nhan_tao/blob/master/Hyperparameter_tuning.ipynb\" target=\"_parent\"><img src=\"https://colab.research.google.com/assets/colab-badge.svg\" alt=\"Open In Colab\"/></a>"
      ]
    },
    {
      "cell_type": "markdown",
      "source": [
        "##**Hyperparameter tuning**"
      ],
      "metadata": {
        "id": "iWgDWldzxEB6"
      }
    },
    {
      "cell_type": "code",
      "execution_count": 1,
      "metadata": {
        "id": "fDZ0ASiB0n3F"
      },
      "outputs": [],
      "source": [
        "# Import libraries\n",
        "\n",
        "import pandas as pd\n",
        "import matplotlib.pyplot as plt\n",
        "import numpy as np\n",
        "import scipy\n",
        "import sklearn\n",
        "import seaborn as sns\n",
        "import missingno as msno\n",
        "from sklearn.preprocessing import LabelEncoder\n",
        "from sklearn.model_selection import train_test_split\n",
        "from sklearn.feature_selection import SelectKBest\n",
        "from sklearn.feature_selection import chi2\n",
        "from imblearn.over_sampling import SMOTE\n",
        "from sklearn.inspection import permutation_importance\n",
        "from sklearn.neighbors import KNeighborsClassifier\n",
        "from sklearn import metrics\n",
        "from sklearn.metrics import classification_report, confusion_matrix, roc_auc_score,roc_curve, accuracy_score\n",
        "from imblearn import under_sampling, over_sampling\n",
        "from sklearn.ensemble import RandomForestClassifier\n",
        "from sklearn.tree import DecisionTreeClassifier\n",
        "from sklearn import svm\n",
        "from sklearn.model_selection import RandomizedSearchCV\n",
        "from imblearn.pipeline import Pipeline\n",
        "from sklearn.model_selection import RepeatedStratifiedKFold"
      ]
    },
    {
      "cell_type": "code",
      "source": [
        "from google.colab import drive\n",
        "drive.mount('/content/drive')"
      ],
      "metadata": {
        "colab": {
          "base_uri": "https://localhost:8080/"
        },
        "id": "SwuJLDKI0v8X",
        "outputId": "eb8ef913-ded5-43f9-b79d-f4b1c250d0a0"
      },
      "execution_count": 2,
      "outputs": [
        {
          "output_type": "stream",
          "name": "stdout",
          "text": [
            "Mounted at /content/drive\n"
          ]
        }
      ]
    },
    {
      "cell_type": "code",
      "source": [
        "df = pd.read_csv('/content/drive/My Drive/AI_ML_DS/AI/BTL_AI/credit_risk_dataset_normalization.csv')"
      ],
      "metadata": {
        "id": "Hfg5O7Mv0zaW"
      },
      "execution_count": 3,
      "outputs": []
    },
    {
      "cell_type": "code",
      "source": [
        "df.head()"
      ],
      "metadata": {
        "colab": {
          "base_uri": "https://localhost:8080/",
          "height": 270
        },
        "id": "Z4hKQJ8P02t-",
        "outputId": "b1d90ae3-758b-463d-a865-007d41f7f98e"
      },
      "execution_count": 4,
      "outputs": [
        {
          "output_type": "execute_result",
          "data": {
            "text/plain": [
              "   person_age  person_income  person_home_ownership  person_emp_length  \\\n",
              "0    0.038462       0.026807               0.666667             0.3125   \n",
              "1    0.038462       0.028263               0.666667             0.1250   \n",
              "2    0.038462       0.028749               0.666667             0.3750   \n",
              "3    0.038462       0.028749               0.666667             0.1250   \n",
              "4    0.153846       0.032634               0.000000             0.5000   \n",
              "\n",
              "   loan_intent  loan_grade  loan_amnt  loan_int_rate  loan_status  \\\n",
              "0          0.2        0.25   0.018450       0.400841          0.0   \n",
              "1          1.0        0.00   0.073801       0.120533          1.0   \n",
              "2          1.0        0.75   0.040590       0.653118          1.0   \n",
              "3          0.4        0.00   0.147601       0.224947          1.0   \n",
              "4          0.2        0.25   0.046125       0.390329          1.0   \n",
              "\n",
              "   loan_percent_income  cb_person_default_on_file  cb_person_cred_hist_length  \n",
              "0             0.191489                        0.0                    0.000000  \n",
              "1             0.510638                        0.0                    0.000000  \n",
              "2             0.319149                        0.0                    0.071429  \n",
              "3             0.936170                        0.0                    0.000000  \n",
              "4             0.319149                        0.0                    0.000000  "
            ],
            "text/html": [
              "\n",
              "  <div id=\"df-5ee32e2a-7eb3-46c7-83ae-a06e266fbc5b\">\n",
              "    <div class=\"colab-df-container\">\n",
              "      <div>\n",
              "<style scoped>\n",
              "    .dataframe tbody tr th:only-of-type {\n",
              "        vertical-align: middle;\n",
              "    }\n",
              "\n",
              "    .dataframe tbody tr th {\n",
              "        vertical-align: top;\n",
              "    }\n",
              "\n",
              "    .dataframe thead th {\n",
              "        text-align: right;\n",
              "    }\n",
              "</style>\n",
              "<table border=\"1\" class=\"dataframe\">\n",
              "  <thead>\n",
              "    <tr style=\"text-align: right;\">\n",
              "      <th></th>\n",
              "      <th>person_age</th>\n",
              "      <th>person_income</th>\n",
              "      <th>person_home_ownership</th>\n",
              "      <th>person_emp_length</th>\n",
              "      <th>loan_intent</th>\n",
              "      <th>loan_grade</th>\n",
              "      <th>loan_amnt</th>\n",
              "      <th>loan_int_rate</th>\n",
              "      <th>loan_status</th>\n",
              "      <th>loan_percent_income</th>\n",
              "      <th>cb_person_default_on_file</th>\n",
              "      <th>cb_person_cred_hist_length</th>\n",
              "    </tr>\n",
              "  </thead>\n",
              "  <tbody>\n",
              "    <tr>\n",
              "      <th>0</th>\n",
              "      <td>0.038462</td>\n",
              "      <td>0.026807</td>\n",
              "      <td>0.666667</td>\n",
              "      <td>0.3125</td>\n",
              "      <td>0.2</td>\n",
              "      <td>0.25</td>\n",
              "      <td>0.018450</td>\n",
              "      <td>0.400841</td>\n",
              "      <td>0.0</td>\n",
              "      <td>0.191489</td>\n",
              "      <td>0.0</td>\n",
              "      <td>0.000000</td>\n",
              "    </tr>\n",
              "    <tr>\n",
              "      <th>1</th>\n",
              "      <td>0.038462</td>\n",
              "      <td>0.028263</td>\n",
              "      <td>0.666667</td>\n",
              "      <td>0.1250</td>\n",
              "      <td>1.0</td>\n",
              "      <td>0.00</td>\n",
              "      <td>0.073801</td>\n",
              "      <td>0.120533</td>\n",
              "      <td>1.0</td>\n",
              "      <td>0.510638</td>\n",
              "      <td>0.0</td>\n",
              "      <td>0.000000</td>\n",
              "    </tr>\n",
              "    <tr>\n",
              "      <th>2</th>\n",
              "      <td>0.038462</td>\n",
              "      <td>0.028749</td>\n",
              "      <td>0.666667</td>\n",
              "      <td>0.3750</td>\n",
              "      <td>1.0</td>\n",
              "      <td>0.75</td>\n",
              "      <td>0.040590</td>\n",
              "      <td>0.653118</td>\n",
              "      <td>1.0</td>\n",
              "      <td>0.319149</td>\n",
              "      <td>0.0</td>\n",
              "      <td>0.071429</td>\n",
              "    </tr>\n",
              "    <tr>\n",
              "      <th>3</th>\n",
              "      <td>0.038462</td>\n",
              "      <td>0.028749</td>\n",
              "      <td>0.666667</td>\n",
              "      <td>0.1250</td>\n",
              "      <td>0.4</td>\n",
              "      <td>0.00</td>\n",
              "      <td>0.147601</td>\n",
              "      <td>0.224947</td>\n",
              "      <td>1.0</td>\n",
              "      <td>0.936170</td>\n",
              "      <td>0.0</td>\n",
              "      <td>0.000000</td>\n",
              "    </tr>\n",
              "    <tr>\n",
              "      <th>4</th>\n",
              "      <td>0.153846</td>\n",
              "      <td>0.032634</td>\n",
              "      <td>0.000000</td>\n",
              "      <td>0.5000</td>\n",
              "      <td>0.2</td>\n",
              "      <td>0.25</td>\n",
              "      <td>0.046125</td>\n",
              "      <td>0.390329</td>\n",
              "      <td>1.0</td>\n",
              "      <td>0.319149</td>\n",
              "      <td>0.0</td>\n",
              "      <td>0.000000</td>\n",
              "    </tr>\n",
              "  </tbody>\n",
              "</table>\n",
              "</div>\n",
              "      <button class=\"colab-df-convert\" onclick=\"convertToInteractive('df-5ee32e2a-7eb3-46c7-83ae-a06e266fbc5b')\"\n",
              "              title=\"Convert this dataframe to an interactive table.\"\n",
              "              style=\"display:none;\">\n",
              "        \n",
              "  <svg xmlns=\"http://www.w3.org/2000/svg\" height=\"24px\"viewBox=\"0 0 24 24\"\n",
              "       width=\"24px\">\n",
              "    <path d=\"M0 0h24v24H0V0z\" fill=\"none\"/>\n",
              "    <path d=\"M18.56 5.44l.94 2.06.94-2.06 2.06-.94-2.06-.94-.94-2.06-.94 2.06-2.06.94zm-11 1L8.5 8.5l.94-2.06 2.06-.94-2.06-.94L8.5 2.5l-.94 2.06-2.06.94zm10 10l.94 2.06.94-2.06 2.06-.94-2.06-.94-.94-2.06-.94 2.06-2.06.94z\"/><path d=\"M17.41 7.96l-1.37-1.37c-.4-.4-.92-.59-1.43-.59-.52 0-1.04.2-1.43.59L10.3 9.45l-7.72 7.72c-.78.78-.78 2.05 0 2.83L4 21.41c.39.39.9.59 1.41.59.51 0 1.02-.2 1.41-.59l7.78-7.78 2.81-2.81c.8-.78.8-2.07 0-2.86zM5.41 20L4 18.59l7.72-7.72 1.47 1.35L5.41 20z\"/>\n",
              "  </svg>\n",
              "      </button>\n",
              "      \n",
              "  <style>\n",
              "    .colab-df-container {\n",
              "      display:flex;\n",
              "      flex-wrap:wrap;\n",
              "      gap: 12px;\n",
              "    }\n",
              "\n",
              "    .colab-df-convert {\n",
              "      background-color: #E8F0FE;\n",
              "      border: none;\n",
              "      border-radius: 50%;\n",
              "      cursor: pointer;\n",
              "      display: none;\n",
              "      fill: #1967D2;\n",
              "      height: 32px;\n",
              "      padding: 0 0 0 0;\n",
              "      width: 32px;\n",
              "    }\n",
              "\n",
              "    .colab-df-convert:hover {\n",
              "      background-color: #E2EBFA;\n",
              "      box-shadow: 0px 1px 2px rgba(60, 64, 67, 0.3), 0px 1px 3px 1px rgba(60, 64, 67, 0.15);\n",
              "      fill: #174EA6;\n",
              "    }\n",
              "\n",
              "    [theme=dark] .colab-df-convert {\n",
              "      background-color: #3B4455;\n",
              "      fill: #D2E3FC;\n",
              "    }\n",
              "\n",
              "    [theme=dark] .colab-df-convert:hover {\n",
              "      background-color: #434B5C;\n",
              "      box-shadow: 0px 1px 3px 1px rgba(0, 0, 0, 0.15);\n",
              "      filter: drop-shadow(0px 1px 2px rgba(0, 0, 0, 0.3));\n",
              "      fill: #FFFFFF;\n",
              "    }\n",
              "  </style>\n",
              "\n",
              "      <script>\n",
              "        const buttonEl =\n",
              "          document.querySelector('#df-5ee32e2a-7eb3-46c7-83ae-a06e266fbc5b button.colab-df-convert');\n",
              "        buttonEl.style.display =\n",
              "          google.colab.kernel.accessAllowed ? 'block' : 'none';\n",
              "\n",
              "        async function convertToInteractive(key) {\n",
              "          const element = document.querySelector('#df-5ee32e2a-7eb3-46c7-83ae-a06e266fbc5b');\n",
              "          const dataTable =\n",
              "            await google.colab.kernel.invokeFunction('convertToInteractive',\n",
              "                                                     [key], {});\n",
              "          if (!dataTable) return;\n",
              "\n",
              "          const docLinkHtml = 'Like what you see? Visit the ' +\n",
              "            '<a target=\"_blank\" href=https://colab.research.google.com/notebooks/data_table.ipynb>data table notebook</a>'\n",
              "            + ' to learn more about interactive tables.';\n",
              "          element.innerHTML = '';\n",
              "          dataTable['output_type'] = 'display_data';\n",
              "          await google.colab.output.renderOutput(dataTable, element);\n",
              "          const docLink = document.createElement('div');\n",
              "          docLink.innerHTML = docLinkHtml;\n",
              "          element.appendChild(docLink);\n",
              "        }\n",
              "      </script>\n",
              "    </div>\n",
              "  </div>\n",
              "  "
            ]
          },
          "metadata": {},
          "execution_count": 4
        }
      ]
    },
    {
      "cell_type": "code",
      "source": [
        "X = pd.DataFrame(df)\n",
        "X = X.drop(['loan_status'], axis=1)\n",
        "y = df[['loan_status']]\n",
        "X.info()"
      ],
      "metadata": {
        "colab": {
          "base_uri": "https://localhost:8080/"
        },
        "id": "VWUcOm3F05UW",
        "outputId": "f98d1f8f-bb66-4a73-8511-9700881d815e"
      },
      "execution_count": 5,
      "outputs": [
        {
          "output_type": "stream",
          "name": "stdout",
          "text": [
            "<class 'pandas.core.frame.DataFrame'>\n",
            "RangeIndex: 29998 entries, 0 to 29997\n",
            "Data columns (total 11 columns):\n",
            " #   Column                      Non-Null Count  Dtype  \n",
            "---  ------                      --------------  -----  \n",
            " 0   person_age                  29998 non-null  float64\n",
            " 1   person_income               29998 non-null  float64\n",
            " 2   person_home_ownership       29998 non-null  float64\n",
            " 3   person_emp_length           29998 non-null  float64\n",
            " 4   loan_intent                 29998 non-null  float64\n",
            " 5   loan_grade                  29998 non-null  float64\n",
            " 6   loan_amnt                   29998 non-null  float64\n",
            " 7   loan_int_rate               29998 non-null  float64\n",
            " 8   loan_percent_income         29998 non-null  float64\n",
            " 9   cb_person_default_on_file   29998 non-null  float64\n",
            " 10  cb_person_cred_hist_length  29998 non-null  float64\n",
            "dtypes: float64(11)\n",
            "memory usage: 2.5 MB\n"
          ]
        }
      ]
    },
    {
      "cell_type": "code",
      "source": [
        "X.head()"
      ],
      "metadata": {
        "colab": {
          "base_uri": "https://localhost:8080/",
          "height": 270
        },
        "id": "UCiHfTaq0-Ce",
        "outputId": "7b3b9b88-7ab1-4017-a52c-ad32a2f4bc62"
      },
      "execution_count": 6,
      "outputs": [
        {
          "output_type": "execute_result",
          "data": {
            "text/plain": [
              "   person_age  person_income  person_home_ownership  person_emp_length  \\\n",
              "0    0.038462       0.026807               0.666667             0.3125   \n",
              "1    0.038462       0.028263               0.666667             0.1250   \n",
              "2    0.038462       0.028749               0.666667             0.3750   \n",
              "3    0.038462       0.028749               0.666667             0.1250   \n",
              "4    0.153846       0.032634               0.000000             0.5000   \n",
              "\n",
              "   loan_intent  loan_grade  loan_amnt  loan_int_rate  loan_percent_income  \\\n",
              "0          0.2        0.25   0.018450       0.400841             0.191489   \n",
              "1          1.0        0.00   0.073801       0.120533             0.510638   \n",
              "2          1.0        0.75   0.040590       0.653118             0.319149   \n",
              "3          0.4        0.00   0.147601       0.224947             0.936170   \n",
              "4          0.2        0.25   0.046125       0.390329             0.319149   \n",
              "\n",
              "   cb_person_default_on_file  cb_person_cred_hist_length  \n",
              "0                        0.0                    0.000000  \n",
              "1                        0.0                    0.000000  \n",
              "2                        0.0                    0.071429  \n",
              "3                        0.0                    0.000000  \n",
              "4                        0.0                    0.000000  "
            ],
            "text/html": [
              "\n",
              "  <div id=\"df-d2a0d682-b806-4856-a25b-f381d82245ca\">\n",
              "    <div class=\"colab-df-container\">\n",
              "      <div>\n",
              "<style scoped>\n",
              "    .dataframe tbody tr th:only-of-type {\n",
              "        vertical-align: middle;\n",
              "    }\n",
              "\n",
              "    .dataframe tbody tr th {\n",
              "        vertical-align: top;\n",
              "    }\n",
              "\n",
              "    .dataframe thead th {\n",
              "        text-align: right;\n",
              "    }\n",
              "</style>\n",
              "<table border=\"1\" class=\"dataframe\">\n",
              "  <thead>\n",
              "    <tr style=\"text-align: right;\">\n",
              "      <th></th>\n",
              "      <th>person_age</th>\n",
              "      <th>person_income</th>\n",
              "      <th>person_home_ownership</th>\n",
              "      <th>person_emp_length</th>\n",
              "      <th>loan_intent</th>\n",
              "      <th>loan_grade</th>\n",
              "      <th>loan_amnt</th>\n",
              "      <th>loan_int_rate</th>\n",
              "      <th>loan_percent_income</th>\n",
              "      <th>cb_person_default_on_file</th>\n",
              "      <th>cb_person_cred_hist_length</th>\n",
              "    </tr>\n",
              "  </thead>\n",
              "  <tbody>\n",
              "    <tr>\n",
              "      <th>0</th>\n",
              "      <td>0.038462</td>\n",
              "      <td>0.026807</td>\n",
              "      <td>0.666667</td>\n",
              "      <td>0.3125</td>\n",
              "      <td>0.2</td>\n",
              "      <td>0.25</td>\n",
              "      <td>0.018450</td>\n",
              "      <td>0.400841</td>\n",
              "      <td>0.191489</td>\n",
              "      <td>0.0</td>\n",
              "      <td>0.000000</td>\n",
              "    </tr>\n",
              "    <tr>\n",
              "      <th>1</th>\n",
              "      <td>0.038462</td>\n",
              "      <td>0.028263</td>\n",
              "      <td>0.666667</td>\n",
              "      <td>0.1250</td>\n",
              "      <td>1.0</td>\n",
              "      <td>0.00</td>\n",
              "      <td>0.073801</td>\n",
              "      <td>0.120533</td>\n",
              "      <td>0.510638</td>\n",
              "      <td>0.0</td>\n",
              "      <td>0.000000</td>\n",
              "    </tr>\n",
              "    <tr>\n",
              "      <th>2</th>\n",
              "      <td>0.038462</td>\n",
              "      <td>0.028749</td>\n",
              "      <td>0.666667</td>\n",
              "      <td>0.3750</td>\n",
              "      <td>1.0</td>\n",
              "      <td>0.75</td>\n",
              "      <td>0.040590</td>\n",
              "      <td>0.653118</td>\n",
              "      <td>0.319149</td>\n",
              "      <td>0.0</td>\n",
              "      <td>0.071429</td>\n",
              "    </tr>\n",
              "    <tr>\n",
              "      <th>3</th>\n",
              "      <td>0.038462</td>\n",
              "      <td>0.028749</td>\n",
              "      <td>0.666667</td>\n",
              "      <td>0.1250</td>\n",
              "      <td>0.4</td>\n",
              "      <td>0.00</td>\n",
              "      <td>0.147601</td>\n",
              "      <td>0.224947</td>\n",
              "      <td>0.936170</td>\n",
              "      <td>0.0</td>\n",
              "      <td>0.000000</td>\n",
              "    </tr>\n",
              "    <tr>\n",
              "      <th>4</th>\n",
              "      <td>0.153846</td>\n",
              "      <td>0.032634</td>\n",
              "      <td>0.000000</td>\n",
              "      <td>0.5000</td>\n",
              "      <td>0.2</td>\n",
              "      <td>0.25</td>\n",
              "      <td>0.046125</td>\n",
              "      <td>0.390329</td>\n",
              "      <td>0.319149</td>\n",
              "      <td>0.0</td>\n",
              "      <td>0.000000</td>\n",
              "    </tr>\n",
              "  </tbody>\n",
              "</table>\n",
              "</div>\n",
              "      <button class=\"colab-df-convert\" onclick=\"convertToInteractive('df-d2a0d682-b806-4856-a25b-f381d82245ca')\"\n",
              "              title=\"Convert this dataframe to an interactive table.\"\n",
              "              style=\"display:none;\">\n",
              "        \n",
              "  <svg xmlns=\"http://www.w3.org/2000/svg\" height=\"24px\"viewBox=\"0 0 24 24\"\n",
              "       width=\"24px\">\n",
              "    <path d=\"M0 0h24v24H0V0z\" fill=\"none\"/>\n",
              "    <path d=\"M18.56 5.44l.94 2.06.94-2.06 2.06-.94-2.06-.94-.94-2.06-.94 2.06-2.06.94zm-11 1L8.5 8.5l.94-2.06 2.06-.94-2.06-.94L8.5 2.5l-.94 2.06-2.06.94zm10 10l.94 2.06.94-2.06 2.06-.94-2.06-.94-.94-2.06-.94 2.06-2.06.94z\"/><path d=\"M17.41 7.96l-1.37-1.37c-.4-.4-.92-.59-1.43-.59-.52 0-1.04.2-1.43.59L10.3 9.45l-7.72 7.72c-.78.78-.78 2.05 0 2.83L4 21.41c.39.39.9.59 1.41.59.51 0 1.02-.2 1.41-.59l7.78-7.78 2.81-2.81c.8-.78.8-2.07 0-2.86zM5.41 20L4 18.59l7.72-7.72 1.47 1.35L5.41 20z\"/>\n",
              "  </svg>\n",
              "      </button>\n",
              "      \n",
              "  <style>\n",
              "    .colab-df-container {\n",
              "      display:flex;\n",
              "      flex-wrap:wrap;\n",
              "      gap: 12px;\n",
              "    }\n",
              "\n",
              "    .colab-df-convert {\n",
              "      background-color: #E8F0FE;\n",
              "      border: none;\n",
              "      border-radius: 50%;\n",
              "      cursor: pointer;\n",
              "      display: none;\n",
              "      fill: #1967D2;\n",
              "      height: 32px;\n",
              "      padding: 0 0 0 0;\n",
              "      width: 32px;\n",
              "    }\n",
              "\n",
              "    .colab-df-convert:hover {\n",
              "      background-color: #E2EBFA;\n",
              "      box-shadow: 0px 1px 2px rgba(60, 64, 67, 0.3), 0px 1px 3px 1px rgba(60, 64, 67, 0.15);\n",
              "      fill: #174EA6;\n",
              "    }\n",
              "\n",
              "    [theme=dark] .colab-df-convert {\n",
              "      background-color: #3B4455;\n",
              "      fill: #D2E3FC;\n",
              "    }\n",
              "\n",
              "    [theme=dark] .colab-df-convert:hover {\n",
              "      background-color: #434B5C;\n",
              "      box-shadow: 0px 1px 3px 1px rgba(0, 0, 0, 0.15);\n",
              "      filter: drop-shadow(0px 1px 2px rgba(0, 0, 0, 0.3));\n",
              "      fill: #FFFFFF;\n",
              "    }\n",
              "  </style>\n",
              "\n",
              "      <script>\n",
              "        const buttonEl =\n",
              "          document.querySelector('#df-d2a0d682-b806-4856-a25b-f381d82245ca button.colab-df-convert');\n",
              "        buttonEl.style.display =\n",
              "          google.colab.kernel.accessAllowed ? 'block' : 'none';\n",
              "\n",
              "        async function convertToInteractive(key) {\n",
              "          const element = document.querySelector('#df-d2a0d682-b806-4856-a25b-f381d82245ca');\n",
              "          const dataTable =\n",
              "            await google.colab.kernel.invokeFunction('convertToInteractive',\n",
              "                                                     [key], {});\n",
              "          if (!dataTable) return;\n",
              "\n",
              "          const docLinkHtml = 'Like what you see? Visit the ' +\n",
              "            '<a target=\"_blank\" href=https://colab.research.google.com/notebooks/data_table.ipynb>data table notebook</a>'\n",
              "            + ' to learn more about interactive tables.';\n",
              "          element.innerHTML = '';\n",
              "          dataTable['output_type'] = 'display_data';\n",
              "          await google.colab.output.renderOutput(dataTable, element);\n",
              "          const docLink = document.createElement('div');\n",
              "          docLink.innerHTML = docLinkHtml;\n",
              "          element.appendChild(docLink);\n",
              "        }\n",
              "      </script>\n",
              "    </div>\n",
              "  </div>\n",
              "  "
            ]
          },
          "metadata": {},
          "execution_count": 6
        }
      ]
    },
    {
      "cell_type": "code",
      "source": [
        "y.head()"
      ],
      "metadata": {
        "colab": {
          "base_uri": "https://localhost:8080/",
          "height": 206
        },
        "id": "Ajt81km51Are",
        "outputId": "21ec7194-8db6-4318-e62e-1beac122bd98"
      },
      "execution_count": 7,
      "outputs": [
        {
          "output_type": "execute_result",
          "data": {
            "text/plain": [
              "   loan_status\n",
              "0          0.0\n",
              "1          1.0\n",
              "2          1.0\n",
              "3          1.0\n",
              "4          1.0"
            ],
            "text/html": [
              "\n",
              "  <div id=\"df-ded081b7-fad7-49ae-b79b-58d09adc4e80\">\n",
              "    <div class=\"colab-df-container\">\n",
              "      <div>\n",
              "<style scoped>\n",
              "    .dataframe tbody tr th:only-of-type {\n",
              "        vertical-align: middle;\n",
              "    }\n",
              "\n",
              "    .dataframe tbody tr th {\n",
              "        vertical-align: top;\n",
              "    }\n",
              "\n",
              "    .dataframe thead th {\n",
              "        text-align: right;\n",
              "    }\n",
              "</style>\n",
              "<table border=\"1\" class=\"dataframe\">\n",
              "  <thead>\n",
              "    <tr style=\"text-align: right;\">\n",
              "      <th></th>\n",
              "      <th>loan_status</th>\n",
              "    </tr>\n",
              "  </thead>\n",
              "  <tbody>\n",
              "    <tr>\n",
              "      <th>0</th>\n",
              "      <td>0.0</td>\n",
              "    </tr>\n",
              "    <tr>\n",
              "      <th>1</th>\n",
              "      <td>1.0</td>\n",
              "    </tr>\n",
              "    <tr>\n",
              "      <th>2</th>\n",
              "      <td>1.0</td>\n",
              "    </tr>\n",
              "    <tr>\n",
              "      <th>3</th>\n",
              "      <td>1.0</td>\n",
              "    </tr>\n",
              "    <tr>\n",
              "      <th>4</th>\n",
              "      <td>1.0</td>\n",
              "    </tr>\n",
              "  </tbody>\n",
              "</table>\n",
              "</div>\n",
              "      <button class=\"colab-df-convert\" onclick=\"convertToInteractive('df-ded081b7-fad7-49ae-b79b-58d09adc4e80')\"\n",
              "              title=\"Convert this dataframe to an interactive table.\"\n",
              "              style=\"display:none;\">\n",
              "        \n",
              "  <svg xmlns=\"http://www.w3.org/2000/svg\" height=\"24px\"viewBox=\"0 0 24 24\"\n",
              "       width=\"24px\">\n",
              "    <path d=\"M0 0h24v24H0V0z\" fill=\"none\"/>\n",
              "    <path d=\"M18.56 5.44l.94 2.06.94-2.06 2.06-.94-2.06-.94-.94-2.06-.94 2.06-2.06.94zm-11 1L8.5 8.5l.94-2.06 2.06-.94-2.06-.94L8.5 2.5l-.94 2.06-2.06.94zm10 10l.94 2.06.94-2.06 2.06-.94-2.06-.94-.94-2.06-.94 2.06-2.06.94z\"/><path d=\"M17.41 7.96l-1.37-1.37c-.4-.4-.92-.59-1.43-.59-.52 0-1.04.2-1.43.59L10.3 9.45l-7.72 7.72c-.78.78-.78 2.05 0 2.83L4 21.41c.39.39.9.59 1.41.59.51 0 1.02-.2 1.41-.59l7.78-7.78 2.81-2.81c.8-.78.8-2.07 0-2.86zM5.41 20L4 18.59l7.72-7.72 1.47 1.35L5.41 20z\"/>\n",
              "  </svg>\n",
              "      </button>\n",
              "      \n",
              "  <style>\n",
              "    .colab-df-container {\n",
              "      display:flex;\n",
              "      flex-wrap:wrap;\n",
              "      gap: 12px;\n",
              "    }\n",
              "\n",
              "    .colab-df-convert {\n",
              "      background-color: #E8F0FE;\n",
              "      border: none;\n",
              "      border-radius: 50%;\n",
              "      cursor: pointer;\n",
              "      display: none;\n",
              "      fill: #1967D2;\n",
              "      height: 32px;\n",
              "      padding: 0 0 0 0;\n",
              "      width: 32px;\n",
              "    }\n",
              "\n",
              "    .colab-df-convert:hover {\n",
              "      background-color: #E2EBFA;\n",
              "      box-shadow: 0px 1px 2px rgba(60, 64, 67, 0.3), 0px 1px 3px 1px rgba(60, 64, 67, 0.15);\n",
              "      fill: #174EA6;\n",
              "    }\n",
              "\n",
              "    [theme=dark] .colab-df-convert {\n",
              "      background-color: #3B4455;\n",
              "      fill: #D2E3FC;\n",
              "    }\n",
              "\n",
              "    [theme=dark] .colab-df-convert:hover {\n",
              "      background-color: #434B5C;\n",
              "      box-shadow: 0px 1px 3px 1px rgba(0, 0, 0, 0.15);\n",
              "      filter: drop-shadow(0px 1px 2px rgba(0, 0, 0, 0.3));\n",
              "      fill: #FFFFFF;\n",
              "    }\n",
              "  </style>\n",
              "\n",
              "      <script>\n",
              "        const buttonEl =\n",
              "          document.querySelector('#df-ded081b7-fad7-49ae-b79b-58d09adc4e80 button.colab-df-convert');\n",
              "        buttonEl.style.display =\n",
              "          google.colab.kernel.accessAllowed ? 'block' : 'none';\n",
              "\n",
              "        async function convertToInteractive(key) {\n",
              "          const element = document.querySelector('#df-ded081b7-fad7-49ae-b79b-58d09adc4e80');\n",
              "          const dataTable =\n",
              "            await google.colab.kernel.invokeFunction('convertToInteractive',\n",
              "                                                     [key], {});\n",
              "          if (!dataTable) return;\n",
              "\n",
              "          const docLinkHtml = 'Like what you see? Visit the ' +\n",
              "            '<a target=\"_blank\" href=https://colab.research.google.com/notebooks/data_table.ipynb>data table notebook</a>'\n",
              "            + ' to learn more about interactive tables.';\n",
              "          element.innerHTML = '';\n",
              "          dataTable['output_type'] = 'display_data';\n",
              "          await google.colab.output.renderOutput(dataTable, element);\n",
              "          const docLink = document.createElement('div');\n",
              "          docLink.innerHTML = docLinkHtml;\n",
              "          element.appendChild(docLink);\n",
              "        }\n",
              "      </script>\n",
              "    </div>\n",
              "  </div>\n",
              "  "
            ]
          },
          "metadata": {},
          "execution_count": 7
        }
      ]
    },
    {
      "cell_type": "code",
      "source": [
        "y = y.values.ravel()"
      ],
      "metadata": {
        "id": "9Nr9Mcf81DnV"
      },
      "execution_count": 8,
      "outputs": []
    },
    {
      "cell_type": "code",
      "source": [
        "# Train, Test, Split\n",
        "X_train, X_test, Y_train, Y_test = train_test_split(X, y, test_size = 0.2, random_state=152, stratify=y)"
      ],
      "metadata": {
        "id": "crIY-0nEQ6Bi"
      },
      "execution_count": 9,
      "outputs": []
    },
    {
      "cell_type": "markdown",
      "source": [
        "### **KNN**"
      ],
      "metadata": {
        "id": "R3ekCNnt5e7f"
      }
    },
    {
      "cell_type": "code",
      "source": [
        "\"\"\"2) Hypertuning\"\"\"\n",
        "\n",
        "# Setup the parameters and distributions to sample from: param_dist\n",
        "param_dist = {\"n_neighbors\": range(1,15), \"metric\": ['euclidean', 'manhattan', 'chebyshev', 'minkowski']}\n",
        "\n",
        "# Define Hypertuning model\n",
        "knn_cv = RandomizedSearchCV(estimator=KNeighborsClassifier(), param_distributions=param_dist, cv=5, return_train_score=False)\n",
        "\n",
        "# Fit\n",
        "knn_cv.fit(X_train,Y_train)\n",
        "\n",
        "# Best parameters\n",
        "print('Best parameters for KNN Classifier are:', knn_cv.best_params_)"
      ],
      "metadata": {
        "colab": {
          "base_uri": "https://localhost:8080/"
        },
        "id": "e4Pmo9wo5hcV",
        "outputId": "dafa008d-3670-4750-8de4-635946ee553f"
      },
      "execution_count": 10,
      "outputs": [
        {
          "output_type": "stream",
          "name": "stdout",
          "text": [
            "Best parameters for KNN Classifier are: {'n_neighbors': 12, 'metric': 'manhattan'}\n"
          ]
        }
      ]
    },
    {
      "cell_type": "code",
      "source": [
        "# Define the model\n",
        "clf_10 = KNeighborsClassifier(n_neighbors=13, metric='manhattan')\n",
        "\n",
        "# Fit the model\n",
        "clf_10.fit(X_train,Y_train)\n",
        "\n",
        "# Make prediction\n",
        "pred_10 = clf_10.predict(X_test)\n",
        "\n",
        "# Accuracy score\n",
        "print('Accuracy score of KNN model 2 is:', accuracy_score(Y_test, pred_10))\n",
        "\n",
        "# Confusion Matrix\n",
        "conmat_10 = confusion_matrix(Y_test, pred_10)\n",
        "print(conmat_10)\n",
        "plt.figure(figsize=(10,8))\n",
        "plt.title('Confusion Matrix of KNN 2nd Model')\n",
        "sns.heatmap(conmat_10, annot=True, cmap=\"Purples\", fmt=\"d\",cbar=True)\n",
        "\n",
        "# Classification Report\n",
        "print('Classification Report of KNN 2nd Model')\n",
        "print(classification_report(Y_test, pred_10))"
      ],
      "metadata": {
        "colab": {
          "base_uri": "https://localhost:8080/",
          "height": 735
        },
        "id": "JDk4ix3ORm7B",
        "outputId": "1ff614a5-f8a0-406e-b792-222a5f0ab1d1"
      },
      "execution_count": 11,
      "outputs": [
        {
          "output_type": "stream",
          "name": "stdout",
          "text": [
            "Accuracy score of KNN model 2 is: 0.8935\n",
            "[[4676   83]\n",
            " [ 556  685]]\n",
            "Classification Report of KNN 2nd Model\n",
            "              precision    recall  f1-score   support\n",
            "\n",
            "         0.0       0.89      0.98      0.94      4759\n",
            "         1.0       0.89      0.55      0.68      1241\n",
            "\n",
            "    accuracy                           0.89      6000\n",
            "   macro avg       0.89      0.77      0.81      6000\n",
            "weighted avg       0.89      0.89      0.88      6000\n",
            "\n"
          ]
        },
        {
          "output_type": "display_data",
          "data": {
            "text/plain": [
              "<Figure size 720x576 with 2 Axes>"
            ],
            "image/png": "[encoded data removed]"
          },
          "metadata": {
            "needs_background": "light"
          }
        }
      ]
    },
    {
      "cell_type": "code",
      "source": [
        "from sklearn.neighbors import KNeighborsClassifier\n",
        "from sklearn.model_selection import cross_val_score\n",
        "\n",
        "# KNN classifier\n",
        "knn = KNeighborsClassifier()\n",
        "\n",
        "# Use k-fold cross validation with k=10\n",
        "scores = cross_val_score(knn, X, y, cv=10)\n",
        "\n",
        "# Print the mean and standard deviation of the scores\n",
        "print(\"Array acucuracy KNN \")\n",
        "print(scores)\n",
        "print(\"Accuracy: %0.2f\" % scores.mean())"
      ],
      "metadata": {
        "colab": {
          "base_uri": "https://localhost:8080/"
        },
        "id": "2kXudGHz8uI4",
        "outputId": "228c45e2-448e-4999-d23a-2beaf9fdba55"
      },
      "execution_count": 12,
      "outputs": [
        {
          "output_type": "stream",
          "name": "stdout",
          "text": [
            "Array acucuracy KNN \n",
            "[0.88466667 0.85966667 0.87333333 0.88833333 0.88966667 0.86466667\n",
            " 0.84166667 0.86166667 0.88096032 0.87662554]\n",
            "Accuracy: 0.87\n"
          ]
        }
      ]
    },
    {
      "cell_type": "markdown",
      "source": [
        "## **Decision Tree Classifier**"
      ],
      "metadata": {
        "id": "F2zxLNhb5h6C"
      }
    },
    {
      "cell_type": "code",
      "source": [
        "\"\"\"2) Hypertuning \"\"\"\n",
        "\n",
        "# Setup the parameters and distributions to sample from: param_dist\n",
        "param_dist = {\"max_depth\": range(1,5), \"min_samples_split\": range(2,10), \"min_samples_leaf\": range(1,5), \"criterion\": [\"gini\", \"entropy\"]}\n",
        "\n",
        "# Define Hypertuning model\n",
        "tree_cv = RandomizedSearchCV(estimator=DecisionTreeClassifier(), param_distributions=param_dist, cv=10, return_train_score=False)\n",
        "\n",
        "# Fit\n",
        "tree_cv.fit(X_train,Y_train)\n",
        "\n",
        "# Best parameters\n",
        "print('Best parameters for Decision Tree Classification are:', tree_cv.best_params_)"
      ],
      "metadata": {
        "colab": {
          "base_uri": "https://localhost:8080/"
        },
        "id": "_Q7Je-NP1QAP",
        "outputId": "762d638f-bea9-460c-d2e4-42b99e03d4d0"
      },
      "execution_count": 13,
      "outputs": [
        {
          "output_type": "stream",
          "name": "stdout",
          "text": [
            "Best parameters for Decision Tree Classification are: {'min_samples_split': 4, 'min_samples_leaf': 3, 'max_depth': 3, 'criterion': 'gini'}\n"
          ]
        }
      ]
    },
    {
      "cell_type": "code",
      "source": [
        "# Define the model\n",
        "clf_2 = DecisionTreeClassifier(min_samples_split=6, min_samples_leaf=4, max_depth=4, criterion='entropy')\n",
        "# Fit the model\n",
        "clf_2.fit(X_train,Y_train)\n",
        "\n",
        "# Make prediction\n",
        "pred_2 = clf_2.predict(X_test)\n",
        "\n",
        "# Accuracy score\n",
        "print('Accuracy score of Decision Tree model 2 is:', accuracy_score(Y_test, pred_2))\n",
        "\n",
        "# Confusion Matrix\n",
        "conmat_2 = confusion_matrix(Y_test, pred_2)\n",
        "print(conmat_2)\n",
        "plt.figure(figsize=(10,8))\n",
        "plt.title('Confusion Matrix of Decision Tree 2nd Model')\n",
        "sns.heatmap(conmat_2, annot=True, cmap=\"Purples\", fmt=\"d\",cbar=True)\n",
        "\n",
        "# Classification Report\n",
        "print('Classification Report of Decision Tree 2nd Model')\n",
        "print(classification_report(Y_test, pred_2))"
      ],
      "metadata": {
        "colab": {
          "base_uri": "https://localhost:8080/",
          "height": 735
        },
        "id": "A4HNEEsG1Ub-",
        "outputId": "80c62f53-9fef-4bb0-fdec-4d5ce875936c"
      },
      "execution_count": 14,
      "outputs": [
        {
          "output_type": "stream",
          "name": "stdout",
          "text": [
            "Accuracy score of Decision Tree model 2 is: 0.9096666666666666\n",
            "[[4754    5]\n",
            " [ 537  704]]\n",
            "Classification Report of Decision Tree 2nd Model\n",
            "              precision    recall  f1-score   support\n",
            "\n",
            "         0.0       0.90      1.00      0.95      4759\n",
            "         1.0       0.99      0.57      0.72      1241\n",
            "\n",
            "    accuracy                           0.91      6000\n",
            "   macro avg       0.95      0.78      0.83      6000\n",
            "weighted avg       0.92      0.91      0.90      6000\n",
            "\n"
          ]
        },
        {
          "output_type": "display_data",
          "data": {
            "text/plain": [
              "<Figure size 720x576 with 2 Axes>"
            ],
            "image/png": "[encoded data removed]"
          },
          "metadata": {
            "needs_background": "light"
          }
        }
      ]
    },
    {
      "cell_type": "code",
      "source": [
        "from sklearn.tree import DecisionTreeClassifier\n",
        "from sklearn.model_selection import cross_val_score\n",
        "\n",
        "# Decision Tree classifier\n",
        "dt = DecisionTreeClassifier()\n",
        "\n",
        "# Use k-fold cross validation with k=10\n",
        "scores = cross_val_score(dt, X, y, cv=10)\n",
        "\n",
        "# Print the mean and standard deviation of the scores\n",
        "print(\"Array acucuracy Decision Tree Classifier \")\n",
        "print(scores)\n",
        "print(\"Accuracy: %0.2f\" % scores.mean())"
      ],
      "metadata": {
        "colab": {
          "base_uri": "https://localhost:8080/"
        },
        "id": "d2KD6X4a8yrV",
        "outputId": "7eac2575-1c07-4eaf-d395-3053f0547891"
      },
      "execution_count": 15,
      "outputs": [
        {
          "output_type": "stream",
          "name": "stdout",
          "text": [
            "Array acucuracy Decision Tree Classifier \n",
            "[0.821      0.77666667 0.793      0.82033333 0.88333333 0.89666667\n",
            " 0.82833333 0.83533333 0.90263421 0.86162054]\n",
            "Accuracy: 0.84\n"
          ]
        }
      ]
    },
    {
      "cell_type": "markdown",
      "source": [
        "## **Random Forest Classifier**"
      ],
      "metadata": {
        "id": "DUXbtov0ShJk"
      }
    },
    {
      "cell_type": "code",
      "source": [
        "\"\"\"2) Hypertuning\"\"\"\n",
        "\n",
        "# Setup the parameters and distributions to sample from: param_dist\n",
        "param_dist = {\"n_estimators\": [50, 150, 200, 250], \"max_depth\": range(1,5), \"min_samples_split\": range(2, 10), \"min_samples_leaf\": range(1,5), \"criterion\": [\"gini\", \"entropy\"]}\n",
        "\n",
        "# Define Hypertuning model\n",
        "rf_cv = RandomizedSearchCV(estimator=RandomForestClassifier(), param_distributions=param_dist, cv=5, return_train_score=False)\n",
        "\n",
        "# Fit\n",
        "rf_cv.fit(X_train,Y_train)\n",
        "\n",
        "# Best parameters\n",
        "print('Best parameters for Random Forest Classifier are:', rf_cv.best_params_)"
      ],
      "metadata": {
        "colab": {
          "base_uri": "https://localhost:8080/"
        },
        "id": "PfgZuUhTSgVr",
        "outputId": "097d299d-b324-4afb-9efa-aef5cd30c226"
      },
      "execution_count": 16,
      "outputs": [
        {
          "output_type": "stream",
          "name": "stdout",
          "text": [
            "Best parameters for Random Forest Classifier are: {'n_estimators': 250, 'min_samples_split': 6, 'min_samples_leaf': 3, 'max_depth': 4, 'criterion': 'gini'}\n"
          ]
        }
      ]
    },
    {
      "cell_type": "code",
      "source": [
        "# Define the model\n",
        "clf_6 = RandomForestClassifier(n_estimators=50, min_samples_split=6, min_samples_leaf=2,max_depth=4, criterion='gini')\n",
        "\n",
        "# Fit the model\n",
        "clf_6.fit(X_train,Y_train)\n",
        "\n",
        "# Make prediction\n",
        "pred_6 = clf_6.predict(X_test)\n",
        "\n",
        "# Accuracy score\n",
        "print('Accuracy score of Random Forest model 2 is:', accuracy_score(Y_test, pred_6))\n",
        "\n",
        "# Confusion Matrix\n",
        "conmat_6 = confusion_matrix(Y_test, pred_6)\n",
        "print(conmat_6)\n",
        "plt.figure(figsize=(10,8))\n",
        "plt.title('Confusion Matrix of Random Forest 2nd Model')\n",
        "sns.heatmap(conmat_6, annot=True, cmap=\"Purples\", fmt=\"d\",cbar=True)\n",
        "\n",
        "# Classification Report\n",
        "print('Classification Report of Random Forest 2nd Model')\n",
        "print(classification_report(Y_test, pred_6))"
      ],
      "metadata": {
        "colab": {
          "base_uri": "https://localhost:8080/",
          "height": 735
        },
        "id": "k5hBgd3FShty",
        "outputId": "af596898-b1b2-4258-f1a8-f832b9dfc22b"
      },
      "execution_count": 17,
      "outputs": [
        {
          "output_type": "stream",
          "name": "stdout",
          "text": [
            "Accuracy score of Random Forest model 2 is: 0.9\n",
            "[[4741   18]\n",
            " [ 582  659]]\n",
            "Classification Report of Random Forest 2nd Model\n",
            "              precision    recall  f1-score   support\n",
            "\n",
            "         0.0       0.89      1.00      0.94      4759\n",
            "         1.0       0.97      0.53      0.69      1241\n",
            "\n",
            "    accuracy                           0.90      6000\n",
            "   macro avg       0.93      0.76      0.81      6000\n",
            "weighted avg       0.91      0.90      0.89      6000\n",
            "\n"
          ]
        },
        {
          "output_type": "display_data",
          "data": {
            "text/plain": [
              "<Figure size 720x576 with 2 Axes>"
            ],
            "image/png": "[encoded data removed]"
          },
          "metadata": {
            "needs_background": "light"
          }
        }
      ]
    },
    {
      "cell_type": "code",
      "source": [
        "from sklearn.ensemble import RandomForestClassifier\n",
        "from sklearn.model_selection import cross_val_score\n",
        "\n",
        "# Random Forest Classifier\n",
        "rf = RandomForestClassifier()\n",
        "\n",
        "# Use k-fold cross validation with k=10\n",
        "scores = cross_val_score(rf, X, y, cv=10)\n",
        "\n",
        "# Print the mean and standard deviation of the scores\n",
        "print(\"Array acucuracy Random Forest Classifier \")\n",
        "print(scores)\n",
        "print(\"Accuracy: %0.2f\" % scores.mean())"
      ],
      "metadata": {
        "colab": {
          "base_uri": "https://localhost:8080/"
        },
        "id": "iHWP1STU80Iu",
        "outputId": "38be1d37-dc36-4d8b-e0c2-ae4478cd9beb"
      },
      "execution_count": 18,
      "outputs": [
        {
          "output_type": "stream",
          "name": "stdout",
          "text": [
            "Array acucuracy Random Forest Classifier \n",
            "[0.915      0.91066667 0.89033333 0.91666667 0.924      0.93133333\n",
            " 0.931      0.901      0.92697566 0.93797933]\n",
            "Accuracy: 0.92\n"
          ]
        }
      ]
    },
    {
      "cell_type": "markdown",
      "source": [
        "### **SVM**"
      ],
      "metadata": {
        "id": "MUgq-Nj7U1nT"
      }
    },
    {
      "cell_type": "code",
      "source": [
        "from sklearn.svm import SVC\n",
        "from sklearn.model_selection import RandomizedSearchCV\n",
        "from scipy.stats import uniform\n",
        "import numpy as np\n",
        "\n",
        "# Define the parameter grid\n",
        "param_grid = {'C': uniform(0, 10),\n",
        "              'kernel': ['linear', 'rbf'],\n",
        "              'gamma': ['scale', 'auto'] + list(np.arange(0.1, 2, 0.1)),\n",
        "              'degree': range(1,5),\n",
        "              'decision_function_shape': ['ovr','ovo']}\n",
        "              \n",
        "# Initialize the SVM classifier\n",
        "svm = SVC()\n",
        "\n",
        "# Create the RandomizedSearchCV object\n",
        "random_search = RandomizedSearchCV(svm, param_distributions=param_grid, n_iter=50, cv=5, n_jobs=-1)\n",
        "\n",
        "# Fit the RandomizedSearchCV object to the data\n",
        "random_search.fit(X_train, Y_train)\n",
        "\n",
        "# Print the best parameters and best score\n",
        "print(\"Best parameters: \", random_search.best_params_)\n",
        "print(\"Best score: \", random_search.best_score_)\n"
      ],
      "metadata": {
        "id": "3D87lYDFU5MU",
        "colab": {
          "base_uri": "https://localhost:8080/"
        },
        "outputId": "7895b41e-373e-4e06-888c-520aa4d5bff5"
      },
      "execution_count": 19,
      "outputs": [
        {
          "output_type": "stream",
          "name": "stdout",
          "text": [
            "Best parameters:  {'C': 8.230747976521972, 'decision_function_shape': 'ovo', 'degree': 2, 'gamma': 1.9000000000000001, 'kernel': 'rbf'}\n",
            "Best score:  0.902450224005001\n"
          ]
        }
      ]
    },
    {
      "cell_type": "code",
      "source": [
        "from sklearn.svm import SVC\n",
        "# Define the model\n",
        "clf_6 = SVC(C= 9.451947417013804, decision_function_shape= 'ovr', degree= 4, gamma= 1.6, kernel= 'rbf')\n",
        "\n",
        "# Fit the model\n",
        "clf_6.fit(X_train,Y_train)\n",
        "\n",
        "# Make prediction\n",
        "pred_6 = clf_6.predict(X_test)\n",
        "\n",
        "# Accuracy score\n",
        "print('Accuracy score of Random Forest model 2 is:', accuracy_score(Y_test, pred_6))\n",
        "\n",
        "# Confusion Matrix\n",
        "conmat_6 = confusion_matrix(Y_test, pred_6)\n",
        "print(conmat_6)\n",
        "plt.figure(figsize=(10,8))\n",
        "plt.title('Confusion Matrix of Random Forest 2nd Model')\n",
        "sns.heatmap(conmat_6, annot=True, cmap=\"Purples\", fmt=\"d\",cbar=True)\n",
        "\n",
        "# Classification Report\n",
        "print('Classification Report of Random Forest 2nd Model')\n",
        "print(classification_report(Y_test, pred_6))"
      ],
      "metadata": {
        "id": "TPRqFbQqU5sS",
        "colab": {
          "base_uri": "https://localhost:8080/",
          "height": 735
        },
        "outputId": "b5795c31-1078-4fd5-c2f8-46c3a6311e93"
      },
      "execution_count": 20,
      "outputs": [
        {
          "output_type": "stream",
          "name": "stdout",
          "text": [
            "Accuracy score of Random Forest model 2 is: 0.9053333333333333\n",
            "[[4664   95]\n",
            " [ 473  768]]\n",
            "Classification Report of Random Forest 2nd Model\n",
            "              precision    recall  f1-score   support\n",
            "\n",
            "         0.0       0.91      0.98      0.94      4759\n",
            "         1.0       0.89      0.62      0.73      1241\n",
            "\n",
            "    accuracy                           0.91      6000\n",
            "   macro avg       0.90      0.80      0.84      6000\n",
            "weighted avg       0.90      0.91      0.90      6000\n",
            "\n"
          ]
        },
        {
          "output_type": "display_data",
          "data": {
            "text/plain": [
              "<Figure size 720x576 with 2 Axes>"
            ],
            "image/png": "[encoded data removed]"
          },
          "metadata": {
            "needs_background": "light"
          }
        }
      ]
    },
    {
      "cell_type": "code",
      "source": [
        "from sklearn.svm import SVC\n",
        "from sklearn.model_selection import cross_val_score\n",
        "\n",
        "# SVM classifier\n",
        "svm = SVC()\n",
        "\n",
        "# Use k-fold cross validation with k=10\n",
        "scores = cross_val_score(svm, X, y, cv=10)\n",
        "\n",
        "# Print the mean and standard deviation of the scores\n",
        "print(\"Array acucuracy SVM\")\n",
        "print(scores)\n",
        "print(\"Accuracy: %0.2f\" % scores.mean())"
      ],
      "metadata": {
        "colab": {
          "base_uri": "https://localhost:8080/"
        },
        "id": "PA9Wtz3_836u",
        "outputId": "330e53c6-bd7f-4cb0-f3f6-b9891f049a6c"
      },
      "execution_count": 21,
      "outputs": [
        {
          "output_type": "stream",
          "name": "stdout",
          "text": [
            "Array acucuracy SVM\n",
            "[0.91566667 0.87466667 0.87066667 0.89033333 0.89466667 0.87166667\n",
            " 0.88033333 0.88133333 0.87729243 0.88729577]\n",
            "Accuracy: 0.88\n"
          ]
        }
      ]
    },
    {
      "cell_type": "markdown",
      "source": [
        "### **Naive Bayes**\n",
        "\n"
      ],
      "metadata": {
        "id": "QZPp4Is7U6di"
      }
    },
    {
      "cell_type": "code",
      "source": [
        "from sklearn.naive_bayes import MultinomialNB\n",
        "from sklearn.model_selection import RandomizedSearchCV\n",
        "from scipy.stats import uniform\n",
        "\n",
        "# Define the parameter grid\n",
        "param_grid = {'alpha': uniform(0, 2),\n",
        "              'fit_prior': [True, False],\n",
        "              'class_prior': [None, [0.5, 0.5]]}\n",
        "              \n",
        "# Initialize the Naive Bayes classifier\n",
        "nb = MultinomialNB()\n",
        "\n",
        "# Create the RandomizedSearchCV object\n",
        "random_search = RandomizedSearchCV(nb, param_distributions=param_grid, n_iter=50, cv=5, n_jobs=-1)\n",
        "\n",
        "# Fit the RandomizedSearchCV object to the data\n",
        "random_search.fit(X_train, Y_train)\n",
        "\n",
        "# Print the best parameters and best score\n",
        "print(\"Best parameters: \", random_search.best_params_)\n",
        "print(\"Best score: \", random_search.best_score_)\n"
      ],
      "metadata": {
        "id": "kjhv_JCRU7My",
        "colab": {
          "base_uri": "https://localhost:8080/"
        },
        "outputId": "29f79739-99d5-4a6e-ab49-ff260ea1d527"
      },
      "execution_count": 22,
      "outputs": [
        {
          "output_type": "stream",
          "name": "stdout",
          "text": [
            "Best parameters:  {'alpha': 0.24526464827562378, 'class_prior': None, 'fit_prior': True}\n",
            "Best score:  0.7931494408557338\n"
          ]
        }
      ]
    },
    {
      "cell_type": "code",
      "source": [
        "from sklearn.naive_bayes import BernoulliNB\n",
        "# Define the model\n",
        "clf_6 = BernoulliNB(alpha= 0.27622103309475254, class_prior= None, fit_prior= True)\n",
        "\n",
        "# Fit the model\n",
        "clf_6.fit(X_train,Y_train)\n",
        "\n",
        "# Make prediction\n",
        "pred_6 = clf_6.predict(X_test)\n",
        "\n",
        "# Accuracy score\n",
        "print('Accuracy score of Random Forest model 2 is:', accuracy_score(Y_test, pred_6))\n",
        "\n",
        "# Confusion Matrix\n",
        "conmat_6 = confusion_matrix(Y_test, pred_6)\n",
        "print(conmat_6)\n",
        "plt.figure(figsize=(10,8))\n",
        "plt.title('Confusion Matrix of Random Forest 2nd Model')\n",
        "sns.heatmap(conmat_6, annot=True, cmap=\"Purples\", fmt=\"d\",cbar=True)\n",
        "\n",
        "# Classification Report\n",
        "print('Classification Report of Random Forest 2nd Model')\n",
        "print(classification_report(Y_test, pred_6))"
      ],
      "metadata": {
        "id": "ZHV4AcKGU75x",
        "colab": {
          "base_uri": "https://localhost:8080/",
          "height": 735
        },
        "outputId": "f5ee7b5a-a234-42d1-cbf2-fea4340805f9"
      },
      "execution_count": 23,
      "outputs": [
        {
          "output_type": "stream",
          "name": "stdout",
          "text": [
            "Accuracy score of Random Forest model 2 is: 0.7931666666666667\n",
            "[[4601  158]\n",
            " [1083  158]]\n",
            "Classification Report of Random Forest 2nd Model\n",
            "              precision    recall  f1-score   support\n",
            "\n",
            "         0.0       0.81      0.97      0.88      4759\n",
            "         1.0       0.50      0.13      0.20      1241\n",
            "\n",
            "    accuracy                           0.79      6000\n",
            "   macro avg       0.65      0.55      0.54      6000\n",
            "weighted avg       0.75      0.79      0.74      6000\n",
            "\n"
          ]
        },
        {
          "output_type": "display_data",
          "data": {
            "text/plain": [
              "<Figure size 720x576 with 2 Axes>"
            ],
            "image/png": "[encoded data removed]"
          },
          "metadata": {
            "needs_background": "light"
          }
        }
      ]
    },
    {
      "cell_type": "code",
      "source": [
        "from sklearn.naive_bayes import GaussianNB\n",
        "from sklearn.model_selection import cross_val_score\n",
        "\n",
        "# Naive Bayes classifier\n",
        "nb = GaussianNB()\n",
        "\n",
        "# Use k-fold cross validation with k=10\n",
        "scores = cross_val_score(nb, X, y, cv=10)\n",
        "\n",
        "# Print the mean and standard deviation of the scores\n",
        "print(\"Array acucuracy Naive Bayes \")\n",
        "print(scores)\n",
        "print(\"Accuracy: %0.2f\" % scores.mean())"
      ],
      "metadata": {
        "colab": {
          "base_uri": "https://localhost:8080/"
        },
        "id": "pagYWM4187_v",
        "outputId": "6ffc96cc-f957-4c3e-fc9d-3f64fc250abf"
      },
      "execution_count": 24,
      "outputs": [
        {
          "output_type": "stream",
          "name": "stdout",
          "text": [
            "Array acucuracy Naive Bayes \n",
            "[0.79333333 0.79166667 0.79533333 0.79633333 0.836      0.799\n",
            " 0.78366667 0.80566667 0.84061354 0.8306102 ]\n",
            "Accuracy: 0.81\n"
          ]
        }
      ]
    }
  ]
}